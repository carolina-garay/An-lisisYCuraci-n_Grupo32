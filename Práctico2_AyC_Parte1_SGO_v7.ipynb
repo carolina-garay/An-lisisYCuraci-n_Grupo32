{
  "cells": [
    {
      "cell_type": "markdown",
      "metadata": {
        "id": "view-in-github",
        "colab_type": "text"
      },
      "source": [
        "<a href=\"https://colab.research.google.com/github/carolina-garay/AnalisisYCuracion_Grupo32/blob/Seba-Ormaechea/Pr%C3%A1ctico2_AyC_Parte1_SGO_v7.ipynb\" target=\"_parent\"><img src=\"https://colab.research.google.com/assets/colab-badge.svg\" alt=\"Open In Colab\"/></a>"
      ]
    },
    {
      "cell_type": "markdown",
      "id": "e0ff301b-5595-4a0b-a2b8-3d5609a0485d",
      "metadata": {
        "id": "e0ff301b-5595-4a0b-a2b8-3d5609a0485d"
      },
      "source": [
        "**Diplomatura en Ciencia de Datos, Aprendizaje Automático y sus Aplicaciones**\n",
        "\n",
        "**Exploración y Curación de Datos**\n",
        "\n",
        "*Edición 2022*\n",
        "\n",
        "----\n",
        "\n",
        "# Trabajo práctico N°2. Análisis y Curación de datos. Entregable - parte 1\n",
        "\n",
        "El objetivo de este práctico es: Obtener una base de datos capaz de ser utilizada posteriormente para la construcción de un modelo que prediga el valor de venta de una propiedad en la ciudad de Melbourne, Australia. Para ello, se cargan dos conjuntos de datos. El [primero](https://www.kaggle.com/dansbecker/melbourne-housing-snapshot) es de la compentencia Kaggle sobre estimación de precios de ventas de propiedades en Melbourne, Australia. El [segundo](https://www.kaggle.com/datasets/tylerx/melbourne-airbnb-open-data) es un conjunto de datos  elaborado a partir de datos de la plataforma Airbnb, que se buscará unir al primer dataset con el objetivo de sumarle información."
      ]
    },
    {
      "cell_type": "code",
      "source": [
        "!pip install pandas_profiling==2.8.0\n",
        "!pip install pandas==1.2.0"
      ],
      "metadata": {
        "id": "pUSE14qmTtay"
      },
      "id": "pUSE14qmTtay",
      "execution_count": null,
      "outputs": []
    },
    {
      "cell_type": "code",
      "execution_count": 1,
      "id": "f5ac98f7-51f3-4f91-ac49-60ef5fe249be",
      "metadata": {
        "id": "f5ac98f7-51f3-4f91-ac49-60ef5fe249be",
        "colab": {
          "base_uri": "https://localhost:8080/",
          "height": 35
        },
        "outputId": "0295a42f-b4f2-42a7-eef9-92f92e831d93"
      },
      "outputs": [
        {
          "output_type": "execute_result",
          "data": {
            "text/plain": [
              "'5.5.0'"
            ],
            "application/vnd.google.colaboratory.intrinsic+json": {
              "type": "string"
            }
          },
          "metadata": {},
          "execution_count": 1
        }
      ],
      "source": [
        "import io\n",
        "import matplotlib.pyplot as plt\n",
        "import numpy as np\n",
        "import pandas as pd\n",
        "\n",
        "import seaborn as sns\n",
        "sns.set_context('talk')\n",
        "\n",
        "#from decouple import config\n",
        "from sqlalchemy import create_engine, text\n",
        "import plotly\n",
        "plotly.__version__"
      ]
    },
    {
      "cell_type": "markdown",
      "id": "6cffe5bf-2498-498c-aa06-3e61422d91e6",
      "metadata": {
        "id": "6cffe5bf-2498-498c-aa06-3e61422d91e6"
      },
      "source": [
        "## Ejercicio 1 SQL: \n",
        "\n",
        "1.1. Crear una base de datos en SQLite utilizando la libreria [SQLalchemy](https://stackoverflow.com/questions/2268050/execute-sql-from-file-in-sqlalchemy).\n",
        "https://docs.sqlalchemy.org/en/14/core/engines.html#sqlite\n",
        "\n"
      ]
    },
    {
      "cell_type": "code",
      "source": [
        "# Creamos la conexión a la base de datos\n",
        "engine = create_engine('sqlite:///sysarmy.sqlite3', echo=True)"
      ],
      "metadata": {
        "id": "aGN5H-kePDcr"
      },
      "id": "aGN5H-kePDcr",
      "execution_count": 2,
      "outputs": []
    },
    {
      "cell_type": "markdown",
      "source": [
        "1.2. Ingestamos los datos provistos en 'https://cs.famaf.unc.edu.ar/~mteruel/datasets/diplodatos/melb_data.csv' en una tabla y el dataset generado en clase con datos de airbnb y sus precios por codigo postal en otra."
      ],
      "metadata": {
        "id": "4wRlXGC-PBIh"
      },
      "id": "4wRlXGC-PBIh"
    },
    {
      "cell_type": "code",
      "source": [
        "# Ingesta primer conjunto de datos y creamos una base de datos nueva para ser usada con lenguaje SQL\n",
        "kaggle_df = pd.read_csv(\n",
        "    'https://cs.famaf.unc.edu.ar/~mteruel/datasets/diplodatos/melb_data.csv')\n",
        "kaggle_df.to_sql('kaggle_sql', con=engine, if_exists=\"replace\")"
      ],
      "metadata": {
        "id": "ulzlpVDYQeq4"
      },
      "id": "ulzlpVDYQeq4",
      "execution_count": null,
      "outputs": []
    },
    {
      "cell_type": "code",
      "source": [
        "kaggle_df.columns"
      ],
      "metadata": {
        "colab": {
          "base_uri": "https://localhost:8080/"
        },
        "id": "wgfFQWFtOM9B",
        "outputId": "c7040aec-43c6-43c9-f6d8-5cb935d7a55d"
      },
      "id": "wgfFQWFtOM9B",
      "execution_count": 4,
      "outputs": [
        {
          "output_type": "execute_result",
          "data": {
            "text/plain": [
              "Index(['Suburb', 'Address', 'Rooms', 'Type', 'Price', 'Method', 'SellerG',\n",
              "       'Date', 'Distance', 'Postcode', 'Bedroom2', 'Bathroom', 'Car',\n",
              "       'Landsize', 'BuildingArea', 'YearBuilt', 'CouncilArea', 'Lattitude',\n",
              "       'Longtitude', 'Regionname', 'Propertycount'],\n",
              "      dtype='object')"
            ]
          },
          "metadata": {},
          "execution_count": 4
        }
      ]
    },
    {
      "cell_type": "code",
      "source": [
        "# Ingesta de datos de dataset generado en clase con datos de Airbnb\n",
        "from google.colab import files"
      ],
      "metadata": {
        "id": "iJcuL5jkYik0"
      },
      "id": "iJcuL5jkYik0",
      "execution_count": 6,
      "outputs": []
    },
    {
      "cell_type": "code",
      "source": [
        "import gdown\n",
        "!gdown https://drive.google.com/file/d/1sUR2Odse85vmQn62yYaEsaUCRJo28Nj2/view?usp=sharing --fuzzy\n",
        "airbnb_pru = pd.read_csv('/content/airbnb_price_by_zipcode.csv',index_col=0)"
      ],
      "metadata": {
        "id": "Ynh4UhtGi5V3",
        "colab": {
          "base_uri": "https://localhost:8080/"
        },
        "outputId": "22355b75-d741-4c19-e870-963fc1f12323"
      },
      "id": "Ynh4UhtGi5V3",
      "execution_count": 7,
      "outputs": [
        {
          "output_type": "stream",
          "name": "stdout",
          "text": [
            "Downloading...\n",
            "From: https://drive.google.com/uc?id=1sUR2Odse85vmQn62yYaEsaUCRJo28Nj2\n",
            "To: /content/airbnb_price_by_zipcode.csv\n",
            "\r  0% 0.00/10.1k [00:00<?, ?B/s]\r100% 10.1k/10.1k [00:00<00:00, 14.3MB/s]\n"
          ]
        }
      ]
    },
    {
      "cell_type": "code",
      "source": [
        "airbnb_pru.to_sql('airbnb_price_sql', con=engine, if_exists=\"replace\")"
      ],
      "metadata": {
        "id": "HHOobc3UJB3X"
      },
      "id": "HHOobc3UJB3X",
      "execution_count": null,
      "outputs": []
    },
    {
      "cell_type": "markdown",
      "source": [
        "1.3. Implementamos consultas en SQL que responden a la siguiente información:\n",
        "\n",
        "    - cantidad de registros totales por ciudad.\n",
        "    - cantidad de registros totales por barrio y ciudad."
      ],
      "metadata": {
        "id": "i9uuElUVYnAX"
      },
      "id": "i9uuElUVYnAX"
    },
    {
      "cell_type": "code",
      "source": [
        "# Cantidad de registros totales por ciudad en dataset Kaggle\n",
        "query1 = \"SELECT CouncilArea, COUNT(CouncilArea) FROM kaggle_sql GROUP BY CouncilArea\"\n",
        "          \n",
        "# Cantidad de registros totales por barrio y ciudad en Kaggle\n",
        "query2 = \"SELECT CouncilArea, Suburb, COUNT(Suburb) FROM kaggle_sql GROUP BY Suburb ORDER BY CouncilArea\"\n",
        "\n",
        "# Listamos los queries de consulta\n",
        "queries = [query1, query2]\n",
        "\n",
        "# Conectamos a la base de datos y sistematizamos las consultas con un bucle For\n",
        "with engine.connect() as con:\n",
        "    for query in queries:\n",
        "      rs = con.execute(query)\n",
        "      print(query)\n",
        "      for row in rs:\n",
        "          print(row)\n",
        "      print('\\n\\n')"
      ],
      "metadata": {
        "id": "yJi7UxRRYqTt"
      },
      "id": "yJi7UxRRYqTt",
      "execution_count": null,
      "outputs": []
    },
    {
      "cell_type": "markdown",
      "source": [
        "1.4. Combinar los datasets de ambas tablas ingestadas utilizando el comando JOIN de SQL  para obtener un resultado similar a lo realizado con Pandas en clase."
      ],
      "metadata": {
        "id": "MinOopZpYql4"
      },
      "id": "MinOopZpYql4"
    },
    {
      "cell_type": "markdown",
      "source": [
        "A continuación unimos ambos datasets, utilizando el tipo de unión \"LEFT JOIN\". Bajo este método, se elige una columna de unión, y el proceso conserva todos los datos de la tabla de la izquierda y solo los datos coincidentes de la de la derecha. Elegimos este método porque lo que interesa es añadir información de los valores agregados de la tabla de la derecha a los registros de la de la izquierda."
      ],
      "metadata": {
        "id": "LHcvsylRE1m4"
      },
      "id": "LHcvsylRE1m4"
    },
    {
      "cell_type": "markdown",
      "source": [
        "![image.png](data:image/png;base64,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)!"
      ],
      "metadata": {
        "id": "DbLhjPYNG_MN"
      },
      "id": "DbLhjPYNG_MN"
    },
    {
      "cell_type": "code",
      "source": [
        "Both_Datasets= engine.connect().execute('SELECT * FROM kaggle_sql LEFT JOIN airbnb_price_sql ON kaggle_sql.Postcode = airbnb_price_sql.zipcode')"
      ],
      "metadata": {
        "id": "kQEV7tj3OyWZ",
        "colab": {
          "base_uri": "https://localhost:8080/"
        },
        "outputId": "0b689b32-0ff2-4971-9816-0d159e3efe0f"
      },
      "id": "kQEV7tj3OyWZ",
      "execution_count": 10,
      "outputs": [
        {
          "output_type": "stream",
          "name": "stdout",
          "text": [
            "2022-05-30 20:11:51,157 INFO sqlalchemy.engine.Engine SELECT * FROM kaggle_sql LEFT JOIN airbnb_price_sql ON kaggle_sql.Postcode = airbnb_price_sql.zipcode\n",
            "2022-05-30 20:11:51,160 INFO sqlalchemy.engine.Engine [raw sql] ()\n"
          ]
        }
      ]
    },
    {
      "cell_type": "code",
      "source": [
        "join_df = pd.read_sql(\"SELECT * FROM kaggle_sql LEFT JOIN airbnb_price_sql ON kaggle_sql.Postcode = airbnb_price_sql.zipcode\", engine.connect())"
      ],
      "metadata": {
        "id": "oa9IGjh3piuo",
        "colab": {
          "base_uri": "https://localhost:8080/"
        },
        "outputId": "5bdbb1a9-2d2f-4aa8-d080-43c21c8843e4"
      },
      "id": "oa9IGjh3piuo",
      "execution_count": 11,
      "outputs": [
        {
          "output_type": "stream",
          "name": "stdout",
          "text": [
            "2022-05-30 20:11:55,113 INFO sqlalchemy.engine.Engine PRAGMA main.table_info(\"SELECT * FROM kaggle_sql LEFT JOIN airbnb_price_sql ON kaggle_sql.Postcode = airbnb_price_sql.zipcode\")\n",
            "2022-05-30 20:11:55,115 INFO sqlalchemy.engine.Engine [raw sql] ()\n",
            "2022-05-30 20:11:55,117 INFO sqlalchemy.engine.Engine PRAGMA temp.table_info(\"SELECT * FROM kaggle_sql LEFT JOIN airbnb_price_sql ON kaggle_sql.Postcode = airbnb_price_sql.zipcode\")\n",
            "2022-05-30 20:11:55,119 INFO sqlalchemy.engine.Engine [raw sql] ()\n",
            "2022-05-30 20:11:55,123 INFO sqlalchemy.engine.Engine SELECT * FROM kaggle_sql LEFT JOIN airbnb_price_sql ON kaggle_sql.Postcode = airbnb_price_sql.zipcode\n",
            "2022-05-30 20:11:55,125 INFO sqlalchemy.engine.Engine [raw sql] ()\n"
          ]
        }
      ]
    },
    {
      "cell_type": "code",
      "source": [
        "join_df.info()"
      ],
      "metadata": {
        "id": "GXp--YKxDPj8",
        "outputId": "afc74823-588e-4869-c457-8142216aa93f",
        "colab": {
          "base_uri": "https://localhost:8080/"
        }
      },
      "id": "GXp--YKxDPj8",
      "execution_count": 12,
      "outputs": [
        {
          "output_type": "stream",
          "name": "stdout",
          "text": [
            "<class 'pandas.core.frame.DataFrame'>\n",
            "RangeIndex: 13580 entries, 0 to 13579\n",
            "Data columns (total 27 columns):\n",
            " #   Column                     Non-Null Count  Dtype  \n",
            "---  ------                     --------------  -----  \n",
            " 0   index                      13580 non-null  int64  \n",
            " 1   Suburb                     13580 non-null  object \n",
            " 2   Address                    13580 non-null  object \n",
            " 3   Rooms                      13580 non-null  int64  \n",
            " 4   Type                       13580 non-null  object \n",
            " 5   Price                      13580 non-null  float64\n",
            " 6   Method                     13580 non-null  object \n",
            " 7   SellerG                    13580 non-null  object \n",
            " 8   Date                       13580 non-null  object \n",
            " 9   Distance                   13580 non-null  float64\n",
            " 10  Postcode                   13580 non-null  float64\n",
            " 11  Bedroom2                   13580 non-null  float64\n",
            " 12  Bathroom                   13580 non-null  float64\n",
            " 13  Car                        13518 non-null  float64\n",
            " 14  Landsize                   13580 non-null  float64\n",
            " 15  BuildingArea               7130 non-null   float64\n",
            " 16  YearBuilt                  8205 non-null   float64\n",
            " 17  CouncilArea                12211 non-null  object \n",
            " 18  Lattitude                  13580 non-null  float64\n",
            " 19  Longtitude                 13580 non-null  float64\n",
            " 20  Regionname                 13580 non-null  object \n",
            " 21  Propertycount              13580 non-null  float64\n",
            " 22  zipcode                    13560 non-null  float64\n",
            " 23  airbnb_price_mean          13560 non-null  float64\n",
            " 24  airbnb_record_count        13560 non-null  float64\n",
            " 25  airbnb_weekly_price_mean   12705 non-null  float64\n",
            " 26  airbnb_monthly_price_mean  12312 non-null  float64\n",
            "dtypes: float64(17), int64(2), object(8)\n",
            "memory usage: 2.8+ MB\n"
          ]
        }
      ]
    },
    {
      "cell_type": "markdown",
      "id": "c5468c4f-5cdf-4df4-a317-60e1fb0c00db",
      "metadata": {
        "id": "c5468c4f-5cdf-4df4-a317-60e1fb0c00db"
      },
      "source": [
        "## Ejercicio 2: \n",
        "\n",
        "2.1. Seleccionar un subconjunto de columnas que les parezcan relevantes al problema de predicción del valor de la propiedad. Justificar las columnas seleccionadas y las que no lo fueron.\n",
        " - Eliminar los valores extremos que no sean relevantes para la predicción de valores de las propiedades."
      ]
    },
    {
      "cell_type": "markdown",
      "source": [
        "Aplicamos pandas profiling para la exploración de la base de datos\n"
      ],
      "metadata": {
        "id": "pz6B9p3XT2-Y"
      },
      "id": "pz6B9p3XT2-Y"
    },
    {
      "cell_type": "code",
      "source": [
        "from pandas_profiling import ProfileReport"
      ],
      "metadata": {
        "id": "dmuMoj7RUeEa"
      },
      "id": "dmuMoj7RUeEa",
      "execution_count": 13,
      "outputs": []
    },
    {
      "cell_type": "code",
      "source": [
        "ProfileKaggle = ProfileReport(kaggle_df)\n",
        "ProfileKaggle.to_file(\"KaggleReport.html\")\n",
        "files.download('KaggleReport.html')"
      ],
      "metadata": {
        "id": "4kE4xST5UmPv",
        "colab": {
          "base_uri": "https://localhost:8080/",
          "height": 145,
          "referenced_widgets": [
            "e808cee68d5f424984e410d0303ab32d",
            "e98b308621fc4ceeb9a6b9dc80e623a5",
            "f09194ea09ae4bfb80396bc517409a2f",
            "f99f5280ad6740f7b3db5266e12078e9",
            "7766b1043dad4937bef5e25d1a34d46f",
            "3ac060c741bf4779a76106fe700261a2",
            "11c8c8a1c44340f185ccf849b78e2a1e",
            "e2c28478776d4e48a971aab85f1b98c6",
            "82d231175bf144c6b363c74ed28c7d85",
            "e3aafe041de247148dfbda12ccecad73",
            "0bad98bcbe49457cb8fc505506aa0629",
            "328fc8c23b774f778e7dfe1fe1abcc7f",
            "ecb71db2ba604484a2cde34c51656eb6",
            "5904ebbf91ff415ca347466600cb48fa",
            "0b3545854925404d91a7c430f8e45a8f",
            "84e9df7534844cae9908e97897cdff44",
            "4e5840a7865b41b7bea3ae032947e45b",
            "401e8c93a5e7495da4e899cd749b617c",
            "ee2fc59ffefd4055abc216e0d57245b5",
            "603489875807408d8050d0ed0e786988",
            "18d318a20c6f407b80521f30d56c910e",
            "cf28f234ada74215882c2af65a6c5f19",
            "da1dff52a860450fa17600df6b69f61a",
            "961b23b2a06d4be8b65de7e359a7f86c",
            "f6e04acb320d496db95b0652e2b163a8",
            "47c0faf742e7414b9b5b9b9089fca721",
            "a4678f5ffe214492928ae22a05854962",
            "51b9362cf7a14680a5421e342a2253e3",
            "6dfdaba1156a4ea48adf7aa40ec52b33",
            "e36af0c4d37d44b596f2ed9455c69713",
            "8c7b0512612a48bfa64b59c3f906f3e9",
            "e77c0c2d2d7843c9b2538caa59de1bba",
            "fc95c1b231fe45d4a624dc010249035c",
            "9b3e6f3fa30b47388beffc55693b80c6",
            "d9e59d4ebe774cd68bb06daaf03748ff",
            "ce06e78727a842dc9d6c87649dd218d5",
            "5dd3dd27a8e24c0fabf5f0ddd63b13c7",
            "c3b731869b8849baaca2b7ec5992eaf6",
            "a77f490019a642d18307f7a9a841930c",
            "c45132607ef64e9ead5898c6a6ed23d7",
            "081169878b524957ba98efd6964c906a",
            "2946a91c41d3469887ce44403bdd2ed5",
            "6a0e4dfdcbcf47ffaea0ace071cf65c8",
            "1f5fbaa8b05e41faaf566e00afd44697"
          ]
        },
        "outputId": "a755094b-0f2c-44a8-836e-414790f3747a"
      },
      "id": "4kE4xST5UmPv",
      "execution_count": null,
      "outputs": [
        {
          "output_type": "display_data",
          "data": {
            "text/plain": [
              "Summarize dataset:   0%|          | 0/35 [00:00<?, ?it/s]"
            ],
            "application/vnd.jupyter.widget-view+json": {
              "version_major": 2,
              "version_minor": 0,
              "model_id": "e808cee68d5f424984e410d0303ab32d"
            }
          },
          "metadata": {}
        },
        {
          "output_type": "display_data",
          "data": {
            "text/plain": [
              "Generate report structure:   0%|          | 0/1 [00:00<?, ?it/s]"
            ],
            "application/vnd.jupyter.widget-view+json": {
              "version_major": 2,
              "version_minor": 0,
              "model_id": "328fc8c23b774f778e7dfe1fe1abcc7f"
            }
          },
          "metadata": {}
        },
        {
          "output_type": "display_data",
          "data": {
            "text/plain": [
              "Render HTML:   0%|          | 0/1 [00:00<?, ?it/s]"
            ],
            "application/vnd.jupyter.widget-view+json": {
              "version_major": 2,
              "version_minor": 0,
              "model_id": "da1dff52a860450fa17600df6b69f61a"
            }
          },
          "metadata": {}
        },
        {
          "output_type": "display_data",
          "data": {
            "text/plain": [
              "Export report to file:   0%|          | 0/1 [00:00<?, ?it/s]"
            ],
            "application/vnd.jupyter.widget-view+json": {
              "version_major": 2,
              "version_minor": 0,
              "model_id": "9b3e6f3fa30b47388beffc55693b80c6"
            }
          },
          "metadata": {}
        },
        {
          "output_type": "display_data",
          "data": {
            "text/plain": [
              "<IPython.core.display.Javascript object>"
            ],
            "application/javascript": [
              "\n",
              "    async function download(id, filename, size) {\n",
              "      if (!google.colab.kernel.accessAllowed) {\n",
              "        return;\n",
              "      }\n",
              "      const div = document.createElement('div');\n",
              "      const label = document.createElement('label');\n",
              "      label.textContent = `Downloading \"${filename}\": `;\n",
              "      div.appendChild(label);\n",
              "      const progress = document.createElement('progress');\n",
              "      progress.max = size;\n",
              "      div.appendChild(progress);\n",
              "      document.body.appendChild(div);\n",
              "\n",
              "      const buffers = [];\n",
              "      let downloaded = 0;\n",
              "\n",
              "      const channel = await google.colab.kernel.comms.open(id);\n",
              "      // Send a message to notify the kernel that we're ready.\n",
              "      channel.send({})\n",
              "\n",
              "      for await (const message of channel.messages) {\n",
              "        // Send a message to notify the kernel that we're ready.\n",
              "        channel.send({})\n",
              "        if (message.buffers) {\n",
              "          for (const buffer of message.buffers) {\n",
              "            buffers.push(buffer);\n",
              "            downloaded += buffer.byteLength;\n",
              "            progress.value = downloaded;\n",
              "          }\n",
              "        }\n",
              "      }\n",
              "      const blob = new Blob(buffers, {type: 'application/binary'});\n",
              "      const a = document.createElement('a');\n",
              "      a.href = window.URL.createObjectURL(blob);\n",
              "      a.download = filename;\n",
              "      div.appendChild(a);\n",
              "      a.click();\n",
              "      div.remove();\n",
              "    }\n",
              "  "
            ]
          },
          "metadata": {}
        },
        {
          "output_type": "display_data",
          "data": {
            "text/plain": [
              "<IPython.core.display.Javascript object>"
            ],
            "application/javascript": [
              "download(\"download_502daf55-ce4c-4383-a7f9-95b8422ebb42\", \"KaggleReport.html\", 10189535)"
            ]
          },
          "metadata": {}
        }
      ]
    },
    {
      "cell_type": "markdown",
      "source": [
        "Considerando la relevancia de cada variable y el análisis de correlaciones (Pearson) en el reporte de pandas profiling; determinamos que las variables YearBuilt, BuildingArea, Car, Rooms, Bathroom y Bedroom2 son las más relevantes para considerar en un análisis predictivo del precio de las propiedades. Sin embargo, Rooms, Bathroom y Bedroom2 tienen alta correlación entre ellas, por lo que solo seleccionamos Rooms para el subconjunto final. Para una mejor visualización de estas correlaciones, elaboramos el siguiente gráfico."
      ],
      "metadata": {
        "id": "vKwmY-SPZElF"
      },
      "id": "vKwmY-SPZElF"
    },
    {
      "cell_type": "code",
      "source": [
        "plt.figure(figsize = (20,10))\n",
        "sns.set(font_scale=1)\n",
        "sns.heatmap(kaggle_df.corr(), annot = True, cmap = 'coolwarm')"
      ],
      "metadata": {
        "colab": {
          "base_uri": "https://localhost:8080/",
          "height": 618
        },
        "id": "jF22_mjd9InJ",
        "outputId": "9fd5ef3a-5c70-43df-feb3-81b96fc95a62"
      },
      "id": "jF22_mjd9InJ",
      "execution_count": 14,
      "outputs": [
        {
          "output_type": "execute_result",
          "data": {
            "text/plain": [
              "<matplotlib.axes._subplots.AxesSubplot at 0x7f378b40fd10>"
            ]
          },
          "metadata": {},
          "execution_count": 14
        },
        {
          "output_type": "display_data",
          "data": {
            "text/plain": [
              "<Figure size 1440x720 with 2 Axes>"
            ],
            "image/png": "[encoded data removed]"
          },
          "metadata": {}
        }
      ]
    },
    {
      "cell_type": "code",
      "source": [
        "New_Kaggle = kaggle_df[['Price', 'Rooms', 'YearBuilt', 'BuildingArea', 'Car', 'Postcode', 'Regionname', 'Suburb', 'Type']]\n",
        "New_Kaggle.head()"
      ],
      "metadata": {
        "colab": {
          "base_uri": "https://localhost:8080/",
          "height": 206
        },
        "id": "cXEGTbZ8Z5T2",
        "outputId": "8dc8ca04-f3d9-4da3-97b2-d043c910f452"
      },
      "id": "cXEGTbZ8Z5T2",
      "execution_count": 9,
      "outputs": [
        {
          "output_type": "execute_result",
          "data": {
            "text/plain": [
              "       Price  Rooms  YearBuilt  BuildingArea  Car  Postcode  \\\n",
              "0  1480000.0      2        NaN           NaN  1.0    3067.0   \n",
              "1  1035000.0      2     1900.0          79.0  0.0    3067.0   \n",
              "2  1465000.0      3     1900.0         150.0  0.0    3067.0   \n",
              "3   850000.0      3        NaN           NaN  1.0    3067.0   \n",
              "4  1600000.0      4     2014.0         142.0  2.0    3067.0   \n",
              "\n",
              "              Regionname      Suburb Type  \n",
              "0  Northern Metropolitan  Abbotsford    h  \n",
              "1  Northern Metropolitan  Abbotsford    h  \n",
              "2  Northern Metropolitan  Abbotsford    h  \n",
              "3  Northern Metropolitan  Abbotsford    h  \n",
              "4  Northern Metropolitan  Abbotsford    h  "
            ],
            "text/html": [
              "\n",
              "  <div id=\"df-ba8a2048-3bca-437a-846b-8b350c209a89\">\n",
              "    <div class=\"colab-df-container\">\n",
              "      <div>\n",
              "<style scoped>\n",
              "    .dataframe tbody tr th:only-of-type {\n",
              "        vertical-align: middle;\n",
              "    }\n",
              "\n",
              "    .dataframe tbody tr th {\n",
              "        vertical-align: top;\n",
              "    }\n",
              "\n",
              "    .dataframe thead th {\n",
              "        text-align: right;\n",
              "    }\n",
              "</style>\n",
              "<table border=\"1\" class=\"dataframe\">\n",
              "  <thead>\n",
              "    <tr style=\"text-align: right;\">\n",
              "      <th></th>\n",
              "      <th>Price</th>\n",
              "      <th>Rooms</th>\n",
              "      <th>YearBuilt</th>\n",
              "      <th>BuildingArea</th>\n",
              "      <th>Car</th>\n",
              "      <th>Postcode</th>\n",
              "      <th>Regionname</th>\n",
              "      <th>Suburb</th>\n",
              "      <th>Type</th>\n",
              "    </tr>\n",
              "  </thead>\n",
              "  <tbody>\n",
              "    <tr>\n",
              "      <th>0</th>\n",
              "      <td>1480000.0</td>\n",
              "      <td>2</td>\n",
              "      <td>NaN</td>\n",
              "      <td>NaN</td>\n",
              "      <td>1.0</td>\n",
              "      <td>3067.0</td>\n",
              "      <td>Northern Metropolitan</td>\n",
              "      <td>Abbotsford</td>\n",
              "      <td>h</td>\n",
              "    </tr>\n",
              "    <tr>\n",
              "      <th>1</th>\n",
              "      <td>1035000.0</td>\n",
              "      <td>2</td>\n",
              "      <td>1900.0</td>\n",
              "      <td>79.0</td>\n",
              "      <td>0.0</td>\n",
              "      <td>3067.0</td>\n",
              "      <td>Northern Metropolitan</td>\n",
              "      <td>Abbotsford</td>\n",
              "      <td>h</td>\n",
              "    </tr>\n",
              "    <tr>\n",
              "      <th>2</th>\n",
              "      <td>1465000.0</td>\n",
              "      <td>3</td>\n",
              "      <td>1900.0</td>\n",
              "      <td>150.0</td>\n",
              "      <td>0.0</td>\n",
              "      <td>3067.0</td>\n",
              "      <td>Northern Metropolitan</td>\n",
              "      <td>Abbotsford</td>\n",
              "      <td>h</td>\n",
              "    </tr>\n",
              "    <tr>\n",
              "      <th>3</th>\n",
              "      <td>850000.0</td>\n",
              "      <td>3</td>\n",
              "      <td>NaN</td>\n",
              "      <td>NaN</td>\n",
              "      <td>1.0</td>\n",
              "      <td>3067.0</td>\n",
              "      <td>Northern Metropolitan</td>\n",
              "      <td>Abbotsford</td>\n",
              "      <td>h</td>\n",
              "    </tr>\n",
              "    <tr>\n",
              "      <th>4</th>\n",
              "      <td>1600000.0</td>\n",
              "      <td>4</td>\n",
              "      <td>2014.0</td>\n",
              "      <td>142.0</td>\n",
              "      <td>2.0</td>\n",
              "      <td>3067.0</td>\n",
              "      <td>Northern Metropolitan</td>\n",
              "      <td>Abbotsford</td>\n",
              "      <td>h</td>\n",
              "    </tr>\n",
              "  </tbody>\n",
              "</table>\n",
              "</div>\n",
              "      <button class=\"colab-df-convert\" onclick=\"convertToInteractive('df-ba8a2048-3bca-437a-846b-8b350c209a89')\"\n",
              "              title=\"Convert this dataframe to an interactive table.\"\n",
              "              style=\"display:none;\">\n",
              "        \n",
              "  <svg xmlns=\"http://www.w3.org/2000/svg\" height=\"24px\"viewBox=\"0 0 24 24\"\n",
              "       width=\"24px\">\n",
              "    <path d=\"M0 0h24v24H0V0z\" fill=\"none\"/>\n",
              "    <path d=\"M18.56 5.44l.94 2.06.94-2.06 2.06-.94-2.06-.94-.94-2.06-.94 2.06-2.06.94zm-11 1L8.5 8.5l.94-2.06 2.06-.94-2.06-.94L8.5 2.5l-.94 2.06-2.06.94zm10 10l.94 2.06.94-2.06 2.06-.94-2.06-.94-.94-2.06-.94 2.06-2.06.94z\"/><path d=\"M17.41 7.96l-1.37-1.37c-.4-.4-.92-.59-1.43-.59-.52 0-1.04.2-1.43.59L10.3 9.45l-7.72 7.72c-.78.78-.78 2.05 0 2.83L4 21.41c.39.39.9.59 1.41.59.51 0 1.02-.2 1.41-.59l7.78-7.78 2.81-2.81c.8-.78.8-2.07 0-2.86zM5.41 20L4 18.59l7.72-7.72 1.47 1.35L5.41 20z\"/>\n",
              "  </svg>\n",
              "      </button>\n",
              "      \n",
              "  <style>\n",
              "    .colab-df-container {\n",
              "      display:flex;\n",
              "      flex-wrap:wrap;\n",
              "      gap: 12px;\n",
              "    }\n",
              "\n",
              "    .colab-df-convert {\n",
              "      background-color: #E8F0FE;\n",
              "      border: none;\n",
              "      border-radius: 50%;\n",
              "      cursor: pointer;\n",
              "      display: none;\n",
              "      fill: #1967D2;\n",
              "      height: 32px;\n",
              "      padding: 0 0 0 0;\n",
              "      width: 32px;\n",
              "    }\n",
              "\n",
              "    .colab-df-convert:hover {\n",
              "      background-color: #E2EBFA;\n",
              "      box-shadow: 0px 1px 2px rgba(60, 64, 67, 0.3), 0px 1px 3px 1px rgba(60, 64, 67, 0.15);\n",
              "      fill: #174EA6;\n",
              "    }\n",
              "\n",
              "    [theme=dark] .colab-df-convert {\n",
              "      background-color: #3B4455;\n",
              "      fill: #D2E3FC;\n",
              "    }\n",
              "\n",
              "    [theme=dark] .colab-df-convert:hover {\n",
              "      background-color: #434B5C;\n",
              "      box-shadow: 0px 1px 3px 1px rgba(0, 0, 0, 0.15);\n",
              "      filter: drop-shadow(0px 1px 2px rgba(0, 0, 0, 0.3));\n",
              "      fill: #FFFFFF;\n",
              "    }\n",
              "  </style>\n",
              "\n",
              "      <script>\n",
              "        const buttonEl =\n",
              "          document.querySelector('#df-ba8a2048-3bca-437a-846b-8b350c209a89 button.colab-df-convert');\n",
              "        buttonEl.style.display =\n",
              "          google.colab.kernel.accessAllowed ? 'block' : 'none';\n",
              "\n",
              "        async function convertToInteractive(key) {\n",
              "          const element = document.querySelector('#df-ba8a2048-3bca-437a-846b-8b350c209a89');\n",
              "          const dataTable =\n",
              "            await google.colab.kernel.invokeFunction('convertToInteractive',\n",
              "                                                     [key], {});\n",
              "          if (!dataTable) return;\n",
              "\n",
              "          const docLinkHtml = 'Like what you see? Visit the ' +\n",
              "            '<a target=\"_blank\" href=https://colab.research.google.com/notebooks/data_table.ipynb>data table notebook</a>'\n",
              "            + ' to learn more about interactive tables.';\n",
              "          element.innerHTML = '';\n",
              "          dataTable['output_type'] = 'display_data';\n",
              "          await google.colab.output.renderOutput(dataTable, element);\n",
              "          const docLink = document.createElement('div');\n",
              "          docLink.innerHTML = docLinkHtml;\n",
              "          element.appendChild(docLink);\n",
              "        }\n",
              "      </script>\n",
              "    </div>\n",
              "  </div>\n",
              "  "
            ]
          },
          "metadata": {},
          "execution_count": 9
        }
      ]
    },
    {
      "cell_type": "markdown",
      "source": [
        "Pandas profiling también permitió analizar los valores extremos y detectar valores ilógicos o muy poco comunes: \n",
        "- Para **Rooms** solo se eliminó un caso extremo de 10 rooms. El resto de la base de datos solo llega a 8 rooms.\n",
        "- Para **Car** se tomaron valores de 0 a 6, descartando missing values y valores de 7 a 10, que en conjunto representan el 1,4% de los datos.\n",
        "- Dos columnas que tienen muchos valores faltantes son **YearBuilt** (39,6%) y **BuildingArea** (47,5%), por lo que el filtrado de valores extremos no puede hacerse mediante los operadores \"<\" y \">\", ya que dejarían fuera todos los registros con valores NaN. Por ello, se eliminaron puntualmente los valores atípicos. En el caso de YearBuilt se descartó solo un valor extremo (Año 1196) que posiblemente sea un error de tipeo. En el caso de BuildingArea se descartaron valores del extremo superior hasta 792 metros cuadrados, que se alejaban mucho de la mayoría de los valores. En el extremo inferior, se decidió eliminar los valores hasta 10 metros cuadrados, ya que difícilmente puedan representar la superficie total construida de una casa.\n",
        "- En el caso de las variables **RegionName**, **Type** y **Suburb**; se dejaron tal cual.\n",
        "- Para **Price** fue necesario elaborar un histograma adicional, ya que lo aportado por pandas profiling no era suficiente información para determinar la eliminación de valores extremos."
      ],
      "metadata": {
        "id": "qvuz-Tiyolql"
      },
      "id": "qvuz-Tiyolql"
    },
    {
      "cell_type": "code",
      "source": [
        "plt.figure(figsize=(15,6))\n",
        "sns.histplot(New_Kaggle.Price.dropna(), bins=100, color ='red')\n",
        "plt.ticklabel_format(style='plain')\n",
        "sns.despine()"
      ],
      "metadata": {
        "colab": {
          "base_uri": "https://localhost:8080/",
          "height": 397
        },
        "id": "e8X9Vyy1dk3K",
        "outputId": "7924e7c5-18ad-4bfe-c158-2acc056f4da6"
      },
      "id": "e8X9Vyy1dk3K",
      "execution_count": 27,
      "outputs": [
        {
          "output_type": "display_data",
          "data": {
            "text/plain": [
              "<Figure size 1080x432 with 1 Axes>"
            ],
            "image/png": "[encoded data removed]"
          },
          "metadata": {}
        }
      ]
    },
    {
      "cell_type": "code",
      "source": [
        "#Filtrado de la base de datos por Precio\n",
        "New_KaggleP =  New_Kaggle[(New_Kaggle['Price'] > 200000) & (New_Kaggle['Price'] < 3000000)]\n",
        "plt.figure(figsize=(15,6))\n",
        "sns.histplot(New_KaggleP['Price'].dropna(), bins=150, color ='red')\n",
        "plt.ticklabel_format(style='plain')\n",
        "sns.despine()"
      ],
      "metadata": {
        "colab": {
          "base_uri": "https://localhost:8080/",
          "height": 410
        },
        "id": "nSVaQV2dtEuu",
        "outputId": "58420e37-8612-427a-9d90-746390f21ba3"
      },
      "id": "nSVaQV2dtEuu",
      "execution_count": 11,
      "outputs": [
        {
          "output_type": "display_data",
          "data": {
            "text/plain": [
              "<Figure size 1080x432 with 1 Axes>"
            ],
            "image/png": "[encoded data removed]"
          },
          "metadata": {
            "needs_background": "light"
          }
        }
      ]
    },
    {
      "cell_type": "code",
      "source": [
        "#Filtrado de la base de datos por valores extremos Rooms: No es necesario porque el valor extremo quedó fuera en el filtro de precio\n",
        "\n",
        "#Filtrado de la base de datos por valores extremos Car\n",
        "New_KaggleC =  New_KaggleP[New_KaggleP['Car'] < 7]\n",
        "\n",
        "#Filtrado de la base de datos por valores extremos YearBuilt\n",
        "New_KaggleY =  New_KaggleC[New_KaggleC['YearBuilt'] != 1196]"
      ],
      "metadata": {
        "id": "mWvhhjH9HaOd"
      },
      "id": "mWvhhjH9HaOd",
      "execution_count": 12,
      "outputs": []
    },
    {
      "cell_type": "code",
      "source": [
        "New_KaggleY['BuildingArea'].sort_values(ascending = False).head(11)"
      ],
      "metadata": {
        "colab": {
          "base_uri": "https://localhost:8080/"
        },
        "id": "44RIY1fXHhcs",
        "outputId": "13eff5f6-52bf-4bd8-b8ee-4238fcc7ad06"
      },
      "id": "44RIY1fXHhcs",
      "execution_count": 21,
      "outputs": [
        {
          "output_type": "execute_result",
          "data": {
            "text/plain": [
              "13245    44515.0\n",
              "1484      6791.0\n",
              "2560      3558.0\n",
              "1588      3112.0\n",
              "2234      1561.0\n",
              "2830      1143.0\n",
              "1368      1041.0\n",
              "3640      1022.0\n",
              "12064      934.0\n",
              "7172       808.0\n",
              "419        792.0\n",
              "Name: BuildingArea, dtype: float64"
            ]
          },
          "metadata": {},
          "execution_count": 21
        }
      ]
    },
    {
      "cell_type": "code",
      "source": [
        "\n",
        "\n",
        "#Filtrado de la base de datos por valores extremos BuildingArea\n",
        "New_KaggleB =  New_KaggleY[(New_KaggleY['BuildingArea']!= 44515) & (New_KaggleY['BuildingArea']!= 6791) & (New_KaggleY['BuildingArea']!= 3558) & \\\n",
        "                           (New_KaggleY['BuildingArea']!= 3112) & (New_KaggleY['BuildingArea']!= 1561)& (New_KaggleY['BuildingArea']!= 1143)& (New_KaggleY['BuildingArea']!= 1041)\\\n",
        "                           & (New_KaggleY['BuildingArea']!= 1022)& (New_KaggleY['BuildingArea']!= 934)& (New_KaggleY['BuildingArea']!= 808)& (New_KaggleY['BuildingArea']!= 792)\\\n",
        "                           & (New_KaggleY['BuildingArea']!= 0) & (New_KaggleY['BuildingArea']!= 1) & (New_KaggleY['BuildingArea']!= 2)\\\n",
        "                           & (New_KaggleY['BuildingArea']!= 3) & (New_KaggleY['BuildingArea']!= 4)& (New_KaggleY['BuildingArea']!= 5) & (New_KaggleY['BuildingArea']!= 6)\\\n",
        "                           & (New_KaggleY['BuildingArea']!= 7)& (New_KaggleY['BuildingArea']!= 8)& (New_KaggleY['BuildingArea']!= 9)]"
      ],
      "metadata": {
        "id": "kHybFCgcuJ0I"
      },
      "id": "kHybFCgcuJ0I",
      "execution_count": 22,
      "outputs": []
    },
    {
      "cell_type": "code",
      "source": [
        "print(len(kaggle_df))\n",
        "print(len(New_Kaggle))\n",
        "print(len(New_KaggleP))\n",
        "print(len(New_KaggleC))\n",
        "print(len(New_KaggleY))\n",
        "print(len(New_KaggleB))"
      ],
      "metadata": {
        "colab": {
          "base_uri": "https://localhost:8080/"
        },
        "id": "GEfiN49M1IOA",
        "outputId": "9e79e179-27c0-42e2-f447-47fd0d091091"
      },
      "id": "GEfiN49M1IOA",
      "execution_count": 23,
      "outputs": [
        {
          "output_type": "stream",
          "name": "stdout",
          "text": [
            "13580\n",
            "13580\n",
            "13336\n",
            "13256\n",
            "13255\n",
            "13174\n"
          ]
        }
      ]
    },
    {
      "cell_type": "markdown",
      "source": [
        "La salida anterior muestra la pérdida de datos por en cada filtrado de valores extremos en cada atributo. Se intentó balancear entre una reducción mínima de datos y la eliminación necesaria de valores ilógicos."
      ],
      "metadata": {
        "id": "nvZ-cq9k2Gjf"
      },
      "id": "nvZ-cq9k2Gjf"
    },
    {
      "cell_type": "markdown",
      "source": [
        "2.2. Agregar información adicional respectiva al entorno de una propiedad a partir del [conjunto de datos de AirBnB](https://www.kaggle.com/tylerx/melbourne-airbnb-open-data?select=cleansed_listings_dec18.csv) utilizado en el práctico. \n",
        "  2.2.1. Seleccionar qué variables agregar y qué combinaciones aplicar a cada una. Por ejemplo, pueden utilizar solo la columna `price`, o aplicar múltiples transformaciones como la mediana o el mínimo.\n",
        "  "
      ],
      "metadata": {
        "id": "HDMlDx6OTtki"
      },
      "id": "HDMlDx6OTtki"
    },
    {
      "cell_type": "code",
      "source": [
        "# Seleccionamos las variables a agregar\n",
        "interesting_features = ['zipcode','price', 'weekly_price', 'monthly_price']\n",
        "AirB = pd.read_csv('https://cs.famaf.unc.edu.ar/~mteruel/datasets/diplodatos/cleansed_listings_dec18.csv', usecols=interesting_features)"
      ],
      "metadata": {
        "id": "_8WnnQ8HAX8v",
        "colab": {
          "base_uri": "https://localhost:8080/"
        },
        "outputId": "ce85d084-c506-40fc-bf0b-fc9256bca82f"
      },
      "id": "_8WnnQ8HAX8v",
      "execution_count": 53,
      "outputs": [
        {
          "output_type": "stream",
          "name": "stderr",
          "text": [
            "/usr/local/lib/python3.7/dist-packages/IPython/core/interactiveshell.py:2718: DtypeWarning: Columns (35) have mixed types.Specify dtype option on import or set low_memory=False.\n",
            "  interactivity=interactivity, compiler=compiler, result=result)\n"
          ]
        }
      ]
    },
    {
      "cell_type": "code",
      "source": [
        "# Filtramos las columnas correspondientes a las variables seleccionadas y luego realizamos la agregación agrupando por zipcode.\n",
        "# La operación conlleva pasar como argumento el nombre de la nueva columna y como valor una tupla donde el primer valor es el nombre de la\n",
        "# columna original y el segundo valor es la operación de agregación que nos interesa.\n",
        "AirB_agg = AirB[interesting_features].groupby('zipcode').agg(AirB_record_count=('price', 'count'),\n",
        "        AirB_daily_price_mean=('price', 'mean'),\n",
        "        AirB_weekly_price_mean=('weekly_price', 'mean'),\n",
        "        AirB_monthly_price_mean=('monthly_price', 'mean'))\\\n",
        "        .reset_index()"
      ],
      "metadata": {
        "id": "dUoP2QeCKReS"
      },
      "id": "dUoP2QeCKReS",
      "execution_count": 54,
      "outputs": []
    },
    {
      "cell_type": "code",
      "source": [
        "AirB_agg.head()"
      ],
      "metadata": {
        "colab": {
          "base_uri": "https://localhost:8080/",
          "height": 206
        },
        "id": "J5lpqq-npeQ_",
        "outputId": "bd67144f-feef-4bd0-8eaa-ba4638c7b258"
      },
      "id": "J5lpqq-npeQ_",
      "execution_count": 55,
      "outputs": [
        {
          "output_type": "execute_result",
          "data": {
            "text/plain": [
              "  zipcode  AirB_record_count  AirB_daily_price_mean  AirB_weekly_price_mean  \\\n",
              "0  2010.0                  1               40.00000                     NaN   \n",
              "1  2134.0                  1               50.00000                     NaN   \n",
              "2  2582.0                  1              104.00000                     NaN   \n",
              "3  3000.0               2491              149.23605                   804.0   \n",
              "4  3001.0                  1              120.00000                     NaN   \n",
              "\n",
              "   AirB_monthly_price_mean  \n",
              "0                      NaN  \n",
              "1                      NaN  \n",
              "2                      NaN  \n",
              "3                   3469.0  \n",
              "4                      NaN  "
            ],
            "text/html": [
              "\n",
              "  <div id=\"df-aaeb8087-51d9-47ce-a02f-644bcaaa966e\">\n",
              "    <div class=\"colab-df-container\">\n",
              "      <div>\n",
              "<style scoped>\n",
              "    .dataframe tbody tr th:only-of-type {\n",
              "        vertical-align: middle;\n",
              "    }\n",
              "\n",
              "    .dataframe tbody tr th {\n",
              "        vertical-align: top;\n",
              "    }\n",
              "\n",
              "    .dataframe thead th {\n",
              "        text-align: right;\n",
              "    }\n",
              "</style>\n",
              "<table border=\"1\" class=\"dataframe\">\n",
              "  <thead>\n",
              "    <tr style=\"text-align: right;\">\n",
              "      <th></th>\n",
              "      <th>zipcode</th>\n",
              "      <th>AirB_record_count</th>\n",
              "      <th>AirB_daily_price_mean</th>\n",
              "      <th>AirB_weekly_price_mean</th>\n",
              "      <th>AirB_monthly_price_mean</th>\n",
              "    </tr>\n",
              "  </thead>\n",
              "  <tbody>\n",
              "    <tr>\n",
              "      <th>0</th>\n",
              "      <td>2010.0</td>\n",
              "      <td>1</td>\n",
              "      <td>40.00000</td>\n",
              "      <td>NaN</td>\n",
              "      <td>NaN</td>\n",
              "    </tr>\n",
              "    <tr>\n",
              "      <th>1</th>\n",
              "      <td>2134.0</td>\n",
              "      <td>1</td>\n",
              "      <td>50.00000</td>\n",
              "      <td>NaN</td>\n",
              "      <td>NaN</td>\n",
              "    </tr>\n",
              "    <tr>\n",
              "      <th>2</th>\n",
              "      <td>2582.0</td>\n",
              "      <td>1</td>\n",
              "      <td>104.00000</td>\n",
              "      <td>NaN</td>\n",
              "      <td>NaN</td>\n",
              "    </tr>\n",
              "    <tr>\n",
              "      <th>3</th>\n",
              "      <td>3000.0</td>\n",
              "      <td>2491</td>\n",
              "      <td>149.23605</td>\n",
              "      <td>804.0</td>\n",
              "      <td>3469.0</td>\n",
              "    </tr>\n",
              "    <tr>\n",
              "      <th>4</th>\n",
              "      <td>3001.0</td>\n",
              "      <td>1</td>\n",
              "      <td>120.00000</td>\n",
              "      <td>NaN</td>\n",
              "      <td>NaN</td>\n",
              "    </tr>\n",
              "  </tbody>\n",
              "</table>\n",
              "</div>\n",
              "      <button class=\"colab-df-convert\" onclick=\"convertToInteractive('df-aaeb8087-51d9-47ce-a02f-644bcaaa966e')\"\n",
              "              title=\"Convert this dataframe to an interactive table.\"\n",
              "              style=\"display:none;\">\n",
              "        \n",
              "  <svg xmlns=\"http://www.w3.org/2000/svg\" height=\"24px\"viewBox=\"0 0 24 24\"\n",
              "       width=\"24px\">\n",
              "    <path d=\"M0 0h24v24H0V0z\" fill=\"none\"/>\n",
              "    <path d=\"M18.56 5.44l.94 2.06.94-2.06 2.06-.94-2.06-.94-.94-2.06-.94 2.06-2.06.94zm-11 1L8.5 8.5l.94-2.06 2.06-.94-2.06-.94L8.5 2.5l-.94 2.06-2.06.94zm10 10l.94 2.06.94-2.06 2.06-.94-2.06-.94-.94-2.06-.94 2.06-2.06.94z\"/><path d=\"M17.41 7.96l-1.37-1.37c-.4-.4-.92-.59-1.43-.59-.52 0-1.04.2-1.43.59L10.3 9.45l-7.72 7.72c-.78.78-.78 2.05 0 2.83L4 21.41c.39.39.9.59 1.41.59.51 0 1.02-.2 1.41-.59l7.78-7.78 2.81-2.81c.8-.78.8-2.07 0-2.86zM5.41 20L4 18.59l7.72-7.72 1.47 1.35L5.41 20z\"/>\n",
              "  </svg>\n",
              "      </button>\n",
              "      \n",
              "  <style>\n",
              "    .colab-df-container {\n",
              "      display:flex;\n",
              "      flex-wrap:wrap;\n",
              "      gap: 12px;\n",
              "    }\n",
              "\n",
              "    .colab-df-convert {\n",
              "      background-color: #E8F0FE;\n",
              "      border: none;\n",
              "      border-radius: 50%;\n",
              "      cursor: pointer;\n",
              "      display: none;\n",
              "      fill: #1967D2;\n",
              "      height: 32px;\n",
              "      padding: 0 0 0 0;\n",
              "      width: 32px;\n",
              "    }\n",
              "\n",
              "    .colab-df-convert:hover {\n",
              "      background-color: #E2EBFA;\n",
              "      box-shadow: 0px 1px 2px rgba(60, 64, 67, 0.3), 0px 1px 3px 1px rgba(60, 64, 67, 0.15);\n",
              "      fill: #174EA6;\n",
              "    }\n",
              "\n",
              "    [theme=dark] .colab-df-convert {\n",
              "      background-color: #3B4455;\n",
              "      fill: #D2E3FC;\n",
              "    }\n",
              "\n",
              "    [theme=dark] .colab-df-convert:hover {\n",
              "      background-color: #434B5C;\n",
              "      box-shadow: 0px 1px 3px 1px rgba(0, 0, 0, 0.15);\n",
              "      filter: drop-shadow(0px 1px 2px rgba(0, 0, 0, 0.3));\n",
              "      fill: #FFFFFF;\n",
              "    }\n",
              "  </style>\n",
              "\n",
              "      <script>\n",
              "        const buttonEl =\n",
              "          document.querySelector('#df-aaeb8087-51d9-47ce-a02f-644bcaaa966e button.colab-df-convert');\n",
              "        buttonEl.style.display =\n",
              "          google.colab.kernel.accessAllowed ? 'block' : 'none';\n",
              "\n",
              "        async function convertToInteractive(key) {\n",
              "          const element = document.querySelector('#df-aaeb8087-51d9-47ce-a02f-644bcaaa966e');\n",
              "          const dataTable =\n",
              "            await google.colab.kernel.invokeFunction('convertToInteractive',\n",
              "                                                     [key], {});\n",
              "          if (!dataTable) return;\n",
              "\n",
              "          const docLinkHtml = 'Like what you see? Visit the ' +\n",
              "            '<a target=\"_blank\" href=https://colab.research.google.com/notebooks/data_table.ipynb>data table notebook</a>'\n",
              "            + ' to learn more about interactive tables.';\n",
              "          element.innerHTML = '';\n",
              "          dataTable['output_type'] = 'display_data';\n",
              "          await google.colab.output.renderOutput(dataTable, element);\n",
              "          const docLink = document.createElement('div');\n",
              "          docLink.innerHTML = docLinkHtml;\n",
              "          element.appendChild(docLink);\n",
              "        }\n",
              "      </script>\n",
              "    </div>\n",
              "  </div>\n",
              "  "
            ]
          },
          "metadata": {},
          "execution_count": 55
        }
      ]
    },
    {
      "cell_type": "markdown",
      "source": [
        "2.2.2. Utilizar la variable zipcode para unir los conjuntos de datos. Sólo incluir los zipcodes que tengan una cantidad mínima de registros (a elección) como para que la información agregada sea relevante.\n",
        " "
      ],
      "metadata": {
        "id": "ltUMKirKGScw"
      },
      "id": "ltUMKirKGScw"
    },
    {
      "cell_type": "code",
      "source": [
        "# Seleccionamos los zipcodes que tienen al menos 3 registros en un compromiso entre contar con suficientes datos sin perder demasiados zipcodes \n",
        "AirB_aggClean = AirB_agg[AirB_agg['AirB_record_count']>2]\n",
        "print(len(AirB_agg))\n",
        "print(len(AirB_aggClean))"
      ],
      "metadata": {
        "colab": {
          "base_uri": "https://localhost:8080/"
        },
        "id": "6Nxy_6jSHJcV",
        "outputId": "f82b4c79-92f6-4240-cefb-c134c680cfde"
      },
      "id": "6Nxy_6jSHJcV",
      "execution_count": 56,
      "outputs": [
        {
          "output_type": "stream",
          "name": "stdout",
          "text": [
            "463\n",
            "396\n"
          ]
        }
      ]
    },
    {
      "cell_type": "code",
      "source": [
        "# Convertimos zipcode de object a float64 para que coincidan los dtypes al realizar el merge\n",
        "AirB_aggClean['zipcode'] = AirB_aggClean['zipcode'].astype(float, errors = 'raise')"
      ],
      "metadata": {
        "id": "xpzQmuj37K-e"
      },
      "id": "xpzQmuj37K-e",
      "execution_count": null,
      "outputs": []
    },
    {
      "cell_type": "code",
      "source": [
        "# Unimos los datasets\n",
        "Merge_df = New_KaggleC.merge(AirB_aggClean, how='left', left_on='Postcode', right_on='zipcode')\n",
        "Merge_df.sample(5)"
      ],
      "metadata": {
        "colab": {
          "base_uri": "https://localhost:8080/",
          "height": 354
        },
        "id": "ehRic1gA1SUV",
        "outputId": "5be3830d-219b-41f3-d43e-93162c82b5df"
      },
      "id": "ehRic1gA1SUV",
      "execution_count": 58,
      "outputs": [
        {
          "output_type": "execute_result",
          "data": {
            "text/plain": [
              "           Price  Rooms  YearBuilt  BuildingArea  Car  Postcode  \\\n",
              "540     567000.0      1     2013.0          53.0  1.0    3143.0   \n",
              "22034   740000.0      3        NaN           NaN  2.0    3087.0   \n",
              "17389   730000.0      2     1970.0           NaN  1.0    3056.0   \n",
              "17755   880000.0      3        NaN           NaN  2.0    3170.0   \n",
              "17307  1800000.0      4        NaN           NaN  2.0    3147.0   \n",
              "\n",
              "                       Regionname          Suburb Type  zipcode  \\\n",
              "540         Southern Metropolitan        Armadale    u   3143.0   \n",
              "22034       Northern Metropolitan  Watsonia North    h   3087.0   \n",
              "17389       Northern Metropolitan       Brunswick    h   3056.0   \n",
              "17755  South-Eastern Metropolitan        Mulgrave    h   3170.0   \n",
              "17307       Southern Metropolitan       Ashburton    h   3147.0   \n",
              "\n",
              "       AirB_record_count  AirB_daily_price_mean  AirB_weekly_price_mean  \\\n",
              "540                 35.0             269.200000                     NaN   \n",
              "22034                3.0              77.000000                     NaN   \n",
              "17389              257.0              94.116732                   250.0   \n",
              "17755               19.0              50.000000                     NaN   \n",
              "17307               16.0              60.062500                   250.0   \n",
              "\n",
              "       AirB_monthly_price_mean  \n",
              "540                        NaN  \n",
              "22034                      NaN  \n",
              "17389                   1000.0  \n",
              "17755                      NaN  \n",
              "17307                      NaN  "
            ],
            "text/html": [
              "\n",
              "  <div id=\"df-1b32c09e-0b8d-447d-83e3-36ff56d63bec\">\n",
              "    <div class=\"colab-df-container\">\n",
              "      <div>\n",
              "<style scoped>\n",
              "    .dataframe tbody tr th:only-of-type {\n",
              "        vertical-align: middle;\n",
              "    }\n",
              "\n",
              "    .dataframe tbody tr th {\n",
              "        vertical-align: top;\n",
              "    }\n",
              "\n",
              "    .dataframe thead th {\n",
              "        text-align: right;\n",
              "    }\n",
              "</style>\n",
              "<table border=\"1\" class=\"dataframe\">\n",
              "  <thead>\n",
              "    <tr style=\"text-align: right;\">\n",
              "      <th></th>\n",
              "      <th>Price</th>\n",
              "      <th>Rooms</th>\n",
              "      <th>YearBuilt</th>\n",
              "      <th>BuildingArea</th>\n",
              "      <th>Car</th>\n",
              "      <th>Postcode</th>\n",
              "      <th>Regionname</th>\n",
              "      <th>Suburb</th>\n",
              "      <th>Type</th>\n",
              "      <th>zipcode</th>\n",
              "      <th>AirB_record_count</th>\n",
              "      <th>AirB_daily_price_mean</th>\n",
              "      <th>AirB_weekly_price_mean</th>\n",
              "      <th>AirB_monthly_price_mean</th>\n",
              "    </tr>\n",
              "  </thead>\n",
              "  <tbody>\n",
              "    <tr>\n",
              "      <th>540</th>\n",
              "      <td>567000.0</td>\n",
              "      <td>1</td>\n",
              "      <td>2013.0</td>\n",
              "      <td>53.0</td>\n",
              "      <td>1.0</td>\n",
              "      <td>3143.0</td>\n",
              "      <td>Southern Metropolitan</td>\n",
              "      <td>Armadale</td>\n",
              "      <td>u</td>\n",
              "      <td>3143.0</td>\n",
              "      <td>35.0</td>\n",
              "      <td>269.200000</td>\n",
              "      <td>NaN</td>\n",
              "      <td>NaN</td>\n",
              "    </tr>\n",
              "    <tr>\n",
              "      <th>22034</th>\n",
              "      <td>740000.0</td>\n",
              "      <td>3</td>\n",
              "      <td>NaN</td>\n",
              "      <td>NaN</td>\n",
              "      <td>2.0</td>\n",
              "      <td>3087.0</td>\n",
              "      <td>Northern Metropolitan</td>\n",
              "      <td>Watsonia North</td>\n",
              "      <td>h</td>\n",
              "      <td>3087.0</td>\n",
              "      <td>3.0</td>\n",
              "      <td>77.000000</td>\n",
              "      <td>NaN</td>\n",
              "      <td>NaN</td>\n",
              "    </tr>\n",
              "    <tr>\n",
              "      <th>17389</th>\n",
              "      <td>730000.0</td>\n",
              "      <td>2</td>\n",
              "      <td>1970.0</td>\n",
              "      <td>NaN</td>\n",
              "      <td>1.0</td>\n",
              "      <td>3056.0</td>\n",
              "      <td>Northern Metropolitan</td>\n",
              "      <td>Brunswick</td>\n",
              "      <td>h</td>\n",
              "      <td>3056.0</td>\n",
              "      <td>257.0</td>\n",
              "      <td>94.116732</td>\n",
              "      <td>250.0</td>\n",
              "      <td>1000.0</td>\n",
              "    </tr>\n",
              "    <tr>\n",
              "      <th>17755</th>\n",
              "      <td>880000.0</td>\n",
              "      <td>3</td>\n",
              "      <td>NaN</td>\n",
              "      <td>NaN</td>\n",
              "      <td>2.0</td>\n",
              "      <td>3170.0</td>\n",
              "      <td>South-Eastern Metropolitan</td>\n",
              "      <td>Mulgrave</td>\n",
              "      <td>h</td>\n",
              "      <td>3170.0</td>\n",
              "      <td>19.0</td>\n",
              "      <td>50.000000</td>\n",
              "      <td>NaN</td>\n",
              "      <td>NaN</td>\n",
              "    </tr>\n",
              "    <tr>\n",
              "      <th>17307</th>\n",
              "      <td>1800000.0</td>\n",
              "      <td>4</td>\n",
              "      <td>NaN</td>\n",
              "      <td>NaN</td>\n",
              "      <td>2.0</td>\n",
              "      <td>3147.0</td>\n",
              "      <td>Southern Metropolitan</td>\n",
              "      <td>Ashburton</td>\n",
              "      <td>h</td>\n",
              "      <td>3147.0</td>\n",
              "      <td>16.0</td>\n",
              "      <td>60.062500</td>\n",
              "      <td>250.0</td>\n",
              "      <td>NaN</td>\n",
              "    </tr>\n",
              "  </tbody>\n",
              "</table>\n",
              "</div>\n",
              "      <button class=\"colab-df-convert\" onclick=\"convertToInteractive('df-1b32c09e-0b8d-447d-83e3-36ff56d63bec')\"\n",
              "              title=\"Convert this dataframe to an interactive table.\"\n",
              "              style=\"display:none;\">\n",
              "        \n",
              "  <svg xmlns=\"http://www.w3.org/2000/svg\" height=\"24px\"viewBox=\"0 0 24 24\"\n",
              "       width=\"24px\">\n",
              "    <path d=\"M0 0h24v24H0V0z\" fill=\"none\"/>\n",
              "    <path d=\"M18.56 5.44l.94 2.06.94-2.06 2.06-.94-2.06-.94-.94-2.06-.94 2.06-2.06.94zm-11 1L8.5 8.5l.94-2.06 2.06-.94-2.06-.94L8.5 2.5l-.94 2.06-2.06.94zm10 10l.94 2.06.94-2.06 2.06-.94-2.06-.94-.94-2.06-.94 2.06-2.06.94z\"/><path d=\"M17.41 7.96l-1.37-1.37c-.4-.4-.92-.59-1.43-.59-.52 0-1.04.2-1.43.59L10.3 9.45l-7.72 7.72c-.78.78-.78 2.05 0 2.83L4 21.41c.39.39.9.59 1.41.59.51 0 1.02-.2 1.41-.59l7.78-7.78 2.81-2.81c.8-.78.8-2.07 0-2.86zM5.41 20L4 18.59l7.72-7.72 1.47 1.35L5.41 20z\"/>\n",
              "  </svg>\n",
              "      </button>\n",
              "      \n",
              "  <style>\n",
              "    .colab-df-container {\n",
              "      display:flex;\n",
              "      flex-wrap:wrap;\n",
              "      gap: 12px;\n",
              "    }\n",
              "\n",
              "    .colab-df-convert {\n",
              "      background-color: #E8F0FE;\n",
              "      border: none;\n",
              "      border-radius: 50%;\n",
              "      cursor: pointer;\n",
              "      display: none;\n",
              "      fill: #1967D2;\n",
              "      height: 32px;\n",
              "      padding: 0 0 0 0;\n",
              "      width: 32px;\n",
              "    }\n",
              "\n",
              "    .colab-df-convert:hover {\n",
              "      background-color: #E2EBFA;\n",
              "      box-shadow: 0px 1px 2px rgba(60, 64, 67, 0.3), 0px 1px 3px 1px rgba(60, 64, 67, 0.15);\n",
              "      fill: #174EA6;\n",
              "    }\n",
              "\n",
              "    [theme=dark] .colab-df-convert {\n",
              "      background-color: #3B4455;\n",
              "      fill: #D2E3FC;\n",
              "    }\n",
              "\n",
              "    [theme=dark] .colab-df-convert:hover {\n",
              "      background-color: #434B5C;\n",
              "      box-shadow: 0px 1px 3px 1px rgba(0, 0, 0, 0.15);\n",
              "      filter: drop-shadow(0px 1px 2px rgba(0, 0, 0, 0.3));\n",
              "      fill: #FFFFFF;\n",
              "    }\n",
              "  </style>\n",
              "\n",
              "      <script>\n",
              "        const buttonEl =\n",
              "          document.querySelector('#df-1b32c09e-0b8d-447d-83e3-36ff56d63bec button.colab-df-convert');\n",
              "        buttonEl.style.display =\n",
              "          google.colab.kernel.accessAllowed ? 'block' : 'none';\n",
              "\n",
              "        async function convertToInteractive(key) {\n",
              "          const element = document.querySelector('#df-1b32c09e-0b8d-447d-83e3-36ff56d63bec');\n",
              "          const dataTable =\n",
              "            await google.colab.kernel.invokeFunction('convertToInteractive',\n",
              "                                                     [key], {});\n",
              "          if (!dataTable) return;\n",
              "\n",
              "          const docLinkHtml = 'Like what you see? Visit the ' +\n",
              "            '<a target=\"_blank\" href=https://colab.research.google.com/notebooks/data_table.ipynb>data table notebook</a>'\n",
              "            + ' to learn more about interactive tables.';\n",
              "          element.innerHTML = '';\n",
              "          dataTable['output_type'] = 'display_data';\n",
              "          await google.colab.output.renderOutput(dataTable, element);\n",
              "          const docLink = document.createElement('div');\n",
              "          docLink.innerHTML = docLinkHtml;\n",
              "          element.appendChild(docLink);\n",
              "        }\n",
              "      </script>\n",
              "    </div>\n",
              "  </div>\n",
              "  "
            ]
          },
          "metadata": {},
          "execution_count": 58
        }
      ]
    },
    {
      "cell_type": "markdown",
      "source": [
        " 2.2.3. Investigar al menos otras 2 variables que puedan servir para combinar los datos, y justificar si serían adecuadas o no. Pueden asumir que cuentan con la ayuda de anotadores expertos para encontrar equivalencias entre barrios o direcciones, o que cuentan con algoritmos para encontrar las n ubicaciones más cercanas a una propiedad a partir de sus coordenadas geográficas. **NO** es necesario que realicen la implementación."
      ],
      "metadata": {
        "id": "h51qYh-OGi09"
      },
      "id": "h51qYh-OGi09"
    },
    {
      "cell_type": "markdown",
      "source": [
        "Ambas bases de datos cuentan con columnas que contienen los suburbios y las ciudades (Council Area) comprendidas dentro del área metropolitana de Melbourne. Cabe destacar, que en Australia, un suburbio es una localidad delimitada dentro de una ciudad, por lo que sería algo equivalente a un barrio en Argentina. Los suburbios suelen tener su propio código postal y en ocasiones 2 suburbios comparten código postal. La primera base de datos cuenta con las columnas \"Suburb\" (314 unique values) y \"Council Area\" (34 unique values). La segunda base de datos cuenta con las columnas \"suburb\" (543 unique values) y \"city\" (30 unique values). En las 4 features practicamente no hay missing values. \n",
        "Dadas estas características, ambas variables podrían ser consideradas en reemplazo del zipcode para la combinación de datasets. Los suburbios permitirían obtener un mayor grado de detalle en la caracterización comparado con zipcode y ciudad. Mientras que el uso de ciudad permitiría una mejor estimación de las métricas por contar con una mayor cantidad de valores para su cálculo."
      ],
      "metadata": {
        "id": "3IoRzG6PAJXe"
      },
      "id": "3IoRzG6PAJXe"
    },
    {
      "cell_type": "markdown",
      "id": "c5303f27-3b15-441b-b291-8caf1c734139",
      "metadata": {
        "id": "c5303f27-3b15-441b-b291-8caf1c734139"
      },
      "source": [
        "## Ejercicio 3:\n",
        "\n",
        "3.1.Crear y guardar un nuevo conjunto de datos con todas las transformaciones realizadas anteriormente."
      ]
    },
    {
      "cell_type": "code",
      "source": [
        "Merge_df.to_csv('Merge_df.csv', index=None)\n",
        "files.download('Merge_df.csv')"
      ],
      "metadata": {
        "id": "qwyCtu_vgbio",
        "colab": {
          "base_uri": "https://localhost:8080/",
          "height": 17
        },
        "outputId": "bdc4758b-745e-48cc-d868-5ab587ceea12"
      },
      "id": "qwyCtu_vgbio",
      "execution_count": 46,
      "outputs": [
        {
          "output_type": "display_data",
          "data": {
            "text/plain": [
              "<IPython.core.display.Javascript object>"
            ],
            "application/javascript": [
              "\n",
              "    async function download(id, filename, size) {\n",
              "      if (!google.colab.kernel.accessAllowed) {\n",
              "        return;\n",
              "      }\n",
              "      const div = document.createElement('div');\n",
              "      const label = document.createElement('label');\n",
              "      label.textContent = `Downloading \"${filename}\": `;\n",
              "      div.appendChild(label);\n",
              "      const progress = document.createElement('progress');\n",
              "      progress.max = size;\n",
              "      div.appendChild(progress);\n",
              "      document.body.appendChild(div);\n",
              "\n",
              "      const buffers = [];\n",
              "      let downloaded = 0;\n",
              "\n",
              "      const channel = await google.colab.kernel.comms.open(id);\n",
              "      // Send a message to notify the kernel that we're ready.\n",
              "      channel.send({})\n",
              "\n",
              "      for await (const message of channel.messages) {\n",
              "        // Send a message to notify the kernel that we're ready.\n",
              "        channel.send({})\n",
              "        if (message.buffers) {\n",
              "          for (const buffer of message.buffers) {\n",
              "            buffers.push(buffer);\n",
              "            downloaded += buffer.byteLength;\n",
              "            progress.value = downloaded;\n",
              "          }\n",
              "        }\n",
              "      }\n",
              "      const blob = new Blob(buffers, {type: 'application/binary'});\n",
              "      const a = document.createElement('a');\n",
              "      a.href = window.URL.createObjectURL(blob);\n",
              "      a.download = filename;\n",
              "      div.appendChild(a);\n",
              "      a.click();\n",
              "      div.remove();\n",
              "    }\n",
              "  "
            ]
          },
          "metadata": {}
        },
        {
          "output_type": "display_data",
          "data": {
            "text/plain": [
              "<IPython.core.display.Javascript object>"
            ],
            "application/javascript": [
              "download(\"download_aea0ae2b-61bd-4afc-a53b-6976538beb1d\", \"Merge_df.csv\", 2739588)"
            ]
          },
          "metadata": {}
        }
      ]
    },
    {
      "cell_type": "markdown",
      "id": "abfd3eeb-d466-424b-b58e-d1364ac39206",
      "metadata": {
        "id": "abfd3eeb-d466-424b-b58e-d1364ac39206"
      },
      "source": [
        "## Ejercicios opcionales:\n",
        "\n",
        "1. Armar un script en python (archivo .py) [ETL](https://towardsdatascience.com/what-to-log-from-python-etl-pipelines-9e0cfe29950e) que corra los pasos de extraccion, transformacion y carga, armando una funcion para cada etapa del proceso y luego un main que corra todos los pasos requeridos.\n",
        "\n",
        "2. Armar un DAG en Apache Airflow que corra el ETL. (https://airflow.apache.org/docs/apache-airflow/stable/tutorial.html)"
      ]
    }
  ],
  "metadata": {
    "kernelspec": {
      "display_name": "Python 3",
      "language": "python",
      "name": "python3"
    },
    "language_info": {
      "codemirror_mode": {
        "name": "ipython",
        "version": 3
      },
      "file_extension": ".py",
      "mimetype": "text/x-python",
      "name": "python",
      "nbconvert_exporter": "python",
      "pygments_lexer": "ipython3",
      "version": "3.8.8"
    },
    "colab": {
      "name": "Práctico2_AyC_Parte1_SGO_v7.ipynb",
      "provenance": [],
      "collapsed_sections": [],
      "include_colab_link": true
    },
    "widgets": {
      "application/vnd.jupyter.widget-state+json": {
        "e808cee68d5f424984e410d0303ab32d": {
          "model_module": "@jupyter-widgets/controls",
          "model_name": "HBoxModel",
          "model_module_version": "1.5.0",
          "state": {
            "_dom_classes": [],
            "_model_module": "@jupyter-widgets/controls",
            "_model_module_version": "1.5.0",
            "_model_name": "HBoxModel",
            "_view_count": null,
            "_view_module": "@jupyter-widgets/controls",
            "_view_module_version": "1.5.0",
            "_view_name": "HBoxView",
            "box_style": "",
            "children": [
              "IPY_MODEL_e98b308621fc4ceeb9a6b9dc80e623a5",
              "IPY_MODEL_f09194ea09ae4bfb80396bc517409a2f",
              "IPY_MODEL_f99f5280ad6740f7b3db5266e12078e9"
            ],
            "layout": "IPY_MODEL_7766b1043dad4937bef5e25d1a34d46f"
          }
        },
        "e98b308621fc4ceeb9a6b9dc80e623a5": {
          "model_module": "@jupyter-widgets/controls",
          "model_name": "HTMLModel",
          "model_module_version": "1.5.0",
          "state": {
            "_dom_classes": [],
            "_model_module": "@jupyter-widgets/controls",
            "_model_module_version": "1.5.0",
            "_model_name": "HTMLModel",
            "_view_count": null,
            "_view_module": "@jupyter-widgets/controls",
            "_view_module_version": "1.5.0",
            "_view_name": "HTMLView",
            "description": "",
            "description_tooltip": null,
            "layout": "IPY_MODEL_3ac060c741bf4779a76106fe700261a2",
            "placeholder": "​",
            "style": "IPY_MODEL_11c8c8a1c44340f185ccf849b78e2a1e",
            "value": "Summarize dataset: 100%"
          }
        },
        "f09194ea09ae4bfb80396bc517409a2f": {
          "model_module": "@jupyter-widgets/controls",
          "model_name": "FloatProgressModel",
          "model_module_version": "1.5.0",
          "state": {
            "_dom_classes": [],
            "_model_module": "@jupyter-widgets/controls",
            "_model_module_version": "1.5.0",
            "_model_name": "FloatProgressModel",
            "_view_count": null,
            "_view_module": "@jupyter-widgets/controls",
            "_view_module_version": "1.5.0",
            "_view_name": "ProgressView",
            "bar_style": "success",
            "description": "",
            "description_tooltip": null,
            "layout": "IPY_MODEL_e2c28478776d4e48a971aab85f1b98c6",
            "max": 35,
            "min": 0,
            "orientation": "horizontal",
            "style": "IPY_MODEL_82d231175bf144c6b363c74ed28c7d85",
            "value": 35
          }
        },
        "f99f5280ad6740f7b3db5266e12078e9": {
          "model_module": "@jupyter-widgets/controls",
          "model_name": "HTMLModel",
          "model_module_version": "1.5.0",
          "state": {
            "_dom_classes": [],
            "_model_module": "@jupyter-widgets/controls",
            "_model_module_version": "1.5.0",
            "_model_name": "HTMLModel",
            "_view_count": null,
            "_view_module": "@jupyter-widgets/controls",
            "_view_module_version": "1.5.0",
            "_view_name": "HTMLView",
            "description": "",
            "description_tooltip": null,
            "layout": "IPY_MODEL_e3aafe041de247148dfbda12ccecad73",
            "placeholder": "​",
            "style": "IPY_MODEL_0bad98bcbe49457cb8fc505506aa0629",
            "value": " 35/35 [00:35&lt;00:00,  1.84s/it, Completed]"
          }
        },
        "7766b1043dad4937bef5e25d1a34d46f": {
          "model_module": "@jupyter-widgets/base",
          "model_name": "LayoutModel",
          "model_module_version": "1.2.0",
          "state": {
            "_model_module": "@jupyter-widgets/base",
            "_model_module_version": "1.2.0",
            "_model_name": "LayoutModel",
            "_view_count": null,
            "_view_module": "@jupyter-widgets/base",
            "_view_module_version": "1.2.0",
            "_view_name": "LayoutView",
            "align_content": null,
            "align_items": null,
            "align_self": null,
            "border": null,
            "bottom": null,
            "display": null,
            "flex": null,
            "flex_flow": null,
            "grid_area": null,
            "grid_auto_columns": null,
            "grid_auto_flow": null,
            "grid_auto_rows": null,
            "grid_column": null,
            "grid_gap": null,
            "grid_row": null,
            "grid_template_areas": null,
            "grid_template_columns": null,
            "grid_template_rows": null,
            "height": null,
            "justify_content": null,
            "justify_items": null,
            "left": null,
            "margin": null,
            "max_height": null,
            "max_width": null,
            "min_height": null,
            "min_width": null,
            "object_fit": null,
            "object_position": null,
            "order": null,
            "overflow": null,
            "overflow_x": null,
            "overflow_y": null,
            "padding": null,
            "right": null,
            "top": null,
            "visibility": null,
            "width": null
          }
        },
        "3ac060c741bf4779a76106fe700261a2": {
          "model_module": "@jupyter-widgets/base",
          "model_name": "LayoutModel",
          "model_module_version": "1.2.0",
          "state": {
            "_model_module": "@jupyter-widgets/base",
            "_model_module_version": "1.2.0",
            "_model_name": "LayoutModel",
            "_view_count": null,
            "_view_module": "@jupyter-widgets/base",
            "_view_module_version": "1.2.0",
            "_view_name": "LayoutView",
            "align_content": null,
            "align_items": null,
            "align_self": null,
            "border": null,
            "bottom": null,
            "display": null,
            "flex": null,
            "flex_flow": null,
            "grid_area": null,
            "grid_auto_columns": null,
            "grid_auto_flow": null,
            "grid_auto_rows": null,
            "grid_column": null,
            "grid_gap": null,
            "grid_row": null,
            "grid_template_areas": null,
            "grid_template_columns": null,
            "grid_template_rows": null,
            "height": null,
            "justify_content": null,
            "justify_items": null,
            "left": null,
            "margin": null,
            "max_height": null,
            "max_width": null,
            "min_height": null,
            "min_width": null,
            "object_fit": null,
            "object_position": null,
            "order": null,
            "overflow": null,
            "overflow_x": null,
            "overflow_y": null,
            "padding": null,
            "right": null,
            "top": null,
            "visibility": null,
            "width": null
          }
        },
        "11c8c8a1c44340f185ccf849b78e2a1e": {
          "model_module": "@jupyter-widgets/controls",
          "model_name": "DescriptionStyleModel",
          "model_module_version": "1.5.0",
          "state": {
            "_model_module": "@jupyter-widgets/controls",
            "_model_module_version": "1.5.0",
            "_model_name": "DescriptionStyleModel",
            "_view_count": null,
            "_view_module": "@jupyter-widgets/base",
            "_view_module_version": "1.2.0",
            "_view_name": "StyleView",
            "description_width": ""
          }
        },
        "e2c28478776d4e48a971aab85f1b98c6": {
          "model_module": "@jupyter-widgets/base",
          "model_name": "LayoutModel",
          "model_module_version": "1.2.0",
          "state": {
            "_model_module": "@jupyter-widgets/base",
            "_model_module_version": "1.2.0",
            "_model_name": "LayoutModel",
            "_view_count": null,
            "_view_module": "@jupyter-widgets/base",
            "_view_module_version": "1.2.0",
            "_view_name": "LayoutView",
            "align_content": null,
            "align_items": null,
            "align_self": null,
            "border": null,
            "bottom": null,
            "display": null,
            "flex": null,
            "flex_flow": null,
            "grid_area": null,
            "grid_auto_columns": null,
            "grid_auto_flow": null,
            "grid_auto_rows": null,
            "grid_column": null,
            "grid_gap": null,
            "grid_row": null,
            "grid_template_areas": null,
            "grid_template_columns": null,
            "grid_template_rows": null,
            "height": null,
            "justify_content": null,
            "justify_items": null,
            "left": null,
            "margin": null,
            "max_height": null,
            "max_width": null,
            "min_height": null,
            "min_width": null,
            "object_fit": null,
            "object_position": null,
            "order": null,
            "overflow": null,
            "overflow_x": null,
            "overflow_y": null,
            "padding": null,
            "right": null,
            "top": null,
            "visibility": null,
            "width": null
          }
        },
        "82d231175bf144c6b363c74ed28c7d85": {
          "model_module": "@jupyter-widgets/controls",
          "model_name": "ProgressStyleModel",
          "model_module_version": "1.5.0",
          "state": {
            "_model_module": "@jupyter-widgets/controls",
            "_model_module_version": "1.5.0",
            "_model_name": "ProgressStyleModel",
            "_view_count": null,
            "_view_module": "@jupyter-widgets/base",
            "_view_module_version": "1.2.0",
            "_view_name": "StyleView",
            "bar_color": null,
            "description_width": ""
          }
        },
        "e3aafe041de247148dfbda12ccecad73": {
          "model_module": "@jupyter-widgets/base",
          "model_name": "LayoutModel",
          "model_module_version": "1.2.0",
          "state": {
            "_model_module": "@jupyter-widgets/base",
            "_model_module_version": "1.2.0",
            "_model_name": "LayoutModel",
            "_view_count": null,
            "_view_module": "@jupyter-widgets/base",
            "_view_module_version": "1.2.0",
            "_view_name": "LayoutView",
            "align_content": null,
            "align_items": null,
            "align_self": null,
            "border": null,
            "bottom": null,
            "display": null,
            "flex": null,
            "flex_flow": null,
            "grid_area": null,
            "grid_auto_columns": null,
            "grid_auto_flow": null,
            "grid_auto_rows": null,
            "grid_column": null,
            "grid_gap": null,
            "grid_row": null,
            "grid_template_areas": null,
            "grid_template_columns": null,
            "grid_template_rows": null,
            "height": null,
            "justify_content": null,
            "justify_items": null,
            "left": null,
            "margin": null,
            "max_height": null,
            "max_width": null,
            "min_height": null,
            "min_width": null,
            "object_fit": null,
            "object_position": null,
            "order": null,
            "overflow": null,
            "overflow_x": null,
            "overflow_y": null,
            "padding": null,
            "right": null,
            "top": null,
            "visibility": null,
            "width": null
          }
        },
        "0bad98bcbe49457cb8fc505506aa0629": {
          "model_module": "@jupyter-widgets/controls",
          "model_name": "DescriptionStyleModel",
          "model_module_version": "1.5.0",
          "state": {
            "_model_module": "@jupyter-widgets/controls",
            "_model_module_version": "1.5.0",
            "_model_name": "DescriptionStyleModel",
            "_view_count": null,
            "_view_module": "@jupyter-widgets/base",
            "_view_module_version": "1.2.0",
            "_view_name": "StyleView",
            "description_width": ""
          }
        },
        "328fc8c23b774f778e7dfe1fe1abcc7f": {
          "model_module": "@jupyter-widgets/controls",
          "model_name": "HBoxModel",
          "model_module_version": "1.5.0",
          "state": {
            "_dom_classes": [],
            "_model_module": "@jupyter-widgets/controls",
            "_model_module_version": "1.5.0",
            "_model_name": "HBoxModel",
            "_view_count": null,
            "_view_module": "@jupyter-widgets/controls",
            "_view_module_version": "1.5.0",
            "_view_name": "HBoxView",
            "box_style": "",
            "children": [
              "IPY_MODEL_ecb71db2ba604484a2cde34c51656eb6",
              "IPY_MODEL_5904ebbf91ff415ca347466600cb48fa",
              "IPY_MODEL_0b3545854925404d91a7c430f8e45a8f"
            ],
            "layout": "IPY_MODEL_84e9df7534844cae9908e97897cdff44"
          }
        },
        "ecb71db2ba604484a2cde34c51656eb6": {
          "model_module": "@jupyter-widgets/controls",
          "model_name": "HTMLModel",
          "model_module_version": "1.5.0",
          "state": {
            "_dom_classes": [],
            "_model_module": "@jupyter-widgets/controls",
            "_model_module_version": "1.5.0",
            "_model_name": "HTMLModel",
            "_view_count": null,
            "_view_module": "@jupyter-widgets/controls",
            "_view_module_version": "1.5.0",
            "_view_name": "HTMLView",
            "description": "",
            "description_tooltip": null,
            "layout": "IPY_MODEL_4e5840a7865b41b7bea3ae032947e45b",
            "placeholder": "​",
            "style": "IPY_MODEL_401e8c93a5e7495da4e899cd749b617c",
            "value": "Generate report structure: 100%"
          }
        },
        "5904ebbf91ff415ca347466600cb48fa": {
          "model_module": "@jupyter-widgets/controls",
          "model_name": "FloatProgressModel",
          "model_module_version": "1.5.0",
          "state": {
            "_dom_classes": [],
            "_model_module": "@jupyter-widgets/controls",
            "_model_module_version": "1.5.0",
            "_model_name": "FloatProgressModel",
            "_view_count": null,
            "_view_module": "@jupyter-widgets/controls",
            "_view_module_version": "1.5.0",
            "_view_name": "ProgressView",
            "bar_style": "success",
            "description": "",
            "description_tooltip": null,
            "layout": "IPY_MODEL_ee2fc59ffefd4055abc216e0d57245b5",
            "max": 1,
            "min": 0,
            "orientation": "horizontal",
            "style": "IPY_MODEL_603489875807408d8050d0ed0e786988",
            "value": 1
          }
        },
        "0b3545854925404d91a7c430f8e45a8f": {
          "model_module": "@jupyter-widgets/controls",
          "model_name": "HTMLModel",
          "model_module_version": "1.5.0",
          "state": {
            "_dom_classes": [],
            "_model_module": "@jupyter-widgets/controls",
            "_model_module_version": "1.5.0",
            "_model_name": "HTMLModel",
            "_view_count": null,
            "_view_module": "@jupyter-widgets/controls",
            "_view_module_version": "1.5.0",
            "_view_name": "HTMLView",
            "description": "",
            "description_tooltip": null,
            "layout": "IPY_MODEL_18d318a20c6f407b80521f30d56c910e",
            "placeholder": "​",
            "style": "IPY_MODEL_cf28f234ada74215882c2af65a6c5f19",
            "value": " 1/1 [00:07&lt;00:00,  7.83s/it]"
          }
        },
        "84e9df7534844cae9908e97897cdff44": {
          "model_module": "@jupyter-widgets/base",
          "model_name": "LayoutModel",
          "model_module_version": "1.2.0",
          "state": {
            "_model_module": "@jupyter-widgets/base",
            "_model_module_version": "1.2.0",
            "_model_name": "LayoutModel",
            "_view_count": null,
            "_view_module": "@jupyter-widgets/base",
            "_view_module_version": "1.2.0",
            "_view_name": "LayoutView",
            "align_content": null,
            "align_items": null,
            "align_self": null,
            "border": null,
            "bottom": null,
            "display": null,
            "flex": null,
            "flex_flow": null,
            "grid_area": null,
            "grid_auto_columns": null,
            "grid_auto_flow": null,
            "grid_auto_rows": null,
            "grid_column": null,
            "grid_gap": null,
            "grid_row": null,
            "grid_template_areas": null,
            "grid_template_columns": null,
            "grid_template_rows": null,
            "height": null,
            "justify_content": null,
            "justify_items": null,
            "left": null,
            "margin": null,
            "max_height": null,
            "max_width": null,
            "min_height": null,
            "min_width": null,
            "object_fit": null,
            "object_position": null,
            "order": null,
            "overflow": null,
            "overflow_x": null,
            "overflow_y": null,
            "padding": null,
            "right": null,
            "top": null,
            "visibility": null,
            "width": null
          }
        },
        "4e5840a7865b41b7bea3ae032947e45b": {
          "model_module": "@jupyter-widgets/base",
          "model_name": "LayoutModel",
          "model_module_version": "1.2.0",
          "state": {
            "_model_module": "@jupyter-widgets/base",
            "_model_module_version": "1.2.0",
            "_model_name": "LayoutModel",
            "_view_count": null,
            "_view_module": "@jupyter-widgets/base",
            "_view_module_version": "1.2.0",
            "_view_name": "LayoutView",
            "align_content": null,
            "align_items": null,
            "align_self": null,
            "border": null,
            "bottom": null,
            "display": null,
            "flex": null,
            "flex_flow": null,
            "grid_area": null,
            "grid_auto_columns": null,
            "grid_auto_flow": null,
            "grid_auto_rows": null,
            "grid_column": null,
            "grid_gap": null,
            "grid_row": null,
            "grid_template_areas": null,
            "grid_template_columns": null,
            "grid_template_rows": null,
            "height": null,
            "justify_content": null,
            "justify_items": null,
            "left": null,
            "margin": null,
            "max_height": null,
            "max_width": null,
            "min_height": null,
            "min_width": null,
            "object_fit": null,
            "object_position": null,
            "order": null,
            "overflow": null,
            "overflow_x": null,
            "overflow_y": null,
            "padding": null,
            "right": null,
            "top": null,
            "visibility": null,
            "width": null
          }
        },
        "401e8c93a5e7495da4e899cd749b617c": {
          "model_module": "@jupyter-widgets/controls",
          "model_name": "DescriptionStyleModel",
          "model_module_version": "1.5.0",
          "state": {
            "_model_module": "@jupyter-widgets/controls",
            "_model_module_version": "1.5.0",
            "_model_name": "DescriptionStyleModel",
            "_view_count": null,
            "_view_module": "@jupyter-widgets/base",
            "_view_module_version": "1.2.0",
            "_view_name": "StyleView",
            "description_width": ""
          }
        },
        "ee2fc59ffefd4055abc216e0d57245b5": {
          "model_module": "@jupyter-widgets/base",
          "model_name": "LayoutModel",
          "model_module_version": "1.2.0",
          "state": {
            "_model_module": "@jupyter-widgets/base",
            "_model_module_version": "1.2.0",
            "_model_name": "LayoutModel",
            "_view_count": null,
            "_view_module": "@jupyter-widgets/base",
            "_view_module_version": "1.2.0",
            "_view_name": "LayoutView",
            "align_content": null,
            "align_items": null,
            "align_self": null,
            "border": null,
            "bottom": null,
            "display": null,
            "flex": null,
            "flex_flow": null,
            "grid_area": null,
            "grid_auto_columns": null,
            "grid_auto_flow": null,
            "grid_auto_rows": null,
            "grid_column": null,
            "grid_gap": null,
            "grid_row": null,
            "grid_template_areas": null,
            "grid_template_columns": null,
            "grid_template_rows": null,
            "height": null,
            "justify_content": null,
            "justify_items": null,
            "left": null,
            "margin": null,
            "max_height": null,
            "max_width": null,
            "min_height": null,
            "min_width": null,
            "object_fit": null,
            "object_position": null,
            "order": null,
            "overflow": null,
            "overflow_x": null,
            "overflow_y": null,
            "padding": null,
            "right": null,
            "top": null,
            "visibility": null,
            "width": null
          }
        },
        "603489875807408d8050d0ed0e786988": {
          "model_module": "@jupyter-widgets/controls",
          "model_name": "ProgressStyleModel",
          "model_module_version": "1.5.0",
          "state": {
            "_model_module": "@jupyter-widgets/controls",
            "_model_module_version": "1.5.0",
            "_model_name": "ProgressStyleModel",
            "_view_count": null,
            "_view_module": "@jupyter-widgets/base",
            "_view_module_version": "1.2.0",
            "_view_name": "StyleView",
            "bar_color": null,
            "description_width": ""
          }
        },
        "18d318a20c6f407b80521f30d56c910e": {
          "model_module": "@jupyter-widgets/base",
          "model_name": "LayoutModel",
          "model_module_version": "1.2.0",
          "state": {
            "_model_module": "@jupyter-widgets/base",
            "_model_module_version": "1.2.0",
            "_model_name": "LayoutModel",
            "_view_count": null,
            "_view_module": "@jupyter-widgets/base",
            "_view_module_version": "1.2.0",
            "_view_name": "LayoutView",
            "align_content": null,
            "align_items": null,
            "align_self": null,
            "border": null,
            "bottom": null,
            "display": null,
            "flex": null,
            "flex_flow": null,
            "grid_area": null,
            "grid_auto_columns": null,
            "grid_auto_flow": null,
            "grid_auto_rows": null,
            "grid_column": null,
            "grid_gap": null,
            "grid_row": null,
            "grid_template_areas": null,
            "grid_template_columns": null,
            "grid_template_rows": null,
            "height": null,
            "justify_content": null,
            "justify_items": null,
            "left": null,
            "margin": null,
            "max_height": null,
            "max_width": null,
            "min_height": null,
            "min_width": null,
            "object_fit": null,
            "object_position": null,
            "order": null,
            "overflow": null,
            "overflow_x": null,
            "overflow_y": null,
            "padding": null,
            "right": null,
            "top": null,
            "visibility": null,
            "width": null
          }
        },
        "cf28f234ada74215882c2af65a6c5f19": {
          "model_module": "@jupyter-widgets/controls",
          "model_name": "DescriptionStyleModel",
          "model_module_version": "1.5.0",
          "state": {
            "_model_module": "@jupyter-widgets/controls",
            "_model_module_version": "1.5.0",
            "_model_name": "DescriptionStyleModel",
            "_view_count": null,
            "_view_module": "@jupyter-widgets/base",
            "_view_module_version": "1.2.0",
            "_view_name": "StyleView",
            "description_width": ""
          }
        },
        "da1dff52a860450fa17600df6b69f61a": {
          "model_module": "@jupyter-widgets/controls",
          "model_name": "HBoxModel",
          "model_module_version": "1.5.0",
          "state": {
            "_dom_classes": [],
            "_model_module": "@jupyter-widgets/controls",
            "_model_module_version": "1.5.0",
            "_model_name": "HBoxModel",
            "_view_count": null,
            "_view_module": "@jupyter-widgets/controls",
            "_view_module_version": "1.5.0",
            "_view_name": "HBoxView",
            "box_style": "",
            "children": [
              "IPY_MODEL_961b23b2a06d4be8b65de7e359a7f86c",
              "IPY_MODEL_f6e04acb320d496db95b0652e2b163a8",
              "IPY_MODEL_47c0faf742e7414b9b5b9b9089fca721"
            ],
            "layout": "IPY_MODEL_a4678f5ffe214492928ae22a05854962"
          }
        },
        "961b23b2a06d4be8b65de7e359a7f86c": {
          "model_module": "@jupyter-widgets/controls",
          "model_name": "HTMLModel",
          "model_module_version": "1.5.0",
          "state": {
            "_dom_classes": [],
            "_model_module": "@jupyter-widgets/controls",
            "_model_module_version": "1.5.0",
            "_model_name": "HTMLModel",
            "_view_count": null,
            "_view_module": "@jupyter-widgets/controls",
            "_view_module_version": "1.5.0",
            "_view_name": "HTMLView",
            "description": "",
            "description_tooltip": null,
            "layout": "IPY_MODEL_51b9362cf7a14680a5421e342a2253e3",
            "placeholder": "​",
            "style": "IPY_MODEL_6dfdaba1156a4ea48adf7aa40ec52b33",
            "value": "Render HTML: 100%"
          }
        },
        "f6e04acb320d496db95b0652e2b163a8": {
          "model_module": "@jupyter-widgets/controls",
          "model_name": "FloatProgressModel",
          "model_module_version": "1.5.0",
          "state": {
            "_dom_classes": [],
            "_model_module": "@jupyter-widgets/controls",
            "_model_module_version": "1.5.0",
            "_model_name": "FloatProgressModel",
            "_view_count": null,
            "_view_module": "@jupyter-widgets/controls",
            "_view_module_version": "1.5.0",
            "_view_name": "ProgressView",
            "bar_style": "success",
            "description": "",
            "description_tooltip": null,
            "layout": "IPY_MODEL_e36af0c4d37d44b596f2ed9455c69713",
            "max": 1,
            "min": 0,
            "orientation": "horizontal",
            "style": "IPY_MODEL_8c7b0512612a48bfa64b59c3f906f3e9",
            "value": 1
          }
        },
        "47c0faf742e7414b9b5b9b9089fca721": {
          "model_module": "@jupyter-widgets/controls",
          "model_name": "HTMLModel",
          "model_module_version": "1.5.0",
          "state": {
            "_dom_classes": [],
            "_model_module": "@jupyter-widgets/controls",
            "_model_module_version": "1.5.0",
            "_model_name": "HTMLModel",
            "_view_count": null,
            "_view_module": "@jupyter-widgets/controls",
            "_view_module_version": "1.5.0",
            "_view_name": "HTMLView",
            "description": "",
            "description_tooltip": null,
            "layout": "IPY_MODEL_e77c0c2d2d7843c9b2538caa59de1bba",
            "placeholder": "​",
            "style": "IPY_MODEL_fc95c1b231fe45d4a624dc010249035c",
            "value": " 1/1 [00:06&lt;00:00,  6.07s/it]"
          }
        },
        "a4678f5ffe214492928ae22a05854962": {
          "model_module": "@jupyter-widgets/base",
          "model_name": "LayoutModel",
          "model_module_version": "1.2.0",
          "state": {
            "_model_module": "@jupyter-widgets/base",
            "_model_module_version": "1.2.0",
            "_model_name": "LayoutModel",
            "_view_count": null,
            "_view_module": "@jupyter-widgets/base",
            "_view_module_version": "1.2.0",
            "_view_name": "LayoutView",
            "align_content": null,
            "align_items": null,
            "align_self": null,
            "border": null,
            "bottom": null,
            "display": null,
            "flex": null,
            "flex_flow": null,
            "grid_area": null,
            "grid_auto_columns": null,
            "grid_auto_flow": null,
            "grid_auto_rows": null,
            "grid_column": null,
            "grid_gap": null,
            "grid_row": null,
            "grid_template_areas": null,
            "grid_template_columns": null,
            "grid_template_rows": null,
            "height": null,
            "justify_content": null,
            "justify_items": null,
            "left": null,
            "margin": null,
            "max_height": null,
            "max_width": null,
            "min_height": null,
            "min_width": null,
            "object_fit": null,
            "object_position": null,
            "order": null,
            "overflow": null,
            "overflow_x": null,
            "overflow_y": null,
            "padding": null,
            "right": null,
            "top": null,
            "visibility": null,
            "width": null
          }
        },
        "51b9362cf7a14680a5421e342a2253e3": {
          "model_module": "@jupyter-widgets/base",
          "model_name": "LayoutModel",
          "model_module_version": "1.2.0",
          "state": {
            "_model_module": "@jupyter-widgets/base",
            "_model_module_version": "1.2.0",
            "_model_name": "LayoutModel",
            "_view_count": null,
            "_view_module": "@jupyter-widgets/base",
            "_view_module_version": "1.2.0",
            "_view_name": "LayoutView",
            "align_content": null,
            "align_items": null,
            "align_self": null,
            "border": null,
            "bottom": null,
            "display": null,
            "flex": null,
            "flex_flow": null,
            "grid_area": null,
            "grid_auto_columns": null,
            "grid_auto_flow": null,
            "grid_auto_rows": null,
            "grid_column": null,
            "grid_gap": null,
            "grid_row": null,
            "grid_template_areas": null,
            "grid_template_columns": null,
            "grid_template_rows": null,
            "height": null,
            "justify_content": null,
            "justify_items": null,
            "left": null,
            "margin": null,
            "max_height": null,
            "max_width": null,
            "min_height": null,
            "min_width": null,
            "object_fit": null,
            "object_position": null,
            "order": null,
            "overflow": null,
            "overflow_x": null,
            "overflow_y": null,
            "padding": null,
            "right": null,
            "top": null,
            "visibility": null,
            "width": null
          }
        },
        "6dfdaba1156a4ea48adf7aa40ec52b33": {
          "model_module": "@jupyter-widgets/controls",
          "model_name": "DescriptionStyleModel",
          "model_module_version": "1.5.0",
          "state": {
            "_model_module": "@jupyter-widgets/controls",
            "_model_module_version": "1.5.0",
            "_model_name": "DescriptionStyleModel",
            "_view_count": null,
            "_view_module": "@jupyter-widgets/base",
            "_view_module_version": "1.2.0",
            "_view_name": "StyleView",
            "description_width": ""
          }
        },
        "e36af0c4d37d44b596f2ed9455c69713": {
          "model_module": "@jupyter-widgets/base",
          "model_name": "LayoutModel",
          "model_module_version": "1.2.0",
          "state": {
            "_model_module": "@jupyter-widgets/base",
            "_model_module_version": "1.2.0",
            "_model_name": "LayoutModel",
            "_view_count": null,
            "_view_module": "@jupyter-widgets/base",
            "_view_module_version": "1.2.0",
            "_view_name": "LayoutView",
            "align_content": null,
            "align_items": null,
            "align_self": null,
            "border": null,
            "bottom": null,
            "display": null,
            "flex": null,
            "flex_flow": null,
            "grid_area": null,
            "grid_auto_columns": null,
            "grid_auto_flow": null,
            "grid_auto_rows": null,
            "grid_column": null,
            "grid_gap": null,
            "grid_row": null,
            "grid_template_areas": null,
            "grid_template_columns": null,
            "grid_template_rows": null,
            "height": null,
            "justify_content": null,
            "justify_items": null,
            "left": null,
            "margin": null,
            "max_height": null,
            "max_width": null,
            "min_height": null,
            "min_width": null,
            "object_fit": null,
            "object_position": null,
            "order": null,
            "overflow": null,
            "overflow_x": null,
            "overflow_y": null,
            "padding": null,
            "right": null,
            "top": null,
            "visibility": null,
            "width": null
          }
        },
        "8c7b0512612a48bfa64b59c3f906f3e9": {
          "model_module": "@jupyter-widgets/controls",
          "model_name": "ProgressStyleModel",
          "model_module_version": "1.5.0",
          "state": {
            "_model_module": "@jupyter-widgets/controls",
            "_model_module_version": "1.5.0",
            "_model_name": "ProgressStyleModel",
            "_view_count": null,
            "_view_module": "@jupyter-widgets/base",
            "_view_module_version": "1.2.0",
            "_view_name": "StyleView",
            "bar_color": null,
            "description_width": ""
          }
        },
        "e77c0c2d2d7843c9b2538caa59de1bba": {
          "model_module": "@jupyter-widgets/base",
          "model_name": "LayoutModel",
          "model_module_version": "1.2.0",
          "state": {
            "_model_module": "@jupyter-widgets/base",
            "_model_module_version": "1.2.0",
            "_model_name": "LayoutModel",
            "_view_count": null,
            "_view_module": "@jupyter-widgets/base",
            "_view_module_version": "1.2.0",
            "_view_name": "LayoutView",
            "align_content": null,
            "align_items": null,
            "align_self": null,
            "border": null,
            "bottom": null,
            "display": null,
            "flex": null,
            "flex_flow": null,
            "grid_area": null,
            "grid_auto_columns": null,
            "grid_auto_flow": null,
            "grid_auto_rows": null,
            "grid_column": null,
            "grid_gap": null,
            "grid_row": null,
            "grid_template_areas": null,
            "grid_template_columns": null,
            "grid_template_rows": null,
            "height": null,
            "justify_content": null,
            "justify_items": null,
            "left": null,
            "margin": null,
            "max_height": null,
            "max_width": null,
            "min_height": null,
            "min_width": null,
            "object_fit": null,
            "object_position": null,
            "order": null,
            "overflow": null,
            "overflow_x": null,
            "overflow_y": null,
            "padding": null,
            "right": null,
            "top": null,
            "visibility": null,
            "width": null
          }
        },
        "fc95c1b231fe45d4a624dc010249035c": {
          "model_module": "@jupyter-widgets/controls",
          "model_name": "DescriptionStyleModel",
          "model_module_version": "1.5.0",
          "state": {
            "_model_module": "@jupyter-widgets/controls",
            "_model_module_version": "1.5.0",
            "_model_name": "DescriptionStyleModel",
            "_view_count": null,
            "_view_module": "@jupyter-widgets/base",
            "_view_module_version": "1.2.0",
            "_view_name": "StyleView",
            "description_width": ""
          }
        },
        "9b3e6f3fa30b47388beffc55693b80c6": {
          "model_module": "@jupyter-widgets/controls",
          "model_name": "HBoxModel",
          "model_module_version": "1.5.0",
          "state": {
            "_dom_classes": [],
            "_model_module": "@jupyter-widgets/controls",
            "_model_module_version": "1.5.0",
            "_model_name": "HBoxModel",
            "_view_count": null,
            "_view_module": "@jupyter-widgets/controls",
            "_view_module_version": "1.5.0",
            "_view_name": "HBoxView",
            "box_style": "",
            "children": [
              "IPY_MODEL_d9e59d4ebe774cd68bb06daaf03748ff",
              "IPY_MODEL_ce06e78727a842dc9d6c87649dd218d5",
              "IPY_MODEL_5dd3dd27a8e24c0fabf5f0ddd63b13c7"
            ],
            "layout": "IPY_MODEL_c3b731869b8849baaca2b7ec5992eaf6"
          }
        },
        "d9e59d4ebe774cd68bb06daaf03748ff": {
          "model_module": "@jupyter-widgets/controls",
          "model_name": "HTMLModel",
          "model_module_version": "1.5.0",
          "state": {
            "_dom_classes": [],
            "_model_module": "@jupyter-widgets/controls",
            "_model_module_version": "1.5.0",
            "_model_name": "HTMLModel",
            "_view_count": null,
            "_view_module": "@jupyter-widgets/controls",
            "_view_module_version": "1.5.0",
            "_view_name": "HTMLView",
            "description": "",
            "description_tooltip": null,
            "layout": "IPY_MODEL_a77f490019a642d18307f7a9a841930c",
            "placeholder": "​",
            "style": "IPY_MODEL_c45132607ef64e9ead5898c6a6ed23d7",
            "value": "Export report to file: 100%"
          }
        },
        "ce06e78727a842dc9d6c87649dd218d5": {
          "model_module": "@jupyter-widgets/controls",
          "model_name": "FloatProgressModel",
          "model_module_version": "1.5.0",
          "state": {
            "_dom_classes": [],
            "_model_module": "@jupyter-widgets/controls",
            "_model_module_version": "1.5.0",
            "_model_name": "FloatProgressModel",
            "_view_count": null,
            "_view_module": "@jupyter-widgets/controls",
            "_view_module_version": "1.5.0",
            "_view_name": "ProgressView",
            "bar_style": "success",
            "description": "",
            "description_tooltip": null,
            "layout": "IPY_MODEL_081169878b524957ba98efd6964c906a",
            "max": 1,
            "min": 0,
            "orientation": "horizontal",
            "style": "IPY_MODEL_2946a91c41d3469887ce44403bdd2ed5",
            "value": 1
          }
        },
        "5dd3dd27a8e24c0fabf5f0ddd63b13c7": {
          "model_module": "@jupyter-widgets/controls",
          "model_name": "HTMLModel",
          "model_module_version": "1.5.0",
          "state": {
            "_dom_classes": [],
            "_model_module": "@jupyter-widgets/controls",
            "_model_module_version": "1.5.0",
            "_model_name": "HTMLModel",
            "_view_count": null,
            "_view_module": "@jupyter-widgets/controls",
            "_view_module_version": "1.5.0",
            "_view_name": "HTMLView",
            "description": "",
            "description_tooltip": null,
            "layout": "IPY_MODEL_6a0e4dfdcbcf47ffaea0ace071cf65c8",
            "placeholder": "​",
            "style": "IPY_MODEL_1f5fbaa8b05e41faaf566e00afd44697",
            "value": " 1/1 [00:00&lt;00:00, 13.15it/s]"
          }
        },
        "c3b731869b8849baaca2b7ec5992eaf6": {
          "model_module": "@jupyter-widgets/base",
          "model_name": "LayoutModel",
          "model_module_version": "1.2.0",
          "state": {
            "_model_module": "@jupyter-widgets/base",
            "_model_module_version": "1.2.0",
            "_model_name": "LayoutModel",
            "_view_count": null,
            "_view_module": "@jupyter-widgets/base",
            "_view_module_version": "1.2.0",
            "_view_name": "LayoutView",
            "align_content": null,
            "align_items": null,
            "align_self": null,
            "border": null,
            "bottom": null,
            "display": null,
            "flex": null,
            "flex_flow": null,
            "grid_area": null,
            "grid_auto_columns": null,
            "grid_auto_flow": null,
            "grid_auto_rows": null,
            "grid_column": null,
            "grid_gap": null,
            "grid_row": null,
            "grid_template_areas": null,
            "grid_template_columns": null,
            "grid_template_rows": null,
            "height": null,
            "justify_content": null,
            "justify_items": null,
            "left": null,
            "margin": null,
            "max_height": null,
            "max_width": null,
            "min_height": null,
            "min_width": null,
            "object_fit": null,
            "object_position": null,
            "order": null,
            "overflow": null,
            "overflow_x": null,
            "overflow_y": null,
            "padding": null,
            "right": null,
            "top": null,
            "visibility": null,
            "width": null
          }
        },
        "a77f490019a642d18307f7a9a841930c": {
          "model_module": "@jupyter-widgets/base",
          "model_name": "LayoutModel",
          "model_module_version": "1.2.0",
          "state": {
            "_model_module": "@jupyter-widgets/base",
            "_model_module_version": "1.2.0",
            "_model_name": "LayoutModel",
            "_view_count": null,
            "_view_module": "@jupyter-widgets/base",
            "_view_module_version": "1.2.0",
            "_view_name": "LayoutView",
            "align_content": null,
            "align_items": null,
            "align_self": null,
            "border": null,
            "bottom": null,
            "display": null,
            "flex": null,
            "flex_flow": null,
            "grid_area": null,
            "grid_auto_columns": null,
            "grid_auto_flow": null,
            "grid_auto_rows": null,
            "grid_column": null,
            "grid_gap": null,
            "grid_row": null,
            "grid_template_areas": null,
            "grid_template_columns": null,
            "grid_template_rows": null,
            "height": null,
            "justify_content": null,
            "justify_items": null,
            "left": null,
            "margin": null,
            "max_height": null,
            "max_width": null,
            "min_height": null,
            "min_width": null,
            "object_fit": null,
            "object_position": null,
            "order": null,
            "overflow": null,
            "overflow_x": null,
            "overflow_y": null,
            "padding": null,
            "right": null,
            "top": null,
            "visibility": null,
            "width": null
          }
        },
        "c45132607ef64e9ead5898c6a6ed23d7": {
          "model_module": "@jupyter-widgets/controls",
          "model_name": "DescriptionStyleModel",
          "model_module_version": "1.5.0",
          "state": {
            "_model_module": "@jupyter-widgets/controls",
            "_model_module_version": "1.5.0",
            "_model_name": "DescriptionStyleModel",
            "_view_count": null,
            "_view_module": "@jupyter-widgets/base",
            "_view_module_version": "1.2.0",
            "_view_name": "StyleView",
            "description_width": ""
          }
        },
        "081169878b524957ba98efd6964c906a": {
          "model_module": "@jupyter-widgets/base",
          "model_name": "LayoutModel",
          "model_module_version": "1.2.0",
          "state": {
            "_model_module": "@jupyter-widgets/base",
            "_model_module_version": "1.2.0",
            "_model_name": "LayoutModel",
            "_view_count": null,
            "_view_module": "@jupyter-widgets/base",
            "_view_module_version": "1.2.0",
            "_view_name": "LayoutView",
            "align_content": null,
            "align_items": null,
            "align_self": null,
            "border": null,
            "bottom": null,
            "display": null,
            "flex": null,
            "flex_flow": null,
            "grid_area": null,
            "grid_auto_columns": null,
            "grid_auto_flow": null,
            "grid_auto_rows": null,
            "grid_column": null,
            "grid_gap": null,
            "grid_row": null,
            "grid_template_areas": null,
            "grid_template_columns": null,
            "grid_template_rows": null,
            "height": null,
            "justify_content": null,
            "justify_items": null,
            "left": null,
            "margin": null,
            "max_height": null,
            "max_width": null,
            "min_height": null,
            "min_width": null,
            "object_fit": null,
            "object_position": null,
            "order": null,
            "overflow": null,
            "overflow_x": null,
            "overflow_y": null,
            "padding": null,
            "right": null,
            "top": null,
            "visibility": null,
            "width": null
          }
        },
        "2946a91c41d3469887ce44403bdd2ed5": {
          "model_module": "@jupyter-widgets/controls",
          "model_name": "ProgressStyleModel",
          "model_module_version": "1.5.0",
          "state": {
            "_model_module": "@jupyter-widgets/controls",
            "_model_module_version": "1.5.0",
            "_model_name": "ProgressStyleModel",
            "_view_count": null,
            "_view_module": "@jupyter-widgets/base",
            "_view_module_version": "1.2.0",
            "_view_name": "StyleView",
            "bar_color": null,
            "description_width": ""
          }
        },
        "6a0e4dfdcbcf47ffaea0ace071cf65c8": {
          "model_module": "@jupyter-widgets/base",
          "model_name": "LayoutModel",
          "model_module_version": "1.2.0",
          "state": {
            "_model_module": "@jupyter-widgets/base",
            "_model_module_version": "1.2.0",
            "_model_name": "LayoutModel",
            "_view_count": null,
            "_view_module": "@jupyter-widgets/base",
            "_view_module_version": "1.2.0",
            "_view_name": "LayoutView",
            "align_content": null,
            "align_items": null,
            "align_self": null,
            "border": null,
            "bottom": null,
            "display": null,
            "flex": null,
            "flex_flow": null,
            "grid_area": null,
            "grid_auto_columns": null,
            "grid_auto_flow": null,
            "grid_auto_rows": null,
            "grid_column": null,
            "grid_gap": null,
            "grid_row": null,
            "grid_template_areas": null,
            "grid_template_columns": null,
            "grid_template_rows": null,
            "height": null,
            "justify_content": null,
            "justify_items": null,
            "left": null,
            "margin": null,
            "max_height": null,
            "max_width": null,
            "min_height": null,
            "min_width": null,
            "object_fit": null,
            "object_position": null,
            "order": null,
            "overflow": null,
            "overflow_x": null,
            "overflow_y": null,
            "padding": null,
            "right": null,
            "top": null,
            "visibility": null,
            "width": null
          }
        },
        "1f5fbaa8b05e41faaf566e00afd44697": {
          "model_module": "@jupyter-widgets/controls",
          "model_name": "DescriptionStyleModel",
          "model_module_version": "1.5.0",
          "state": {
            "_model_module": "@jupyter-widgets/controls",
            "_model_module_version": "1.5.0",
            "_model_name": "DescriptionStyleModel",
            "_view_count": null,
            "_view_module": "@jupyter-widgets/base",
            "_view_module_version": "1.2.0",
            "_view_name": "StyleView",
            "description_width": ""
          }
        }
      }
    }
  },
  "nbformat": 4,
  "nbformat_minor": 5
}