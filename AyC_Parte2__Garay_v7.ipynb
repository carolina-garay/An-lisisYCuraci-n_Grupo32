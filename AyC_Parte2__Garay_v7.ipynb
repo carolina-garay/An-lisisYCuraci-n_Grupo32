{
  "nbformat": 4,
  "nbformat_minor": 0,
  "metadata": {
    "colab": {
      "name": "AyC_Parte2__Garay_v1.ipynb",
      "provenance": [],
      "collapsed_sections": [],
      "include_colab_link": true
    },
    "kernelspec": {
      "name": "python3",
      "display_name": "Python 3"
    },
    "language_info": {
      "name": "python"
    }
  },
  "cells": [
    {
      "cell_type": "markdown",
      "metadata": {
        "id": "view-in-github",
        "colab_type": "text"
      },
      "source": [
        "<a href=\"https://colab.research.google.com/github/carolina-garay/AnalisisYCuracion_Grupo32/blob/carolina_Garay_AyC/AyC_Parte2__Garay_v7.ipynb\" target=\"_parent\"><img src=\"https://colab.research.google.com/assets/colab-badge.svg\" alt=\"Open In Colab\"/></a>"
      ]
    },
    {
      "cell_type": "markdown",
      "metadata": {
        "id": "zO4bRoxr2Apy"
      },
      "source": [
        "**Diplomatura en Ciencia de Datos, Aprendizaje Automático y sus Aplicaciones** *Edición 2022*\n",
        "\n",
        "#**Análisis Exploratorio y Curación de Datos**\n",
        "\n",
        "\n",
        "\n",
        "----\n",
        "\n",
        "# Trabajo Práctico Entregable - Parte 2\n",
        "*Grupo 32*\n",
        "\n",
        "Integrantes: \n",
        "- Garay, Carolina del Valle\n",
        "- Ormaechea, Sebastián Gabriel\n",
        "- Ramos, Pablo Nicolás\n",
        "\n",
        "En el ejercicio 2 de la parte 1 del entregable seleccionaron las filas y columnas relevantes al problema de predicción de precios de una propiedad e imputaron los valores faltantes de las columnas `Suburb` y las columnas obtenidas a partir del conjunto de datos `airbnb`.\n",
        "\n",
        "En esta notebook, **se utilizará resultado de dichas operaciones.** que fue guardado en un archivo (Ejercicio 3 entregable 1). \n"
      ]
    },
    {
      "cell_type": "code",
      "source": [
        "!pip install category_encoders"
      ],
      "metadata": {
        "id": "NzQO6lm-Aje3",
        "colab": {
          "base_uri": "https://localhost:8080/"
        },
        "outputId": "df7d58bd-bb81-4da6-bdd4-ab34e864a404"
      },
      "execution_count": 2,
      "outputs": [
        {
          "output_type": "stream",
          "name": "stdout",
          "text": [
            "Looking in indexes: https://pypi.org/simple, https://us-python.pkg.dev/colab-wheels/public/simple/\n",
            "Collecting category_encoders\n",
            "  Downloading category_encoders-2.4.1-py2.py3-none-any.whl (80 kB)\n",
            "\u001b[K     |████████████████████████████████| 80 kB 2.6 MB/s \n",
            "\u001b[?25hRequirement already satisfied: pandas>=0.21.1 in /usr/local/lib/python3.7/dist-packages (from category_encoders) (1.3.5)\n",
            "Requirement already satisfied: patsy>=0.5.1 in /usr/local/lib/python3.7/dist-packages (from category_encoders) (0.5.2)\n",
            "Requirement already satisfied: statsmodels>=0.9.0 in /usr/local/lib/python3.7/dist-packages (from category_encoders) (0.10.2)\n",
            "Requirement already satisfied: scikit-learn>=0.20.0 in /usr/local/lib/python3.7/dist-packages (from category_encoders) (1.0.2)\n",
            "Requirement already satisfied: numpy>=1.14.0 in /usr/local/lib/python3.7/dist-packages (from category_encoders) (1.21.6)\n",
            "Requirement already satisfied: scipy>=1.0.0 in /usr/local/lib/python3.7/dist-packages (from category_encoders) (1.4.1)\n",
            "Requirement already satisfied: pytz>=2017.3 in /usr/local/lib/python3.7/dist-packages (from pandas>=0.21.1->category_encoders) (2022.1)\n",
            "Requirement already satisfied: python-dateutil>=2.7.3 in /usr/local/lib/python3.7/dist-packages (from pandas>=0.21.1->category_encoders) (2.8.2)\n",
            "Requirement already satisfied: six in /usr/local/lib/python3.7/dist-packages (from patsy>=0.5.1->category_encoders) (1.15.0)\n",
            "Requirement already satisfied: threadpoolctl>=2.0.0 in /usr/local/lib/python3.7/dist-packages (from scikit-learn>=0.20.0->category_encoders) (3.1.0)\n",
            "Requirement already satisfied: joblib>=0.11 in /usr/local/lib/python3.7/dist-packages (from scikit-learn>=0.20.0->category_encoders) (1.1.0)\n",
            "Installing collected packages: category-encoders\n",
            "Successfully installed category-encoders-2.4.1\n"
          ]
        }
      ]
    },
    {
      "cell_type": "code",
      "metadata": {
        "id": "4udjxjk1EtVU",
        "colab": {
          "base_uri": "https://localhost:8080/"
        },
        "outputId": "9d993a14-3ac0-46f4-ab60-9a8e466ac383"
      },
      "source": [
        "import matplotlib.pyplot as plt\n",
        "import numpy as np\n",
        "import pandas as pd\n",
        "from google.colab import files\n",
        "import joblib \n",
        "from sklearn import preprocessing\n",
        "from category_encoders import one_hot\n",
        "\n",
        "\n",
        "import seaborn as sns\n",
        "sns.set_context('talk')"
      ],
      "execution_count": 3,
      "outputs": [
        {
          "output_type": "stream",
          "name": "stderr",
          "text": [
            "/usr/local/lib/python3.7/dist-packages/statsmodels/tools/_testing.py:19: FutureWarning: pandas.util.testing is deprecated. Use the functions in the public API at pandas.testing instead.\n",
            "  import pandas.util.testing as tm\n"
          ]
        }
      ]
    },
    {
      "cell_type": "code",
      "source": [
        "# Descarga de base de datos\n",
        "!gdown https://drive.google.com/file/d/185RVTSVvOg4DjAuUhv9UTy_QKPS4e6bp/view?usp=sharing --fuzzy"
      ],
      "metadata": {
        "colab": {
          "base_uri": "https://localhost:8080/"
        },
        "id": "KHf7R5azGPvK",
        "outputId": "d545f427-88c5-4371-d307-a6264ee3988a"
      },
      "execution_count": 4,
      "outputs": [
        {
          "output_type": "stream",
          "name": "stdout",
          "text": [
            "Downloading...\n",
            "From: https://drive.google.com/uc?id=185RVTSVvOg4DjAuUhv9UTy_QKPS4e6bp\n",
            "To: /content/Merge_df.csv\n",
            "\r  0% 0.00/2.74M [00:00<?, ?B/s]\r100% 2.74M/2.74M [00:00<00:00, 207MB/s]\n"
          ]
        }
      ]
    },
    {
      "cell_type": "code",
      "metadata": {
        "id": "_qeFN3GnEvMk"
      },
      "source": [
        "# Lectura de csv y obtención de dataframe \n",
        "airmelb=pd.read_csv('/content/Merge_df.csv')"
      ],
      "execution_count": 5,
      "outputs": []
    },
    {
      "cell_type": "markdown",
      "source": [
        "Realizamos exploración del dataset antes de resolver las consignas"
      ],
      "metadata": {
        "id": "KqdMtEo6PTca"
      }
    },
    {
      "cell_type": "code",
      "source": [
        "airmelb.head()"
      ],
      "metadata": {
        "colab": {
          "base_uri": "https://localhost:8080/",
          "height": 353
        },
        "id": "qvbeQublPheo",
        "outputId": "4fcfa7b0-706b-462b-f2db-0146310232ed"
      },
      "execution_count": 6,
      "outputs": [
        {
          "output_type": "execute_result",
          "data": {
            "text/plain": [
              "              Regionname      Suburb Type  YearBuilt  BuildingArea  Car  \\\n",
              "0  Northern Metropolitan  Abbotsford    h        NaN           NaN  1.0   \n",
              "1  Northern Metropolitan  Abbotsford    h        NaN           NaN  1.0   \n",
              "2  Northern Metropolitan  Abbotsford    h     1900.0          79.0  0.0   \n",
              "3  Northern Metropolitan  Abbotsford    h     1900.0          79.0  0.0   \n",
              "4  Northern Metropolitan  Abbotsford    h     1900.0         150.0  0.0   \n",
              "\n",
              "       Price  Postcode  Rooms  zipcode  AirB_record_count  \\\n",
              "0  1480000.0    3067.0      2   3067.0              157.0   \n",
              "1  1480000.0    3067.0      2   3067.0              101.0   \n",
              "2  1035000.0    3067.0      2   3067.0              157.0   \n",
              "3  1035000.0    3067.0      2   3067.0              101.0   \n",
              "4  1465000.0    3067.0      3   3067.0              157.0   \n",
              "\n",
              "   AirB_daily_price_mean  AirB_weekly_price_mean  AirB_monthly_price_mean  \n",
              "0             140.292994              236.250000               956.363636  \n",
              "1             115.594059              735.352941              2863.900000  \n",
              "2             140.292994              236.250000               956.363636  \n",
              "3             115.594059              735.352941              2863.900000  \n",
              "4             140.292994              236.250000               956.363636  "
            ],
            "text/html": [
              "\n",
              "  <div id=\"df-3870a4db-17cd-4595-8376-9fda4caf8d20\">\n",
              "    <div class=\"colab-df-container\">\n",
              "      <div>\n",
              "<style scoped>\n",
              "    .dataframe tbody tr th:only-of-type {\n",
              "        vertical-align: middle;\n",
              "    }\n",
              "\n",
              "    .dataframe tbody tr th {\n",
              "        vertical-align: top;\n",
              "    }\n",
              "\n",
              "    .dataframe thead th {\n",
              "        text-align: right;\n",
              "    }\n",
              "</style>\n",
              "<table border=\"1\" class=\"dataframe\">\n",
              "  <thead>\n",
              "    <tr style=\"text-align: right;\">\n",
              "      <th></th>\n",
              "      <th>Regionname</th>\n",
              "      <th>Suburb</th>\n",
              "      <th>Type</th>\n",
              "      <th>YearBuilt</th>\n",
              "      <th>BuildingArea</th>\n",
              "      <th>Car</th>\n",
              "      <th>Price</th>\n",
              "      <th>Postcode</th>\n",
              "      <th>Rooms</th>\n",
              "      <th>zipcode</th>\n",
              "      <th>AirB_record_count</th>\n",
              "      <th>AirB_daily_price_mean</th>\n",
              "      <th>AirB_weekly_price_mean</th>\n",
              "      <th>AirB_monthly_price_mean</th>\n",
              "    </tr>\n",
              "  </thead>\n",
              "  <tbody>\n",
              "    <tr>\n",
              "      <th>0</th>\n",
              "      <td>Northern Metropolitan</td>\n",
              "      <td>Abbotsford</td>\n",
              "      <td>h</td>\n",
              "      <td>NaN</td>\n",
              "      <td>NaN</td>\n",
              "      <td>1.0</td>\n",
              "      <td>1480000.0</td>\n",
              "      <td>3067.0</td>\n",
              "      <td>2</td>\n",
              "      <td>3067.0</td>\n",
              "      <td>157.0</td>\n",
              "      <td>140.292994</td>\n",
              "      <td>236.250000</td>\n",
              "      <td>956.363636</td>\n",
              "    </tr>\n",
              "    <tr>\n",
              "      <th>1</th>\n",
              "      <td>Northern Metropolitan</td>\n",
              "      <td>Abbotsford</td>\n",
              "      <td>h</td>\n",
              "      <td>NaN</td>\n",
              "      <td>NaN</td>\n",
              "      <td>1.0</td>\n",
              "      <td>1480000.0</td>\n",
              "      <td>3067.0</td>\n",
              "      <td>2</td>\n",
              "      <td>3067.0</td>\n",
              "      <td>101.0</td>\n",
              "      <td>115.594059</td>\n",
              "      <td>735.352941</td>\n",
              "      <td>2863.900000</td>\n",
              "    </tr>\n",
              "    <tr>\n",
              "      <th>2</th>\n",
              "      <td>Northern Metropolitan</td>\n",
              "      <td>Abbotsford</td>\n",
              "      <td>h</td>\n",
              "      <td>1900.0</td>\n",
              "      <td>79.0</td>\n",
              "      <td>0.0</td>\n",
              "      <td>1035000.0</td>\n",
              "      <td>3067.0</td>\n",
              "      <td>2</td>\n",
              "      <td>3067.0</td>\n",
              "      <td>157.0</td>\n",
              "      <td>140.292994</td>\n",
              "      <td>236.250000</td>\n",
              "      <td>956.363636</td>\n",
              "    </tr>\n",
              "    <tr>\n",
              "      <th>3</th>\n",
              "      <td>Northern Metropolitan</td>\n",
              "      <td>Abbotsford</td>\n",
              "      <td>h</td>\n",
              "      <td>1900.0</td>\n",
              "      <td>79.0</td>\n",
              "      <td>0.0</td>\n",
              "      <td>1035000.0</td>\n",
              "      <td>3067.0</td>\n",
              "      <td>2</td>\n",
              "      <td>3067.0</td>\n",
              "      <td>101.0</td>\n",
              "      <td>115.594059</td>\n",
              "      <td>735.352941</td>\n",
              "      <td>2863.900000</td>\n",
              "    </tr>\n",
              "    <tr>\n",
              "      <th>4</th>\n",
              "      <td>Northern Metropolitan</td>\n",
              "      <td>Abbotsford</td>\n",
              "      <td>h</td>\n",
              "      <td>1900.0</td>\n",
              "      <td>150.0</td>\n",
              "      <td>0.0</td>\n",
              "      <td>1465000.0</td>\n",
              "      <td>3067.0</td>\n",
              "      <td>3</td>\n",
              "      <td>3067.0</td>\n",
              "      <td>157.0</td>\n",
              "      <td>140.292994</td>\n",
              "      <td>236.250000</td>\n",
              "      <td>956.363636</td>\n",
              "    </tr>\n",
              "  </tbody>\n",
              "</table>\n",
              "</div>\n",
              "      <button class=\"colab-df-convert\" onclick=\"convertToInteractive('df-3870a4db-17cd-4595-8376-9fda4caf8d20')\"\n",
              "              title=\"Convert this dataframe to an interactive table.\"\n",
              "              style=\"display:none;\">\n",
              "        \n",
              "  <svg xmlns=\"http://www.w3.org/2000/svg\" height=\"24px\"viewBox=\"0 0 24 24\"\n",
              "       width=\"24px\">\n",
              "    <path d=\"M0 0h24v24H0V0z\" fill=\"none\"/>\n",
              "    <path d=\"M18.56 5.44l.94 2.06.94-2.06 2.06-.94-2.06-.94-.94-2.06-.94 2.06-2.06.94zm-11 1L8.5 8.5l.94-2.06 2.06-.94-2.06-.94L8.5 2.5l-.94 2.06-2.06.94zm10 10l.94 2.06.94-2.06 2.06-.94-2.06-.94-.94-2.06-.94 2.06-2.06.94z\"/><path d=\"M17.41 7.96l-1.37-1.37c-.4-.4-.92-.59-1.43-.59-.52 0-1.04.2-1.43.59L10.3 9.45l-7.72 7.72c-.78.78-.78 2.05 0 2.83L4 21.41c.39.39.9.59 1.41.59.51 0 1.02-.2 1.41-.59l7.78-7.78 2.81-2.81c.8-.78.8-2.07 0-2.86zM5.41 20L4 18.59l7.72-7.72 1.47 1.35L5.41 20z\"/>\n",
              "  </svg>\n",
              "      </button>\n",
              "      \n",
              "  <style>\n",
              "    .colab-df-container {\n",
              "      display:flex;\n",
              "      flex-wrap:wrap;\n",
              "      gap: 12px;\n",
              "    }\n",
              "\n",
              "    .colab-df-convert {\n",
              "      background-color: #E8F0FE;\n",
              "      border: none;\n",
              "      border-radius: 50%;\n",
              "      cursor: pointer;\n",
              "      display: none;\n",
              "      fill: #1967D2;\n",
              "      height: 32px;\n",
              "      padding: 0 0 0 0;\n",
              "      width: 32px;\n",
              "    }\n",
              "\n",
              "    .colab-df-convert:hover {\n",
              "      background-color: #E2EBFA;\n",
              "      box-shadow: 0px 1px 2px rgba(60, 64, 67, 0.3), 0px 1px 3px 1px rgba(60, 64, 67, 0.15);\n",
              "      fill: #174EA6;\n",
              "    }\n",
              "\n",
              "    [theme=dark] .colab-df-convert {\n",
              "      background-color: #3B4455;\n",
              "      fill: #D2E3FC;\n",
              "    }\n",
              "\n",
              "    [theme=dark] .colab-df-convert:hover {\n",
              "      background-color: #434B5C;\n",
              "      box-shadow: 0px 1px 3px 1px rgba(0, 0, 0, 0.15);\n",
              "      filter: drop-shadow(0px 1px 2px rgba(0, 0, 0, 0.3));\n",
              "      fill: #FFFFFF;\n",
              "    }\n",
              "  </style>\n",
              "\n",
              "      <script>\n",
              "        const buttonEl =\n",
              "          document.querySelector('#df-3870a4db-17cd-4595-8376-9fda4caf8d20 button.colab-df-convert');\n",
              "        buttonEl.style.display =\n",
              "          google.colab.kernel.accessAllowed ? 'block' : 'none';\n",
              "\n",
              "        async function convertToInteractive(key) {\n",
              "          const element = document.querySelector('#df-3870a4db-17cd-4595-8376-9fda4caf8d20');\n",
              "          const dataTable =\n",
              "            await google.colab.kernel.invokeFunction('convertToInteractive',\n",
              "                                                     [key], {});\n",
              "          if (!dataTable) return;\n",
              "\n",
              "          const docLinkHtml = 'Like what you see? Visit the ' +\n",
              "            '<a target=\"_blank\" href=https://colab.research.google.com/notebooks/data_table.ipynb>data table notebook</a>'\n",
              "            + ' to learn more about interactive tables.';\n",
              "          element.innerHTML = '';\n",
              "          dataTable['output_type'] = 'display_data';\n",
              "          await google.colab.output.renderOutput(dataTable, element);\n",
              "          const docLink = document.createElement('div');\n",
              "          docLink.innerHTML = docLinkHtml;\n",
              "          element.appendChild(docLink);\n",
              "        }\n",
              "      </script>\n",
              "    </div>\n",
              "  </div>\n",
              "  "
            ]
          },
          "metadata": {},
          "execution_count": 6
        }
      ]
    },
    {
      "cell_type": "code",
      "source": [
        "#Imprimimos columnas que registran valores nulos\n",
        "airmelb.isnull().any(axis=0)"
      ],
      "metadata": {
        "colab": {
          "base_uri": "https://localhost:8080/"
        },
        "id": "XL0rGLzBPxrJ",
        "outputId": "1465bd43-30b4-423f-97d3-96eefc5574ff"
      },
      "execution_count": 7,
      "outputs": [
        {
          "output_type": "execute_result",
          "data": {
            "text/plain": [
              "Regionname                 False\n",
              "Suburb                     False\n",
              "Type                       False\n",
              "YearBuilt                   True\n",
              "BuildingArea                True\n",
              "Car                        False\n",
              "Price                      False\n",
              "Postcode                   False\n",
              "Rooms                      False\n",
              "zipcode                     True\n",
              "AirB_record_count           True\n",
              "AirB_daily_price_mean       True\n",
              "AirB_weekly_price_mean      True\n",
              "AirB_monthly_price_mean     True\n",
              "dtype: bool"
            ]
          },
          "metadata": {},
          "execution_count": 7
        }
      ]
    },
    {
      "cell_type": "markdown",
      "metadata": {
        "id": "s-mixICN22kA"
      },
      "source": [
        "## Ejercicio 1: Encoding\n",
        "\n",
        "1. Seleccionar todas las filas y columnas del conjunto de datos obtenido en la parte 1 del entregable, **excepto** `BuildingArea` y `YearBuilt`, que volveremos a imputar más adelante.\n",
        "\n",
        "2. Aplicar una codificación One-hot encoding a cada fila, tanto para variables numéricas como categóricas. Si lo consideran necesario, pueden volver a reducir el número de categorías únicas.\n",
        "\n",
        "Algunas opciones:\n",
        "  1. Utilizar `OneHotEncoder` junto con el parámetro `categories` para las variables categóricas y luego usar `numpy.hstack` para concatenar el resultado con las variables numéricas. \n",
        "  2. `DictVectorizer` con algunos pasos de pre-proceso previo.\n",
        "\n",
        "Recordar también que el atributo `pandas.DataFrame.values` permite acceder a la matriz de numpy subyacente a un DataFrame.\n"
      ]
    },
    {
      "cell_type": "markdown",
      "source": [
        "#**RESOLUCIÓN EJERCICIO 1**"
      ],
      "metadata": {
        "id": "1VJLHkNHJZwG"
      }
    },
    {
      "cell_type": "markdown",
      "source": [
        "1.1 Seleccionar todas las filas y columnas del conjunto de datos obtenido en la parte 1 del entregable, **excepto** `BuildingArea` y `YearBuilt`, que volveremos a imputar más adelante."
      ],
      "metadata": {
        "id": "fM0TGvorcMnb"
      }
    },
    {
      "cell_type": "markdown",
      "source": [
        "**En este item se pide seleccionar  todas las filas y columnas del conjunto de datos, a excepción de `BuildingArea` y `YearBuilt` que serán imputadas en los ejercios siguientes porque poseen valores NAN. Pero observamos que además de estos dos atributos, hay cinco más que también tienen registros con valores NAN. Esto nos indica que más adelante también deberemos imputar esas variables.**"
      ],
      "metadata": {
        "id": "alUrs_QxQQIq"
      }
    },
    {
      "cell_type": "code",
      "source": [
        "airmelb.columns"
      ],
      "metadata": {
        "colab": {
          "base_uri": "https://localhost:8080/"
        },
        "id": "3NTNYbz6Z9Pb",
        "outputId": "079fa7b3-ec6f-472c-fcfd-3add1a9d6080"
      },
      "execution_count": 8,
      "outputs": [
        {
          "output_type": "execute_result",
          "data": {
            "text/plain": [
              "Index(['Regionname', 'Suburb', 'Type', 'YearBuilt', 'BuildingArea', 'Car',\n",
              "       'Price', 'Postcode', 'Rooms', 'zipcode', 'AirB_record_count',\n",
              "       'AirB_daily_price_mean', 'AirB_weekly_price_mean',\n",
              "       'AirB_monthly_price_mean'],\n",
              "      dtype='object')"
            ]
          },
          "metadata": {},
          "execution_count": 8
        }
      ]
    },
    {
      "cell_type": "code",
      "source": [
        "#Selección de columnas\n",
        "df= airmelb[['Regionname', 'Suburb', 'Type','Car', 'Price', 'Postcode', 'Rooms',\n",
        "        'AirB_record_count', 'AirB_daily_price_mean',\n",
        "       'AirB_weekly_price_mean', 'AirB_monthly_price_mean']]"
      ],
      "metadata": {
        "id": "-KuDzFsQbdMC"
      },
      "execution_count": 9,
      "outputs": []
    },
    {
      "cell_type": "code",
      "source": [
        "df[:3]"
      ],
      "metadata": {
        "colab": {
          "base_uri": "https://localhost:8080/",
          "height": 257
        },
        "id": "srbi092adQfS",
        "outputId": "2818420c-86bf-43e7-d840-032817b15c2f"
      },
      "execution_count": 10,
      "outputs": [
        {
          "output_type": "execute_result",
          "data": {
            "text/plain": [
              "              Regionname      Suburb Type  Car      Price  Postcode  Rooms  \\\n",
              "0  Northern Metropolitan  Abbotsford    h  1.0  1480000.0    3067.0      2   \n",
              "1  Northern Metropolitan  Abbotsford    h  1.0  1480000.0    3067.0      2   \n",
              "2  Northern Metropolitan  Abbotsford    h  0.0  1035000.0    3067.0      2   \n",
              "\n",
              "   AirB_record_count  AirB_daily_price_mean  AirB_weekly_price_mean  \\\n",
              "0              157.0             140.292994              236.250000   \n",
              "1              101.0             115.594059              735.352941   \n",
              "2              157.0             140.292994              236.250000   \n",
              "\n",
              "   AirB_monthly_price_mean  \n",
              "0               956.363636  \n",
              "1              2863.900000  \n",
              "2               956.363636  "
            ],
            "text/html": [
              "\n",
              "  <div id=\"df-6fd9182c-ccea-4c03-8206-d702946692a1\">\n",
              "    <div class=\"colab-df-container\">\n",
              "      <div>\n",
              "<style scoped>\n",
              "    .dataframe tbody tr th:only-of-type {\n",
              "        vertical-align: middle;\n",
              "    }\n",
              "\n",
              "    .dataframe tbody tr th {\n",
              "        vertical-align: top;\n",
              "    }\n",
              "\n",
              "    .dataframe thead th {\n",
              "        text-align: right;\n",
              "    }\n",
              "</style>\n",
              "<table border=\"1\" class=\"dataframe\">\n",
              "  <thead>\n",
              "    <tr style=\"text-align: right;\">\n",
              "      <th></th>\n",
              "      <th>Regionname</th>\n",
              "      <th>Suburb</th>\n",
              "      <th>Type</th>\n",
              "      <th>Car</th>\n",
              "      <th>Price</th>\n",
              "      <th>Postcode</th>\n",
              "      <th>Rooms</th>\n",
              "      <th>AirB_record_count</th>\n",
              "      <th>AirB_daily_price_mean</th>\n",
              "      <th>AirB_weekly_price_mean</th>\n",
              "      <th>AirB_monthly_price_mean</th>\n",
              "    </tr>\n",
              "  </thead>\n",
              "  <tbody>\n",
              "    <tr>\n",
              "      <th>0</th>\n",
              "      <td>Northern Metropolitan</td>\n",
              "      <td>Abbotsford</td>\n",
              "      <td>h</td>\n",
              "      <td>1.0</td>\n",
              "      <td>1480000.0</td>\n",
              "      <td>3067.0</td>\n",
              "      <td>2</td>\n",
              "      <td>157.0</td>\n",
              "      <td>140.292994</td>\n",
              "      <td>236.250000</td>\n",
              "      <td>956.363636</td>\n",
              "    </tr>\n",
              "    <tr>\n",
              "      <th>1</th>\n",
              "      <td>Northern Metropolitan</td>\n",
              "      <td>Abbotsford</td>\n",
              "      <td>h</td>\n",
              "      <td>1.0</td>\n",
              "      <td>1480000.0</td>\n",
              "      <td>3067.0</td>\n",
              "      <td>2</td>\n",
              "      <td>101.0</td>\n",
              "      <td>115.594059</td>\n",
              "      <td>735.352941</td>\n",
              "      <td>2863.900000</td>\n",
              "    </tr>\n",
              "    <tr>\n",
              "      <th>2</th>\n",
              "      <td>Northern Metropolitan</td>\n",
              "      <td>Abbotsford</td>\n",
              "      <td>h</td>\n",
              "      <td>0.0</td>\n",
              "      <td>1035000.0</td>\n",
              "      <td>3067.0</td>\n",
              "      <td>2</td>\n",
              "      <td>157.0</td>\n",
              "      <td>140.292994</td>\n",
              "      <td>236.250000</td>\n",
              "      <td>956.363636</td>\n",
              "    </tr>\n",
              "  </tbody>\n",
              "</table>\n",
              "</div>\n",
              "      <button class=\"colab-df-convert\" onclick=\"convertToInteractive('df-6fd9182c-ccea-4c03-8206-d702946692a1')\"\n",
              "              title=\"Convert this dataframe to an interactive table.\"\n",
              "              style=\"display:none;\">\n",
              "        \n",
              "  <svg xmlns=\"http://www.w3.org/2000/svg\" height=\"24px\"viewBox=\"0 0 24 24\"\n",
              "       width=\"24px\">\n",
              "    <path d=\"M0 0h24v24H0V0z\" fill=\"none\"/>\n",
              "    <path d=\"M18.56 5.44l.94 2.06.94-2.06 2.06-.94-2.06-.94-.94-2.06-.94 2.06-2.06.94zm-11 1L8.5 8.5l.94-2.06 2.06-.94-2.06-.94L8.5 2.5l-.94 2.06-2.06.94zm10 10l.94 2.06.94-2.06 2.06-.94-2.06-.94-.94-2.06-.94 2.06-2.06.94z\"/><path d=\"M17.41 7.96l-1.37-1.37c-.4-.4-.92-.59-1.43-.59-.52 0-1.04.2-1.43.59L10.3 9.45l-7.72 7.72c-.78.78-.78 2.05 0 2.83L4 21.41c.39.39.9.59 1.41.59.51 0 1.02-.2 1.41-.59l7.78-7.78 2.81-2.81c.8-.78.8-2.07 0-2.86zM5.41 20L4 18.59l7.72-7.72 1.47 1.35L5.41 20z\"/>\n",
              "  </svg>\n",
              "      </button>\n",
              "      \n",
              "  <style>\n",
              "    .colab-df-container {\n",
              "      display:flex;\n",
              "      flex-wrap:wrap;\n",
              "      gap: 12px;\n",
              "    }\n",
              "\n",
              "    .colab-df-convert {\n",
              "      background-color: #E8F0FE;\n",
              "      border: none;\n",
              "      border-radius: 50%;\n",
              "      cursor: pointer;\n",
              "      display: none;\n",
              "      fill: #1967D2;\n",
              "      height: 32px;\n",
              "      padding: 0 0 0 0;\n",
              "      width: 32px;\n",
              "    }\n",
              "\n",
              "    .colab-df-convert:hover {\n",
              "      background-color: #E2EBFA;\n",
              "      box-shadow: 0px 1px 2px rgba(60, 64, 67, 0.3), 0px 1px 3px 1px rgba(60, 64, 67, 0.15);\n",
              "      fill: #174EA6;\n",
              "    }\n",
              "\n",
              "    [theme=dark] .colab-df-convert {\n",
              "      background-color: #3B4455;\n",
              "      fill: #D2E3FC;\n",
              "    }\n",
              "\n",
              "    [theme=dark] .colab-df-convert:hover {\n",
              "      background-color: #434B5C;\n",
              "      box-shadow: 0px 1px 3px 1px rgba(0, 0, 0, 0.15);\n",
              "      filter: drop-shadow(0px 1px 2px rgba(0, 0, 0, 0.3));\n",
              "      fill: #FFFFFF;\n",
              "    }\n",
              "  </style>\n",
              "\n",
              "      <script>\n",
              "        const buttonEl =\n",
              "          document.querySelector('#df-6fd9182c-ccea-4c03-8206-d702946692a1 button.colab-df-convert');\n",
              "        buttonEl.style.display =\n",
              "          google.colab.kernel.accessAllowed ? 'block' : 'none';\n",
              "\n",
              "        async function convertToInteractive(key) {\n",
              "          const element = document.querySelector('#df-6fd9182c-ccea-4c03-8206-d702946692a1');\n",
              "          const dataTable =\n",
              "            await google.colab.kernel.invokeFunction('convertToInteractive',\n",
              "                                                     [key], {});\n",
              "          if (!dataTable) return;\n",
              "\n",
              "          const docLinkHtml = 'Like what you see? Visit the ' +\n",
              "            '<a target=\"_blank\" href=https://colab.research.google.com/notebooks/data_table.ipynb>data table notebook</a>'\n",
              "            + ' to learn more about interactive tables.';\n",
              "          element.innerHTML = '';\n",
              "          dataTable['output_type'] = 'display_data';\n",
              "          await google.colab.output.renderOutput(dataTable, element);\n",
              "          const docLink = document.createElement('div');\n",
              "          docLink.innerHTML = docLinkHtml;\n",
              "          element.appendChild(docLink);\n",
              "        }\n",
              "      </script>\n",
              "    </div>\n",
              "  </div>\n",
              "  "
            ]
          },
          "metadata": {},
          "execution_count": 10
        }
      ]
    },
    {
      "cell_type": "markdown",
      "source": [
        "\n",
        "1.2 Aplicar una codificación One-hot encoding a cada fila, tanto para variables numéricas como categóricas. Si lo consideran necesario, pueden volver a reducir el número de categorías únicas."
      ],
      "metadata": {
        "id": "aZTap0daclYE"
      }
    },
    {
      "cell_type": "markdown",
      "source": [
        "**La binarización (one-hot-encoding) consiste en crear nuevas variables dummy con cada uno de los niveles de las variables cualitativas. Por ejemplo, una variable llamada color que contenga los niveles rojo, verde y azul, se convertirá en tres nuevas variables (color_rojo, color_verde, color_azul), todas con el valor 0 excepto la que coincide con la observación, que toma el valor 1.**"
      ],
      "metadata": {
        "id": "muu_Iyy2tCfu"
      }
    },
    {
      "cell_type": "code",
      "source": [
        "#Imprimimos tipo de dato de cada columna\n",
        "df.dtypes"
      ],
      "metadata": {
        "colab": {
          "base_uri": "https://localhost:8080/"
        },
        "id": "oIqeL_E5-4YP",
        "outputId": "fc92dedf-1cd3-482c-b540-2055e6eecac8"
      },
      "execution_count": 11,
      "outputs": [
        {
          "output_type": "execute_result",
          "data": {
            "text/plain": [
              "Regionname                  object\n",
              "Suburb                      object\n",
              "Type                        object\n",
              "Car                        float64\n",
              "Price                      float64\n",
              "Postcode                   float64\n",
              "Rooms                        int64\n",
              "AirB_record_count          float64\n",
              "AirB_daily_price_mean      float64\n",
              "AirB_weekly_price_mean     float64\n",
              "AirB_monthly_price_mean    float64\n",
              "dtype: object"
            ]
          },
          "metadata": {},
          "execution_count": 11
        }
      ]
    },
    {
      "cell_type": "code",
      "source": [
        "#Imprimimos nombre de cada columna\n",
        "df.columns"
      ],
      "metadata": {
        "colab": {
          "base_uri": "https://localhost:8080/"
        },
        "id": "3-7IDNkrMjYt",
        "outputId": "3e3190ba-bb79-4051-a579-2a8b33ccc1d7"
      },
      "execution_count": 12,
      "outputs": [
        {
          "output_type": "execute_result",
          "data": {
            "text/plain": [
              "Index(['Regionname', 'Suburb', 'Type', 'Car', 'Price', 'Postcode', 'Rooms',\n",
              "       'AirB_record_count', 'AirB_daily_price_mean', 'AirB_weekly_price_mean',\n",
              "       'AirB_monthly_price_mean'],\n",
              "      dtype='object')"
            ]
          },
          "metadata": {},
          "execution_count": 12
        }
      ]
    },
    {
      "cell_type": "code",
      "source": [
        "#Separamos por variables categóricas y numéricas\n",
        "categorical_cols_i = ['Regionname','Suburb', 'Type']\n",
        "numerical_cols = ['Car', 'Price', 'Postcode', 'Rooms',\n",
        "        'AirB_record_count', 'AirB_daily_price_mean',\n",
        "       'AirB_weekly_price_mean', 'AirB_monthly_price_mean']"
      ],
      "metadata": {
        "id": "x2w9iJfbMc5J"
      },
      "execution_count": 13,
      "outputs": []
    },
    {
      "cell_type": "markdown",
      "source": [
        "Inspeccionamos las variables categóricas"
      ],
      "metadata": {
        "id": "VevhkMBUtR53"
      }
    },
    {
      "cell_type": "code",
      "source": [
        "#Imprimimos cantidad de categorías que toma cada variable categórica\n",
        "df[categorical_cols_i].nunique()"
      ],
      "metadata": {
        "colab": {
          "base_uri": "https://localhost:8080/"
        },
        "id": "Pu8tM01NOLCy",
        "outputId": "a3112e53-68b6-4920-bca6-7942c81e5169"
      },
      "execution_count": 14,
      "outputs": [
        {
          "output_type": "execute_result",
          "data": {
            "text/plain": [
              "Regionname      8\n",
              "Suburb        314\n",
              "Type            3\n",
              "dtype: int64"
            ]
          },
          "metadata": {},
          "execution_count": 14
        }
      ]
    },
    {
      "cell_type": "code",
      "source": [
        "#Imprimimos cantidad de valores que toma cada categoría de la variable Regionname\n",
        "df.value_counts('Regionname')\n"
      ],
      "metadata": {
        "colab": {
          "base_uri": "https://localhost:8080/"
        },
        "id": "ArRssuE9ZihQ",
        "outputId": "06c74d33-b1ef-4d74-af47-7d76cd7f8efd"
      },
      "execution_count": 15,
      "outputs": [
        {
          "output_type": "execute_result",
          "data": {
            "text/plain": [
              "Regionname\n",
              "Southern Metropolitan         8918\n",
              "Northern Metropolitan         7350\n",
              "Western Metropolitan          5575\n",
              "Eastern Metropolitan          2887\n",
              "South-Eastern Metropolitan     831\n",
              "Eastern Victoria                80\n",
              "Western Victoria                51\n",
              "Northern Victoria               48\n",
              "dtype: int64"
            ]
          },
          "metadata": {},
          "execution_count": 15
        }
      ]
    },
    {
      "cell_type": "code",
      "source": [
        "#Imprimimos cantidad de valores que toma cada categoría de la variable Suburb\n",
        "df.value_counts('Suburb')\n"
      ],
      "metadata": {
        "id": "r5FRXEQkrUok",
        "colab": {
          "base_uri": "https://localhost:8080/"
        },
        "outputId": "2725afba-3884-4ce7-b6bb-993ce7848f7e"
      },
      "execution_count": 16,
      "outputs": [
        {
          "output_type": "execute_result",
          "data": {
            "text/plain": [
              "Suburb\n",
              "Reservoir         716\n",
              "Richmond          508\n",
              "Bentleigh East    498\n",
              "Preston           476\n",
              "Brunswick         440\n",
              "                 ... \n",
              "Wallan              1\n",
              "Rockbank            1\n",
              "Hurstbridge         1\n",
              "Bacchus Marsh       1\n",
              "Plumpton            1\n",
              "Length: 314, dtype: int64"
            ]
          },
          "metadata": {},
          "execution_count": 16
        }
      ]
    },
    {
      "cell_type": "markdown",
      "source": [
        "Nota: El atributo 'Suburb' presenta más de 300 categorías, es por ellos que decidimos no codificarla."
      ],
      "metadata": {
        "id": "dg1xhnPED8VA"
      }
    },
    {
      "cell_type": "code",
      "source": [
        "#Imprimimos cantidad de valores que toma cada categoría de la variable Type\n",
        "df.value_counts('Type')\n"
      ],
      "metadata": {
        "colab": {
          "base_uri": "https://localhost:8080/"
        },
        "id": "4HU_2nbWrmk5",
        "outputId": "a2a2e8aa-2e9e-489d-8b5c-c7d948b6e2b9"
      },
      "execution_count": 17,
      "outputs": [
        {
          "output_type": "execute_result",
          "data": {
            "text/plain": [
              "Type\n",
              "h    17596\n",
              "u     5957\n",
              "t     2187\n",
              "dtype: int64"
            ]
          },
          "metadata": {},
          "execution_count": 17
        }
      ]
    },
    {
      "cell_type": "markdown",
      "source": [
        "Definimos nuevamente nuestras variables categóricas"
      ],
      "metadata": {
        "id": "5doLv6_zSak_"
      }
    },
    {
      "cell_type": "code",
      "source": [
        "categorical_cols = ['Regionname', 'Type']"
      ],
      "metadata": {
        "id": "gJIsjSmHSmJZ"
      },
      "execution_count": 18,
      "outputs": []
    },
    {
      "cell_type": "markdown",
      "source": [
        "#Método :  Codificación One-Hot Encoder\n",
        "\n"
      ],
      "metadata": {
        "id": "xioQKKAAQkCS"
      }
    },
    {
      "cell_type": "code",
      "source": [
        "# Creación de instancias del objeto OHE de codificadores de categoría \n",
        "ce_ohe = one_hot.OneHotEncoder(use_cat_names = True)"
      ],
      "metadata": {
        "id": "fDyUeXzn4--M"
      },
      "execution_count": 19,
      "outputs": []
    },
    {
      "cell_type": "code",
      "source": [
        "ce_dummies = ce_ohe.fit_transform(df[categorical_cols])"
      ],
      "metadata": {
        "id": "GUlMk6B5A6nx"
      },
      "execution_count": 20,
      "outputs": []
    },
    {
      "cell_type": "code",
      "source": [
        "ce_dummies "
      ],
      "metadata": {
        "colab": {
          "base_uri": "https://localhost:8080/",
          "height": 517
        },
        "id": "lLptjA8RBGvs",
        "outputId": "9c299f11-d739-4bf8-8802-187568ad3a70"
      },
      "execution_count": 21,
      "outputs": [
        {
          "output_type": "execute_result",
          "data": {
            "text/plain": [
              "       Regionname_Northern Metropolitan  Regionname_Western Metropolitan  \\\n",
              "0                                     1                                0   \n",
              "1                                     1                                0   \n",
              "2                                     1                                0   \n",
              "3                                     1                                0   \n",
              "4                                     1                                0   \n",
              "...                                 ...                              ...   \n",
              "25735                                 0                                1   \n",
              "25736                                 0                                1   \n",
              "25737                                 0                                1   \n",
              "25738                                 0                                1   \n",
              "25739                                 0                                1   \n",
              "\n",
              "       Regionname_Southern Metropolitan  Regionname_Eastern Metropolitan  \\\n",
              "0                                     0                                0   \n",
              "1                                     0                                0   \n",
              "2                                     0                                0   \n",
              "3                                     0                                0   \n",
              "4                                     0                                0   \n",
              "...                                 ...                              ...   \n",
              "25735                                 0                                0   \n",
              "25736                                 0                                0   \n",
              "25737                                 0                                0   \n",
              "25738                                 0                                0   \n",
              "25739                                 0                                0   \n",
              "\n",
              "       Regionname_South-Eastern Metropolitan  Regionname_Eastern Victoria  \\\n",
              "0                                          0                            0   \n",
              "1                                          0                            0   \n",
              "2                                          0                            0   \n",
              "3                                          0                            0   \n",
              "4                                          0                            0   \n",
              "...                                      ...                          ...   \n",
              "25735                                      0                            0   \n",
              "25736                                      0                            0   \n",
              "25737                                      0                            0   \n",
              "25738                                      0                            0   \n",
              "25739                                      0                            0   \n",
              "\n",
              "       Regionname_Northern Victoria  Regionname_Western Victoria  Type_h  \\\n",
              "0                                 0                            0       1   \n",
              "1                                 0                            0       1   \n",
              "2                                 0                            0       1   \n",
              "3                                 0                            0       1   \n",
              "4                                 0                            0       1   \n",
              "...                             ...                          ...     ...   \n",
              "25735                             0                            0       1   \n",
              "25736                             0                            0       1   \n",
              "25737                             0                            0       1   \n",
              "25738                             0                            0       1   \n",
              "25739                             0                            0       1   \n",
              "\n",
              "       Type_u  Type_t  \n",
              "0           0       0  \n",
              "1           0       0  \n",
              "2           0       0  \n",
              "3           0       0  \n",
              "4           0       0  \n",
              "...       ...     ...  \n",
              "25735       0       0  \n",
              "25736       0       0  \n",
              "25737       0       0  \n",
              "25738       0       0  \n",
              "25739       0       0  \n",
              "\n",
              "[25740 rows x 11 columns]"
            ],
            "text/html": [
              "\n",
              "  <div id=\"df-4c753ac0-617d-4c64-a028-d87be460fd75\">\n",
              "    <div class=\"colab-df-container\">\n",
              "      <div>\n",
              "<style scoped>\n",
              "    .dataframe tbody tr th:only-of-type {\n",
              "        vertical-align: middle;\n",
              "    }\n",
              "\n",
              "    .dataframe tbody tr th {\n",
              "        vertical-align: top;\n",
              "    }\n",
              "\n",
              "    .dataframe thead th {\n",
              "        text-align: right;\n",
              "    }\n",
              "</style>\n",
              "<table border=\"1\" class=\"dataframe\">\n",
              "  <thead>\n",
              "    <tr style=\"text-align: right;\">\n",
              "      <th></th>\n",
              "      <th>Regionname_Northern Metropolitan</th>\n",
              "      <th>Regionname_Western Metropolitan</th>\n",
              "      <th>Regionname_Southern Metropolitan</th>\n",
              "      <th>Regionname_Eastern Metropolitan</th>\n",
              "      <th>Regionname_South-Eastern Metropolitan</th>\n",
              "      <th>Regionname_Eastern Victoria</th>\n",
              "      <th>Regionname_Northern Victoria</th>\n",
              "      <th>Regionname_Western Victoria</th>\n",
              "      <th>Type_h</th>\n",
              "      <th>Type_u</th>\n",
              "      <th>Type_t</th>\n",
              "    </tr>\n",
              "  </thead>\n",
              "  <tbody>\n",
              "    <tr>\n",
              "      <th>0</th>\n",
              "      <td>1</td>\n",
              "      <td>0</td>\n",
              "      <td>0</td>\n",
              "      <td>0</td>\n",
              "      <td>0</td>\n",
              "      <td>0</td>\n",
              "      <td>0</td>\n",
              "      <td>0</td>\n",
              "      <td>1</td>\n",
              "      <td>0</td>\n",
              "      <td>0</td>\n",
              "    </tr>\n",
              "    <tr>\n",
              "      <th>1</th>\n",
              "      <td>1</td>\n",
              "      <td>0</td>\n",
              "      <td>0</td>\n",
              "      <td>0</td>\n",
              "      <td>0</td>\n",
              "      <td>0</td>\n",
              "      <td>0</td>\n",
              "      <td>0</td>\n",
              "      <td>1</td>\n",
              "      <td>0</td>\n",
              "      <td>0</td>\n",
              "    </tr>\n",
              "    <tr>\n",
              "      <th>2</th>\n",
              "      <td>1</td>\n",
              "      <td>0</td>\n",
              "      <td>0</td>\n",
              "      <td>0</td>\n",
              "      <td>0</td>\n",
              "      <td>0</td>\n",
              "      <td>0</td>\n",
              "      <td>0</td>\n",
              "      <td>1</td>\n",
              "      <td>0</td>\n",
              "      <td>0</td>\n",
              "    </tr>\n",
              "    <tr>\n",
              "      <th>3</th>\n",
              "      <td>1</td>\n",
              "      <td>0</td>\n",
              "      <td>0</td>\n",
              "      <td>0</td>\n",
              "      <td>0</td>\n",
              "      <td>0</td>\n",
              "      <td>0</td>\n",
              "      <td>0</td>\n",
              "      <td>1</td>\n",
              "      <td>0</td>\n",
              "      <td>0</td>\n",
              "    </tr>\n",
              "    <tr>\n",
              "      <th>4</th>\n",
              "      <td>1</td>\n",
              "      <td>0</td>\n",
              "      <td>0</td>\n",
              "      <td>0</td>\n",
              "      <td>0</td>\n",
              "      <td>0</td>\n",
              "      <td>0</td>\n",
              "      <td>0</td>\n",
              "      <td>1</td>\n",
              "      <td>0</td>\n",
              "      <td>0</td>\n",
              "    </tr>\n",
              "    <tr>\n",
              "      <th>...</th>\n",
              "      <td>...</td>\n",
              "      <td>...</td>\n",
              "      <td>...</td>\n",
              "      <td>...</td>\n",
              "      <td>...</td>\n",
              "      <td>...</td>\n",
              "      <td>...</td>\n",
              "      <td>...</td>\n",
              "      <td>...</td>\n",
              "      <td>...</td>\n",
              "      <td>...</td>\n",
              "    </tr>\n",
              "    <tr>\n",
              "      <th>25735</th>\n",
              "      <td>0</td>\n",
              "      <td>1</td>\n",
              "      <td>0</td>\n",
              "      <td>0</td>\n",
              "      <td>0</td>\n",
              "      <td>0</td>\n",
              "      <td>0</td>\n",
              "      <td>0</td>\n",
              "      <td>1</td>\n",
              "      <td>0</td>\n",
              "      <td>0</td>\n",
              "    </tr>\n",
              "    <tr>\n",
              "      <th>25736</th>\n",
              "      <td>0</td>\n",
              "      <td>1</td>\n",
              "      <td>0</td>\n",
              "      <td>0</td>\n",
              "      <td>0</td>\n",
              "      <td>0</td>\n",
              "      <td>0</td>\n",
              "      <td>0</td>\n",
              "      <td>1</td>\n",
              "      <td>0</td>\n",
              "      <td>0</td>\n",
              "    </tr>\n",
              "    <tr>\n",
              "      <th>25737</th>\n",
              "      <td>0</td>\n",
              "      <td>1</td>\n",
              "      <td>0</td>\n",
              "      <td>0</td>\n",
              "      <td>0</td>\n",
              "      <td>0</td>\n",
              "      <td>0</td>\n",
              "      <td>0</td>\n",
              "      <td>1</td>\n",
              "      <td>0</td>\n",
              "      <td>0</td>\n",
              "    </tr>\n",
              "    <tr>\n",
              "      <th>25738</th>\n",
              "      <td>0</td>\n",
              "      <td>1</td>\n",
              "      <td>0</td>\n",
              "      <td>0</td>\n",
              "      <td>0</td>\n",
              "      <td>0</td>\n",
              "      <td>0</td>\n",
              "      <td>0</td>\n",
              "      <td>1</td>\n",
              "      <td>0</td>\n",
              "      <td>0</td>\n",
              "    </tr>\n",
              "    <tr>\n",
              "      <th>25739</th>\n",
              "      <td>0</td>\n",
              "      <td>1</td>\n",
              "      <td>0</td>\n",
              "      <td>0</td>\n",
              "      <td>0</td>\n",
              "      <td>0</td>\n",
              "      <td>0</td>\n",
              "      <td>0</td>\n",
              "      <td>1</td>\n",
              "      <td>0</td>\n",
              "      <td>0</td>\n",
              "    </tr>\n",
              "  </tbody>\n",
              "</table>\n",
              "<p>25740 rows × 11 columns</p>\n",
              "</div>\n",
              "      <button class=\"colab-df-convert\" onclick=\"convertToInteractive('df-4c753ac0-617d-4c64-a028-d87be460fd75')\"\n",
              "              title=\"Convert this dataframe to an interactive table.\"\n",
              "              style=\"display:none;\">\n",
              "        \n",
              "  <svg xmlns=\"http://www.w3.org/2000/svg\" height=\"24px\"viewBox=\"0 0 24 24\"\n",
              "       width=\"24px\">\n",
              "    <path d=\"M0 0h24v24H0V0z\" fill=\"none\"/>\n",
              "    <path d=\"M18.56 5.44l.94 2.06.94-2.06 2.06-.94-2.06-.94-.94-2.06-.94 2.06-2.06.94zm-11 1L8.5 8.5l.94-2.06 2.06-.94-2.06-.94L8.5 2.5l-.94 2.06-2.06.94zm10 10l.94 2.06.94-2.06 2.06-.94-2.06-.94-.94-2.06-.94 2.06-2.06.94z\"/><path d=\"M17.41 7.96l-1.37-1.37c-.4-.4-.92-.59-1.43-.59-.52 0-1.04.2-1.43.59L10.3 9.45l-7.72 7.72c-.78.78-.78 2.05 0 2.83L4 21.41c.39.39.9.59 1.41.59.51 0 1.02-.2 1.41-.59l7.78-7.78 2.81-2.81c.8-.78.8-2.07 0-2.86zM5.41 20L4 18.59l7.72-7.72 1.47 1.35L5.41 20z\"/>\n",
              "  </svg>\n",
              "      </button>\n",
              "      \n",
              "  <style>\n",
              "    .colab-df-container {\n",
              "      display:flex;\n",
              "      flex-wrap:wrap;\n",
              "      gap: 12px;\n",
              "    }\n",
              "\n",
              "    .colab-df-convert {\n",
              "      background-color: #E8F0FE;\n",
              "      border: none;\n",
              "      border-radius: 50%;\n",
              "      cursor: pointer;\n",
              "      display: none;\n",
              "      fill: #1967D2;\n",
              "      height: 32px;\n",
              "      padding: 0 0 0 0;\n",
              "      width: 32px;\n",
              "    }\n",
              "\n",
              "    .colab-df-convert:hover {\n",
              "      background-color: #E2EBFA;\n",
              "      box-shadow: 0px 1px 2px rgba(60, 64, 67, 0.3), 0px 1px 3px 1px rgba(60, 64, 67, 0.15);\n",
              "      fill: #174EA6;\n",
              "    }\n",
              "\n",
              "    [theme=dark] .colab-df-convert {\n",
              "      background-color: #3B4455;\n",
              "      fill: #D2E3FC;\n",
              "    }\n",
              "\n",
              "    [theme=dark] .colab-df-convert:hover {\n",
              "      background-color: #434B5C;\n",
              "      box-shadow: 0px 1px 3px 1px rgba(0, 0, 0, 0.15);\n",
              "      filter: drop-shadow(0px 1px 2px rgba(0, 0, 0, 0.3));\n",
              "      fill: #FFFFFF;\n",
              "    }\n",
              "  </style>\n",
              "\n",
              "      <script>\n",
              "        const buttonEl =\n",
              "          document.querySelector('#df-4c753ac0-617d-4c64-a028-d87be460fd75 button.colab-df-convert');\n",
              "        buttonEl.style.display =\n",
              "          google.colab.kernel.accessAllowed ? 'block' : 'none';\n",
              "\n",
              "        async function convertToInteractive(key) {\n",
              "          const element = document.querySelector('#df-4c753ac0-617d-4c64-a028-d87be460fd75');\n",
              "          const dataTable =\n",
              "            await google.colab.kernel.invokeFunction('convertToInteractive',\n",
              "                                                     [key], {});\n",
              "          if (!dataTable) return;\n",
              "\n",
              "          const docLinkHtml = 'Like what you see? Visit the ' +\n",
              "            '<a target=\"_blank\" href=https://colab.research.google.com/notebooks/data_table.ipynb>data table notebook</a>'\n",
              "            + ' to learn more about interactive tables.';\n",
              "          element.innerHTML = '';\n",
              "          dataTable['output_type'] = 'display_data';\n",
              "          await google.colab.output.renderOutput(dataTable, element);\n",
              "          const docLink = document.createElement('div');\n",
              "          docLink.innerHTML = docLinkHtml;\n",
              "          element.appendChild(docLink);\n",
              "        }\n",
              "      </script>\n",
              "    </div>\n",
              "  </div>\n",
              "  "
            ]
          },
          "metadata": {},
          "execution_count": 21
        }
      ]
    },
    {
      "cell_type": "code",
      "source": [
        "# Eliminamos las variables categóricas\n",
        "df = df.drop(columns=['Regionname', 'Type'])"
      ],
      "metadata": {
        "id": "79i8IRXPHIlo"
      },
      "execution_count": 22,
      "outputs": []
    },
    {
      "cell_type": "code",
      "source": [
        "df_new = pd.concat([ce_dummies,df], axis = 1)"
      ],
      "metadata": {
        "id": "DcOOJMywH587"
      },
      "execution_count": 23,
      "outputs": []
    },
    {
      "cell_type": "code",
      "source": [
        "df_new"
      ],
      "metadata": {
        "colab": {
          "base_uri": "https://localhost:8080/",
          "height": 517
        },
        "id": "YFO5Z7koIdNH",
        "outputId": "1bc8d074-c003-488b-8a2d-e66c00a2b100"
      },
      "execution_count": 24,
      "outputs": [
        {
          "output_type": "execute_result",
          "data": {
            "text/plain": [
              "       Regionname_Northern Metropolitan  Regionname_Western Metropolitan  \\\n",
              "0                                     1                                0   \n",
              "1                                     1                                0   \n",
              "2                                     1                                0   \n",
              "3                                     1                                0   \n",
              "4                                     1                                0   \n",
              "...                                 ...                              ...   \n",
              "25735                                 0                                1   \n",
              "25736                                 0                                1   \n",
              "25737                                 0                                1   \n",
              "25738                                 0                                1   \n",
              "25739                                 0                                1   \n",
              "\n",
              "       Regionname_Southern Metropolitan  Regionname_Eastern Metropolitan  \\\n",
              "0                                     0                                0   \n",
              "1                                     0                                0   \n",
              "2                                     0                                0   \n",
              "3                                     0                                0   \n",
              "4                                     0                                0   \n",
              "...                                 ...                              ...   \n",
              "25735                                 0                                0   \n",
              "25736                                 0                                0   \n",
              "25737                                 0                                0   \n",
              "25738                                 0                                0   \n",
              "25739                                 0                                0   \n",
              "\n",
              "       Regionname_South-Eastern Metropolitan  Regionname_Eastern Victoria  \\\n",
              "0                                          0                            0   \n",
              "1                                          0                            0   \n",
              "2                                          0                            0   \n",
              "3                                          0                            0   \n",
              "4                                          0                            0   \n",
              "...                                      ...                          ...   \n",
              "25735                                      0                            0   \n",
              "25736                                      0                            0   \n",
              "25737                                      0                            0   \n",
              "25738                                      0                            0   \n",
              "25739                                      0                            0   \n",
              "\n",
              "       Regionname_Northern Victoria  Regionname_Western Victoria  Type_h  \\\n",
              "0                                 0                            0       1   \n",
              "1                                 0                            0       1   \n",
              "2                                 0                            0       1   \n",
              "3                                 0                            0       1   \n",
              "4                                 0                            0       1   \n",
              "...                             ...                          ...     ...   \n",
              "25735                             0                            0       1   \n",
              "25736                             0                            0       1   \n",
              "25737                             0                            0       1   \n",
              "25738                             0                            0       1   \n",
              "25739                             0                            0       1   \n",
              "\n",
              "       Type_u  Type_t        Suburb  Car      Price  Postcode  Rooms  \\\n",
              "0           0       0    Abbotsford  1.0  1480000.0    3067.0      2   \n",
              "1           0       0    Abbotsford  1.0  1480000.0    3067.0      2   \n",
              "2           0       0    Abbotsford  0.0  1035000.0    3067.0      2   \n",
              "3           0       0    Abbotsford  0.0  1035000.0    3067.0      2   \n",
              "4           0       0    Abbotsford  0.0  1465000.0    3067.0      3   \n",
              "...       ...     ...           ...  ...        ...       ...    ...   \n",
              "25735       0       0  Williamstown  4.0  1170000.0    3016.0      3   \n",
              "25736       0       0  Williamstown  5.0  2500000.0    3016.0      4   \n",
              "25737       0       0  Williamstown  5.0  2500000.0    3016.0      4   \n",
              "25738       0       0    Yarraville  1.0  1285000.0    3013.0      4   \n",
              "25739       0       0    Yarraville  1.0  1285000.0    3013.0      4   \n",
              "\n",
              "       AirB_record_count  AirB_daily_price_mean  AirB_weekly_price_mean  \\\n",
              "0                  157.0             140.292994              236.250000   \n",
              "1                  101.0             115.594059              735.352941   \n",
              "2                  157.0             140.292994              236.250000   \n",
              "3                  101.0             115.594059              735.352941   \n",
              "4                  157.0             140.292994              236.250000   \n",
              "...                  ...                    ...                     ...   \n",
              "25735               20.0             167.200000              633.000000   \n",
              "25736               54.0             199.944444              550.000000   \n",
              "25737               20.0             167.200000              633.000000   \n",
              "25738               42.0             127.523810                     NaN   \n",
              "25739               40.0             144.100000              923.571429   \n",
              "\n",
              "       AirB_monthly_price_mean  \n",
              "0                   956.363636  \n",
              "1                  2863.900000  \n",
              "2                   956.363636  \n",
              "3                  2863.900000  \n",
              "4                   956.363636  \n",
              "...                        ...  \n",
              "25735              2163.000000  \n",
              "25736              1990.000000  \n",
              "25737              2163.000000  \n",
              "25738                      NaN  \n",
              "25739              2966.090909  \n",
              "\n",
              "[25740 rows x 20 columns]"
            ],
            "text/html": [
              "\n",
              "  <div id=\"df-60b8c680-ae07-4f7e-b102-7ab1af7a2435\">\n",
              "    <div class=\"colab-df-container\">\n",
              "      <div>\n",
              "<style scoped>\n",
              "    .dataframe tbody tr th:only-of-type {\n",
              "        vertical-align: middle;\n",
              "    }\n",
              "\n",
              "    .dataframe tbody tr th {\n",
              "        vertical-align: top;\n",
              "    }\n",
              "\n",
              "    .dataframe thead th {\n",
              "        text-align: right;\n",
              "    }\n",
              "</style>\n",
              "<table border=\"1\" class=\"dataframe\">\n",
              "  <thead>\n",
              "    <tr style=\"text-align: right;\">\n",
              "      <th></th>\n",
              "      <th>Regionname_Northern Metropolitan</th>\n",
              "      <th>Regionname_Western Metropolitan</th>\n",
              "      <th>Regionname_Southern Metropolitan</th>\n",
              "      <th>Regionname_Eastern Metropolitan</th>\n",
              "      <th>Regionname_South-Eastern Metropolitan</th>\n",
              "      <th>Regionname_Eastern Victoria</th>\n",
              "      <th>Regionname_Northern Victoria</th>\n",
              "      <th>Regionname_Western Victoria</th>\n",
              "      <th>Type_h</th>\n",
              "      <th>Type_u</th>\n",
              "      <th>Type_t</th>\n",
              "      <th>Suburb</th>\n",
              "      <th>Car</th>\n",
              "      <th>Price</th>\n",
              "      <th>Postcode</th>\n",
              "      <th>Rooms</th>\n",
              "      <th>AirB_record_count</th>\n",
              "      <th>AirB_daily_price_mean</th>\n",
              "      <th>AirB_weekly_price_mean</th>\n",
              "      <th>AirB_monthly_price_mean</th>\n",
              "    </tr>\n",
              "  </thead>\n",
              "  <tbody>\n",
              "    <tr>\n",
              "      <th>0</th>\n",
              "      <td>1</td>\n",
              "      <td>0</td>\n",
              "      <td>0</td>\n",
              "      <td>0</td>\n",
              "      <td>0</td>\n",
              "      <td>0</td>\n",
              "      <td>0</td>\n",
              "      <td>0</td>\n",
              "      <td>1</td>\n",
              "      <td>0</td>\n",
              "      <td>0</td>\n",
              "      <td>Abbotsford</td>\n",
              "      <td>1.0</td>\n",
              "      <td>1480000.0</td>\n",
              "      <td>3067.0</td>\n",
              "      <td>2</td>\n",
              "      <td>157.0</td>\n",
              "      <td>140.292994</td>\n",
              "      <td>236.250000</td>\n",
              "      <td>956.363636</td>\n",
              "    </tr>\n",
              "    <tr>\n",
              "      <th>1</th>\n",
              "      <td>1</td>\n",
              "      <td>0</td>\n",
              "      <td>0</td>\n",
              "      <td>0</td>\n",
              "      <td>0</td>\n",
              "      <td>0</td>\n",
              "      <td>0</td>\n",
              "      <td>0</td>\n",
              "      <td>1</td>\n",
              "      <td>0</td>\n",
              "      <td>0</td>\n",
              "      <td>Abbotsford</td>\n",
              "      <td>1.0</td>\n",
              "      <td>1480000.0</td>\n",
              "      <td>3067.0</td>\n",
              "      <td>2</td>\n",
              "      <td>101.0</td>\n",
              "      <td>115.594059</td>\n",
              "      <td>735.352941</td>\n",
              "      <td>2863.900000</td>\n",
              "    </tr>\n",
              "    <tr>\n",
              "      <th>2</th>\n",
              "      <td>1</td>\n",
              "      <td>0</td>\n",
              "      <td>0</td>\n",
              "      <td>0</td>\n",
              "      <td>0</td>\n",
              "      <td>0</td>\n",
              "      <td>0</td>\n",
              "      <td>0</td>\n",
              "      <td>1</td>\n",
              "      <td>0</td>\n",
              "      <td>0</td>\n",
              "      <td>Abbotsford</td>\n",
              "      <td>0.0</td>\n",
              "      <td>1035000.0</td>\n",
              "      <td>3067.0</td>\n",
              "      <td>2</td>\n",
              "      <td>157.0</td>\n",
              "      <td>140.292994</td>\n",
              "      <td>236.250000</td>\n",
              "      <td>956.363636</td>\n",
              "    </tr>\n",
              "    <tr>\n",
              "      <th>3</th>\n",
              "      <td>1</td>\n",
              "      <td>0</td>\n",
              "      <td>0</td>\n",
              "      <td>0</td>\n",
              "      <td>0</td>\n",
              "      <td>0</td>\n",
              "      <td>0</td>\n",
              "      <td>0</td>\n",
              "      <td>1</td>\n",
              "      <td>0</td>\n",
              "      <td>0</td>\n",
              "      <td>Abbotsford</td>\n",
              "      <td>0.0</td>\n",
              "      <td>1035000.0</td>\n",
              "      <td>3067.0</td>\n",
              "      <td>2</td>\n",
              "      <td>101.0</td>\n",
              "      <td>115.594059</td>\n",
              "      <td>735.352941</td>\n",
              "      <td>2863.900000</td>\n",
              "    </tr>\n",
              "    <tr>\n",
              "      <th>4</th>\n",
              "      <td>1</td>\n",
              "      <td>0</td>\n",
              "      <td>0</td>\n",
              "      <td>0</td>\n",
              "      <td>0</td>\n",
              "      <td>0</td>\n",
              "      <td>0</td>\n",
              "      <td>0</td>\n",
              "      <td>1</td>\n",
              "      <td>0</td>\n",
              "      <td>0</td>\n",
              "      <td>Abbotsford</td>\n",
              "      <td>0.0</td>\n",
              "      <td>1465000.0</td>\n",
              "      <td>3067.0</td>\n",
              "      <td>3</td>\n",
              "      <td>157.0</td>\n",
              "      <td>140.292994</td>\n",
              "      <td>236.250000</td>\n",
              "      <td>956.363636</td>\n",
              "    </tr>\n",
              "    <tr>\n",
              "      <th>...</th>\n",
              "      <td>...</td>\n",
              "      <td>...</td>\n",
              "      <td>...</td>\n",
              "      <td>...</td>\n",
              "      <td>...</td>\n",
              "      <td>...</td>\n",
              "      <td>...</td>\n",
              "      <td>...</td>\n",
              "      <td>...</td>\n",
              "      <td>...</td>\n",
              "      <td>...</td>\n",
              "      <td>...</td>\n",
              "      <td>...</td>\n",
              "      <td>...</td>\n",
              "      <td>...</td>\n",
              "      <td>...</td>\n",
              "      <td>...</td>\n",
              "      <td>...</td>\n",
              "      <td>...</td>\n",
              "      <td>...</td>\n",
              "    </tr>\n",
              "    <tr>\n",
              "      <th>25735</th>\n",
              "      <td>0</td>\n",
              "      <td>1</td>\n",
              "      <td>0</td>\n",
              "      <td>0</td>\n",
              "      <td>0</td>\n",
              "      <td>0</td>\n",
              "      <td>0</td>\n",
              "      <td>0</td>\n",
              "      <td>1</td>\n",
              "      <td>0</td>\n",
              "      <td>0</td>\n",
              "      <td>Williamstown</td>\n",
              "      <td>4.0</td>\n",
              "      <td>1170000.0</td>\n",
              "      <td>3016.0</td>\n",
              "      <td>3</td>\n",
              "      <td>20.0</td>\n",
              "      <td>167.200000</td>\n",
              "      <td>633.000000</td>\n",
              "      <td>2163.000000</td>\n",
              "    </tr>\n",
              "    <tr>\n",
              "      <th>25736</th>\n",
              "      <td>0</td>\n",
              "      <td>1</td>\n",
              "      <td>0</td>\n",
              "      <td>0</td>\n",
              "      <td>0</td>\n",
              "      <td>0</td>\n",
              "      <td>0</td>\n",
              "      <td>0</td>\n",
              "      <td>1</td>\n",
              "      <td>0</td>\n",
              "      <td>0</td>\n",
              "      <td>Williamstown</td>\n",
              "      <td>5.0</td>\n",
              "      <td>2500000.0</td>\n",
              "      <td>3016.0</td>\n",
              "      <td>4</td>\n",
              "      <td>54.0</td>\n",
              "      <td>199.944444</td>\n",
              "      <td>550.000000</td>\n",
              "      <td>1990.000000</td>\n",
              "    </tr>\n",
              "    <tr>\n",
              "      <th>25737</th>\n",
              "      <td>0</td>\n",
              "      <td>1</td>\n",
              "      <td>0</td>\n",
              "      <td>0</td>\n",
              "      <td>0</td>\n",
              "      <td>0</td>\n",
              "      <td>0</td>\n",
              "      <td>0</td>\n",
              "      <td>1</td>\n",
              "      <td>0</td>\n",
              "      <td>0</td>\n",
              "      <td>Williamstown</td>\n",
              "      <td>5.0</td>\n",
              "      <td>2500000.0</td>\n",
              "      <td>3016.0</td>\n",
              "      <td>4</td>\n",
              "      <td>20.0</td>\n",
              "      <td>167.200000</td>\n",
              "      <td>633.000000</td>\n",
              "      <td>2163.000000</td>\n",
              "    </tr>\n",
              "    <tr>\n",
              "      <th>25738</th>\n",
              "      <td>0</td>\n",
              "      <td>1</td>\n",
              "      <td>0</td>\n",
              "      <td>0</td>\n",
              "      <td>0</td>\n",
              "      <td>0</td>\n",
              "      <td>0</td>\n",
              "      <td>0</td>\n",
              "      <td>1</td>\n",
              "      <td>0</td>\n",
              "      <td>0</td>\n",
              "      <td>Yarraville</td>\n",
              "      <td>1.0</td>\n",
              "      <td>1285000.0</td>\n",
              "      <td>3013.0</td>\n",
              "      <td>4</td>\n",
              "      <td>42.0</td>\n",
              "      <td>127.523810</td>\n",
              "      <td>NaN</td>\n",
              "      <td>NaN</td>\n",
              "    </tr>\n",
              "    <tr>\n",
              "      <th>25739</th>\n",
              "      <td>0</td>\n",
              "      <td>1</td>\n",
              "      <td>0</td>\n",
              "      <td>0</td>\n",
              "      <td>0</td>\n",
              "      <td>0</td>\n",
              "      <td>0</td>\n",
              "      <td>0</td>\n",
              "      <td>1</td>\n",
              "      <td>0</td>\n",
              "      <td>0</td>\n",
              "      <td>Yarraville</td>\n",
              "      <td>1.0</td>\n",
              "      <td>1285000.0</td>\n",
              "      <td>3013.0</td>\n",
              "      <td>4</td>\n",
              "      <td>40.0</td>\n",
              "      <td>144.100000</td>\n",
              "      <td>923.571429</td>\n",
              "      <td>2966.090909</td>\n",
              "    </tr>\n",
              "  </tbody>\n",
              "</table>\n",
              "<p>25740 rows × 20 columns</p>\n",
              "</div>\n",
              "      <button class=\"colab-df-convert\" onclick=\"convertToInteractive('df-60b8c680-ae07-4f7e-b102-7ab1af7a2435')\"\n",
              "              title=\"Convert this dataframe to an interactive table.\"\n",
              "              style=\"display:none;\">\n",
              "        \n",
              "  <svg xmlns=\"http://www.w3.org/2000/svg\" height=\"24px\"viewBox=\"0 0 24 24\"\n",
              "       width=\"24px\">\n",
              "    <path d=\"M0 0h24v24H0V0z\" fill=\"none\"/>\n",
              "    <path d=\"M18.56 5.44l.94 2.06.94-2.06 2.06-.94-2.06-.94-.94-2.06-.94 2.06-2.06.94zm-11 1L8.5 8.5l.94-2.06 2.06-.94-2.06-.94L8.5 2.5l-.94 2.06-2.06.94zm10 10l.94 2.06.94-2.06 2.06-.94-2.06-.94-.94-2.06-.94 2.06-2.06.94z\"/><path d=\"M17.41 7.96l-1.37-1.37c-.4-.4-.92-.59-1.43-.59-.52 0-1.04.2-1.43.59L10.3 9.45l-7.72 7.72c-.78.78-.78 2.05 0 2.83L4 21.41c.39.39.9.59 1.41.59.51 0 1.02-.2 1.41-.59l7.78-7.78 2.81-2.81c.8-.78.8-2.07 0-2.86zM5.41 20L4 18.59l7.72-7.72 1.47 1.35L5.41 20z\"/>\n",
              "  </svg>\n",
              "      </button>\n",
              "      \n",
              "  <style>\n",
              "    .colab-df-container {\n",
              "      display:flex;\n",
              "      flex-wrap:wrap;\n",
              "      gap: 12px;\n",
              "    }\n",
              "\n",
              "    .colab-df-convert {\n",
              "      background-color: #E8F0FE;\n",
              "      border: none;\n",
              "      border-radius: 50%;\n",
              "      cursor: pointer;\n",
              "      display: none;\n",
              "      fill: #1967D2;\n",
              "      height: 32px;\n",
              "      padding: 0 0 0 0;\n",
              "      width: 32px;\n",
              "    }\n",
              "\n",
              "    .colab-df-convert:hover {\n",
              "      background-color: #E2EBFA;\n",
              "      box-shadow: 0px 1px 2px rgba(60, 64, 67, 0.3), 0px 1px 3px 1px rgba(60, 64, 67, 0.15);\n",
              "      fill: #174EA6;\n",
              "    }\n",
              "\n",
              "    [theme=dark] .colab-df-convert {\n",
              "      background-color: #3B4455;\n",
              "      fill: #D2E3FC;\n",
              "    }\n",
              "\n",
              "    [theme=dark] .colab-df-convert:hover {\n",
              "      background-color: #434B5C;\n",
              "      box-shadow: 0px 1px 3px 1px rgba(0, 0, 0, 0.15);\n",
              "      filter: drop-shadow(0px 1px 2px rgba(0, 0, 0, 0.3));\n",
              "      fill: #FFFFFF;\n",
              "    }\n",
              "  </style>\n",
              "\n",
              "      <script>\n",
              "        const buttonEl =\n",
              "          document.querySelector('#df-60b8c680-ae07-4f7e-b102-7ab1af7a2435 button.colab-df-convert');\n",
              "        buttonEl.style.display =\n",
              "          google.colab.kernel.accessAllowed ? 'block' : 'none';\n",
              "\n",
              "        async function convertToInteractive(key) {\n",
              "          const element = document.querySelector('#df-60b8c680-ae07-4f7e-b102-7ab1af7a2435');\n",
              "          const dataTable =\n",
              "            await google.colab.kernel.invokeFunction('convertToInteractive',\n",
              "                                                     [key], {});\n",
              "          if (!dataTable) return;\n",
              "\n",
              "          const docLinkHtml = 'Like what you see? Visit the ' +\n",
              "            '<a target=\"_blank\" href=https://colab.research.google.com/notebooks/data_table.ipynb>data table notebook</a>'\n",
              "            + ' to learn more about interactive tables.';\n",
              "          element.innerHTML = '';\n",
              "          dataTable['output_type'] = 'display_data';\n",
              "          await google.colab.output.renderOutput(dataTable, element);\n",
              "          const docLink = document.createElement('div');\n",
              "          docLink.innerHTML = docLinkHtml;\n",
              "          element.appendChild(docLink);\n",
              "        }\n",
              "      </script>\n",
              "    </div>\n",
              "  </div>\n",
              "  "
            ]
          },
          "metadata": {},
          "execution_count": 24
        }
      ]
    },
    {
      "cell_type": "markdown",
      "metadata": {
        "id": "ismngxPcfoWb"
      },
      "source": [
        "## Ejercicio 2: Imputación por KNN\n",
        "\n",
        "En el teórico se presentó el método `IterativeImputer` para imputar valores faltantes en variables numéricas. Sin embargo, los ejemplos presentados sólo utilizaban algunas variables numéricas presentes en el conjunto de datos. En este ejercicio, utilizaremos la matriz de datos codificada para imputar datos faltantes de manera más precisa.\n",
        "\n",
        "1. Agregue a la matriz obtenida en el punto anterior las columnas `YearBuilt` y `BuildingArea`.\n",
        "2. Aplique una instancia de `IterativeImputer` con un estimador `KNeighborsRegressor` para imputar los valores de las variables. ¿Es necesario estandarizar o escalar los datos previamente?\n",
        "3. Realice un gráfico mostrando la distribución de cada variable antes de ser imputada, y con ambos métodos de imputación."
      ]
    },
    {
      "cell_type": "markdown",
      "source": [
        "#**RESOLUCIÓN EJERCICIO 2**"
      ],
      "metadata": {
        "id": "GvfH6a7qLZBb"
      }
    },
    {
      "cell_type": "markdown",
      "source": [
        "2.1 Agregue a la matriz obtenida en el punto anterior las columnas `YearBuilt` y `BuildingArea`."
      ],
      "metadata": {
        "id": "8ip-6vwpM95b"
      }
    },
    {
      "cell_type": "code",
      "source": [
        "df_ = airmelb[['YearBuilt','BuildingArea']]"
      ],
      "metadata": {
        "id": "qbrTJCgTMFjw"
      },
      "execution_count": 26,
      "outputs": []
    },
    {
      "cell_type": "code",
      "source": [
        "# Añadimos el dataframe creado en el punto anterior a\n",
        "#  df_ (dataframe que contenía las variables 'YearBuilt' y 'BuildingArea')\n",
        "df_ = pd.concat([df_, df_new], axis = 1)"
      ],
      "metadata": {
        "id": "mCzq14NoMdBw"
      },
      "execution_count": 27,
      "outputs": []
    },
    {
      "cell_type": "code",
      "source": [
        "#Imprimimos dataframe unido\n",
        "df_"
      ],
      "metadata": {
        "colab": {
          "base_uri": "https://localhost:8080/",
          "height": 517
        },
        "id": "e0a3j8G-N1wE",
        "outputId": "2668433d-21ca-43f9-9591-e82cd9927caa"
      },
      "execution_count": 28,
      "outputs": [
        {
          "output_type": "execute_result",
          "data": {
            "text/plain": [
              "       YearBuilt  BuildingArea  Regionname_Northern Metropolitan  \\\n",
              "0            NaN           NaN                                 1   \n",
              "1            NaN           NaN                                 1   \n",
              "2         1900.0          79.0                                 1   \n",
              "3         1900.0          79.0                                 1   \n",
              "4         1900.0         150.0                                 1   \n",
              "...          ...           ...                               ...   \n",
              "25735     1997.0           NaN                                 0   \n",
              "25736     1920.0         157.0                                 0   \n",
              "25737     1920.0         157.0                                 0   \n",
              "25738     1920.0         112.0                                 0   \n",
              "25739     1920.0         112.0                                 0   \n",
              "\n",
              "       Regionname_Western Metropolitan  Regionname_Southern Metropolitan  \\\n",
              "0                                    0                                 0   \n",
              "1                                    0                                 0   \n",
              "2                                    0                                 0   \n",
              "3                                    0                                 0   \n",
              "4                                    0                                 0   \n",
              "...                                ...                               ...   \n",
              "25735                                1                                 0   \n",
              "25736                                1                                 0   \n",
              "25737                                1                                 0   \n",
              "25738                                1                                 0   \n",
              "25739                                1                                 0   \n",
              "\n",
              "       Regionname_Eastern Metropolitan  Regionname_South-Eastern Metropolitan  \\\n",
              "0                                    0                                      0   \n",
              "1                                    0                                      0   \n",
              "2                                    0                                      0   \n",
              "3                                    0                                      0   \n",
              "4                                    0                                      0   \n",
              "...                                ...                                    ...   \n",
              "25735                                0                                      0   \n",
              "25736                                0                                      0   \n",
              "25737                                0                                      0   \n",
              "25738                                0                                      0   \n",
              "25739                                0                                      0   \n",
              "\n",
              "       Regionname_Eastern Victoria  Regionname_Northern Victoria  \\\n",
              "0                                0                             0   \n",
              "1                                0                             0   \n",
              "2                                0                             0   \n",
              "3                                0                             0   \n",
              "4                                0                             0   \n",
              "...                            ...                           ...   \n",
              "25735                            0                             0   \n",
              "25736                            0                             0   \n",
              "25737                            0                             0   \n",
              "25738                            0                             0   \n",
              "25739                            0                             0   \n",
              "\n",
              "       Regionname_Western Victoria  ...  Type_t        Suburb  Car      Price  \\\n",
              "0                                0  ...       0    Abbotsford  1.0  1480000.0   \n",
              "1                                0  ...       0    Abbotsford  1.0  1480000.0   \n",
              "2                                0  ...       0    Abbotsford  0.0  1035000.0   \n",
              "3                                0  ...       0    Abbotsford  0.0  1035000.0   \n",
              "4                                0  ...       0    Abbotsford  0.0  1465000.0   \n",
              "...                            ...  ...     ...           ...  ...        ...   \n",
              "25735                            0  ...       0  Williamstown  4.0  1170000.0   \n",
              "25736                            0  ...       0  Williamstown  5.0  2500000.0   \n",
              "25737                            0  ...       0  Williamstown  5.0  2500000.0   \n",
              "25738                            0  ...       0    Yarraville  1.0  1285000.0   \n",
              "25739                            0  ...       0    Yarraville  1.0  1285000.0   \n",
              "\n",
              "       Postcode  Rooms  AirB_record_count  AirB_daily_price_mean  \\\n",
              "0        3067.0      2              157.0             140.292994   \n",
              "1        3067.0      2              101.0             115.594059   \n",
              "2        3067.0      2              157.0             140.292994   \n",
              "3        3067.0      2              101.0             115.594059   \n",
              "4        3067.0      3              157.0             140.292994   \n",
              "...         ...    ...                ...                    ...   \n",
              "25735    3016.0      3               20.0             167.200000   \n",
              "25736    3016.0      4               54.0             199.944444   \n",
              "25737    3016.0      4               20.0             167.200000   \n",
              "25738    3013.0      4               42.0             127.523810   \n",
              "25739    3013.0      4               40.0             144.100000   \n",
              "\n",
              "       AirB_weekly_price_mean  AirB_monthly_price_mean  \n",
              "0                  236.250000               956.363636  \n",
              "1                  735.352941              2863.900000  \n",
              "2                  236.250000               956.363636  \n",
              "3                  735.352941              2863.900000  \n",
              "4                  236.250000               956.363636  \n",
              "...                       ...                      ...  \n",
              "25735              633.000000              2163.000000  \n",
              "25736              550.000000              1990.000000  \n",
              "25737              633.000000              2163.000000  \n",
              "25738                     NaN                      NaN  \n",
              "25739              923.571429              2966.090909  \n",
              "\n",
              "[25740 rows x 22 columns]"
            ],
            "text/html": [
              "\n",
              "  <div id=\"df-d2dcb9e7-ea62-4604-83a8-9904d2ddbca4\">\n",
              "    <div class=\"colab-df-container\">\n",
              "      <div>\n",
              "<style scoped>\n",
              "    .dataframe tbody tr th:only-of-type {\n",
              "        vertical-align: middle;\n",
              "    }\n",
              "\n",
              "    .dataframe tbody tr th {\n",
              "        vertical-align: top;\n",
              "    }\n",
              "\n",
              "    .dataframe thead th {\n",
              "        text-align: right;\n",
              "    }\n",
              "</style>\n",
              "<table border=\"1\" class=\"dataframe\">\n",
              "  <thead>\n",
              "    <tr style=\"text-align: right;\">\n",
              "      <th></th>\n",
              "      <th>YearBuilt</th>\n",
              "      <th>BuildingArea</th>\n",
              "      <th>Regionname_Northern Metropolitan</th>\n",
              "      <th>Regionname_Western Metropolitan</th>\n",
              "      <th>Regionname_Southern Metropolitan</th>\n",
              "      <th>Regionname_Eastern Metropolitan</th>\n",
              "      <th>Regionname_South-Eastern Metropolitan</th>\n",
              "      <th>Regionname_Eastern Victoria</th>\n",
              "      <th>Regionname_Northern Victoria</th>\n",
              "      <th>Regionname_Western Victoria</th>\n",
              "      <th>...</th>\n",
              "      <th>Type_t</th>\n",
              "      <th>Suburb</th>\n",
              "      <th>Car</th>\n",
              "      <th>Price</th>\n",
              "      <th>Postcode</th>\n",
              "      <th>Rooms</th>\n",
              "      <th>AirB_record_count</th>\n",
              "      <th>AirB_daily_price_mean</th>\n",
              "      <th>AirB_weekly_price_mean</th>\n",
              "      <th>AirB_monthly_price_mean</th>\n",
              "    </tr>\n",
              "  </thead>\n",
              "  <tbody>\n",
              "    <tr>\n",
              "      <th>0</th>\n",
              "      <td>NaN</td>\n",
              "      <td>NaN</td>\n",
              "      <td>1</td>\n",
              "      <td>0</td>\n",
              "      <td>0</td>\n",
              "      <td>0</td>\n",
              "      <td>0</td>\n",
              "      <td>0</td>\n",
              "      <td>0</td>\n",
              "      <td>0</td>\n",
              "      <td>...</td>\n",
              "      <td>0</td>\n",
              "      <td>Abbotsford</td>\n",
              "      <td>1.0</td>\n",
              "      <td>1480000.0</td>\n",
              "      <td>3067.0</td>\n",
              "      <td>2</td>\n",
              "      <td>157.0</td>\n",
              "      <td>140.292994</td>\n",
              "      <td>236.250000</td>\n",
              "      <td>956.363636</td>\n",
              "    </tr>\n",
              "    <tr>\n",
              "      <th>1</th>\n",
              "      <td>NaN</td>\n",
              "      <td>NaN</td>\n",
              "      <td>1</td>\n",
              "      <td>0</td>\n",
              "      <td>0</td>\n",
              "      <td>0</td>\n",
              "      <td>0</td>\n",
              "      <td>0</td>\n",
              "      <td>0</td>\n",
              "      <td>0</td>\n",
              "      <td>...</td>\n",
              "      <td>0</td>\n",
              "      <td>Abbotsford</td>\n",
              "      <td>1.0</td>\n",
              "      <td>1480000.0</td>\n",
              "      <td>3067.0</td>\n",
              "      <td>2</td>\n",
              "      <td>101.0</td>\n",
              "      <td>115.594059</td>\n",
              "      <td>735.352941</td>\n",
              "      <td>2863.900000</td>\n",
              "    </tr>\n",
              "    <tr>\n",
              "      <th>2</th>\n",
              "      <td>1900.0</td>\n",
              "      <td>79.0</td>\n",
              "      <td>1</td>\n",
              "      <td>0</td>\n",
              "      <td>0</td>\n",
              "      <td>0</td>\n",
              "      <td>0</td>\n",
              "      <td>0</td>\n",
              "      <td>0</td>\n",
              "      <td>0</td>\n",
              "      <td>...</td>\n",
              "      <td>0</td>\n",
              "      <td>Abbotsford</td>\n",
              "      <td>0.0</td>\n",
              "      <td>1035000.0</td>\n",
              "      <td>3067.0</td>\n",
              "      <td>2</td>\n",
              "      <td>157.0</td>\n",
              "      <td>140.292994</td>\n",
              "      <td>236.250000</td>\n",
              "      <td>956.363636</td>\n",
              "    </tr>\n",
              "    <tr>\n",
              "      <th>3</th>\n",
              "      <td>1900.0</td>\n",
              "      <td>79.0</td>\n",
              "      <td>1</td>\n",
              "      <td>0</td>\n",
              "      <td>0</td>\n",
              "      <td>0</td>\n",
              "      <td>0</td>\n",
              "      <td>0</td>\n",
              "      <td>0</td>\n",
              "      <td>0</td>\n",
              "      <td>...</td>\n",
              "      <td>0</td>\n",
              "      <td>Abbotsford</td>\n",
              "      <td>0.0</td>\n",
              "      <td>1035000.0</td>\n",
              "      <td>3067.0</td>\n",
              "      <td>2</td>\n",
              "      <td>101.0</td>\n",
              "      <td>115.594059</td>\n",
              "      <td>735.352941</td>\n",
              "      <td>2863.900000</td>\n",
              "    </tr>\n",
              "    <tr>\n",
              "      <th>4</th>\n",
              "      <td>1900.0</td>\n",
              "      <td>150.0</td>\n",
              "      <td>1</td>\n",
              "      <td>0</td>\n",
              "      <td>0</td>\n",
              "      <td>0</td>\n",
              "      <td>0</td>\n",
              "      <td>0</td>\n",
              "      <td>0</td>\n",
              "      <td>0</td>\n",
              "      <td>...</td>\n",
              "      <td>0</td>\n",
              "      <td>Abbotsford</td>\n",
              "      <td>0.0</td>\n",
              "      <td>1465000.0</td>\n",
              "      <td>3067.0</td>\n",
              "      <td>3</td>\n",
              "      <td>157.0</td>\n",
              "      <td>140.292994</td>\n",
              "      <td>236.250000</td>\n",
              "      <td>956.363636</td>\n",
              "    </tr>\n",
              "    <tr>\n",
              "      <th>...</th>\n",
              "      <td>...</td>\n",
              "      <td>...</td>\n",
              "      <td>...</td>\n",
              "      <td>...</td>\n",
              "      <td>...</td>\n",
              "      <td>...</td>\n",
              "      <td>...</td>\n",
              "      <td>...</td>\n",
              "      <td>...</td>\n",
              "      <td>...</td>\n",
              "      <td>...</td>\n",
              "      <td>...</td>\n",
              "      <td>...</td>\n",
              "      <td>...</td>\n",
              "      <td>...</td>\n",
              "      <td>...</td>\n",
              "      <td>...</td>\n",
              "      <td>...</td>\n",
              "      <td>...</td>\n",
              "      <td>...</td>\n",
              "      <td>...</td>\n",
              "    </tr>\n",
              "    <tr>\n",
              "      <th>25735</th>\n",
              "      <td>1997.0</td>\n",
              "      <td>NaN</td>\n",
              "      <td>0</td>\n",
              "      <td>1</td>\n",
              "      <td>0</td>\n",
              "      <td>0</td>\n",
              "      <td>0</td>\n",
              "      <td>0</td>\n",
              "      <td>0</td>\n",
              "      <td>0</td>\n",
              "      <td>...</td>\n",
              "      <td>0</td>\n",
              "      <td>Williamstown</td>\n",
              "      <td>4.0</td>\n",
              "      <td>1170000.0</td>\n",
              "      <td>3016.0</td>\n",
              "      <td>3</td>\n",
              "      <td>20.0</td>\n",
              "      <td>167.200000</td>\n",
              "      <td>633.000000</td>\n",
              "      <td>2163.000000</td>\n",
              "    </tr>\n",
              "    <tr>\n",
              "      <th>25736</th>\n",
              "      <td>1920.0</td>\n",
              "      <td>157.0</td>\n",
              "      <td>0</td>\n",
              "      <td>1</td>\n",
              "      <td>0</td>\n",
              "      <td>0</td>\n",
              "      <td>0</td>\n",
              "      <td>0</td>\n",
              "      <td>0</td>\n",
              "      <td>0</td>\n",
              "      <td>...</td>\n",
              "      <td>0</td>\n",
              "      <td>Williamstown</td>\n",
              "      <td>5.0</td>\n",
              "      <td>2500000.0</td>\n",
              "      <td>3016.0</td>\n",
              "      <td>4</td>\n",
              "      <td>54.0</td>\n",
              "      <td>199.944444</td>\n",
              "      <td>550.000000</td>\n",
              "      <td>1990.000000</td>\n",
              "    </tr>\n",
              "    <tr>\n",
              "      <th>25737</th>\n",
              "      <td>1920.0</td>\n",
              "      <td>157.0</td>\n",
              "      <td>0</td>\n",
              "      <td>1</td>\n",
              "      <td>0</td>\n",
              "      <td>0</td>\n",
              "      <td>0</td>\n",
              "      <td>0</td>\n",
              "      <td>0</td>\n",
              "      <td>0</td>\n",
              "      <td>...</td>\n",
              "      <td>0</td>\n",
              "      <td>Williamstown</td>\n",
              "      <td>5.0</td>\n",
              "      <td>2500000.0</td>\n",
              "      <td>3016.0</td>\n",
              "      <td>4</td>\n",
              "      <td>20.0</td>\n",
              "      <td>167.200000</td>\n",
              "      <td>633.000000</td>\n",
              "      <td>2163.000000</td>\n",
              "    </tr>\n",
              "    <tr>\n",
              "      <th>25738</th>\n",
              "      <td>1920.0</td>\n",
              "      <td>112.0</td>\n",
              "      <td>0</td>\n",
              "      <td>1</td>\n",
              "      <td>0</td>\n",
              "      <td>0</td>\n",
              "      <td>0</td>\n",
              "      <td>0</td>\n",
              "      <td>0</td>\n",
              "      <td>0</td>\n",
              "      <td>...</td>\n",
              "      <td>0</td>\n",
              "      <td>Yarraville</td>\n",
              "      <td>1.0</td>\n",
              "      <td>1285000.0</td>\n",
              "      <td>3013.0</td>\n",
              "      <td>4</td>\n",
              "      <td>42.0</td>\n",
              "      <td>127.523810</td>\n",
              "      <td>NaN</td>\n",
              "      <td>NaN</td>\n",
              "    </tr>\n",
              "    <tr>\n",
              "      <th>25739</th>\n",
              "      <td>1920.0</td>\n",
              "      <td>112.0</td>\n",
              "      <td>0</td>\n",
              "      <td>1</td>\n",
              "      <td>0</td>\n",
              "      <td>0</td>\n",
              "      <td>0</td>\n",
              "      <td>0</td>\n",
              "      <td>0</td>\n",
              "      <td>0</td>\n",
              "      <td>...</td>\n",
              "      <td>0</td>\n",
              "      <td>Yarraville</td>\n",
              "      <td>1.0</td>\n",
              "      <td>1285000.0</td>\n",
              "      <td>3013.0</td>\n",
              "      <td>4</td>\n",
              "      <td>40.0</td>\n",
              "      <td>144.100000</td>\n",
              "      <td>923.571429</td>\n",
              "      <td>2966.090909</td>\n",
              "    </tr>\n",
              "  </tbody>\n",
              "</table>\n",
              "<p>25740 rows × 22 columns</p>\n",
              "</div>\n",
              "      <button class=\"colab-df-convert\" onclick=\"convertToInteractive('df-d2dcb9e7-ea62-4604-83a8-9904d2ddbca4')\"\n",
              "              title=\"Convert this dataframe to an interactive table.\"\n",
              "              style=\"display:none;\">\n",
              "        \n",
              "  <svg xmlns=\"http://www.w3.org/2000/svg\" height=\"24px\"viewBox=\"0 0 24 24\"\n",
              "       width=\"24px\">\n",
              "    <path d=\"M0 0h24v24H0V0z\" fill=\"none\"/>\n",
              "    <path d=\"M18.56 5.44l.94 2.06.94-2.06 2.06-.94-2.06-.94-.94-2.06-.94 2.06-2.06.94zm-11 1L8.5 8.5l.94-2.06 2.06-.94-2.06-.94L8.5 2.5l-.94 2.06-2.06.94zm10 10l.94 2.06.94-2.06 2.06-.94-2.06-.94-.94-2.06-.94 2.06-2.06.94z\"/><path d=\"M17.41 7.96l-1.37-1.37c-.4-.4-.92-.59-1.43-.59-.52 0-1.04.2-1.43.59L10.3 9.45l-7.72 7.72c-.78.78-.78 2.05 0 2.83L4 21.41c.39.39.9.59 1.41.59.51 0 1.02-.2 1.41-.59l7.78-7.78 2.81-2.81c.8-.78.8-2.07 0-2.86zM5.41 20L4 18.59l7.72-7.72 1.47 1.35L5.41 20z\"/>\n",
              "  </svg>\n",
              "      </button>\n",
              "      \n",
              "  <style>\n",
              "    .colab-df-container {\n",
              "      display:flex;\n",
              "      flex-wrap:wrap;\n",
              "      gap: 12px;\n",
              "    }\n",
              "\n",
              "    .colab-df-convert {\n",
              "      background-color: #E8F0FE;\n",
              "      border: none;\n",
              "      border-radius: 50%;\n",
              "      cursor: pointer;\n",
              "      display: none;\n",
              "      fill: #1967D2;\n",
              "      height: 32px;\n",
              "      padding: 0 0 0 0;\n",
              "      width: 32px;\n",
              "    }\n",
              "\n",
              "    .colab-df-convert:hover {\n",
              "      background-color: #E2EBFA;\n",
              "      box-shadow: 0px 1px 2px rgba(60, 64, 67, 0.3), 0px 1px 3px 1px rgba(60, 64, 67, 0.15);\n",
              "      fill: #174EA6;\n",
              "    }\n",
              "\n",
              "    [theme=dark] .colab-df-convert {\n",
              "      background-color: #3B4455;\n",
              "      fill: #D2E3FC;\n",
              "    }\n",
              "\n",
              "    [theme=dark] .colab-df-convert:hover {\n",
              "      background-color: #434B5C;\n",
              "      box-shadow: 0px 1px 3px 1px rgba(0, 0, 0, 0.15);\n",
              "      filter: drop-shadow(0px 1px 2px rgba(0, 0, 0, 0.3));\n",
              "      fill: #FFFFFF;\n",
              "    }\n",
              "  </style>\n",
              "\n",
              "      <script>\n",
              "        const buttonEl =\n",
              "          document.querySelector('#df-d2dcb9e7-ea62-4604-83a8-9904d2ddbca4 button.colab-df-convert');\n",
              "        buttonEl.style.display =\n",
              "          google.colab.kernel.accessAllowed ? 'block' : 'none';\n",
              "\n",
              "        async function convertToInteractive(key) {\n",
              "          const element = document.querySelector('#df-d2dcb9e7-ea62-4604-83a8-9904d2ddbca4');\n",
              "          const dataTable =\n",
              "            await google.colab.kernel.invokeFunction('convertToInteractive',\n",
              "                                                     [key], {});\n",
              "          if (!dataTable) return;\n",
              "\n",
              "          const docLinkHtml = 'Like what you see? Visit the ' +\n",
              "            '<a target=\"_blank\" href=https://colab.research.google.com/notebooks/data_table.ipynb>data table notebook</a>'\n",
              "            + ' to learn more about interactive tables.';\n",
              "          element.innerHTML = '';\n",
              "          dataTable['output_type'] = 'display_data';\n",
              "          await google.colab.output.renderOutput(dataTable, element);\n",
              "          const docLink = document.createElement('div');\n",
              "          docLink.innerHTML = docLinkHtml;\n",
              "          element.appendChild(docLink);\n",
              "        }\n",
              "      </script>\n",
              "    </div>\n",
              "  </div>\n",
              "  "
            ]
          },
          "metadata": {},
          "execution_count": 28
        }
      ]
    },
    {
      "cell_type": "markdown",
      "source": [
        "2.2 Aplique una instancia de `IterativeImputer` con un estimador `KNeighborsRegressor` para imputar los valores de las variables. ¿Es necesario estandarizar o escalar los datos previamente?"
      ],
      "metadata": {
        "id": "U2OG972-OH6p"
      }
    },
    {
      "cell_type": "markdown",
      "source": [
        "#Realizamos imputación"
      ],
      "metadata": {
        "id": "b5uTt_bVR3ff"
      }
    },
    {
      "cell_type": "code",
      "metadata": {
        "id": "G4ClSr_JapCw",
        "colab": {
          "base_uri": "https://localhost:8080/"
        },
        "outputId": "dbdc3f0f-b0c3-4239-9c3f-59a6fbced8cf"
      },
      "source": [
        "from sklearn.experimental import enable_iterative_imputer\n",
        "from sklearn.neighbors import KNeighborsRegressor\n",
        "from sklearn.impute import IterativeImputer\n",
        "\n",
        "df_imp = df_.copy(deep=True)\n",
        "\n",
        "knn_imputer = IterativeImputer(random_state=0, estimator=KNeighborsRegressor())\n",
        "df_imp[['YearBuilt','BuildingArea']] = knn_imputer.fit_transform(\n",
        "    df_imp[['YearBuilt', 'BuildingArea']])"
      ],
      "execution_count": 29,
      "outputs": [
        {
          "output_type": "stream",
          "name": "stderr",
          "text": [
            "/usr/local/lib/python3.7/dist-packages/sklearn/impute/_iterative.py:701: ConvergenceWarning: [IterativeImputer] Early stopping criterion not reached.\n",
            "  ConvergenceWarning,\n"
          ]
        }
      ]
    },
    {
      "cell_type": "code",
      "source": [
        "df_imp[:10]"
      ],
      "metadata": {
        "colab": {
          "base_uri": "https://localhost:8080/",
          "height": 486
        },
        "id": "lNX2zHvmMXxD",
        "outputId": "3d981107-0257-45fb-d978-606d9015df0c"
      },
      "execution_count": 30,
      "outputs": [
        {
          "output_type": "execute_result",
          "data": {
            "text/plain": [
              "   YearBuilt  BuildingArea  Regionname_Northern Metropolitan  \\\n",
              "0     1974.0         166.6                                 1   \n",
              "1     1974.0         166.6                                 1   \n",
              "2     1900.0          79.0                                 1   \n",
              "3     1900.0          79.0                                 1   \n",
              "4     1900.0         150.0                                 1   \n",
              "5     1900.0         150.0                                 1   \n",
              "6     1974.0         166.6                                 1   \n",
              "7     1974.0         166.6                                 1   \n",
              "8     2014.0         142.0                                 1   \n",
              "9     2014.0         142.0                                 1   \n",
              "\n",
              "   Regionname_Western Metropolitan  Regionname_Southern Metropolitan  \\\n",
              "0                                0                                 0   \n",
              "1                                0                                 0   \n",
              "2                                0                                 0   \n",
              "3                                0                                 0   \n",
              "4                                0                                 0   \n",
              "5                                0                                 0   \n",
              "6                                0                                 0   \n",
              "7                                0                                 0   \n",
              "8                                0                                 0   \n",
              "9                                0                                 0   \n",
              "\n",
              "   Regionname_Eastern Metropolitan  Regionname_South-Eastern Metropolitan  \\\n",
              "0                                0                                      0   \n",
              "1                                0                                      0   \n",
              "2                                0                                      0   \n",
              "3                                0                                      0   \n",
              "4                                0                                      0   \n",
              "5                                0                                      0   \n",
              "6                                0                                      0   \n",
              "7                                0                                      0   \n",
              "8                                0                                      0   \n",
              "9                                0                                      0   \n",
              "\n",
              "   Regionname_Eastern Victoria  Regionname_Northern Victoria  \\\n",
              "0                            0                             0   \n",
              "1                            0                             0   \n",
              "2                            0                             0   \n",
              "3                            0                             0   \n",
              "4                            0                             0   \n",
              "5                            0                             0   \n",
              "6                            0                             0   \n",
              "7                            0                             0   \n",
              "8                            0                             0   \n",
              "9                            0                             0   \n",
              "\n",
              "   Regionname_Western Victoria  ...  Type_t      Suburb  Car      Price  \\\n",
              "0                            0  ...       0  Abbotsford  1.0  1480000.0   \n",
              "1                            0  ...       0  Abbotsford  1.0  1480000.0   \n",
              "2                            0  ...       0  Abbotsford  0.0  1035000.0   \n",
              "3                            0  ...       0  Abbotsford  0.0  1035000.0   \n",
              "4                            0  ...       0  Abbotsford  0.0  1465000.0   \n",
              "5                            0  ...       0  Abbotsford  0.0  1465000.0   \n",
              "6                            0  ...       0  Abbotsford  1.0   850000.0   \n",
              "7                            0  ...       0  Abbotsford  1.0   850000.0   \n",
              "8                            0  ...       0  Abbotsford  2.0  1600000.0   \n",
              "9                            0  ...       0  Abbotsford  2.0  1600000.0   \n",
              "\n",
              "   Postcode  Rooms  AirB_record_count  AirB_daily_price_mean  \\\n",
              "0    3067.0      2              157.0             140.292994   \n",
              "1    3067.0      2              101.0             115.594059   \n",
              "2    3067.0      2              157.0             140.292994   \n",
              "3    3067.0      2              101.0             115.594059   \n",
              "4    3067.0      3              157.0             140.292994   \n",
              "5    3067.0      3              101.0             115.594059   \n",
              "6    3067.0      3              157.0             140.292994   \n",
              "7    3067.0      3              101.0             115.594059   \n",
              "8    3067.0      4              157.0             140.292994   \n",
              "9    3067.0      4              101.0             115.594059   \n",
              "\n",
              "   AirB_weekly_price_mean  AirB_monthly_price_mean  \n",
              "0              236.250000               956.363636  \n",
              "1              735.352941              2863.900000  \n",
              "2              236.250000               956.363636  \n",
              "3              735.352941              2863.900000  \n",
              "4              236.250000               956.363636  \n",
              "5              735.352941              2863.900000  \n",
              "6              236.250000               956.363636  \n",
              "7              735.352941              2863.900000  \n",
              "8              236.250000               956.363636  \n",
              "9              735.352941              2863.900000  \n",
              "\n",
              "[10 rows x 22 columns]"
            ],
            "text/html": [
              "\n",
              "  <div id=\"df-c375c74c-abe1-4b05-8669-b6e49f7ad760\">\n",
              "    <div class=\"colab-df-container\">\n",
              "      <div>\n",
              "<style scoped>\n",
              "    .dataframe tbody tr th:only-of-type {\n",
              "        vertical-align: middle;\n",
              "    }\n",
              "\n",
              "    .dataframe tbody tr th {\n",
              "        vertical-align: top;\n",
              "    }\n",
              "\n",
              "    .dataframe thead th {\n",
              "        text-align: right;\n",
              "    }\n",
              "</style>\n",
              "<table border=\"1\" class=\"dataframe\">\n",
              "  <thead>\n",
              "    <tr style=\"text-align: right;\">\n",
              "      <th></th>\n",
              "      <th>YearBuilt</th>\n",
              "      <th>BuildingArea</th>\n",
              "      <th>Regionname_Northern Metropolitan</th>\n",
              "      <th>Regionname_Western Metropolitan</th>\n",
              "      <th>Regionname_Southern Metropolitan</th>\n",
              "      <th>Regionname_Eastern Metropolitan</th>\n",
              "      <th>Regionname_South-Eastern Metropolitan</th>\n",
              "      <th>Regionname_Eastern Victoria</th>\n",
              "      <th>Regionname_Northern Victoria</th>\n",
              "      <th>Regionname_Western Victoria</th>\n",
              "      <th>...</th>\n",
              "      <th>Type_t</th>\n",
              "      <th>Suburb</th>\n",
              "      <th>Car</th>\n",
              "      <th>Price</th>\n",
              "      <th>Postcode</th>\n",
              "      <th>Rooms</th>\n",
              "      <th>AirB_record_count</th>\n",
              "      <th>AirB_daily_price_mean</th>\n",
              "      <th>AirB_weekly_price_mean</th>\n",
              "      <th>AirB_monthly_price_mean</th>\n",
              "    </tr>\n",
              "  </thead>\n",
              "  <tbody>\n",
              "    <tr>\n",
              "      <th>0</th>\n",
              "      <td>1974.0</td>\n",
              "      <td>166.6</td>\n",
              "      <td>1</td>\n",
              "      <td>0</td>\n",
              "      <td>0</td>\n",
              "      <td>0</td>\n",
              "      <td>0</td>\n",
              "      <td>0</td>\n",
              "      <td>0</td>\n",
              "      <td>0</td>\n",
              "      <td>...</td>\n",
              "      <td>0</td>\n",
              "      <td>Abbotsford</td>\n",
              "      <td>1.0</td>\n",
              "      <td>1480000.0</td>\n",
              "      <td>3067.0</td>\n",
              "      <td>2</td>\n",
              "      <td>157.0</td>\n",
              "      <td>140.292994</td>\n",
              "      <td>236.250000</td>\n",
              "      <td>956.363636</td>\n",
              "    </tr>\n",
              "    <tr>\n",
              "      <th>1</th>\n",
              "      <td>1974.0</td>\n",
              "      <td>166.6</td>\n",
              "      <td>1</td>\n",
              "      <td>0</td>\n",
              "      <td>0</td>\n",
              "      <td>0</td>\n",
              "      <td>0</td>\n",
              "      <td>0</td>\n",
              "      <td>0</td>\n",
              "      <td>0</td>\n",
              "      <td>...</td>\n",
              "      <td>0</td>\n",
              "      <td>Abbotsford</td>\n",
              "      <td>1.0</td>\n",
              "      <td>1480000.0</td>\n",
              "      <td>3067.0</td>\n",
              "      <td>2</td>\n",
              "      <td>101.0</td>\n",
              "      <td>115.594059</td>\n",
              "      <td>735.352941</td>\n",
              "      <td>2863.900000</td>\n",
              "    </tr>\n",
              "    <tr>\n",
              "      <th>2</th>\n",
              "      <td>1900.0</td>\n",
              "      <td>79.0</td>\n",
              "      <td>1</td>\n",
              "      <td>0</td>\n",
              "      <td>0</td>\n",
              "      <td>0</td>\n",
              "      <td>0</td>\n",
              "      <td>0</td>\n",
              "      <td>0</td>\n",
              "      <td>0</td>\n",
              "      <td>...</td>\n",
              "      <td>0</td>\n",
              "      <td>Abbotsford</td>\n",
              "      <td>0.0</td>\n",
              "      <td>1035000.0</td>\n",
              "      <td>3067.0</td>\n",
              "      <td>2</td>\n",
              "      <td>157.0</td>\n",
              "      <td>140.292994</td>\n",
              "      <td>236.250000</td>\n",
              "      <td>956.363636</td>\n",
              "    </tr>\n",
              "    <tr>\n",
              "      <th>3</th>\n",
              "      <td>1900.0</td>\n",
              "      <td>79.0</td>\n",
              "      <td>1</td>\n",
              "      <td>0</td>\n",
              "      <td>0</td>\n",
              "      <td>0</td>\n",
              "      <td>0</td>\n",
              "      <td>0</td>\n",
              "      <td>0</td>\n",
              "      <td>0</td>\n",
              "      <td>...</td>\n",
              "      <td>0</td>\n",
              "      <td>Abbotsford</td>\n",
              "      <td>0.0</td>\n",
              "      <td>1035000.0</td>\n",
              "      <td>3067.0</td>\n",
              "      <td>2</td>\n",
              "      <td>101.0</td>\n",
              "      <td>115.594059</td>\n",
              "      <td>735.352941</td>\n",
              "      <td>2863.900000</td>\n",
              "    </tr>\n",
              "    <tr>\n",
              "      <th>4</th>\n",
              "      <td>1900.0</td>\n",
              "      <td>150.0</td>\n",
              "      <td>1</td>\n",
              "      <td>0</td>\n",
              "      <td>0</td>\n",
              "      <td>0</td>\n",
              "      <td>0</td>\n",
              "      <td>0</td>\n",
              "      <td>0</td>\n",
              "      <td>0</td>\n",
              "      <td>...</td>\n",
              "      <td>0</td>\n",
              "      <td>Abbotsford</td>\n",
              "      <td>0.0</td>\n",
              "      <td>1465000.0</td>\n",
              "      <td>3067.0</td>\n",
              "      <td>3</td>\n",
              "      <td>157.0</td>\n",
              "      <td>140.292994</td>\n",
              "      <td>236.250000</td>\n",
              "      <td>956.363636</td>\n",
              "    </tr>\n",
              "    <tr>\n",
              "      <th>5</th>\n",
              "      <td>1900.0</td>\n",
              "      <td>150.0</td>\n",
              "      <td>1</td>\n",
              "      <td>0</td>\n",
              "      <td>0</td>\n",
              "      <td>0</td>\n",
              "      <td>0</td>\n",
              "      <td>0</td>\n",
              "      <td>0</td>\n",
              "      <td>0</td>\n",
              "      <td>...</td>\n",
              "      <td>0</td>\n",
              "      <td>Abbotsford</td>\n",
              "      <td>0.0</td>\n",
              "      <td>1465000.0</td>\n",
              "      <td>3067.0</td>\n",
              "      <td>3</td>\n",
              "      <td>101.0</td>\n",
              "      <td>115.594059</td>\n",
              "      <td>735.352941</td>\n",
              "      <td>2863.900000</td>\n",
              "    </tr>\n",
              "    <tr>\n",
              "      <th>6</th>\n",
              "      <td>1974.0</td>\n",
              "      <td>166.6</td>\n",
              "      <td>1</td>\n",
              "      <td>0</td>\n",
              "      <td>0</td>\n",
              "      <td>0</td>\n",
              "      <td>0</td>\n",
              "      <td>0</td>\n",
              "      <td>0</td>\n",
              "      <td>0</td>\n",
              "      <td>...</td>\n",
              "      <td>0</td>\n",
              "      <td>Abbotsford</td>\n",
              "      <td>1.0</td>\n",
              "      <td>850000.0</td>\n",
              "      <td>3067.0</td>\n",
              "      <td>3</td>\n",
              "      <td>157.0</td>\n",
              "      <td>140.292994</td>\n",
              "      <td>236.250000</td>\n",
              "      <td>956.363636</td>\n",
              "    </tr>\n",
              "    <tr>\n",
              "      <th>7</th>\n",
              "      <td>1974.0</td>\n",
              "      <td>166.6</td>\n",
              "      <td>1</td>\n",
              "      <td>0</td>\n",
              "      <td>0</td>\n",
              "      <td>0</td>\n",
              "      <td>0</td>\n",
              "      <td>0</td>\n",
              "      <td>0</td>\n",
              "      <td>0</td>\n",
              "      <td>...</td>\n",
              "      <td>0</td>\n",
              "      <td>Abbotsford</td>\n",
              "      <td>1.0</td>\n",
              "      <td>850000.0</td>\n",
              "      <td>3067.0</td>\n",
              "      <td>3</td>\n",
              "      <td>101.0</td>\n",
              "      <td>115.594059</td>\n",
              "      <td>735.352941</td>\n",
              "      <td>2863.900000</td>\n",
              "    </tr>\n",
              "    <tr>\n",
              "      <th>8</th>\n",
              "      <td>2014.0</td>\n",
              "      <td>142.0</td>\n",
              "      <td>1</td>\n",
              "      <td>0</td>\n",
              "      <td>0</td>\n",
              "      <td>0</td>\n",
              "      <td>0</td>\n",
              "      <td>0</td>\n",
              "      <td>0</td>\n",
              "      <td>0</td>\n",
              "      <td>...</td>\n",
              "      <td>0</td>\n",
              "      <td>Abbotsford</td>\n",
              "      <td>2.0</td>\n",
              "      <td>1600000.0</td>\n",
              "      <td>3067.0</td>\n",
              "      <td>4</td>\n",
              "      <td>157.0</td>\n",
              "      <td>140.292994</td>\n",
              "      <td>236.250000</td>\n",
              "      <td>956.363636</td>\n",
              "    </tr>\n",
              "    <tr>\n",
              "      <th>9</th>\n",
              "      <td>2014.0</td>\n",
              "      <td>142.0</td>\n",
              "      <td>1</td>\n",
              "      <td>0</td>\n",
              "      <td>0</td>\n",
              "      <td>0</td>\n",
              "      <td>0</td>\n",
              "      <td>0</td>\n",
              "      <td>0</td>\n",
              "      <td>0</td>\n",
              "      <td>...</td>\n",
              "      <td>0</td>\n",
              "      <td>Abbotsford</td>\n",
              "      <td>2.0</td>\n",
              "      <td>1600000.0</td>\n",
              "      <td>3067.0</td>\n",
              "      <td>4</td>\n",
              "      <td>101.0</td>\n",
              "      <td>115.594059</td>\n",
              "      <td>735.352941</td>\n",
              "      <td>2863.900000</td>\n",
              "    </tr>\n",
              "  </tbody>\n",
              "</table>\n",
              "<p>10 rows × 22 columns</p>\n",
              "</div>\n",
              "      <button class=\"colab-df-convert\" onclick=\"convertToInteractive('df-c375c74c-abe1-4b05-8669-b6e49f7ad760')\"\n",
              "              title=\"Convert this dataframe to an interactive table.\"\n",
              "              style=\"display:none;\">\n",
              "        \n",
              "  <svg xmlns=\"http://www.w3.org/2000/svg\" height=\"24px\"viewBox=\"0 0 24 24\"\n",
              "       width=\"24px\">\n",
              "    <path d=\"M0 0h24v24H0V0z\" fill=\"none\"/>\n",
              "    <path d=\"M18.56 5.44l.94 2.06.94-2.06 2.06-.94-2.06-.94-.94-2.06-.94 2.06-2.06.94zm-11 1L8.5 8.5l.94-2.06 2.06-.94-2.06-.94L8.5 2.5l-.94 2.06-2.06.94zm10 10l.94 2.06.94-2.06 2.06-.94-2.06-.94-.94-2.06-.94 2.06-2.06.94z\"/><path d=\"M17.41 7.96l-1.37-1.37c-.4-.4-.92-.59-1.43-.59-.52 0-1.04.2-1.43.59L10.3 9.45l-7.72 7.72c-.78.78-.78 2.05 0 2.83L4 21.41c.39.39.9.59 1.41.59.51 0 1.02-.2 1.41-.59l7.78-7.78 2.81-2.81c.8-.78.8-2.07 0-2.86zM5.41 20L4 18.59l7.72-7.72 1.47 1.35L5.41 20z\"/>\n",
              "  </svg>\n",
              "      </button>\n",
              "      \n",
              "  <style>\n",
              "    .colab-df-container {\n",
              "      display:flex;\n",
              "      flex-wrap:wrap;\n",
              "      gap: 12px;\n",
              "    }\n",
              "\n",
              "    .colab-df-convert {\n",
              "      background-color: #E8F0FE;\n",
              "      border: none;\n",
              "      border-radius: 50%;\n",
              "      cursor: pointer;\n",
              "      display: none;\n",
              "      fill: #1967D2;\n",
              "      height: 32px;\n",
              "      padding: 0 0 0 0;\n",
              "      width: 32px;\n",
              "    }\n",
              "\n",
              "    .colab-df-convert:hover {\n",
              "      background-color: #E2EBFA;\n",
              "      box-shadow: 0px 1px 2px rgba(60, 64, 67, 0.3), 0px 1px 3px 1px rgba(60, 64, 67, 0.15);\n",
              "      fill: #174EA6;\n",
              "    }\n",
              "\n",
              "    [theme=dark] .colab-df-convert {\n",
              "      background-color: #3B4455;\n",
              "      fill: #D2E3FC;\n",
              "    }\n",
              "\n",
              "    [theme=dark] .colab-df-convert:hover {\n",
              "      background-color: #434B5C;\n",
              "      box-shadow: 0px 1px 3px 1px rgba(0, 0, 0, 0.15);\n",
              "      filter: drop-shadow(0px 1px 2px rgba(0, 0, 0, 0.3));\n",
              "      fill: #FFFFFF;\n",
              "    }\n",
              "  </style>\n",
              "\n",
              "      <script>\n",
              "        const buttonEl =\n",
              "          document.querySelector('#df-c375c74c-abe1-4b05-8669-b6e49f7ad760 button.colab-df-convert');\n",
              "        buttonEl.style.display =\n",
              "          google.colab.kernel.accessAllowed ? 'block' : 'none';\n",
              "\n",
              "        async function convertToInteractive(key) {\n",
              "          const element = document.querySelector('#df-c375c74c-abe1-4b05-8669-b6e49f7ad760');\n",
              "          const dataTable =\n",
              "            await google.colab.kernel.invokeFunction('convertToInteractive',\n",
              "                                                     [key], {});\n",
              "          if (!dataTable) return;\n",
              "\n",
              "          const docLinkHtml = 'Like what you see? Visit the ' +\n",
              "            '<a target=\"_blank\" href=https://colab.research.google.com/notebooks/data_table.ipynb>data table notebook</a>'\n",
              "            + ' to learn more about interactive tables.';\n",
              "          element.innerHTML = '';\n",
              "          dataTable['output_type'] = 'display_data';\n",
              "          await google.colab.output.renderOutput(dataTable, element);\n",
              "          const docLink = document.createElement('div');\n",
              "          docLink.innerHTML = docLinkHtml;\n",
              "          element.appendChild(docLink);\n",
              "        }\n",
              "      </script>\n",
              "    </div>\n",
              "  </div>\n",
              "  "
            ]
          },
          "metadata": {},
          "execution_count": 30
        }
      ]
    },
    {
      "cell_type": "markdown",
      "source": [
        "2.3 Realice un gráfico mostrando la distribución de cada variable antes de ser imputada, y con ambos métodos de imputación."
      ],
      "metadata": {
        "id": "IXla7dIFS7li"
      }
    },
    {
      "cell_type": "markdown",
      "source": [
        "Graficamos las variables 'YearBuilt' y 'BuildingArea' antes de realizar imputación"
      ],
      "metadata": {
        "id": "iserNLEcTBq_"
      }
    },
    {
      "cell_type": "code",
      "source": [
        "import missingno as msno\n",
        "msno.bar(df_[['YearBuilt','BuildingArea']],figsize=(12, 6), fontsize=12, color='red');"
      ],
      "metadata": {
        "colab": {
          "base_uri": "https://localhost:8080/",
          "height": 482
        },
        "id": "AGQNZ3PsTLpq",
        "outputId": "25cb7a03-bde0-4eaf-a167-feab2df0650a"
      },
      "execution_count": 32,
      "outputs": [
        {
          "output_type": "display_data",
          "data": {
            "text/plain": [
              "<Figure size 864x432 with 3 Axes>"
            ],
            "image/png": "[encoded data removed]"
          },
          "metadata": {
            "needs_background": "light"
          }
        }
      ]
    },
    {
      "cell_type": "markdown",
      "source": [
        "Graficamos las variables 'YearBuilt' y 'BuildingArea' después de realizar imputación"
      ],
      "metadata": {
        "id": "WRW3I5y_Kp9W"
      }
    },
    {
      "cell_type": "code",
      "source": [
        "msno.bar(df_imp[['YearBuilt','BuildingArea']],figsize=(12, 6), fontsize=12, color='red');"
      ],
      "metadata": {
        "colab": {
          "base_uri": "https://localhost:8080/",
          "height": 481
        },
        "id": "YDvP1eEXICZC",
        "outputId": "3041ed78-596f-4302-8c51-785f26aad337"
      },
      "execution_count": 33,
      "outputs": [
        {
          "output_type": "display_data",
          "data": {
            "text/plain": [
              "<Figure size 864x432 with 3 Axes>"
            ],
            "image/png": "[encoded data removed]"
          },
          "metadata": {
            "needs_background": "light"
          }
        }
      ]
    },
    {
      "cell_type": "markdown",
      "metadata": {
        "id": "ImjXQZUbVoKH"
      },
      "source": [
        "Comparación de las distribuciones de datos obtenidas con cada método de imputación."
      ]
    },
    {
      "cell_type": "code",
      "metadata": {
        "colab": {
          "base_uri": "https://localhost:8080/",
          "height": 362
        },
        "id": "PMK1ktqYQTJK",
        "outputId": "b65795bc-2004-4f1a-85d1-37f7411646a8"
      },
      "source": [
        "df_imp_year_built = df_imp.YearBuilt.to_frame()\n",
        "df_imp_year_built['Imputation'] = 'KNN over YearBuilt and BuildingArea'\n",
        "df_imp_year_build = df_.YearBuilt.dropna().to_frame()\n",
        "df_imp_year_build['Imputation'] = 'Original'\n",
        "data = pd.concat([df_imp_year_built, df_imp_year_build], ignore_index=True)\n",
        "fig = plt.figure(figsize=(8, 5))\n",
        "g = sns.kdeplot(data=data, x='YearBuilt', hue='Imputation')"
      ],
      "execution_count": 34,
      "outputs": [
        {
          "output_type": "display_data",
          "data": {
            "text/plain": [
              "<Figure size 576x360 with 1 Axes>"
            ],
            "image/png": "[encoded data removed]"
          },
          "metadata": {
            "needs_background": "light"
          }
        }
      ]
    },
    {
      "cell_type": "markdown",
      "metadata": {
        "id": "NBN7-5OIxjJW"
      },
      "source": [
        "## Ejercicio 3: Reducción de dimensionalidad.\n",
        "\n",
        "Utilizando la matriz obtenida en el ejercicio anterior:\n",
        "1. Aplique `PCA` para obtener $n$ componentes principales de la matriz, donde `n = min(20, X.shape[0])`. ¿Es necesario estandarizar o escalar los datos?\n",
        "2. Grafique la varianza capturada por los primeros $n$ componentes principales, para cada $n$.\n",
        "3. En base al gráfico, seleccione las primeras $m$ columnas de la matriz transformada para agregar como nuevas características al conjunto de datos."
      ]
    },
    {
      "cell_type": "markdown",
      "source": [
        "#**RESOLUCIÓN EJERCICIO 3**"
      ],
      "metadata": {
        "id": "EFX068GLWdu_"
      }
    },
    {
      "cell_type": "markdown",
      "source": [
        "**3.1** Aplique `PCA` para obtener $n$ componentes principales de la matriz, donde `n = min(20, X.shape[0])`. ¿Es necesario estandarizar o escalar los datos"
      ],
      "metadata": {
        "id": "kvhJdaOoWuqn"
      }
    },
    {
      "cell_type": "markdown",
      "source": [
        "\n",
        "**Dado que los distintos atributos de nuestro dataset están expresados en diferentes unidades se hace necesario estandarizar sus valores, ya que el método de PCA identifica las direcciones con mayor varianza. Como la varianza de una variable se mide en sus mismas unidades elevadas al cuadrado, si antes de calcular las componentes no se estandarizan todas las variables para que tengan media cero y desviación estándar uno, aquellas variables cuya escala sea mayor dominarán al resto. Por lo tanto es recomendable estandarizar siempre los datos.**"
      ],
      "metadata": {
        "id": "x8pqU7i-VTXp"
      }
    },
    {
      "cell_type": "code",
      "source": [
        "from sklearn.preprocessing import MinMaxScaler"
      ],
      "metadata": {
        "id": "eB6USbmHWB9_"
      },
      "execution_count": 35,
      "outputs": []
    },
    {
      "cell_type": "code",
      "source": [
        "#imprimimos nombre de cada columna para utilizarlas en la estandarización\n",
        "df_imp.columns"
      ],
      "metadata": {
        "colab": {
          "base_uri": "https://localhost:8080/"
        },
        "id": "mNCcP_98WpPe",
        "outputId": "02a809bc-1d5f-4a54-e217-72c5ba6274c5"
      },
      "execution_count": 36,
      "outputs": [
        {
          "output_type": "execute_result",
          "data": {
            "text/plain": [
              "Index(['YearBuilt', 'BuildingArea', 'Regionname_Northern Metropolitan',\n",
              "       'Regionname_Western Metropolitan', 'Regionname_Southern Metropolitan',\n",
              "       'Regionname_Eastern Metropolitan',\n",
              "       'Regionname_South-Eastern Metropolitan', 'Regionname_Eastern Victoria',\n",
              "       'Regionname_Northern Victoria', 'Regionname_Western Victoria', 'Type_h',\n",
              "       'Type_u', 'Type_t', 'Suburb', 'Car', 'Price', 'Postcode', 'Rooms',\n",
              "       'AirB_record_count', 'AirB_daily_price_mean', 'AirB_weekly_price_mean',\n",
              "       'AirB_monthly_price_mean'],\n",
              "      dtype='object')"
            ]
          },
          "metadata": {},
          "execution_count": 36
        }
      ]
    },
    {
      "cell_type": "code",
      "source": [
        "columns_escala = ['YearBuilt', 'BuildingArea', 'Regionname_Northern Metropolitan',\n",
        "       'Regionname_Western Metropolitan', 'Regionname_Southern Metropolitan',\n",
        "       'Regionname_Eastern Metropolitan',\n",
        "       'Regionname_South-Eastern Metropolitan', 'Regionname_Eastern Victoria',\n",
        "       'Regionname_Northern Victoria', 'Regionname_Western Victoria', 'Type_h',\n",
        "       'Type_u', 'Type_t', 'Car', 'Price', 'Postcode', 'Rooms',\n",
        "       'AirB_record_count', 'AirB_daily_price_mean', 'AirB_weekly_price_mean',\n",
        "       'AirB_monthly_price_mean']"
      ],
      "metadata": {
        "id": "nQ23lhrOXY7t"
      },
      "execution_count": 37,
      "outputs": []
    },
    {
      "cell_type": "code",
      "source": [
        "escala = MinMaxScaler()\n",
        "escala.fit(df_imp[columns_escala])\n",
        "df_imp.loc[:, columns_escala] = escala.transform(df_imp[columns_escala])"
      ],
      "metadata": {
        "id": "k0PLm_I4ZQFf"
      },
      "execution_count": 38,
      "outputs": []
    },
    {
      "cell_type": "code",
      "source": [
        "df_imp"
      ],
      "metadata": {
        "colab": {
          "base_uri": "https://localhost:8080/",
          "height": 517
        },
        "id": "58lUIQmRauUl",
        "outputId": "ebc190bb-ba27-4f81-93ad-82aa11c7decf"
      },
      "execution_count": 39,
      "outputs": [
        {
          "output_type": "execute_result",
          "data": {
            "text/plain": [
              "       YearBuilt  BuildingArea  Regionname_Northern Metropolitan  \\\n",
              "0       0.946472      0.003743                               1.0   \n",
              "1       0.946472      0.003743                               1.0   \n",
              "2       0.856448      0.001775                               1.0   \n",
              "3       0.856448      0.001775                               1.0   \n",
              "4       0.856448      0.003370                               1.0   \n",
              "...          ...           ...                               ...   \n",
              "25735   0.974453      0.005212                               0.0   \n",
              "25736   0.880779      0.003527                               0.0   \n",
              "25737   0.880779      0.003527                               0.0   \n",
              "25738   0.880779      0.002516                               0.0   \n",
              "25739   0.880779      0.002516                               0.0   \n",
              "\n",
              "       Regionname_Western Metropolitan  Regionname_Southern Metropolitan  \\\n",
              "0                                  0.0                               0.0   \n",
              "1                                  0.0                               0.0   \n",
              "2                                  0.0                               0.0   \n",
              "3                                  0.0                               0.0   \n",
              "4                                  0.0                               0.0   \n",
              "...                                ...                               ...   \n",
              "25735                              1.0                               0.0   \n",
              "25736                              1.0                               0.0   \n",
              "25737                              1.0                               0.0   \n",
              "25738                              1.0                               0.0   \n",
              "25739                              1.0                               0.0   \n",
              "\n",
              "       Regionname_Eastern Metropolitan  Regionname_South-Eastern Metropolitan  \\\n",
              "0                                  0.0                                    0.0   \n",
              "1                                  0.0                                    0.0   \n",
              "2                                  0.0                                    0.0   \n",
              "3                                  0.0                                    0.0   \n",
              "4                                  0.0                                    0.0   \n",
              "...                                ...                                    ...   \n",
              "25735                              0.0                                    0.0   \n",
              "25736                              0.0                                    0.0   \n",
              "25737                              0.0                                    0.0   \n",
              "25738                              0.0                                    0.0   \n",
              "25739                              0.0                                    0.0   \n",
              "\n",
              "       Regionname_Eastern Victoria  Regionname_Northern Victoria  \\\n",
              "0                              0.0                           0.0   \n",
              "1                              0.0                           0.0   \n",
              "2                              0.0                           0.0   \n",
              "3                              0.0                           0.0   \n",
              "4                              0.0                           0.0   \n",
              "...                            ...                           ...   \n",
              "25735                          0.0                           0.0   \n",
              "25736                          0.0                           0.0   \n",
              "25737                          0.0                           0.0   \n",
              "25738                          0.0                           0.0   \n",
              "25739                          0.0                           0.0   \n",
              "\n",
              "       Regionname_Western Victoria  ...  Type_t        Suburb       Car  \\\n",
              "0                              0.0  ...     0.0    Abbotsford  0.166667   \n",
              "1                              0.0  ...     0.0    Abbotsford  0.166667   \n",
              "2                              0.0  ...     0.0    Abbotsford  0.000000   \n",
              "3                              0.0  ...     0.0    Abbotsford  0.000000   \n",
              "4                              0.0  ...     0.0    Abbotsford  0.000000   \n",
              "...                            ...  ...     ...           ...       ...   \n",
              "25735                          0.0  ...     0.0  Williamstown  0.666667   \n",
              "25736                          0.0  ...     0.0  Williamstown  0.833333   \n",
              "25737                          0.0  ...     0.0  Williamstown  0.833333   \n",
              "25738                          0.0  ...     0.0    Yarraville  0.166667   \n",
              "25739                          0.0  ...     0.0    Yarraville  0.166667   \n",
              "\n",
              "          Price  Postcode     Rooms  AirB_record_count  AirB_daily_price_mean  \\\n",
              "0      0.456835  0.068577  0.111111           0.061897               0.072134   \n",
              "1      0.456835  0.068577  0.111111           0.039389               0.054052   \n",
              "2      0.296763  0.068577  0.111111           0.061897               0.072134   \n",
              "3      0.296763  0.068577  0.111111           0.039389               0.054052   \n",
              "4      0.451439  0.068577  0.222222           0.061897               0.072134   \n",
              "...         ...       ...       ...                ...                    ...   \n",
              "25735  0.345324  0.016377  0.222222           0.006833               0.091833   \n",
              "25736  0.823741  0.016377  0.333333           0.020498               0.115806   \n",
              "25737  0.823741  0.016377  0.333333           0.006833               0.091833   \n",
              "25738  0.386691  0.013306  0.333333           0.015675               0.062786   \n",
              "25739  0.386691  0.013306  0.333333           0.014871               0.074921   \n",
              "\n",
              "       AirB_weekly_price_mean  AirB_monthly_price_mean  \n",
              "0                    0.036717                 0.037671  \n",
              "1                    0.277056                 0.239313  \n",
              "2                    0.036717                 0.037671  \n",
              "3                    0.277056                 0.239313  \n",
              "4                    0.036717                 0.037671  \n",
              "...                       ...                      ...  \n",
              "25735                0.227769                 0.165222  \n",
              "25736                0.187801                 0.146934  \n",
              "25737                0.227769                 0.165222  \n",
              "25738                     NaN                      NaN  \n",
              "25739                0.367691                 0.250115  \n",
              "\n",
              "[25740 rows x 22 columns]"
            ],
            "text/html": [
              "\n",
              "  <div id=\"df-c352c5ed-68fe-4874-962c-b98e1dd275fc\">\n",
              "    <div class=\"colab-df-container\">\n",
              "      <div>\n",
              "<style scoped>\n",
              "    .dataframe tbody tr th:only-of-type {\n",
              "        vertical-align: middle;\n",
              "    }\n",
              "\n",
              "    .dataframe tbody tr th {\n",
              "        vertical-align: top;\n",
              "    }\n",
              "\n",
              "    .dataframe thead th {\n",
              "        text-align: right;\n",
              "    }\n",
              "</style>\n",
              "<table border=\"1\" class=\"dataframe\">\n",
              "  <thead>\n",
              "    <tr style=\"text-align: right;\">\n",
              "      <th></th>\n",
              "      <th>YearBuilt</th>\n",
              "      <th>BuildingArea</th>\n",
              "      <th>Regionname_Northern Metropolitan</th>\n",
              "      <th>Regionname_Western Metropolitan</th>\n",
              "      <th>Regionname_Southern Metropolitan</th>\n",
              "      <th>Regionname_Eastern Metropolitan</th>\n",
              "      <th>Regionname_South-Eastern Metropolitan</th>\n",
              "      <th>Regionname_Eastern Victoria</th>\n",
              "      <th>Regionname_Northern Victoria</th>\n",
              "      <th>Regionname_Western Victoria</th>\n",
              "      <th>...</th>\n",
              "      <th>Type_t</th>\n",
              "      <th>Suburb</th>\n",
              "      <th>Car</th>\n",
              "      <th>Price</th>\n",
              "      <th>Postcode</th>\n",
              "      <th>Rooms</th>\n",
              "      <th>AirB_record_count</th>\n",
              "      <th>AirB_daily_price_mean</th>\n",
              "      <th>AirB_weekly_price_mean</th>\n",
              "      <th>AirB_monthly_price_mean</th>\n",
              "    </tr>\n",
              "  </thead>\n",
              "  <tbody>\n",
              "    <tr>\n",
              "      <th>0</th>\n",
              "      <td>0.946472</td>\n",
              "      <td>0.003743</td>\n",
              "      <td>1.0</td>\n",
              "      <td>0.0</td>\n",
              "      <td>0.0</td>\n",
              "      <td>0.0</td>\n",
              "      <td>0.0</td>\n",
              "      <td>0.0</td>\n",
              "      <td>0.0</td>\n",
              "      <td>0.0</td>\n",
              "      <td>...</td>\n",
              "      <td>0.0</td>\n",
              "      <td>Abbotsford</td>\n",
              "      <td>0.166667</td>\n",
              "      <td>0.456835</td>\n",
              "      <td>0.068577</td>\n",
              "      <td>0.111111</td>\n",
              "      <td>0.061897</td>\n",
              "      <td>0.072134</td>\n",
              "      <td>0.036717</td>\n",
              "      <td>0.037671</td>\n",
              "    </tr>\n",
              "    <tr>\n",
              "      <th>1</th>\n",
              "      <td>0.946472</td>\n",
              "      <td>0.003743</td>\n",
              "      <td>1.0</td>\n",
              "      <td>0.0</td>\n",
              "      <td>0.0</td>\n",
              "      <td>0.0</td>\n",
              "      <td>0.0</td>\n",
              "      <td>0.0</td>\n",
              "      <td>0.0</td>\n",
              "      <td>0.0</td>\n",
              "      <td>...</td>\n",
              "      <td>0.0</td>\n",
              "      <td>Abbotsford</td>\n",
              "      <td>0.166667</td>\n",
              "      <td>0.456835</td>\n",
              "      <td>0.068577</td>\n",
              "      <td>0.111111</td>\n",
              "      <td>0.039389</td>\n",
              "      <td>0.054052</td>\n",
              "      <td>0.277056</td>\n",
              "      <td>0.239313</td>\n",
              "    </tr>\n",
              "    <tr>\n",
              "      <th>2</th>\n",
              "      <td>0.856448</td>\n",
              "      <td>0.001775</td>\n",
              "      <td>1.0</td>\n",
              "      <td>0.0</td>\n",
              "      <td>0.0</td>\n",
              "      <td>0.0</td>\n",
              "      <td>0.0</td>\n",
              "      <td>0.0</td>\n",
              "      <td>0.0</td>\n",
              "      <td>0.0</td>\n",
              "      <td>...</td>\n",
              "      <td>0.0</td>\n",
              "      <td>Abbotsford</td>\n",
              "      <td>0.000000</td>\n",
              "      <td>0.296763</td>\n",
              "      <td>0.068577</td>\n",
              "      <td>0.111111</td>\n",
              "      <td>0.061897</td>\n",
              "      <td>0.072134</td>\n",
              "      <td>0.036717</td>\n",
              "      <td>0.037671</td>\n",
              "    </tr>\n",
              "    <tr>\n",
              "      <th>3</th>\n",
              "      <td>0.856448</td>\n",
              "      <td>0.001775</td>\n",
              "      <td>1.0</td>\n",
              "      <td>0.0</td>\n",
              "      <td>0.0</td>\n",
              "      <td>0.0</td>\n",
              "      <td>0.0</td>\n",
              "      <td>0.0</td>\n",
              "      <td>0.0</td>\n",
              "      <td>0.0</td>\n",
              "      <td>...</td>\n",
              "      <td>0.0</td>\n",
              "      <td>Abbotsford</td>\n",
              "      <td>0.000000</td>\n",
              "      <td>0.296763</td>\n",
              "      <td>0.068577</td>\n",
              "      <td>0.111111</td>\n",
              "      <td>0.039389</td>\n",
              "      <td>0.054052</td>\n",
              "      <td>0.277056</td>\n",
              "      <td>0.239313</td>\n",
              "    </tr>\n",
              "    <tr>\n",
              "      <th>4</th>\n",
              "      <td>0.856448</td>\n",
              "      <td>0.003370</td>\n",
              "      <td>1.0</td>\n",
              "      <td>0.0</td>\n",
              "      <td>0.0</td>\n",
              "      <td>0.0</td>\n",
              "      <td>0.0</td>\n",
              "      <td>0.0</td>\n",
              "      <td>0.0</td>\n",
              "      <td>0.0</td>\n",
              "      <td>...</td>\n",
              "      <td>0.0</td>\n",
              "      <td>Abbotsford</td>\n",
              "      <td>0.000000</td>\n",
              "      <td>0.451439</td>\n",
              "      <td>0.068577</td>\n",
              "      <td>0.222222</td>\n",
              "      <td>0.061897</td>\n",
              "      <td>0.072134</td>\n",
              "      <td>0.036717</td>\n",
              "      <td>0.037671</td>\n",
              "    </tr>\n",
              "    <tr>\n",
              "      <th>...</th>\n",
              "      <td>...</td>\n",
              "      <td>...</td>\n",
              "      <td>...</td>\n",
              "      <td>...</td>\n",
              "      <td>...</td>\n",
              "      <td>...</td>\n",
              "      <td>...</td>\n",
              "      <td>...</td>\n",
              "      <td>...</td>\n",
              "      <td>...</td>\n",
              "      <td>...</td>\n",
              "      <td>...</td>\n",
              "      <td>...</td>\n",
              "      <td>...</td>\n",
              "      <td>...</td>\n",
              "      <td>...</td>\n",
              "      <td>...</td>\n",
              "      <td>...</td>\n",
              "      <td>...</td>\n",
              "      <td>...</td>\n",
              "      <td>...</td>\n",
              "    </tr>\n",
              "    <tr>\n",
              "      <th>25735</th>\n",
              "      <td>0.974453</td>\n",
              "      <td>0.005212</td>\n",
              "      <td>0.0</td>\n",
              "      <td>1.0</td>\n",
              "      <td>0.0</td>\n",
              "      <td>0.0</td>\n",
              "      <td>0.0</td>\n",
              "      <td>0.0</td>\n",
              "      <td>0.0</td>\n",
              "      <td>0.0</td>\n",
              "      <td>...</td>\n",
              "      <td>0.0</td>\n",
              "      <td>Williamstown</td>\n",
              "      <td>0.666667</td>\n",
              "      <td>0.345324</td>\n",
              "      <td>0.016377</td>\n",
              "      <td>0.222222</td>\n",
              "      <td>0.006833</td>\n",
              "      <td>0.091833</td>\n",
              "      <td>0.227769</td>\n",
              "      <td>0.165222</td>\n",
              "    </tr>\n",
              "    <tr>\n",
              "      <th>25736</th>\n",
              "      <td>0.880779</td>\n",
              "      <td>0.003527</td>\n",
              "      <td>0.0</td>\n",
              "      <td>1.0</td>\n",
              "      <td>0.0</td>\n",
              "      <td>0.0</td>\n",
              "      <td>0.0</td>\n",
              "      <td>0.0</td>\n",
              "      <td>0.0</td>\n",
              "      <td>0.0</td>\n",
              "      <td>...</td>\n",
              "      <td>0.0</td>\n",
              "      <td>Williamstown</td>\n",
              "      <td>0.833333</td>\n",
              "      <td>0.823741</td>\n",
              "      <td>0.016377</td>\n",
              "      <td>0.333333</td>\n",
              "      <td>0.020498</td>\n",
              "      <td>0.115806</td>\n",
              "      <td>0.187801</td>\n",
              "      <td>0.146934</td>\n",
              "    </tr>\n",
              "    <tr>\n",
              "      <th>25737</th>\n",
              "      <td>0.880779</td>\n",
              "      <td>0.003527</td>\n",
              "      <td>0.0</td>\n",
              "      <td>1.0</td>\n",
              "      <td>0.0</td>\n",
              "      <td>0.0</td>\n",
              "      <td>0.0</td>\n",
              "      <td>0.0</td>\n",
              "      <td>0.0</td>\n",
              "      <td>0.0</td>\n",
              "      <td>...</td>\n",
              "      <td>0.0</td>\n",
              "      <td>Williamstown</td>\n",
              "      <td>0.833333</td>\n",
              "      <td>0.823741</td>\n",
              "      <td>0.016377</td>\n",
              "      <td>0.333333</td>\n",
              "      <td>0.006833</td>\n",
              "      <td>0.091833</td>\n",
              "      <td>0.227769</td>\n",
              "      <td>0.165222</td>\n",
              "    </tr>\n",
              "    <tr>\n",
              "      <th>25738</th>\n",
              "      <td>0.880779</td>\n",
              "      <td>0.002516</td>\n",
              "      <td>0.0</td>\n",
              "      <td>1.0</td>\n",
              "      <td>0.0</td>\n",
              "      <td>0.0</td>\n",
              "      <td>0.0</td>\n",
              "      <td>0.0</td>\n",
              "      <td>0.0</td>\n",
              "      <td>0.0</td>\n",
              "      <td>...</td>\n",
              "      <td>0.0</td>\n",
              "      <td>Yarraville</td>\n",
              "      <td>0.166667</td>\n",
              "      <td>0.386691</td>\n",
              "      <td>0.013306</td>\n",
              "      <td>0.333333</td>\n",
              "      <td>0.015675</td>\n",
              "      <td>0.062786</td>\n",
              "      <td>NaN</td>\n",
              "      <td>NaN</td>\n",
              "    </tr>\n",
              "    <tr>\n",
              "      <th>25739</th>\n",
              "      <td>0.880779</td>\n",
              "      <td>0.002516</td>\n",
              "      <td>0.0</td>\n",
              "      <td>1.0</td>\n",
              "      <td>0.0</td>\n",
              "      <td>0.0</td>\n",
              "      <td>0.0</td>\n",
              "      <td>0.0</td>\n",
              "      <td>0.0</td>\n",
              "      <td>0.0</td>\n",
              "      <td>...</td>\n",
              "      <td>0.0</td>\n",
              "      <td>Yarraville</td>\n",
              "      <td>0.166667</td>\n",
              "      <td>0.386691</td>\n",
              "      <td>0.013306</td>\n",
              "      <td>0.333333</td>\n",
              "      <td>0.014871</td>\n",
              "      <td>0.074921</td>\n",
              "      <td>0.367691</td>\n",
              "      <td>0.250115</td>\n",
              "    </tr>\n",
              "  </tbody>\n",
              "</table>\n",
              "<p>25740 rows × 22 columns</p>\n",
              "</div>\n",
              "      <button class=\"colab-df-convert\" onclick=\"convertToInteractive('df-c352c5ed-68fe-4874-962c-b98e1dd275fc')\"\n",
              "              title=\"Convert this dataframe to an interactive table.\"\n",
              "              style=\"display:none;\">\n",
              "        \n",
              "  <svg xmlns=\"http://www.w3.org/2000/svg\" height=\"24px\"viewBox=\"0 0 24 24\"\n",
              "       width=\"24px\">\n",
              "    <path d=\"M0 0h24v24H0V0z\" fill=\"none\"/>\n",
              "    <path d=\"M18.56 5.44l.94 2.06.94-2.06 2.06-.94-2.06-.94-.94-2.06-.94 2.06-2.06.94zm-11 1L8.5 8.5l.94-2.06 2.06-.94-2.06-.94L8.5 2.5l-.94 2.06-2.06.94zm10 10l.94 2.06.94-2.06 2.06-.94-2.06-.94-.94-2.06-.94 2.06-2.06.94z\"/><path d=\"M17.41 7.96l-1.37-1.37c-.4-.4-.92-.59-1.43-.59-.52 0-1.04.2-1.43.59L10.3 9.45l-7.72 7.72c-.78.78-.78 2.05 0 2.83L4 21.41c.39.39.9.59 1.41.59.51 0 1.02-.2 1.41-.59l7.78-7.78 2.81-2.81c.8-.78.8-2.07 0-2.86zM5.41 20L4 18.59l7.72-7.72 1.47 1.35L5.41 20z\"/>\n",
              "  </svg>\n",
              "      </button>\n",
              "      \n",
              "  <style>\n",
              "    .colab-df-container {\n",
              "      display:flex;\n",
              "      flex-wrap:wrap;\n",
              "      gap: 12px;\n",
              "    }\n",
              "\n",
              "    .colab-df-convert {\n",
              "      background-color: #E8F0FE;\n",
              "      border: none;\n",
              "      border-radius: 50%;\n",
              "      cursor: pointer;\n",
              "      display: none;\n",
              "      fill: #1967D2;\n",
              "      height: 32px;\n",
              "      padding: 0 0 0 0;\n",
              "      width: 32px;\n",
              "    }\n",
              "\n",
              "    .colab-df-convert:hover {\n",
              "      background-color: #E2EBFA;\n",
              "      box-shadow: 0px 1px 2px rgba(60, 64, 67, 0.3), 0px 1px 3px 1px rgba(60, 64, 67, 0.15);\n",
              "      fill: #174EA6;\n",
              "    }\n",
              "\n",
              "    [theme=dark] .colab-df-convert {\n",
              "      background-color: #3B4455;\n",
              "      fill: #D2E3FC;\n",
              "    }\n",
              "\n",
              "    [theme=dark] .colab-df-convert:hover {\n",
              "      background-color: #434B5C;\n",
              "      box-shadow: 0px 1px 3px 1px rgba(0, 0, 0, 0.15);\n",
              "      filter: drop-shadow(0px 1px 2px rgba(0, 0, 0, 0.3));\n",
              "      fill: #FFFFFF;\n",
              "    }\n",
              "  </style>\n",
              "\n",
              "      <script>\n",
              "        const buttonEl =\n",
              "          document.querySelector('#df-c352c5ed-68fe-4874-962c-b98e1dd275fc button.colab-df-convert');\n",
              "        buttonEl.style.display =\n",
              "          google.colab.kernel.accessAllowed ? 'block' : 'none';\n",
              "\n",
              "        async function convertToInteractive(key) {\n",
              "          const element = document.querySelector('#df-c352c5ed-68fe-4874-962c-b98e1dd275fc');\n",
              "          const dataTable =\n",
              "            await google.colab.kernel.invokeFunction('convertToInteractive',\n",
              "                                                     [key], {});\n",
              "          if (!dataTable) return;\n",
              "\n",
              "          const docLinkHtml = 'Like what you see? Visit the ' +\n",
              "            '<a target=\"_blank\" href=https://colab.research.google.com/notebooks/data_table.ipynb>data table notebook</a>'\n",
              "            + ' to learn more about interactive tables.';\n",
              "          element.innerHTML = '';\n",
              "          dataTable['output_type'] = 'display_data';\n",
              "          await google.colab.output.renderOutput(dataTable, element);\n",
              "          const docLink = document.createElement('div');\n",
              "          docLink.innerHTML = docLinkHtml;\n",
              "          element.appendChild(docLink);\n",
              "        }\n",
              "      </script>\n",
              "    </div>\n",
              "  </div>\n",
              "  "
            ]
          },
          "metadata": {},
          "execution_count": 39
        }
      ]
    },
    {
      "cell_type": "markdown",
      "source": [
        "**Para aplicar el método de PCA, verificamos nuevamente la existencia de valores NAN, ya que su eventual presencia no permite correr el método apropiadamente.**"
      ],
      "metadata": {
        "id": "fNVhz79ktrFr"
      }
    },
    {
      "cell_type": "code",
      "source": [
        "#Mostramos en qué columnas se encuentran los valores NaN:\n",
        "df_imp.isnull().any()"
      ],
      "metadata": {
        "colab": {
          "base_uri": "https://localhost:8080/"
        },
        "id": "ZM2ZP0ILR4U_",
        "outputId": "45c29a03-5d4a-4590-96f6-c02798dd5235"
      },
      "execution_count": 40,
      "outputs": [
        {
          "output_type": "execute_result",
          "data": {
            "text/plain": [
              "YearBuilt                                False\n",
              "BuildingArea                             False\n",
              "Regionname_Northern Metropolitan         False\n",
              "Regionname_Western Metropolitan          False\n",
              "Regionname_Southern Metropolitan         False\n",
              "Regionname_Eastern Metropolitan          False\n",
              "Regionname_South-Eastern Metropolitan    False\n",
              "Regionname_Eastern Victoria              False\n",
              "Regionname_Northern Victoria             False\n",
              "Regionname_Western Victoria              False\n",
              "Type_h                                   False\n",
              "Type_u                                   False\n",
              "Type_t                                   False\n",
              "Suburb                                   False\n",
              "Car                                      False\n",
              "Price                                    False\n",
              "Postcode                                 False\n",
              "Rooms                                    False\n",
              "AirB_record_count                         True\n",
              "AirB_daily_price_mean                     True\n",
              "AirB_weekly_price_mean                    True\n",
              "AirB_monthly_price_mean                   True\n",
              "dtype: bool"
            ]
          },
          "metadata": {},
          "execution_count": 40
        }
      ]
    },
    {
      "cell_type": "markdown",
      "source": [
        "Dado que tenemos registros con valores NAN, decidimos volver a imputar"
      ],
      "metadata": {
        "id": "tSvGtOekSFbR"
      }
    },
    {
      "cell_type": "code",
      "source": [
        "msno.bar(df_imp[['AirB_record_count','AirB_daily_price_mean','AirB_weekly_price_mean','AirB_monthly_price_mean' ]],figsize=(12, 6), fontsize=12, color='red');"
      ],
      "metadata": {
        "colab": {
          "base_uri": "https://localhost:8080/",
          "height": 538
        },
        "id": "2EXpzoumUpDG",
        "outputId": "d8083326-28c6-486c-dba2-591547512d55"
      },
      "execution_count": 41,
      "outputs": [
        {
          "output_type": "display_data",
          "data": {
            "text/plain": [
              "<Figure size 864x432 with 3 Axes>"
            ],
            "image/png": "[encoded data removed]"
          },
          "metadata": {
            "needs_background": "light"
          }
        }
      ]
    },
    {
      "cell_type": "code",
      "source": [
        "#Imputamos los atributos 'AirB_record_count','AirB_daily_price_mean','AirB_weekly_price_mean','AirB_monthly_price_mean'\n",
        "df_imp2 = df_imp.copy(deep=True)\n",
        "\n",
        "knn_imputer2 = IterativeImputer(random_state=0, estimator=KNeighborsRegressor())\n",
        "df_imp2[['AirB_record_count','AirB_daily_price_mean','AirB_weekly_price_mean','AirB_monthly_price_mean']] = knn_imputer2.fit_transform(\n",
        "    df_imp2[['AirB_record_count','AirB_daily_price_mean','AirB_weekly_price_mean','AirB_monthly_price_mean']])"
      ],
      "metadata": {
        "id": "pBrz3HITW9rP"
      },
      "execution_count": 42,
      "outputs": []
    },
    {
      "cell_type": "code",
      "source": [
        "msno.bar(df_imp2[['AirB_record_count','AirB_daily_price_mean','AirB_weekly_price_mean','AirB_monthly_price_mean' ]],figsize=(12, 6), fontsize=12, color='red');"
      ],
      "metadata": {
        "colab": {
          "base_uri": "https://localhost:8080/",
          "height": 538
        },
        "id": "f-jbHs0oXXlL",
        "outputId": "d6fa5d31-65a0-4557-a57a-78a295509d5e"
      },
      "execution_count": 43,
      "outputs": [
        {
          "output_type": "display_data",
          "data": {
            "text/plain": [
              "<Figure size 864x432 with 3 Axes>"
            ],
            "image/png": "[encoded data removed]"
          },
          "metadata": {
            "needs_background": "light"
          }
        }
      ]
    },
    {
      "cell_type": "markdown",
      "source": [
        "**Entrenamos la instancia de la clase PCA**\n",
        "\n"
      ],
      "metadata": {
        "id": "sft2JDkRQStb"
      }
    },
    {
      "cell_type": "markdown",
      "source": [
        "Aplicamos el método de PCA para el total de atributos"
      ],
      "metadata": {
        "id": "FNZo9JhNuyGE"
      }
    },
    {
      "cell_type": "code",
      "source": [
        "from sklearn.decomposition import PCA\n",
        "\n",
        "n_comp=21\n",
        "pca = PCA(n_comp)\n",
        "pca.fit(df_imp2)\n",
        "pca.explained_variance_\n",
        "pca.explained_variance_ratio_"
      ],
      "metadata": {
        "id": "l8ElGQpfQm8V",
        "colab": {
          "base_uri": "https://localhost:8080/",
          "height": 867
        },
        "outputId": "7af2d7bb-3ed9-47a4-fe4e-7e2ab6be0032"
      },
      "execution_count": 48,
      "outputs": [
        {
          "output_type": "error",
          "ename": "ValueError",
          "evalue": "ignored",
          "traceback": [
            "\u001b[0;31m---------------------------------------------------------------------------\u001b[0m",
            "\u001b[0;31mValueError\u001b[0m                                Traceback (most recent call last)",
            "\u001b[0;32m<ipython-input-48-23d394934430>\u001b[0m in \u001b[0;36m<module>\u001b[0;34m()\u001b[0m\n\u001b[1;32m      3\u001b[0m \u001b[0mn_comp\u001b[0m\u001b[0;34m=\u001b[0m\u001b[0;36m21\u001b[0m\u001b[0;34m\u001b[0m\u001b[0;34m\u001b[0m\u001b[0m\n\u001b[1;32m      4\u001b[0m \u001b[0mpca\u001b[0m \u001b[0;34m=\u001b[0m \u001b[0mPCA\u001b[0m\u001b[0;34m(\u001b[0m\u001b[0mn_comp\u001b[0m\u001b[0;34m)\u001b[0m\u001b[0;34m\u001b[0m\u001b[0;34m\u001b[0m\u001b[0m\n\u001b[0;32m----> 5\u001b[0;31m \u001b[0mpca\u001b[0m\u001b[0;34m.\u001b[0m\u001b[0mfit\u001b[0m\u001b[0;34m(\u001b[0m\u001b[0mdf_imp2\u001b[0m\u001b[0;34m)\u001b[0m\u001b[0;34m\u001b[0m\u001b[0;34m\u001b[0m\u001b[0m\n\u001b[0m\u001b[1;32m      6\u001b[0m \u001b[0mpca\u001b[0m\u001b[0;34m.\u001b[0m\u001b[0mexplained_variance_\u001b[0m\u001b[0;34m\u001b[0m\u001b[0;34m\u001b[0m\u001b[0m\n\u001b[1;32m      7\u001b[0m \u001b[0mpca\u001b[0m\u001b[0;34m.\u001b[0m\u001b[0mexplained_variance_ratio_\u001b[0m\u001b[0;34m\u001b[0m\u001b[0;34m\u001b[0m\u001b[0m\n",
            "\u001b[0;32m/usr/local/lib/python3.7/dist-packages/sklearn/decomposition/_pca.py\u001b[0m in \u001b[0;36mfit\u001b[0;34m(self, X, y)\u001b[0m\n\u001b[1;32m    380\u001b[0m             \u001b[0mReturns\u001b[0m \u001b[0mthe\u001b[0m \u001b[0minstance\u001b[0m \u001b[0mitself\u001b[0m\u001b[0;34m.\u001b[0m\u001b[0;34m\u001b[0m\u001b[0;34m\u001b[0m\u001b[0m\n\u001b[1;32m    381\u001b[0m         \"\"\"\n\u001b[0;32m--> 382\u001b[0;31m         \u001b[0mself\u001b[0m\u001b[0;34m.\u001b[0m\u001b[0m_fit\u001b[0m\u001b[0;34m(\u001b[0m\u001b[0mX\u001b[0m\u001b[0;34m)\u001b[0m\u001b[0;34m\u001b[0m\u001b[0;34m\u001b[0m\u001b[0m\n\u001b[0m\u001b[1;32m    383\u001b[0m         \u001b[0;32mreturn\u001b[0m \u001b[0mself\u001b[0m\u001b[0;34m\u001b[0m\u001b[0;34m\u001b[0m\u001b[0m\n\u001b[1;32m    384\u001b[0m \u001b[0;34m\u001b[0m\u001b[0m\n",
            "\u001b[0;32m/usr/local/lib/python3.7/dist-packages/sklearn/decomposition/_pca.py\u001b[0m in \u001b[0;36m_fit\u001b[0;34m(self, X)\u001b[0m\n\u001b[1;32m    429\u001b[0m \u001b[0;34m\u001b[0m\u001b[0m\n\u001b[1;32m    430\u001b[0m         X = self._validate_data(\n\u001b[0;32m--> 431\u001b[0;31m             \u001b[0mX\u001b[0m\u001b[0;34m,\u001b[0m \u001b[0mdtype\u001b[0m\u001b[0;34m=\u001b[0m\u001b[0;34m[\u001b[0m\u001b[0mnp\u001b[0m\u001b[0;34m.\u001b[0m\u001b[0mfloat64\u001b[0m\u001b[0;34m,\u001b[0m \u001b[0mnp\u001b[0m\u001b[0;34m.\u001b[0m\u001b[0mfloat32\u001b[0m\u001b[0;34m]\u001b[0m\u001b[0;34m,\u001b[0m \u001b[0mensure_2d\u001b[0m\u001b[0;34m=\u001b[0m\u001b[0;32mTrue\u001b[0m\u001b[0;34m,\u001b[0m \u001b[0mcopy\u001b[0m\u001b[0;34m=\u001b[0m\u001b[0mself\u001b[0m\u001b[0;34m.\u001b[0m\u001b[0mcopy\u001b[0m\u001b[0;34m\u001b[0m\u001b[0;34m\u001b[0m\u001b[0m\n\u001b[0m\u001b[1;32m    432\u001b[0m         )\n\u001b[1;32m    433\u001b[0m \u001b[0;34m\u001b[0m\u001b[0m\n",
            "\u001b[0;32m/usr/local/lib/python3.7/dist-packages/sklearn/base.py\u001b[0m in \u001b[0;36m_validate_data\u001b[0;34m(self, X, y, reset, validate_separately, **check_params)\u001b[0m\n\u001b[1;32m    564\u001b[0m             \u001b[0;32mraise\u001b[0m \u001b[0mValueError\u001b[0m\u001b[0;34m(\u001b[0m\u001b[0;34m\"Validation should be done on X, y or both.\"\u001b[0m\u001b[0;34m)\u001b[0m\u001b[0;34m\u001b[0m\u001b[0;34m\u001b[0m\u001b[0m\n\u001b[1;32m    565\u001b[0m         \u001b[0;32melif\u001b[0m \u001b[0;32mnot\u001b[0m \u001b[0mno_val_X\u001b[0m \u001b[0;32mand\u001b[0m \u001b[0mno_val_y\u001b[0m\u001b[0;34m:\u001b[0m\u001b[0;34m\u001b[0m\u001b[0;34m\u001b[0m\u001b[0m\n\u001b[0;32m--> 566\u001b[0;31m             \u001b[0mX\u001b[0m \u001b[0;34m=\u001b[0m \u001b[0mcheck_array\u001b[0m\u001b[0;34m(\u001b[0m\u001b[0mX\u001b[0m\u001b[0;34m,\u001b[0m \u001b[0;34m**\u001b[0m\u001b[0mcheck_params\u001b[0m\u001b[0;34m)\u001b[0m\u001b[0;34m\u001b[0m\u001b[0;34m\u001b[0m\u001b[0m\n\u001b[0m\u001b[1;32m    567\u001b[0m             \u001b[0mout\u001b[0m \u001b[0;34m=\u001b[0m \u001b[0mX\u001b[0m\u001b[0;34m\u001b[0m\u001b[0;34m\u001b[0m\u001b[0m\n\u001b[1;32m    568\u001b[0m         \u001b[0;32melif\u001b[0m \u001b[0mno_val_X\u001b[0m \u001b[0;32mand\u001b[0m \u001b[0;32mnot\u001b[0m \u001b[0mno_val_y\u001b[0m\u001b[0;34m:\u001b[0m\u001b[0;34m\u001b[0m\u001b[0;34m\u001b[0m\u001b[0m\n",
            "\u001b[0;32m/usr/local/lib/python3.7/dist-packages/sklearn/utils/validation.py\u001b[0m in \u001b[0;36mcheck_array\u001b[0;34m(array, accept_sparse, accept_large_sparse, dtype, order, copy, force_all_finite, ensure_2d, allow_nd, ensure_min_samples, ensure_min_features, estimator)\u001b[0m\n\u001b[1;32m    744\u001b[0m                     \u001b[0marray\u001b[0m \u001b[0;34m=\u001b[0m \u001b[0marray\u001b[0m\u001b[0;34m.\u001b[0m\u001b[0mastype\u001b[0m\u001b[0;34m(\u001b[0m\u001b[0mdtype\u001b[0m\u001b[0;34m,\u001b[0m \u001b[0mcasting\u001b[0m\u001b[0;34m=\u001b[0m\u001b[0;34m\"unsafe\"\u001b[0m\u001b[0;34m,\u001b[0m \u001b[0mcopy\u001b[0m\u001b[0;34m=\u001b[0m\u001b[0;32mFalse\u001b[0m\u001b[0;34m)\u001b[0m\u001b[0;34m\u001b[0m\u001b[0;34m\u001b[0m\u001b[0m\n\u001b[1;32m    745\u001b[0m                 \u001b[0;32melse\u001b[0m\u001b[0;34m:\u001b[0m\u001b[0;34m\u001b[0m\u001b[0;34m\u001b[0m\u001b[0m\n\u001b[0;32m--> 746\u001b[0;31m                     \u001b[0marray\u001b[0m \u001b[0;34m=\u001b[0m \u001b[0mnp\u001b[0m\u001b[0;34m.\u001b[0m\u001b[0masarray\u001b[0m\u001b[0;34m(\u001b[0m\u001b[0marray\u001b[0m\u001b[0;34m,\u001b[0m \u001b[0morder\u001b[0m\u001b[0;34m=\u001b[0m\u001b[0morder\u001b[0m\u001b[0;34m,\u001b[0m \u001b[0mdtype\u001b[0m\u001b[0;34m=\u001b[0m\u001b[0mdtype\u001b[0m\u001b[0;34m)\u001b[0m\u001b[0;34m\u001b[0m\u001b[0;34m\u001b[0m\u001b[0m\n\u001b[0m\u001b[1;32m    747\u001b[0m             \u001b[0;32mexcept\u001b[0m \u001b[0mComplexWarning\u001b[0m \u001b[0;32mas\u001b[0m \u001b[0mcomplex_warning\u001b[0m\u001b[0;34m:\u001b[0m\u001b[0;34m\u001b[0m\u001b[0;34m\u001b[0m\u001b[0m\n\u001b[1;32m    748\u001b[0m                 raise ValueError(\n",
            "\u001b[0;32m/usr/local/lib/python3.7/dist-packages/pandas/core/generic.py\u001b[0m in \u001b[0;36m__array__\u001b[0;34m(self, dtype)\u001b[0m\n\u001b[1;32m   1991\u001b[0m \u001b[0;34m\u001b[0m\u001b[0m\n\u001b[1;32m   1992\u001b[0m     \u001b[0;32mdef\u001b[0m \u001b[0m__array__\u001b[0m\u001b[0;34m(\u001b[0m\u001b[0mself\u001b[0m\u001b[0;34m,\u001b[0m \u001b[0mdtype\u001b[0m\u001b[0;34m:\u001b[0m \u001b[0mNpDtype\u001b[0m \u001b[0;34m|\u001b[0m \u001b[0;32mNone\u001b[0m \u001b[0;34m=\u001b[0m \u001b[0;32mNone\u001b[0m\u001b[0;34m)\u001b[0m \u001b[0;34m->\u001b[0m \u001b[0mnp\u001b[0m\u001b[0;34m.\u001b[0m\u001b[0mndarray\u001b[0m\u001b[0;34m:\u001b[0m\u001b[0;34m\u001b[0m\u001b[0;34m\u001b[0m\u001b[0m\n\u001b[0;32m-> 1993\u001b[0;31m         \u001b[0;32mreturn\u001b[0m \u001b[0mnp\u001b[0m\u001b[0;34m.\u001b[0m\u001b[0masarray\u001b[0m\u001b[0;34m(\u001b[0m\u001b[0mself\u001b[0m\u001b[0;34m.\u001b[0m\u001b[0m_values\u001b[0m\u001b[0;34m,\u001b[0m \u001b[0mdtype\u001b[0m\u001b[0;34m=\u001b[0m\u001b[0mdtype\u001b[0m\u001b[0;34m)\u001b[0m\u001b[0;34m\u001b[0m\u001b[0;34m\u001b[0m\u001b[0m\n\u001b[0m\u001b[1;32m   1994\u001b[0m \u001b[0;34m\u001b[0m\u001b[0m\n\u001b[1;32m   1995\u001b[0m     def __array_wrap__(\n",
            "\u001b[0;31mValueError\u001b[0m: could not convert string to float: 'Abbotsford'"
          ]
        }
      ]
    },
    {
      "cell_type": "markdown",
      "source": [
        "Graficamos la Proporción de Varianza Explicada acumulada para todas las componentes para decidir cantidad de componentes óptimas."
      ],
      "metadata": {
        "id": "DGWoGlGUvE0I"
      }
    },
    {
      "cell_type": "code",
      "source": [
        "eje_y = np.cumsum(prop_var_expl)\n",
        "fig,ax = plt.subplots(figsize = [16,8])\n",
        "ax.plot([str(i) for i in range(1,n_comp+1)], eje_y)\n",
        "plt.xlabel('Componentes principales')\n",
        "plt.ylabel(\"Proporción de Varianza Explicada Acumulada\")\n",
        "plt.show()"
      ],
      "metadata": {
        "id": "_jX2QtLzvHLX"
      },
      "execution_count": null,
      "outputs": []
    },
    {
      "cell_type": "markdown",
      "source": [
        "**Observamos que a partir de 7 componentes el incremento en la Proporción de la Varianza Explicada Acumulada deja de ser sustancial. Decidimos si elegimos 7 u 8 componenetes imprimendo la suma de la Proporción de la Varianza explicada.**"
      ],
      "metadata": {
        "id": "h_Zdasq4vTXE"
      }
    },
    {
      "cell_type": "code",
      "source": [
        "#Imprimos la suma de la proporción de la varianza explicada para decidir \n",
        "#cantidad de componentes. \n",
        "np.cumsum(pca.explained_variance_ratio_)"
      ],
      "metadata": {
        "id": "ct4dMImznsXG"
      },
      "execution_count": null,
      "outputs": []
    },
    {
      "cell_type": "markdown",
      "source": [
        "**De los resultados anterioriores vemos que 8 componentes resultan suficientes para explicar los datos considerando el 97% del total de datos.**"
      ],
      "metadata": {
        "id": "zuE5YZICwVD2"
      }
    },
    {
      "cell_type": "code",
      "source": [
        "#Aplicamos PCA para el número de componentes que \n",
        "#decidimos en el paso anterior\n",
        "n_comp=8\n",
        "pca = PCA(n_comp)\n",
        "princ_comp = pca.fit(df_imp2)\n",
        "\"\"\"Cada número es el peso que se le asigna a los 21 atributos y luego se\n",
        "\"suma la multiplicación del peso*atributo para obtener la componente principal\"\"\"\n",
        "var_expl = pca.explained_variance_\n",
        "prop_var_expl = pca.explained_variance_ratio_"
      ],
      "metadata": {
        "id": "Dzmif6iEvN04"
      },
      "execution_count": null,
      "outputs": []
    },
    {
      "cell_type": "markdown",
      "source": [
        "**3.2** Grafique la varianza capturada por los primeros $n$ componentes principales, para cada $n$."
      ],
      "metadata": {
        "id": "4U5prrYCvXKi"
      }
    },
    {
      "cell_type": "markdown",
      "source": [
        "Porcentaje de varianza explicada por cada componente"
      ],
      "metadata": {
        "id": "a21OBQvkwtgN"
      }
    },
    {
      "cell_type": "code",
      "source": [
        "porc=((prop_var_expl)*100)\n"
      ],
      "metadata": {
        "id": "9ffEYHNZ2ovn"
      },
      "execution_count": null,
      "outputs": []
    },
    {
      "cell_type": "code",
      "source": [
        "fig,ax = plt.subplots(figsize =[15,8])\n",
        "ax.bar(x = [f\"PC\" + str(i) for i in range(1,n_comp+1)], height=porc, color=\"red\")\n",
        "ax.plot([f\"PC\" + str(i) for i in range(1,n_comp+1)], porc)\n",
        "ax.set_title('Porcentaje de varianza explicada por cada componente')\n",
        "plt.xlabel('Componentes principales')\n",
        "plt.ylabel(\"Proporción de Varianza Explicada\")\n",
        "plt.show()"
      ],
      "metadata": {
        "id": "U482o4EiphcV"
      },
      "execution_count": null,
      "outputs": []
    },
    {
      "cell_type": "markdown",
      "source": [
        "**En el gráfico anterior observamos que la primera componente explica el 30,99% de la varianza observada en los datos y la segunda el 22,64%. Las dos últimas componentes no superan por separado el 3% de la varianza.**"
      ],
      "metadata": {
        "id": "stAcRqDj2Irg"
      }
    },
    {
      "cell_type": "markdown",
      "source": [
        "3.3 En base al gráfico, seleccione las primeras $m$ columnas de la matriz transformada para agregar como nuevas características al conjunto de datos."
      ],
      "metadata": {
        "id": "oAg1OuKMckcA"
      }
    },
    {
      "cell_type": "code",
      "source": [
        "df_pca= pca.transform(df_imp2)\n",
        "df_components = pd.DataFrame(data=df_pca,\n",
        "    columns =[f\"PC\" + str(i) for i in range(1,n_comp+1)])\n",
        "df_components"
      ],
      "metadata": {
        "id": "90vpGoOc47ea"
      },
      "execution_count": null,
      "outputs": []
    },
    {
      "cell_type": "code",
      "source": [
        "# Añadimos el dataframe que se creó al aplicar PCA al dataframe imputado df_imp2\n",
        "df_final= pd.concat([df_imp2, df_components], axis = 1)\n",
        "df_final"
      ],
      "metadata": {
        "id": "pdq44muN7u9Q"
      },
      "execution_count": null,
      "outputs": []
    },
    {
      "cell_type": "markdown",
      "metadata": {
        "id": "WrZTYmG_ZyDy"
      },
      "source": [
        "## Ejercicio 4: Composición del resultado\n",
        "\n",
        "Transformar nuevamente el conjunto de datos procesado en un `pandas.DataFrame` y guardarlo en un archivo.\n",
        "\n",
        "Para eso, será necesario recordar el nombre original de cada columna de la matriz, en el orden correcto. Tener en cuenta:\n",
        "1. El método `OneHotEncoder.get_feature_names` o el atributo `OneHotEncoder.categories_` permiten obtener una lista con los valores de la categoría que le corresponde a cada índice de la matriz.\n",
        "2. Ninguno de los métodos aplicados intercambia de lugar las columnas o las filas de la matriz."
      ]
    },
    {
      "cell_type": "markdown",
      "source": [
        "#**RESOLUCIÓN EJERCICIO 4**\n",
        "\n",
        "Transformar nuevamente el conjunto de datos procesado en un `pandas.DataFrame` y guardarlo en un archivo."
      ],
      "metadata": {
        "id": "bHxcgpDi98JH"
      }
    },
    {
      "cell_type": "markdown",
      "source": [
        "**En el item 3.3 resolvimos trabajar directamente con los dataframes. Unimos el daframe obtenido al aplicar PCA con el dataframe en el que habíamos imputado los valores a aquellos atributos que tenían valores NAN. El conjunto de datos procesados es el dataframe *df_final*.**"
      ],
      "metadata": {
        "id": "C8TYc6oq-HCY"
      }
    },
    {
      "cell_type": "code",
      "source": [
        "df_final"
      ],
      "metadata": {
        "id": "TnN0rpqV_rcN"
      },
      "execution_count": null,
      "outputs": []
    },
    {
      "cell_type": "markdown",
      "source": [
        "Transformamos el dataframe **df_final** a archivo de texto plano para luego ser descargado de ser necesario."
      ],
      "metadata": {
        "id": "UrTZdIHEASGd"
      }
    },
    {
      "cell_type": "code",
      "source": [
        "df_final.to_csv(\"df_final_AyC_Grupo32.csv\", index=None)\n"
      ],
      "metadata": {
        "id": "MXJyWIQQAAOJ"
      },
      "execution_count": null,
      "outputs": []
    },
    {
      "cell_type": "code",
      "source": [
        "#from google.colab import files\n",
        "#files.download('df_final_AyC_Grupo32.csv')"
      ],
      "metadata": {
        "id": "bgIDgNhIBCQv"
      },
      "execution_count": null,
      "outputs": []
    },
    {
      "cell_type": "markdown",
      "metadata": {
        "id": "mVBLFc8PhRtW"
      },
      "source": [
        "## Ejercicio 5: Documentación\n",
        "\n",
        "En un documento `.pdf` o `.md` realizar un reporte de las operaciones que realizaron para obtener el conjunto de datos final. Se debe incluir:\n",
        "  1. Criterios de exclusión (o inclusión) de filas\n",
        "  2. Interpretación de las columnas presentes\n",
        "  2. Todas las transofrmaciones realizadas\n",
        "\n",
        "Este documento es de uso técnico exclusivamente, y su objetivo es permitir que otres desarrolladores puedan reproducir los mismos pasos y obtener el mismo resultado. Debe ser detallado pero consiso. Por ejemplo:\n",
        "\n",
        "```\n",
        "  ## Criterios de exclusión de ejemplos\n",
        "  1. Se eliminan ejemplos donde el año de construcción es previo a 1900\n",
        "\n",
        "  ## Características seleccionadas\n",
        "  ### Características categóricas\n",
        "  1. Type: tipo de propiedad. 3 valores posibles\n",
        "  2. ...\n",
        "  Todas las características categóricas fueron codificadas con un\n",
        "  método OneHotEncoding utilizando como máximo sus 30 valores más \n",
        "  frecuentes.\n",
        "  \n",
        "  ### Características numéricas\n",
        "  1. Rooms: Cantidad de habitaciones\n",
        "  2. Distance: Distancia al centro de la ciudad.\n",
        "  3. airbnb_mean_price: Se agrega el precio promedio diario de \n",
        "     publicaciones de la plataforma AirBnB en el mismo código \n",
        "     postal. [Link al repositorio con datos externos].\n",
        "\n",
        "  ### Transformaciones:\n",
        "  1. Todas las características numéricas fueron estandarizadas.\n",
        "  2. La columna `Suburb` fue imputada utilizando el método ...\n",
        "  3. Las columnas `YearBuilt` y ... fueron imputadas utilizando el \n",
        "     algoritmo ...\n",
        "  4. ...\n",
        "\n",
        "  ### Datos aumentados\n",
        "  1. Se agregan las 5 primeras columnas obtenidas a través del\n",
        "     método de PCA, aplicado sobre el conjunto de datos\n",
        "     totalmente procesado.\n",
        "```\n"
      ]
    },
    {
      "cell_type": "markdown",
      "metadata": {
        "id": "Bq7nuPg2HIYx"
      },
      "source": [
        ""
      ]
    }
  ]
}