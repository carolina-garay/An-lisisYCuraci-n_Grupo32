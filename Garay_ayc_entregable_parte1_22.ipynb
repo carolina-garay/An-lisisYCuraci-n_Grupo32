{
  "cells": [
    {
      "cell_type": "markdown",
      "metadata": {
        "id": "view-in-github",
        "colab_type": "text"
      },
      "source": [
        "<a href=\"https://colab.research.google.com/github/carolina-garay/AnalisisYCuracion_Grupo32/blob/carolina_Garay_AyC/Garay_ayc_entregable_parte1_22.ipynb\" target=\"_parent\"><img src=\"https://colab.research.google.com/assets/colab-badge.svg\" alt=\"Open In Colab\"/></a>"
      ]
    },
    {
      "cell_type": "markdown",
      "id": "e0ff301b-5595-4a0b-a2b8-3d5609a0485d",
      "metadata": {
        "id": "e0ff301b-5595-4a0b-a2b8-3d5609a0485d"
      },
      "source": [
        "**Diplomatura en Ciencia de Datos, Aprendizaje Automático y sus Aplicaciones**\n",
        "\n",
        "**Exploración y Curación de Datos**\n",
        "\n",
        "*Edición 2022*\n",
        "\n",
        "----\n",
        "\n",
        "# Trabajo práctico entregable - parte 1\n",
        "Garay Carolina\n",
        "\n",
        "En esta notebook, vamos a cargar el conjunto de datos de [la compentencia Kaggle](https://www.kaggle.com/dansbecker/melbourne-housing-snapshot) sobre estimación de precios de ventas de propiedades en Melbourne, Australia.\n",
        "\n",
        "Utilizaremos el conjunto de datos reducido producido por [DanB](https://www.kaggle.com/dansbecker). Hemos subido una copia a un servidor de la Universidad Nacional de Córdoba para facilitar su acceso remoto."
      ]
    },
    {
      "cell_type": "code",
      "source": [
        "import matplotlib.pyplot as plt\n",
        "import numpy\n",
        "import pandas\n",
        "\n",
        "import seaborn as sns\n",
        "sns.set_context('talk')\n",
        "\n",
        "from decouple import config\n",
        "from sqlalchemy import create_engine, text\n",
        "import plotly\n",
        "plotly.__version__\n",
        "# Make sure it's 4.14.3"
      ],
      "metadata": {
        "colab": {
          "base_uri": "https://localhost:8080/",
          "height": 35
        },
        "id": "HButFUBxuZq1",
        "outputId": "a1922f4a-2502-4721-b76a-a121c1058128"
      },
      "id": "HButFUBxuZq1",
      "execution_count": 10,
      "outputs": [
        {
          "output_type": "execute_result",
          "data": {
            "text/plain": [
              "'5.5.0'"
            ],
            "application/vnd.google.colaboratory.intrinsic+json": {
              "type": "string"
            }
          },
          "metadata": {},
          "execution_count": 10
        }
      ]
    },
    {
      "cell_type": "code",
      "execution_count": 9,
      "id": "ce478cbd-0f49-4f15-8dc5-1fe1a5b39f17",
      "metadata": {
        "id": "ce478cbd-0f49-4f15-8dc5-1fe1a5b39f17",
        "colab": {
          "base_uri": "https://localhost:8080/"
        },
        "outputId": "6e4de1df-3dde-4842-b39b-1f5453f26574"
      },
      "outputs": [
        {
          "output_type": "stream",
          "name": "stdout",
          "text": [
            "Requirement already satisfied: python-decouple in /usr/local/lib/python3.7/dist-packages (3.6)\n"
          ]
        }
      ],
      "source": [
        "pip install python-decouple"
      ]
    },
    {
      "cell_type": "code",
      "execution_count": 11,
      "id": "5ba8bfd5-199a-4390-a5b4-11ec9669b3e1",
      "metadata": {
        "id": "5ba8bfd5-199a-4390-a5b4-11ec9669b3e1",
        "outputId": "292cd6ab-8a3e-4678-bc05-bbed6a0598d9",
        "colab": {
          "base_uri": "https://localhost:8080/",
          "height": 303
        }
      },
      "outputs": [
        {
          "output_type": "execute_result",
          "data": {
            "text/plain": [
              "       Suburb          Address  Rooms Type      Price Method SellerG  \\\n",
              "0  Abbotsford     85 Turner St      2    h  1480000.0      S  Biggin   \n",
              "1  Abbotsford  25 Bloomburg St      2    h  1035000.0      S  Biggin   \n",
              "2  Abbotsford     5 Charles St      3    h  1465000.0     SP  Biggin   \n",
              "\n",
              "        Date  Distance  Postcode  ...  Bathroom  Car  Landsize  BuildingArea  \\\n",
              "0  3/12/2016       2.5    3067.0  ...       1.0  1.0     202.0           NaN   \n",
              "1  4/02/2016       2.5    3067.0  ...       1.0  0.0     156.0          79.0   \n",
              "2  4/03/2017       2.5    3067.0  ...       2.0  0.0     134.0         150.0   \n",
              "\n",
              "   YearBuilt  CouncilArea Lattitude  Longtitude             Regionname  \\\n",
              "0        NaN        Yarra  -37.7996    144.9984  Northern Metropolitan   \n",
              "1     1900.0        Yarra  -37.8079    144.9934  Northern Metropolitan   \n",
              "2     1900.0        Yarra  -37.8093    144.9944  Northern Metropolitan   \n",
              "\n",
              "  Propertycount  \n",
              "0        4019.0  \n",
              "1        4019.0  \n",
              "2        4019.0  \n",
              "\n",
              "[3 rows x 21 columns]"
            ],
            "text/html": [
              "\n",
              "  <div id=\"df-21629caa-59b2-4d12-8d3f-d3df598affd2\">\n",
              "    <div class=\"colab-df-container\">\n",
              "      <div>\n",
              "<style scoped>\n",
              "    .dataframe tbody tr th:only-of-type {\n",
              "        vertical-align: middle;\n",
              "    }\n",
              "\n",
              "    .dataframe tbody tr th {\n",
              "        vertical-align: top;\n",
              "    }\n",
              "\n",
              "    .dataframe thead th {\n",
              "        text-align: right;\n",
              "    }\n",
              "</style>\n",
              "<table border=\"1\" class=\"dataframe\">\n",
              "  <thead>\n",
              "    <tr style=\"text-align: right;\">\n",
              "      <th></th>\n",
              "      <th>Suburb</th>\n",
              "      <th>Address</th>\n",
              "      <th>Rooms</th>\n",
              "      <th>Type</th>\n",
              "      <th>Price</th>\n",
              "      <th>Method</th>\n",
              "      <th>SellerG</th>\n",
              "      <th>Date</th>\n",
              "      <th>Distance</th>\n",
              "      <th>Postcode</th>\n",
              "      <th>...</th>\n",
              "      <th>Bathroom</th>\n",
              "      <th>Car</th>\n",
              "      <th>Landsize</th>\n",
              "      <th>BuildingArea</th>\n",
              "      <th>YearBuilt</th>\n",
              "      <th>CouncilArea</th>\n",
              "      <th>Lattitude</th>\n",
              "      <th>Longtitude</th>\n",
              "      <th>Regionname</th>\n",
              "      <th>Propertycount</th>\n",
              "    </tr>\n",
              "  </thead>\n",
              "  <tbody>\n",
              "    <tr>\n",
              "      <th>0</th>\n",
              "      <td>Abbotsford</td>\n",
              "      <td>85 Turner St</td>\n",
              "      <td>2</td>\n",
              "      <td>h</td>\n",
              "      <td>1480000.0</td>\n",
              "      <td>S</td>\n",
              "      <td>Biggin</td>\n",
              "      <td>3/12/2016</td>\n",
              "      <td>2.5</td>\n",
              "      <td>3067.0</td>\n",
              "      <td>...</td>\n",
              "      <td>1.0</td>\n",
              "      <td>1.0</td>\n",
              "      <td>202.0</td>\n",
              "      <td>NaN</td>\n",
              "      <td>NaN</td>\n",
              "      <td>Yarra</td>\n",
              "      <td>-37.7996</td>\n",
              "      <td>144.9984</td>\n",
              "      <td>Northern Metropolitan</td>\n",
              "      <td>4019.0</td>\n",
              "    </tr>\n",
              "    <tr>\n",
              "      <th>1</th>\n",
              "      <td>Abbotsford</td>\n",
              "      <td>25 Bloomburg St</td>\n",
              "      <td>2</td>\n",
              "      <td>h</td>\n",
              "      <td>1035000.0</td>\n",
              "      <td>S</td>\n",
              "      <td>Biggin</td>\n",
              "      <td>4/02/2016</td>\n",
              "      <td>2.5</td>\n",
              "      <td>3067.0</td>\n",
              "      <td>...</td>\n",
              "      <td>1.0</td>\n",
              "      <td>0.0</td>\n",
              "      <td>156.0</td>\n",
              "      <td>79.0</td>\n",
              "      <td>1900.0</td>\n",
              "      <td>Yarra</td>\n",
              "      <td>-37.8079</td>\n",
              "      <td>144.9934</td>\n",
              "      <td>Northern Metropolitan</td>\n",
              "      <td>4019.0</td>\n",
              "    </tr>\n",
              "    <tr>\n",
              "      <th>2</th>\n",
              "      <td>Abbotsford</td>\n",
              "      <td>5 Charles St</td>\n",
              "      <td>3</td>\n",
              "      <td>h</td>\n",
              "      <td>1465000.0</td>\n",
              "      <td>SP</td>\n",
              "      <td>Biggin</td>\n",
              "      <td>4/03/2017</td>\n",
              "      <td>2.5</td>\n",
              "      <td>3067.0</td>\n",
              "      <td>...</td>\n",
              "      <td>2.0</td>\n",
              "      <td>0.0</td>\n",
              "      <td>134.0</td>\n",
              "      <td>150.0</td>\n",
              "      <td>1900.0</td>\n",
              "      <td>Yarra</td>\n",
              "      <td>-37.8093</td>\n",
              "      <td>144.9944</td>\n",
              "      <td>Northern Metropolitan</td>\n",
              "      <td>4019.0</td>\n",
              "    </tr>\n",
              "  </tbody>\n",
              "</table>\n",
              "<p>3 rows × 21 columns</p>\n",
              "</div>\n",
              "      <button class=\"colab-df-convert\" onclick=\"convertToInteractive('df-21629caa-59b2-4d12-8d3f-d3df598affd2')\"\n",
              "              title=\"Convert this dataframe to an interactive table.\"\n",
              "              style=\"display:none;\">\n",
              "        \n",
              "  <svg xmlns=\"http://www.w3.org/2000/svg\" height=\"24px\"viewBox=\"0 0 24 24\"\n",
              "       width=\"24px\">\n",
              "    <path d=\"M0 0h24v24H0V0z\" fill=\"none\"/>\n",
              "    <path d=\"M18.56 5.44l.94 2.06.94-2.06 2.06-.94-2.06-.94-.94-2.06-.94 2.06-2.06.94zm-11 1L8.5 8.5l.94-2.06 2.06-.94-2.06-.94L8.5 2.5l-.94 2.06-2.06.94zm10 10l.94 2.06.94-2.06 2.06-.94-2.06-.94-.94-2.06-.94 2.06-2.06.94z\"/><path d=\"M17.41 7.96l-1.37-1.37c-.4-.4-.92-.59-1.43-.59-.52 0-1.04.2-1.43.59L10.3 9.45l-7.72 7.72c-.78.78-.78 2.05 0 2.83L4 21.41c.39.39.9.59 1.41.59.51 0 1.02-.2 1.41-.59l7.78-7.78 2.81-2.81c.8-.78.8-2.07 0-2.86zM5.41 20L4 18.59l7.72-7.72 1.47 1.35L5.41 20z\"/>\n",
              "  </svg>\n",
              "      </button>\n",
              "      \n",
              "  <style>\n",
              "    .colab-df-container {\n",
              "      display:flex;\n",
              "      flex-wrap:wrap;\n",
              "      gap: 12px;\n",
              "    }\n",
              "\n",
              "    .colab-df-convert {\n",
              "      background-color: #E8F0FE;\n",
              "      border: none;\n",
              "      border-radius: 50%;\n",
              "      cursor: pointer;\n",
              "      display: none;\n",
              "      fill: #1967D2;\n",
              "      height: 32px;\n",
              "      padding: 0 0 0 0;\n",
              "      width: 32px;\n",
              "    }\n",
              "\n",
              "    .colab-df-convert:hover {\n",
              "      background-color: #E2EBFA;\n",
              "      box-shadow: 0px 1px 2px rgba(60, 64, 67, 0.3), 0px 1px 3px 1px rgba(60, 64, 67, 0.15);\n",
              "      fill: #174EA6;\n",
              "    }\n",
              "\n",
              "    [theme=dark] .colab-df-convert {\n",
              "      background-color: #3B4455;\n",
              "      fill: #D2E3FC;\n",
              "    }\n",
              "\n",
              "    [theme=dark] .colab-df-convert:hover {\n",
              "      background-color: #434B5C;\n",
              "      box-shadow: 0px 1px 3px 1px rgba(0, 0, 0, 0.15);\n",
              "      filter: drop-shadow(0px 1px 2px rgba(0, 0, 0, 0.3));\n",
              "      fill: #FFFFFF;\n",
              "    }\n",
              "  </style>\n",
              "\n",
              "      <script>\n",
              "        const buttonEl =\n",
              "          document.querySelector('#df-21629caa-59b2-4d12-8d3f-d3df598affd2 button.colab-df-convert');\n",
              "        buttonEl.style.display =\n",
              "          google.colab.kernel.accessAllowed ? 'block' : 'none';\n",
              "\n",
              "        async function convertToInteractive(key) {\n",
              "          const element = document.querySelector('#df-21629caa-59b2-4d12-8d3f-d3df598affd2');\n",
              "          const dataTable =\n",
              "            await google.colab.kernel.invokeFunction('convertToInteractive',\n",
              "                                                     [key], {});\n",
              "          if (!dataTable) return;\n",
              "\n",
              "          const docLinkHtml = 'Like what you see? Visit the ' +\n",
              "            '<a target=\"_blank\" href=https://colab.research.google.com/notebooks/data_table.ipynb>data table notebook</a>'\n",
              "            + ' to learn more about interactive tables.';\n",
              "          element.innerHTML = '';\n",
              "          dataTable['output_type'] = 'display_data';\n",
              "          await google.colab.output.renderOutput(dataTable, element);\n",
              "          const docLink = document.createElement('div');\n",
              "          docLink.innerHTML = docLinkHtml;\n",
              "          element.appendChild(docLink);\n",
              "        }\n",
              "      </script>\n",
              "    </div>\n",
              "  </div>\n",
              "  "
            ]
          },
          "metadata": {},
          "execution_count": 11
        }
      ],
      "source": [
        "#Lectura del dataset\n",
        "melb_df = pandas.read_csv(\n",
        "    'https://cs.famaf.unc.edu.ar/~mteruel/datasets/diplodatos/melb_data.csv')\n",
        "melb_df[:3]"
      ]
    },
    {
      "cell_type": "code",
      "source": [
        "#Visualización de columnas\n",
        "melb_df.columns"
      ],
      "metadata": {
        "colab": {
          "base_uri": "https://localhost:8080/"
        },
        "id": "k6n9Nt1o25Qa",
        "outputId": "ee9f330f-02cf-4f9b-8562-3cdd9c12de61"
      },
      "id": "k6n9Nt1o25Qa",
      "execution_count": 12,
      "outputs": [
        {
          "output_type": "execute_result",
          "data": {
            "text/plain": [
              "Index(['Suburb', 'Address', 'Rooms', 'Type', 'Price', 'Method', 'SellerG',\n",
              "       'Date', 'Distance', 'Postcode', 'Bedroom2', 'Bathroom', 'Car',\n",
              "       'Landsize', 'BuildingArea', 'YearBuilt', 'CouncilArea', 'Lattitude',\n",
              "       'Longtitude', 'Regionname', 'Propertycount'],\n",
              "      dtype='object')"
            ]
          },
          "metadata": {},
          "execution_count": 12
        }
      ]
    },
    {
      "cell_type": "code",
      "source": [
        "#Visualización de tipos de datos\n",
        "\n",
        "melb_df.dtypes"
      ],
      "metadata": {
        "colab": {
          "base_uri": "https://localhost:8080/"
        },
        "id": "k5Jkivw425qR",
        "outputId": "028f1e51-a87c-446a-8b94-d700240de032"
      },
      "id": "k5Jkivw425qR",
      "execution_count": 15,
      "outputs": [
        {
          "output_type": "execute_result",
          "data": {
            "text/plain": [
              "Suburb            object\n",
              "Address           object\n",
              "Rooms              int64\n",
              "Type              object\n",
              "Price            float64\n",
              "Method            object\n",
              "SellerG           object\n",
              "Date              object\n",
              "Distance         float64\n",
              "Postcode         float64\n",
              "Bedroom2         float64\n",
              "Bathroom         float64\n",
              "Car              float64\n",
              "Landsize         float64\n",
              "BuildingArea     float64\n",
              "YearBuilt        float64\n",
              "CouncilArea       object\n",
              "Lattitude        float64\n",
              "Longtitude       float64\n",
              "Regionname        object\n",
              "Propertycount    float64\n",
              "dtype: object"
            ]
          },
          "metadata": {},
          "execution_count": 15
        }
      ]
    },
    {
      "cell_type": "markdown",
      "id": "6cffe5bf-2498-498c-aa06-3e61422d91e6",
      "metadata": {
        "id": "6cffe5bf-2498-498c-aa06-3e61422d91e6"
      },
      "source": [
        "## Ejercicio 1 SQL: \n",
        "\n",
        "1. Crear una base de datos en SQLite utilizando la libreria [SQLalchemy](https://stackoverflow.com/questions/2268050/execute-sql-from-file-in-sqlalchemy).\n",
        "https://docs.sqlalchemy.org/en/14/core/engines.html#sqlite\n",
        "\n",
        "2. Ingestar los datos provistos en 'https://cs.famaf.unc.edu.ar/~mteruel/datasets/diplodatos/melb_data.csv' en una tabla y el dataset generado en clase con datos de airbnb y sus precios por codigo postal en otra.\n",
        "\n",
        "3. Implementar consultas en SQL que respondan con la siguiente información:\n",
        "\n",
        "    - cantidad de registros totales por ciudad.\n",
        "    - cantidad de registros totales por barrio y ciudad.\n",
        "\n",
        "4. Combinar los datasets de ambas tablas ingestadas utilizando el comando JOIN de SQL  para obtener un resultado similar a lo realizado con Pandas en clase.  \n",
        "\n"
      ]
    },
    {
      "cell_type": "code",
      "source": [
        "#1.\n",
        "#Luego de realizar una rápida exploración de los datos\n",
        "#establecemos conexión a la base de dstos\n",
        "#Aquí el módulo sqlite3 proporciona una interfaz sencilla para interactuar con bases de datos SQLite.\n",
        "engine = create_engine('sqlite:///sysarmy.sqlite3', echo=True) "
      ],
      "metadata": {
        "id": "NesntTJn4vUl"
      },
      "id": "NesntTJn4vUl",
      "execution_count": 18,
      "outputs": []
    },
    {
      "cell_type": "code",
      "source": [
        "#2.\n",
        "#Escribe los datos del DataFrame melb_df en una nueva tabla en SQLite\n",
        "melb_df.to_sql('survey', con=engine, if_exists=\"replace\")"
      ],
      "metadata": {
        "colab": {
          "base_uri": "https://localhost:8080/"
        },
        "id": "wUhm5Xl7W0i0",
        "outputId": "a0016965-5f3a-4e9e-8a0d-bda315a61769"
      },
      "id": "wUhm5Xl7W0i0",
      "execution_count": 19,
      "outputs": [
        {
          "output_type": "stream",
          "name": "stdout",
          "text": [
            "2022-04-27 00:14:02,594 INFO sqlalchemy.engine.Engine PRAGMA main.table_info(\"survey\")\n",
            "2022-04-27 00:14:02,596 INFO sqlalchemy.engine.Engine [raw sql] ()\n",
            "2022-04-27 00:14:02,599 INFO sqlalchemy.engine.Engine PRAGMA temp.table_info(\"survey\")\n",
            "2022-04-27 00:14:02,602 INFO sqlalchemy.engine.Engine [raw sql] ()\n",
            "2022-04-27 00:14:02,610 INFO sqlalchemy.engine.Engine BEGIN (implicit)\n",
            "2022-04-27 00:14:02,613 INFO sqlalchemy.engine.Engine \n",
            "CREATE TABLE survey (\n",
            "\t\"index\" BIGINT, \n",
            "\t\"Suburb\" TEXT, \n",
            "\t\"Address\" TEXT, \n",
            "\t\"Rooms\" BIGINT, \n",
            "\t\"Type\" TEXT, \n",
            "\t\"Price\" FLOAT, \n",
            "\t\"Method\" TEXT, \n",
            "\t\"SellerG\" TEXT, \n",
            "\t\"Date\" TEXT, \n",
            "\t\"Distance\" FLOAT, \n",
            "\t\"Postcode\" FLOAT, \n",
            "\t\"Bedroom2\" FLOAT, \n",
            "\t\"Bathroom\" FLOAT, \n",
            "\t\"Car\" FLOAT, \n",
            "\t\"Landsize\" FLOAT, \n",
            "\t\"BuildingArea\" FLOAT, \n",
            "\t\"YearBuilt\" FLOAT, \n",
            "\t\"CouncilArea\" TEXT, \n",
            "\t\"Lattitude\" FLOAT, \n",
            "\t\"Longtitude\" FLOAT, \n",
            "\t\"Regionname\" TEXT, \n",
            "\t\"Propertycount\" FLOAT\n",
            ")\n",
            "\n",
            "\n",
            "2022-04-27 00:14:02,616 INFO sqlalchemy.engine.Engine [no key 0.00288s] ()\n",
            "2022-04-27 00:14:02,631 INFO sqlalchemy.engine.Engine CREATE INDEX ix_survey_index ON survey (\"index\")\n",
            "2022-04-27 00:14:02,633 INFO sqlalchemy.engine.Engine [no key 0.00189s] ()\n",
            "2022-04-27 00:14:02,647 INFO sqlalchemy.engine.Engine COMMIT\n",
            "2022-04-27 00:14:02,673 INFO sqlalchemy.engine.Engine BEGIN (implicit)\n",
            "2022-04-27 00:14:03,139 INFO sqlalchemy.engine.Engine INSERT INTO survey (\"index\", \"Suburb\", \"Address\", \"Rooms\", \"Type\", \"Price\", \"Method\", \"SellerG\", \"Date\", \"Distance\", \"Postcode\", \"Bedroom2\", \"Bathroom\", \"Car\", \"Landsize\", \"BuildingArea\", \"YearBuilt\", \"CouncilArea\", \"Lattitude\", \"Longtitude\", \"Regionname\", \"Propertycount\") VALUES (?, ?, ?, ?, ?, ?, ?, ?, ?, ?, ?, ?, ?, ?, ?, ?, ?, ?, ?, ?, ?, ?)\n",
            "2022-04-27 00:14:03,141 INFO sqlalchemy.engine.Engine [generated in 0.42454s] ((0, 'Abbotsford', '85 Turner St', 2, 'h', 1480000.0, 'S', 'Biggin', '3/12/2016', 2.5, 3067.0, 2.0, 1.0, 1.0, 202.0, None, None, 'Yarra', -37.7996, 144.9984, 'Northern Metropolitan', 4019.0), (1, 'Abbotsford', '25 Bloomburg St', 2, 'h', 1035000.0, 'S', 'Biggin', '4/02/2016', 2.5, 3067.0, 2.0, 1.0, 0.0, 156.0, 79.0, 1900.0, 'Yarra', -37.8079, 144.9934, 'Northern Metropolitan', 4019.0), (2, 'Abbotsford', '5 Charles St', 3, 'h', 1465000.0, 'SP', 'Biggin', '4/03/2017', 2.5, 3067.0, 3.0, 2.0, 0.0, 134.0, 150.0, 1900.0, 'Yarra', -37.8093, 144.9944, 'Northern Metropolitan', 4019.0), (3, 'Abbotsford', '40 Federation La', 3, 'h', 850000.0, 'PI', 'Biggin', '4/03/2017', 2.5, 3067.0, 3.0, 2.0, 1.0, 94.0, None, None, 'Yarra', -37.7969, 144.9969, 'Northern Metropolitan', 4019.0), (4, 'Abbotsford', '55a Park St', 4, 'h', 1600000.0, 'VB', 'Nelson', '4/06/2016', 2.5, 3067.0, 3.0, 1.0, 2.0, 120.0, 142.0, 2014.0, 'Yarra', -37.8072, 144.9941, 'Northern Metropolitan', 4019.0), (5, 'Abbotsford', '129 Charles St', 2, 'h', 941000.0, 'S', 'Jellis', '7/05/2016', 2.5, 3067.0, 2.0, 1.0, 0.0, 181.0, None, None, 'Yarra', -37.8041, 144.9953, 'Northern Metropolitan', 4019.0), (6, 'Abbotsford', '124 Yarra St', 3, 'h', 1876000.0, 'S', 'Nelson', '7/05/2016', 2.5, 3067.0, 4.0, 2.0, 0.0, 245.0, 210.0, 1910.0, 'Yarra', -37.8024, 144.9993, 'Northern Metropolitan', 4019.0), (7, 'Abbotsford', '98 Charles St', 2, 'h', 1636000.0, 'S', 'Nelson', '8/10/2016', 2.5, 3067.0, 2.0, 1.0, 2.0, 256.0, 107.0, 1890.0, 'Yarra', -37.806, 144.9954, 'Northern Metropolitan', 4019.0)  ... displaying 10 of 13580 total bound parameter sets ...  (13578, 'Williamstown', '96 Verdon St', 4, 'h', 2500000.0, 'PI', 'Sweeney', '26/08/2017', 6.8, 3016.0, 4.0, 1.0, 5.0, 866.0, 157.0, 1920.0, None, -37.85908, 144.89299, 'Western Metropolitan', 6380.0), (13579, 'Yarraville', '6 Agnes St', 4, 'h', 1285000.0, 'SP', 'Village', '26/08/2017', 6.3, 3013.0, 4.0, 1.0, 1.0, 362.0, 112.0, 1920.0, None, -37.81188, 144.88449, 'Western Metropolitan', 6543.0))\n",
            "2022-04-27 00:14:03,244 INFO sqlalchemy.engine.Engine COMMIT\n"
          ]
        }
      ]
    },
    {
      "cell_type": "markdown",
      "id": "c5468c4f-5cdf-4df4-a317-60e1fb0c00db",
      "metadata": {
        "id": "c5468c4f-5cdf-4df4-a317-60e1fb0c00db"
      },
      "source": [
        "## Ejercicio 2: \n",
        "\n",
        "1. Seleccionar un subconjunto de columnas que les parezcan relevantes al problema de predicción del valor de la propiedad. Justificar las columnas seleccionadas y las que no lo fueron.\n",
        " - Eliminar los valores extremos que no sean relevantes para la predicción de valores de las propiedades.\n",
        "\n",
        "2. Agregar información adicional respectiva al entorno de una propiedad a partir del [conjunto de datos de AirBnB](https://www.kaggle.com/tylerx/melbourne-airbnb-open-data?select=cleansed_listings_dec18.csv) utilizado en el práctico. \n",
        "  1. Seleccionar qué variables agregar y qué combinaciones aplicar a cada una. Por ejemplo, pueden utilizar solo la columna `price`, o aplicar múltiples transformaciones como la mediana o el mínimo.\n",
        "  1. Utilizar la variable zipcode para unir los conjuntos de datos. Sólo incluir los zipcodes que tengan una cantidad mínima de registros (a elección) como para que la información agregada sea relevante.\n",
        "  2. Investigar al menos otras 2 variables que puedan servir para combinar los datos, y justificar si serían adecuadas o no. Pueden asumir que cuentan con la ayuda de anotadores expertos para encontrar equivalencias entre barrios o direcciones, o que cuentan con algoritmos para encontrar las n ubicaciones más cercanas a una propiedad a partir de sus coordenadas geográficas. **NO** es necesario que realicen la implementación.\n",
        "\n",
        "Pueden leer otras columnas del conjunto de AirBnB además de las que están en `interesting_cols`, si les parecen relevantes."
      ]
    },
    {
      "cell_type": "markdown",
      "id": "c5303f27-3b15-441b-b291-8caf1c734139",
      "metadata": {
        "id": "c5303f27-3b15-441b-b291-8caf1c734139"
      },
      "source": [
        "## Ejercicio 3:\n",
        "\n",
        "Crear y guardar un nuevo conjunto de datos con todas las transformaciones realizadas anteriormente."
      ]
    },
    {
      "cell_type": "markdown",
      "id": "abfd3eeb-d466-424b-b58e-d1364ac39206",
      "metadata": {
        "id": "abfd3eeb-d466-424b-b58e-d1364ac39206"
      },
      "source": [
        "## Ejercicios opcionales:\n",
        "\n",
        "1. Armar un script en python (archivo .py) [ETL](https://towardsdatascience.com/what-to-log-from-python-etl-pipelines-9e0cfe29950e) que corra los pasos de extraccion, transformacion y carga, armando una funcion para cada etapa del proceso y luego un main que corra todos los pasos requeridos.\n",
        "\n",
        "2. Armar un DAG en Apache Airflow que corra el ETL. (https://airflow.apache.org/docs/apache-airflow/stable/tutorial.html)"
      ]
    },
    {
      "cell_type": "code",
      "execution_count": null,
      "id": "5d210b95-836f-45ac-a52d-1a4dafdb447a",
      "metadata": {
        "id": "5d210b95-836f-45ac-a52d-1a4dafdb447a"
      },
      "outputs": [],
      "source": [
        ""
      ]
    }
  ],
  "metadata": {
    "kernelspec": {
      "display_name": "Python 3",
      "language": "python",
      "name": "python3"
    },
    "language_info": {
      "codemirror_mode": {
        "name": "ipython",
        "version": 3
      },
      "file_extension": ".py",
      "mimetype": "text/x-python",
      "name": "python",
      "nbconvert_exporter": "python",
      "pygments_lexer": "ipython3",
      "version": "3.8.8"
    },
    "colab": {
      "name": "Garay_ayc_entregable_parte1_22.ipynb",
      "provenance": [],
      "include_colab_link": true
    }
  },
  "nbformat": 4,
  "nbformat_minor": 5
}