{
  "cells": [
    {
      "cell_type": "markdown",
      "metadata": {
        "id": "view-in-github",
        "colab_type": "text"
      },
      "source": [
        "<a href=\"https://colab.research.google.com/github/carolina-garay/AnalisisYCuracion_Grupo32/blob/carolina_Garay_AyC/Garay_ayc_entregable_parte1_22.ipynb\" target=\"_parent\"><img src=\"https://colab.research.google.com/assets/colab-badge.svg\" alt=\"Open In Colab\"/></a>"
      ]
    },
    {
      "cell_type": "markdown",
      "id": "e0ff301b-5595-4a0b-a2b8-3d5609a0485d",
      "metadata": {
        "id": "e0ff301b-5595-4a0b-a2b8-3d5609a0485d"
      },
      "source": [
        "**Diplomatura en Ciencia de Datos, Aprendizaje Automático y sus Aplicaciones**\n",
        "\n",
        "**Exploración y Curación de Datos**\n",
        "\n",
        "*Edición 2022*\n",
        "\n",
        "----\n",
        "\n",
        "# Trabajo práctico entregable - parte 1\n",
        "Garay Carolina\n",
        "\n",
        "En esta notebook, vamos a cargar el conjunto de datos de [la compentencia Kaggle](https://www.kaggle.com/dansbecker/melbourne-housing-snapshot) sobre estimación de precios de ventas de propiedades en Melbourne, Australia.\n",
        "\n",
        "Utilizaremos el conjunto de datos reducido producido por [DanB](https://www.kaggle.com/dansbecker). Hemos subido una copia a un servidor de la Universidad Nacional de Córdoba para facilitar su acceso remoto."
      ]
    },
    {
      "cell_type": "code",
      "source": [
        "import matplotlib.pyplot as plt\n",
        "import numpy\n",
        "import pandas\n",
        "\n",
        "import seaborn as sns\n",
        "sns.set_context('talk')\n",
        "\n",
        "from decouple import config\n",
        "from sqlalchemy import create_engine, text\n",
        "import plotly\n",
        "plotly.__version__\n",
        "# Make sure it's 4.14.3"
      ],
      "metadata": {
        "colab": {
          "base_uri": "https://localhost:8080/",
          "height": 35
        },
        "id": "HButFUBxuZq1",
        "outputId": "a1922f4a-2502-4721-b76a-a121c1058128"
      },
      "id": "HButFUBxuZq1",
      "execution_count": 10,
      "outputs": [
        {
          "output_type": "execute_result",
          "data": {
            "text/plain": [
              "'5.5.0'"
            ],
            "application/vnd.google.colaboratory.intrinsic+json": {
              "type": "string"
            }
          },
          "metadata": {},
          "execution_count": 10
        }
      ]
    },
    {
      "cell_type": "code",
      "execution_count": 9,
      "id": "ce478cbd-0f49-4f15-8dc5-1fe1a5b39f17",
      "metadata": {
        "id": "ce478cbd-0f49-4f15-8dc5-1fe1a5b39f17",
        "colab": {
          "base_uri": "https://localhost:8080/"
        },
        "outputId": "6e4de1df-3dde-4842-b39b-1f5453f26574"
      },
      "outputs": [
        {
          "output_type": "stream",
          "name": "stdout",
          "text": [
            "Requirement already satisfied: python-decouple in /usr/local/lib/python3.7/dist-packages (3.6)\n"
          ]
        }
      ],
      "source": [
        "pip install python-decouple"
      ]
    },
    {
      "cell_type": "code",
      "execution_count": 11,
      "id": "5ba8bfd5-199a-4390-a5b4-11ec9669b3e1",
      "metadata": {
        "id": "5ba8bfd5-199a-4390-a5b4-11ec9669b3e1",
        "outputId": "292cd6ab-8a3e-4678-bc05-bbed6a0598d9",
        "colab": {
          "base_uri": "https://localhost:8080/",
          "height": 303
        }
      },
      "outputs": [
        {
          "output_type": "execute_result",
          "data": {
            "text/plain": [
              "       Suburb          Address  Rooms Type      Price Method SellerG  \\\n",
              "0  Abbotsford     85 Turner St      2    h  1480000.0      S  Biggin   \n",
              "1  Abbotsford  25 Bloomburg St      2    h  1035000.0      S  Biggin   \n",
              "2  Abbotsford     5 Charles St      3    h  1465000.0     SP  Biggin   \n",
              "\n",
              "        Date  Distance  Postcode  ...  Bathroom  Car  Landsize  BuildingArea  \\\n",
              "0  3/12/2016       2.5    3067.0  ...       1.0  1.0     202.0           NaN   \n",
              "1  4/02/2016       2.5    3067.0  ...       1.0  0.0     156.0          79.0   \n",
              "2  4/03/2017       2.5    3067.0  ...       2.0  0.0     134.0         150.0   \n",
              "\n",
              "   YearBuilt  CouncilArea Lattitude  Longtitude             Regionname  \\\n",
              "0        NaN        Yarra  -37.7996    144.9984  Northern Metropolitan   \n",
              "1     1900.0        Yarra  -37.8079    144.9934  Northern Metropolitan   \n",
              "2     1900.0        Yarra  -37.8093    144.9944  Northern Metropolitan   \n",
              "\n",
              "  Propertycount  \n",
              "0        4019.0  \n",
              "1        4019.0  \n",
              "2        4019.0  \n",
              "\n",
              "[3 rows x 21 columns]"
            ],
            "text/html": [
              "\n",
              "  <div id=\"df-21629caa-59b2-4d12-8d3f-d3df598affd2\">\n",
              "    <div class=\"colab-df-container\">\n",
              "      <div>\n",
              "<style scoped>\n",
              "    .dataframe tbody tr th:only-of-type {\n",
              "        vertical-align: middle;\n",
              "    }\n",
              "\n",
              "    .dataframe tbody tr th {\n",
              "        vertical-align: top;\n",
              "    }\n",
              "\n",
              "    .dataframe thead th {\n",
              "        text-align: right;\n",
              "    }\n",
              "</style>\n",
              "<table border=\"1\" class=\"dataframe\">\n",
              "  <thead>\n",
              "    <tr style=\"text-align: right;\">\n",
              "      <th></th>\n",
              "      <th>Suburb</th>\n",
              "      <th>Address</th>\n",
              "      <th>Rooms</th>\n",
              "      <th>Type</th>\n",
              "      <th>Price</th>\n",
              "      <th>Method</th>\n",
              "      <th>SellerG</th>\n",
              "      <th>Date</th>\n",
              "      <th>Distance</th>\n",
              "      <th>Postcode</th>\n",
              "      <th>...</th>\n",
              "      <th>Bathroom</th>\n",
              "      <th>Car</th>\n",
              "      <th>Landsize</th>\n",
              "      <th>BuildingArea</th>\n",
              "      <th>YearBuilt</th>\n",
              "      <th>CouncilArea</th>\n",
              "      <th>Lattitude</th>\n",
              "      <th>Longtitude</th>\n",
              "      <th>Regionname</th>\n",
              "      <th>Propertycount</th>\n",
              "    </tr>\n",
              "  </thead>\n",
              "  <tbody>\n",
              "    <tr>\n",
              "      <th>0</th>\n",
              "      <td>Abbotsford</td>\n",
              "      <td>85 Turner St</td>\n",
              "      <td>2</td>\n",
              "      <td>h</td>\n",
              "      <td>1480000.0</td>\n",
              "      <td>S</td>\n",
              "      <td>Biggin</td>\n",
              "      <td>3/12/2016</td>\n",
              "      <td>2.5</td>\n",
              "      <td>3067.0</td>\n",
              "      <td>...</td>\n",
              "      <td>1.0</td>\n",
              "      <td>1.0</td>\n",
              "      <td>202.0</td>\n",
              "      <td>NaN</td>\n",
              "      <td>NaN</td>\n",
              "      <td>Yarra</td>\n",
              "      <td>-37.7996</td>\n",
              "      <td>144.9984</td>\n",
              "      <td>Northern Metropolitan</td>\n",
              "      <td>4019.0</td>\n",
              "    </tr>\n",
              "    <tr>\n",
              "      <th>1</th>\n",
              "      <td>Abbotsford</td>\n",
              "      <td>25 Bloomburg St</td>\n",
              "      <td>2</td>\n",
              "      <td>h</td>\n",
              "      <td>1035000.0</td>\n",
              "      <td>S</td>\n",
              "      <td>Biggin</td>\n",
              "      <td>4/02/2016</td>\n",
              "      <td>2.5</td>\n",
              "      <td>3067.0</td>\n",
              "      <td>...</td>\n",
              "      <td>1.0</td>\n",
              "      <td>0.0</td>\n",
              "      <td>156.0</td>\n",
              "      <td>79.0</td>\n",
              "      <td>1900.0</td>\n",
              "      <td>Yarra</td>\n",
              "      <td>-37.8079</td>\n",
              "      <td>144.9934</td>\n",
              "      <td>Northern Metropolitan</td>\n",
              "      <td>4019.0</td>\n",
              "    </tr>\n",
              "    <tr>\n",
              "      <th>2</th>\n",
              "      <td>Abbotsford</td>\n",
              "      <td>5 Charles St</td>\n",
              "      <td>3</td>\n",
              "      <td>h</td>\n",
              "      <td>1465000.0</td>\n",
              "      <td>SP</td>\n",
              "      <td>Biggin</td>\n",
              "      <td>4/03/2017</td>\n",
              "      <td>2.5</td>\n",
              "      <td>3067.0</td>\n",
              "      <td>...</td>\n",
              "      <td>2.0</td>\n",
              "      <td>0.0</td>\n",
              "      <td>134.0</td>\n",
              "      <td>150.0</td>\n",
              "      <td>1900.0</td>\n",
              "      <td>Yarra</td>\n",
              "      <td>-37.8093</td>\n",
              "      <td>144.9944</td>\n",
              "      <td>Northern Metropolitan</td>\n",
              "      <td>4019.0</td>\n",
              "    </tr>\n",
              "  </tbody>\n",
              "</table>\n",
              "<p>3 rows × 21 columns</p>\n",
              "</div>\n",
              "      <button class=\"colab-df-convert\" onclick=\"convertToInteractive('df-21629caa-59b2-4d12-8d3f-d3df598affd2')\"\n",
              "              title=\"Convert this dataframe to an interactive table.\"\n",
              "              style=\"display:none;\">\n",
              "        \n",
              "  <svg xmlns=\"http://www.w3.org/2000/svg\" height=\"24px\"viewBox=\"0 0 24 24\"\n",
              "       width=\"24px\">\n",
              "    <path d=\"M0 0h24v24H0V0z\" fill=\"none\"/>\n",
              "    <path d=\"M18.56 5.44l.94 2.06.94-2.06 2.06-.94-2.06-.94-.94-2.06-.94 2.06-2.06.94zm-11 1L8.5 8.5l.94-2.06 2.06-.94-2.06-.94L8.5 2.5l-.94 2.06-2.06.94zm10 10l.94 2.06.94-2.06 2.06-.94-2.06-.94-.94-2.06-.94 2.06-2.06.94z\"/><path d=\"M17.41 7.96l-1.37-1.37c-.4-.4-.92-.59-1.43-.59-.52 0-1.04.2-1.43.59L10.3 9.45l-7.72 7.72c-.78.78-.78 2.05 0 2.83L4 21.41c.39.39.9.59 1.41.59.51 0 1.02-.2 1.41-.59l7.78-7.78 2.81-2.81c.8-.78.8-2.07 0-2.86zM5.41 20L4 18.59l7.72-7.72 1.47 1.35L5.41 20z\"/>\n",
              "  </svg>\n",
              "      </button>\n",
              "      \n",
              "  <style>\n",
              "    .colab-df-container {\n",
              "      display:flex;\n",
              "      flex-wrap:wrap;\n",
              "      gap: 12px;\n",
              "    }\n",
              "\n",
              "    .colab-df-convert {\n",
              "      background-color: #E8F0FE;\n",
              "      border: none;\n",
              "      border-radius: 50%;\n",
              "      cursor: pointer;\n",
              "      display: none;\n",
              "      fill: #1967D2;\n",
              "      height: 32px;\n",
              "      padding: 0 0 0 0;\n",
              "      width: 32px;\n",
              "    }\n",
              "\n",
              "    .colab-df-convert:hover {\n",
              "      background-color: #E2EBFA;\n",
              "      box-shadow: 0px 1px 2px rgba(60, 64, 67, 0.3), 0px 1px 3px 1px rgba(60, 64, 67, 0.15);\n",
              "      fill: #174EA6;\n",
              "    }\n",
              "\n",
              "    [theme=dark] .colab-df-convert {\n",
              "      background-color: #3B4455;\n",
              "      fill: #D2E3FC;\n",
              "    }\n",
              "\n",
              "    [theme=dark] .colab-df-convert:hover {\n",
              "      background-color: #434B5C;\n",
              "      box-shadow: 0px 1px 3px 1px rgba(0, 0, 0, 0.15);\n",
              "      filter: drop-shadow(0px 1px 2px rgba(0, 0, 0, 0.3));\n",
              "      fill: #FFFFFF;\n",
              "    }\n",
              "  </style>\n",
              "\n",
              "      <script>\n",
              "        const buttonEl =\n",
              "          document.querySelector('#df-21629caa-59b2-4d12-8d3f-d3df598affd2 button.colab-df-convert');\n",
              "        buttonEl.style.display =\n",
              "          google.colab.kernel.accessAllowed ? 'block' : 'none';\n",
              "\n",
              "        async function convertToInteractive(key) {\n",
              "          const element = document.querySelector('#df-21629caa-59b2-4d12-8d3f-d3df598affd2');\n",
              "          const dataTable =\n",
              "            await google.colab.kernel.invokeFunction('convertToInteractive',\n",
              "                                                     [key], {});\n",
              "          if (!dataTable) return;\n",
              "\n",
              "          const docLinkHtml = 'Like what you see? Visit the ' +\n",
              "            '<a target=\"_blank\" href=https://colab.research.google.com/notebooks/data_table.ipynb>data table notebook</a>'\n",
              "            + ' to learn more about interactive tables.';\n",
              "          element.innerHTML = '';\n",
              "          dataTable['output_type'] = 'display_data';\n",
              "          await google.colab.output.renderOutput(dataTable, element);\n",
              "          const docLink = document.createElement('div');\n",
              "          docLink.innerHTML = docLinkHtml;\n",
              "          element.appendChild(docLink);\n",
              "        }\n",
              "      </script>\n",
              "    </div>\n",
              "  </div>\n",
              "  "
            ]
          },
          "metadata": {},
          "execution_count": 11
        }
      ],
      "source": [
        "#Lectura del dataset\n",
        "melb_df = pandas.read_csv(\n",
        "    'https://cs.famaf.unc.edu.ar/~mteruel/datasets/diplodatos/melb_data.csv')\n",
        "melb_df[:3]"
      ]
    },
    {
      "cell_type": "code",
      "source": [
        "#Visualización de columnas\n",
        "melb_df.columns"
      ],
      "metadata": {
        "colab": {
          "base_uri": "https://localhost:8080/"
        },
        "id": "k6n9Nt1o25Qa",
        "outputId": "ee9f330f-02cf-4f9b-8562-3cdd9c12de61"
      },
      "id": "k6n9Nt1o25Qa",
      "execution_count": 12,
      "outputs": [
        {
          "output_type": "execute_result",
          "data": {
            "text/plain": [
              "Index(['Suburb', 'Address', 'Rooms', 'Type', 'Price', 'Method', 'SellerG',\n",
              "       'Date', 'Distance', 'Postcode', 'Bedroom2', 'Bathroom', 'Car',\n",
              "       'Landsize', 'BuildingArea', 'YearBuilt', 'CouncilArea', 'Lattitude',\n",
              "       'Longtitude', 'Regionname', 'Propertycount'],\n",
              "      dtype='object')"
            ]
          },
          "metadata": {},
          "execution_count": 12
        }
      ]
    },
    {
      "cell_type": "code",
      "source": [
        "#Visualización de tipos de datos\n",
        "\n",
        "melb_df.dtypes"
      ],
      "metadata": {
        "colab": {
          "base_uri": "https://localhost:8080/"
        },
        "id": "k5Jkivw425qR",
        "outputId": "028f1e51-a87c-446a-8b94-d700240de032"
      },
      "id": "k5Jkivw425qR",
      "execution_count": 15,
      "outputs": [
        {
          "output_type": "execute_result",
          "data": {
            "text/plain": [
              "Suburb            object\n",
              "Address           object\n",
              "Rooms              int64\n",
              "Type              object\n",
              "Price            float64\n",
              "Method            object\n",
              "SellerG           object\n",
              "Date              object\n",
              "Distance         float64\n",
              "Postcode         float64\n",
              "Bedroom2         float64\n",
              "Bathroom         float64\n",
              "Car              float64\n",
              "Landsize         float64\n",
              "BuildingArea     float64\n",
              "YearBuilt        float64\n",
              "CouncilArea       object\n",
              "Lattitude        float64\n",
              "Longtitude       float64\n",
              "Regionname        object\n",
              "Propertycount    float64\n",
              "dtype: object"
            ]
          },
          "metadata": {},
          "execution_count": 15
        }
      ]
    },
    {
      "cell_type": "markdown",
      "id": "6cffe5bf-2498-498c-aa06-3e61422d91e6",
      "metadata": {
        "id": "6cffe5bf-2498-498c-aa06-3e61422d91e6"
      },
      "source": [
        "## Ejercicio 1 SQL: \n",
        "\n",
        "1. Crear una base de datos en SQLite utilizando la libreria [SQLalchemy](https://stackoverflow.com/questions/2268050/execute-sql-from-file-in-sqlalchemy).\n",
        "https://docs.sqlalchemy.org/en/14/core/engines.html#sqlite\n",
        "\n",
        "2. Ingestar los datos provistos en 'https://cs.famaf.unc.edu.ar/~mteruel/datasets/diplodatos/melb_data.csv' en una tabla y el dataset generado en clase con datos de airbnb y sus precios por codigo postal en otra.\n",
        "\n",
        "3. Implementar consultas en SQL que respondan con la siguiente información:\n",
        "\n",
        "    - cantidad de registros totales por ciudad.\n",
        "    - cantidad de registros totales por barrio y ciudad.\n",
        "\n",
        "4. Combinar los datasets de ambas tablas ingestadas utilizando el comando JOIN de SQL  para obtener un resultado similar a lo realizado con Pandas en clase.  \n",
        "\n"
      ]
    },
    {
      "cell_type": "code",
      "source": [
        "\"\"\"1)Crear una base de datos en SQLite utilizando la libreria \n",
        "[SQLalchemy](https://stackoverflow.com/questions/2268050/execute-sql-from-file-in-sqlalchemy).\n",
        "https://docs.sqlalchemy.org/en/14/core/engines.html#sqlite\n",
        "\"\"\"\n",
        "#Luego de realizar una rápida exploración de los datos\n",
        "#establecemos conexión a la base de dstos\n",
        "#Aquí el módulo sqlite3 proporciona una interfaz sencilla para interactuar con bases de datos SQLite.\n",
        "engine = create_engine('sqlite:///sysarmy.sqlite3', echo=True) "
      ],
      "metadata": {
        "id": "NesntTJn4vUl"
      },
      "id": "NesntTJn4vUl",
      "execution_count": 20,
      "outputs": []
    },
    {
      "cell_type": "code",
      "source": [
        "\"\"\"2)Ingestar los datos provistos en 'https://cs.famaf.unc.edu.ar/~mteruel/datasets/diplodatos/melb_data.csv' \n",
        "en una tabla y el dataset generado \n",
        "en clase con datos de airbnb y sus precios por codigo postal en otra.\n",
        "\"\"\"\n",
        "#Escribe los datos del DataFrame melb_df en una nueva tabla en SQLite\n",
        "melb_df.to_sql('survey', con=engine, if_exists=\"replace\")\n",
        "\n",
        "#Lectura del dataframe airbnb"
      ],
      "metadata": {
        "colab": {
          "base_uri": "https://localhost:8080/"
        },
        "id": "wUhm5Xl7W0i0",
        "outputId": "d8f5d67b-63c0-4c05-cad2-d5529c00dbab"
      },
      "id": "wUhm5Xl7W0i0",
      "execution_count": 22,
      "outputs": [
        {
          "output_type": "stream",
          "name": "stdout",
          "text": [
            "2022-04-27 00:31:08,699 INFO sqlalchemy.engine.Engine PRAGMA main.table_info(\"survey\")\n",
            "2022-04-27 00:31:08,701 INFO sqlalchemy.engine.Engine [raw sql] ()\n",
            "2022-04-27 00:31:08,705 INFO sqlalchemy.engine.Engine PRAGMA main.table_info(\"survey\")\n",
            "2022-04-27 00:31:08,708 INFO sqlalchemy.engine.Engine [raw sql] ()\n",
            "2022-04-27 00:31:08,711 INFO sqlalchemy.engine.Engine SELECT name FROM sqlite_master WHERE type='table' ORDER BY name\n",
            "2022-04-27 00:31:08,713 INFO sqlalchemy.engine.Engine [raw sql] ()\n",
            "2022-04-27 00:31:08,716 INFO sqlalchemy.engine.Engine PRAGMA main.table_info(\"survey\")\n",
            "2022-04-27 00:31:08,719 INFO sqlalchemy.engine.Engine [raw sql] ()\n",
            "2022-04-27 00:31:08,725 INFO sqlalchemy.engine.Engine SELECT sql FROM  (SELECT * FROM sqlite_master UNION ALL   SELECT * FROM sqlite_temp_master) WHERE name = ? AND type = 'table'\n",
            "2022-04-27 00:31:08,727 INFO sqlalchemy.engine.Engine [raw sql] ('survey',)\n",
            "2022-04-27 00:31:08,730 INFO sqlalchemy.engine.Engine PRAGMA main.foreign_key_list(\"survey\")\n",
            "2022-04-27 00:31:08,732 INFO sqlalchemy.engine.Engine [raw sql] ()\n",
            "2022-04-27 00:31:08,734 INFO sqlalchemy.engine.Engine PRAGMA temp.foreign_key_list(\"survey\")\n",
            "2022-04-27 00:31:08,735 INFO sqlalchemy.engine.Engine [raw sql] ()\n",
            "2022-04-27 00:31:08,737 INFO sqlalchemy.engine.Engine SELECT sql FROM  (SELECT * FROM sqlite_master UNION ALL   SELECT * FROM sqlite_temp_master) WHERE name = ? AND type = 'table'\n",
            "2022-04-27 00:31:08,738 INFO sqlalchemy.engine.Engine [raw sql] ('survey',)\n",
            "2022-04-27 00:31:08,740 INFO sqlalchemy.engine.Engine PRAGMA main.index_list(\"survey\")\n",
            "2022-04-27 00:31:08,741 INFO sqlalchemy.engine.Engine [raw sql] ()\n",
            "2022-04-27 00:31:08,742 INFO sqlalchemy.engine.Engine PRAGMA main.index_info(\"ix_survey_index\")\n",
            "2022-04-27 00:31:08,744 INFO sqlalchemy.engine.Engine [raw sql] ()\n",
            "2022-04-27 00:31:08,745 INFO sqlalchemy.engine.Engine PRAGMA main.index_list(\"survey\")\n",
            "2022-04-27 00:31:08,747 INFO sqlalchemy.engine.Engine [raw sql] ()\n",
            "2022-04-27 00:31:08,748 INFO sqlalchemy.engine.Engine PRAGMA main.index_info(\"ix_survey_index\")\n",
            "2022-04-27 00:31:08,749 INFO sqlalchemy.engine.Engine [raw sql] ()\n",
            "2022-04-27 00:31:08,751 INFO sqlalchemy.engine.Engine SELECT sql FROM  (SELECT * FROM sqlite_master UNION ALL   SELECT * FROM sqlite_temp_master) WHERE name = ? AND type = 'table'\n",
            "2022-04-27 00:31:08,752 INFO sqlalchemy.engine.Engine [raw sql] ('survey',)\n",
            "2022-04-27 00:31:08,754 INFO sqlalchemy.engine.Engine BEGIN (implicit)\n",
            "2022-04-27 00:31:08,756 INFO sqlalchemy.engine.Engine \n",
            "DROP TABLE survey\n",
            "2022-04-27 00:31:08,757 INFO sqlalchemy.engine.Engine [no key 0.00139s] ()\n",
            "2022-04-27 00:31:08,805 INFO sqlalchemy.engine.Engine COMMIT\n",
            "2022-04-27 00:31:08,809 INFO sqlalchemy.engine.Engine BEGIN (implicit)\n",
            "2022-04-27 00:31:08,812 INFO sqlalchemy.engine.Engine \n",
            "CREATE TABLE survey (\n",
            "\t\"index\" BIGINT, \n",
            "\t\"Suburb\" TEXT, \n",
            "\t\"Address\" TEXT, \n",
            "\t\"Rooms\" BIGINT, \n",
            "\t\"Type\" TEXT, \n",
            "\t\"Price\" FLOAT, \n",
            "\t\"Method\" TEXT, \n",
            "\t\"SellerG\" TEXT, \n",
            "\t\"Date\" TEXT, \n",
            "\t\"Distance\" FLOAT, \n",
            "\t\"Postcode\" FLOAT, \n",
            "\t\"Bedroom2\" FLOAT, \n",
            "\t\"Bathroom\" FLOAT, \n",
            "\t\"Car\" FLOAT, \n",
            "\t\"Landsize\" FLOAT, \n",
            "\t\"BuildingArea\" FLOAT, \n",
            "\t\"YearBuilt\" FLOAT, \n",
            "\t\"CouncilArea\" TEXT, \n",
            "\t\"Lattitude\" FLOAT, \n",
            "\t\"Longtitude\" FLOAT, \n",
            "\t\"Regionname\" TEXT, \n",
            "\t\"Propertycount\" FLOAT\n",
            ")\n",
            "\n",
            "\n",
            "2022-04-27 00:31:08,816 INFO sqlalchemy.engine.Engine [no key 0.00389s] ()\n",
            "2022-04-27 00:31:08,827 INFO sqlalchemy.engine.Engine CREATE INDEX ix_survey_index ON survey (\"index\")\n",
            "2022-04-27 00:31:08,828 INFO sqlalchemy.engine.Engine [no key 0.00127s] ()\n",
            "2022-04-27 00:31:08,839 INFO sqlalchemy.engine.Engine COMMIT\n",
            "2022-04-27 00:31:08,864 INFO sqlalchemy.engine.Engine BEGIN (implicit)\n",
            "2022-04-27 00:31:09,337 INFO sqlalchemy.engine.Engine INSERT INTO survey (\"index\", \"Suburb\", \"Address\", \"Rooms\", \"Type\", \"Price\", \"Method\", \"SellerG\", \"Date\", \"Distance\", \"Postcode\", \"Bedroom2\", \"Bathroom\", \"Car\", \"Landsize\", \"BuildingArea\", \"YearBuilt\", \"CouncilArea\", \"Lattitude\", \"Longtitude\", \"Regionname\", \"Propertycount\") VALUES (?, ?, ?, ?, ?, ?, ?, ?, ?, ?, ?, ?, ?, ?, ?, ?, ?, ?, ?, ?, ?, ?)\n",
            "2022-04-27 00:31:09,341 INFO sqlalchemy.engine.Engine [generated in 0.43235s] ((0, 'Abbotsford', '85 Turner St', 2, 'h', 1480000.0, 'S', 'Biggin', '3/12/2016', 2.5, 3067.0, 2.0, 1.0, 1.0, 202.0, None, None, 'Yarra', -37.7996, 144.9984, 'Northern Metropolitan', 4019.0), (1, 'Abbotsford', '25 Bloomburg St', 2, 'h', 1035000.0, 'S', 'Biggin', '4/02/2016', 2.5, 3067.0, 2.0, 1.0, 0.0, 156.0, 79.0, 1900.0, 'Yarra', -37.8079, 144.9934, 'Northern Metropolitan', 4019.0), (2, 'Abbotsford', '5 Charles St', 3, 'h', 1465000.0, 'SP', 'Biggin', '4/03/2017', 2.5, 3067.0, 3.0, 2.0, 0.0, 134.0, 150.0, 1900.0, 'Yarra', -37.8093, 144.9944, 'Northern Metropolitan', 4019.0), (3, 'Abbotsford', '40 Federation La', 3, 'h', 850000.0, 'PI', 'Biggin', '4/03/2017', 2.5, 3067.0, 3.0, 2.0, 1.0, 94.0, None, None, 'Yarra', -37.7969, 144.9969, 'Northern Metropolitan', 4019.0), (4, 'Abbotsford', '55a Park St', 4, 'h', 1600000.0, 'VB', 'Nelson', '4/06/2016', 2.5, 3067.0, 3.0, 1.0, 2.0, 120.0, 142.0, 2014.0, 'Yarra', -37.8072, 144.9941, 'Northern Metropolitan', 4019.0), (5, 'Abbotsford', '129 Charles St', 2, 'h', 941000.0, 'S', 'Jellis', '7/05/2016', 2.5, 3067.0, 2.0, 1.0, 0.0, 181.0, None, None, 'Yarra', -37.8041, 144.9953, 'Northern Metropolitan', 4019.0), (6, 'Abbotsford', '124 Yarra St', 3, 'h', 1876000.0, 'S', 'Nelson', '7/05/2016', 2.5, 3067.0, 4.0, 2.0, 0.0, 245.0, 210.0, 1910.0, 'Yarra', -37.8024, 144.9993, 'Northern Metropolitan', 4019.0), (7, 'Abbotsford', '98 Charles St', 2, 'h', 1636000.0, 'S', 'Nelson', '8/10/2016', 2.5, 3067.0, 2.0, 1.0, 2.0, 256.0, 107.0, 1890.0, 'Yarra', -37.806, 144.9954, 'Northern Metropolitan', 4019.0)  ... displaying 10 of 13580 total bound parameter sets ...  (13578, 'Williamstown', '96 Verdon St', 4, 'h', 2500000.0, 'PI', 'Sweeney', '26/08/2017', 6.8, 3016.0, 4.0, 1.0, 5.0, 866.0, 157.0, 1920.0, None, -37.85908, 144.89299, 'Western Metropolitan', 6380.0), (13579, 'Yarraville', '6 Agnes St', 4, 'h', 1285000.0, 'SP', 'Village', '26/08/2017', 6.3, 3013.0, 4.0, 1.0, 1.0, 362.0, 112.0, 1920.0, None, -37.81188, 144.88449, 'Western Metropolitan', 6543.0))\n",
            "2022-04-27 00:31:09,461 INFO sqlalchemy.engine.Engine COMMIT\n"
          ]
        }
      ]
    },
    {
      "cell_type": "code",
      "source": [
        "#Lectura del dataset airbnb, damos como \n",
        "#parámetros las columnas que queremos extraer\n",
        "interesting_cols = [\n",
        "  'description', 'neighborhood_overview',\n",
        "  'street', 'neighborhood', 'city', 'suburb', 'state', 'zipcode',\n",
        "  'price', 'weekly_price', 'monthly_price',\n",
        "  'latitude', 'longitude',\n",
        "]\n",
        "airbnb_df = pandas.read_csv(\n",
        "    'https://cs.famaf.unc.edu.ar/~mteruel/datasets/diplodatos/cleansed_listings_dec18.csv',\n",
        "    usecols=interesting_cols)\n",
        "\n",
        "#Escribe los datos del DataFrame airbnb en una nueva tabla en SQLite\n",
        "airbnb_df.to_sql('airbnb_sql', con=engine, if_exists=\"replace\")"
      ],
      "metadata": {
        "colab": {
          "base_uri": "https://localhost:8080/"
        },
        "id": "7Ha4PK96bbH8",
        "outputId": "bf8ef20f-5225-416c-c1c9-e97d65240fdf"
      },
      "id": "7Ha4PK96bbH8",
      "execution_count": 27,
      "outputs": [
        {
          "output_type": "stream",
          "name": "stdout",
          "text": [
            "2022-04-27 00:41:01,798 INFO sqlalchemy.engine.Engine PRAGMA main.table_info(\"airbnb_sql\")\n",
            "2022-04-27 00:41:01,800 INFO sqlalchemy.engine.Engine [raw sql] ()\n",
            "2022-04-27 00:41:01,806 INFO sqlalchemy.engine.Engine PRAGMA main.table_info(\"airbnb_sql\")\n",
            "2022-04-27 00:41:01,808 INFO sqlalchemy.engine.Engine [raw sql] ()\n",
            "2022-04-27 00:41:01,812 INFO sqlalchemy.engine.Engine SELECT name FROM sqlite_master WHERE type='table' ORDER BY name\n",
            "2022-04-27 00:41:01,814 INFO sqlalchemy.engine.Engine [raw sql] ()\n",
            "2022-04-27 00:41:01,817 INFO sqlalchemy.engine.Engine PRAGMA main.table_info(\"airbnb_sql\")\n",
            "2022-04-27 00:41:01,818 INFO sqlalchemy.engine.Engine [raw sql] ()\n",
            "2022-04-27 00:41:01,823 INFO sqlalchemy.engine.Engine SELECT sql FROM  (SELECT * FROM sqlite_master UNION ALL   SELECT * FROM sqlite_temp_master) WHERE name = ? AND type = 'table'\n",
            "2022-04-27 00:41:01,824 INFO sqlalchemy.engine.Engine [raw sql] ('airbnb_sql',)\n",
            "2022-04-27 00:41:01,827 INFO sqlalchemy.engine.Engine PRAGMA main.foreign_key_list(\"airbnb_sql\")\n",
            "2022-04-27 00:41:01,829 INFO sqlalchemy.engine.Engine [raw sql] ()\n",
            "2022-04-27 00:41:01,831 INFO sqlalchemy.engine.Engine PRAGMA temp.foreign_key_list(\"airbnb_sql\")\n",
            "2022-04-27 00:41:01,833 INFO sqlalchemy.engine.Engine [raw sql] ()\n",
            "2022-04-27 00:41:01,835 INFO sqlalchemy.engine.Engine SELECT sql FROM  (SELECT * FROM sqlite_master UNION ALL   SELECT * FROM sqlite_temp_master) WHERE name = ? AND type = 'table'\n",
            "2022-04-27 00:41:01,836 INFO sqlalchemy.engine.Engine [raw sql] ('airbnb_sql',)\n",
            "2022-04-27 00:41:01,843 INFO sqlalchemy.engine.Engine PRAGMA main.index_list(\"airbnb_sql\")\n",
            "2022-04-27 00:41:01,844 INFO sqlalchemy.engine.Engine [raw sql] ()\n",
            "2022-04-27 00:41:01,847 INFO sqlalchemy.engine.Engine PRAGMA main.index_info(\"ix_airbnb_sql_index\")\n",
            "2022-04-27 00:41:01,849 INFO sqlalchemy.engine.Engine [raw sql] ()\n",
            "2022-04-27 00:41:01,852 INFO sqlalchemy.engine.Engine PRAGMA main.index_list(\"airbnb_sql\")\n",
            "2022-04-27 00:41:01,854 INFO sqlalchemy.engine.Engine [raw sql] ()\n",
            "2022-04-27 00:41:01,857 INFO sqlalchemy.engine.Engine PRAGMA main.index_info(\"ix_airbnb_sql_index\")\n",
            "2022-04-27 00:41:01,859 INFO sqlalchemy.engine.Engine [raw sql] ()\n",
            "2022-04-27 00:41:01,862 INFO sqlalchemy.engine.Engine SELECT sql FROM  (SELECT * FROM sqlite_master UNION ALL   SELECT * FROM sqlite_temp_master) WHERE name = ? AND type = 'table'\n",
            "2022-04-27 00:41:01,864 INFO sqlalchemy.engine.Engine [raw sql] ('airbnb_sql',)\n",
            "2022-04-27 00:41:01,872 INFO sqlalchemy.engine.Engine BEGIN (implicit)\n",
            "2022-04-27 00:41:01,873 INFO sqlalchemy.engine.Engine \n",
            "DROP TABLE airbnb_sql\n",
            "2022-04-27 00:41:01,875 INFO sqlalchemy.engine.Engine [no key 0.00168s] ()\n"
          ]
        },
        {
          "output_type": "stream",
          "name": "stderr",
          "text": [
            "/usr/local/lib/python3.7/dist-packages/IPython/core/interactiveshell.py:2882: DtypeWarning: Columns (35) have mixed types.Specify dtype option on import or set low_memory=False.\n",
            "  exec(code_obj, self.user_global_ns, self.user_ns)\n"
          ]
        },
        {
          "output_type": "stream",
          "name": "stdout",
          "text": [
            "2022-04-27 00:41:02,318 INFO sqlalchemy.engine.Engine COMMIT\n",
            "2022-04-27 00:41:02,325 INFO sqlalchemy.engine.Engine BEGIN (implicit)\n",
            "2022-04-27 00:41:02,330 INFO sqlalchemy.engine.Engine \n",
            "CREATE TABLE airbnb_sql (\n",
            "\t\"index\" BIGINT, \n",
            "\tdescription TEXT, \n",
            "\tneighborhood_overview TEXT, \n",
            "\tstreet TEXT, \n",
            "\tneighborhood TEXT, \n",
            "\tcity TEXT, \n",
            "\tsuburb TEXT, \n",
            "\tstate TEXT, \n",
            "\tzipcode TEXT, \n",
            "\tlatitude FLOAT, \n",
            "\tlongitude FLOAT, \n",
            "\tprice BIGINT, \n",
            "\tweekly_price FLOAT, \n",
            "\tmonthly_price FLOAT\n",
            ")\n",
            "\n",
            "\n",
            "2022-04-27 00:41:02,332 INFO sqlalchemy.engine.Engine [no key 0.00186s] ()\n",
            "2022-04-27 00:41:02,345 INFO sqlalchemy.engine.Engine CREATE INDEX ix_airbnb_sql_index ON airbnb_sql (\"index\")\n",
            "2022-04-27 00:41:02,349 INFO sqlalchemy.engine.Engine [no key 0.00390s] ()\n",
            "2022-04-27 00:41:02,360 INFO sqlalchemy.engine.Engine COMMIT\n",
            "2022-04-27 00:41:02,387 INFO sqlalchemy.engine.Engine BEGIN (implicit)\n",
            "2022-04-27 00:41:02,993 INFO sqlalchemy.engine.Engine INSERT INTO airbnb_sql (\"index\", description, neighborhood_overview, street, neighborhood, city, suburb, state, zipcode, latitude, longitude, price, weekly_price, monthly_price) VALUES (?, ?, ?, ?, ?, ?, ?, ?, ?, ?, ?, ?, ?, ?)\n",
            "2022-04-27 00:41:02,995 INFO sqlalchemy.engine.Engine [generated in 0.55520s] ((0, 'House: Clean, New, Modern, Quite, Safe. 10Km from the City. Golf course, Tennis courts, bus stop & shops walking distance!! Rooms: Contains one queen ... (702 characters truncated) ... pproximately what your daily in and out hours might look like.  Note: There is a 5 year old fun loving dog who lives with us and is part of our famil', 'Very safe! Family oriented. Older age group.', 'Bulleen, VIC, Australia', 'Balwyn North', 'Manningham', 'Bulleen', 'VIC', '3105', -37.77268393, 145.0921328, 60, None, None), (1, \"A large air conditioned room with queen spring mattress bed in a vintage apartment. Located right outside is a tram to the city just 19 minutes away. ... (702 characters truncated) ... ou east to Bundoora and west to Pacoevale. The Lygon Street tram line that goes past Melbourne University is 10 minutes walk west and Sydney Road and\", \"This hip area is a crossroads between two great cultural strips of inner Northern Melbourne.  Located in East Brunswick, between High St, Northcote a ... (533 characters truncated) ... re three coffee places within 50metres, and the Lomond Hotel Pub right across the road has good live music and there's also a pizza place downstairs.\", 'Brunswick East, VIC, Australia', 'Brunswick', 'Moreland', 'Brunswick East', 'VIC', '3057', -37.76650512, 144.9807361, 35, 200.0, 803.0), (2, 'RIGHT IN THE HEART OF ST KILDA! It doesn\\'t get more central than this! A fabulous north facing balcony apartment that offers right in the heart of t ... (703 characters truncated) ... system with iPod dock & DVD/CD player Selection of books, magazines, DVDs, CDs Glass framed console/desk with lamp Bedroom with queen bed, hotel qual', 'A stay at our apartment means you can enjoy some of Melbourne’s best restaurants, bars, cafes, shopping, dining and night life, all at your doorstep. ... (288 characters truncated) ... ith the city skyline as a stunning backdrop. Our apartment is perfectly suited to those wanting an exclusive, authentic urban residential experience.', 'St Kilda, VIC, Australia', 'St Kilda', 'Port Phillip', 'St Kilda', 'VIC', '3182', -37.85975502, 144.9773691, 159, 1253.0, 4452.0), (3, \"Comfortable, relaxed house, a home away from  home! This is a shared house, you will be sharing with me, plus the occasional other guest. Rooms are l ... (702 characters truncated) ... om, watch a movie, or TV, or relax in the back yard. Guest's privacy will be respected at all times. If you need information and tips on where to go,\", 'This is a great neighbourhood – it is quiet, yet close to so many things. High Street, Northcote (hip bars, cafes and craft stores) are a 10 minute walk east; Sydney Road (ethnic delights and great food) is 8 minute drive west; city is 30 minutes by tram or train.', 'Thornbury, VIC, Australia', 'Thornbury', 'Darebin', 'Thornbury', 'VIC', '3071', -37.75897072, 144.9892279, 50, 250.0, 920.0), (4, 'We offer comfortable accommodation in Inner Melbourne in Clement House, a two storey Victorian built in 1888. Large double bedroom with balcony, priv ... (660 characters truncated) ... n smoking house with an outside courtyard for smokers. The rate for guests that stay for a week are heavily discounted and therefore very attractive.', None, 'St Kilda East, VIC, Australia', 'St Kilda East', 'Port Phillip', 'St Kilda East', 'VIC', '3183', -37.8645303, 144.9922379, 69, 400.0, 1900.0), (5, 'Please note: No booking will be accepted with children under the age of 13 years.  Accommodation is non smoking in apartment & on grounds.  All visit ... (702 characters truncated) ... om, toilet & living area with stereo and 32\" LCD TV. A second bedroom (Autumn Room) is available with another Queen size bed for extra travelers if r', 'Our street is quiet & secluded but within walking distance to almost anything you need.', 'Berwick, VIC, Australia', None, 'Casey', 'Berwick', 'VIC', '3806', -38.05725414, 145.3393561, 98, 540.0, None), (6, 'Easy to travel from and to the Airport; quiet and safe neighbourhood; a spacious and sunny room; backyard for sun baking; a friendly host who are eas ... (702 characters truncated) ... ovided here for your comfort is in a two bedroom unit with 100sqm backyard(my green garden). This bedroom is airy and bright with big windows. Your r', \"The neighbours are quiet and friendly,  please don't park the car on my driveway because one of our neighbours is doing shifting work as a nurse. There are plenty of space for parking in the guest parking bay and along the street for free.\", 'Reservoir, VIC, Australia', None, 'Darebin', 'Reservoir', 'VIC', '3073', -37.69729418, 145.0008156, 50, 335.0, 1400.0), (7, \"Comfortable and spacious room in an apartment close to the heart of Melbourne. High quality bedding and good sound proofing guarantees a good night's ... (702 characters truncated) ... take you right into the CBD, via Lonsdale Street and to Grattan Street, Melbourne University Tram 112 onto Collins Street Jolimont train station (10m\", \"MCG (15min walk) Rod Laver Arena Fitzroy Gardens Smith Street restaurants and bars (10min walk) Melbourne CBD  Parliament House St Vincent's Hospital (12min walk) The Royal Eye and Ear Hospital (11min walk) Keeping active while away: Pool Gym East Melbourne Tennis Club  Fitzroy Gardens\", 'East Melbourne, VIC, Australia', None, 'Melbourne', 'East Melbourne', 'VIC', '3002', -37.81026723, 144.98592, 100, None, None)  ... displaying 10 of 22895 total bound parameter sets ...  (22893, \"Immaculately presented and carefully maintained executive courtyard apartment, well spaced floor plan comprises a queen-sized bedroom with large mirr ... (702 characters truncated) ... Melbourne Exhibition and Convention Centres, (The Yarra's) Southbank Promenade (boasting an array of cafes, bars, restaurants and boutiques), The Cro\", \"A plethora of Melbourne highlights are just a few minutes walk away, including Melbourne Exhibition and Convention Centres, (The Yarra's) Southbank P ... (68 characters truncated) ... s), The Crown Casino Complex (offering a further array of dining, shopping and entertainment facilities), Clarendon Street South Melbourne's shopping\", 'Southbank, VIC, Australia', 'Southbank', 'Melbourne', 'Southbank', 'VIC', 3006.0, -37.8277951, 144.9549869, 130, None, None), (22894, \"An ENTIRE apartment unit ALL TO YOURSELF in Melbourne city, only a 5min walk to Melbourne Central and Queen Victoria Markets. Makes this cozy inner-c ... (702 characters truncated) ... s fully equipped and furnished  home is ready to go with: - Air Conditioning & heating  - Wireless internet (Pocket Wi-Fi) BEDROOM  - Queen sized bed\", None, 'Carlton, VIC, Australia', 'Carlton', 'Melbourne', 'Carlton', 'VIC', 3053.0, -37.80518635, 144.9623991, 179, None, None))\n",
            "2022-04-27 00:41:03,231 INFO sqlalchemy.engine.Engine COMMIT\n"
          ]
        }
      ]
    },
    {
      "cell_type": "code",
      "source": [
        "#Visualización de columnas del dataframe airbnb_df\n",
        "airbnb_df.columns\n"
      ],
      "metadata": {
        "colab": {
          "base_uri": "https://localhost:8080/"
        },
        "id": "Rl1ikxPaduWG",
        "outputId": "1065d1a1-155c-4d1c-cf6d-456e9fed2b95"
      },
      "id": "Rl1ikxPaduWG",
      "execution_count": 28,
      "outputs": [
        {
          "output_type": "execute_result",
          "data": {
            "text/plain": [
              "Index(['description', 'neighborhood_overview', 'street', 'neighborhood',\n",
              "       'city', 'suburb', 'state', 'zipcode', 'latitude', 'longitude', 'price',\n",
              "       'weekly_price', 'monthly_price'],\n",
              "      dtype='object')"
            ]
          },
          "metadata": {},
          "execution_count": 28
        }
      ]
    },
    {
      "cell_type": "code",
      "source": [
        " #Recuento de filas del dataframe airbnb_df\n",
        " len(airbnb_df)"
      ],
      "metadata": {
        "colab": {
          "base_uri": "https://localhost:8080/"
        },
        "id": "HioUtKqjbbmz",
        "outputId": "f0111717-9627-4c0f-b4c4-b2e460233492"
      },
      "id": "HioUtKqjbbmz",
      "execution_count": 30,
      "outputs": [
        {
          "output_type": "execute_result",
          "data": {
            "text/plain": [
              "22895"
            ]
          },
          "metadata": {},
          "execution_count": 30
        }
      ]
    },
    {
      "cell_type": "markdown",
      "id": "c5468c4f-5cdf-4df4-a317-60e1fb0c00db",
      "metadata": {
        "id": "c5468c4f-5cdf-4df4-a317-60e1fb0c00db"
      },
      "source": [
        "## Ejercicio 2: \n",
        "\n",
        "1. Seleccionar un subconjunto de columnas que les parezcan relevantes al problema de predicción del valor de la propiedad. Justificar las columnas seleccionadas y las que no lo fueron.\n",
        " - Eliminar los valores extremos que no sean relevantes para la predicción de valores de las propiedades.\n",
        "\n",
        "2. Agregar información adicional respectiva al entorno de una propiedad a partir del [conjunto de datos de AirBnB](https://www.kaggle.com/tylerx/melbourne-airbnb-open-data?select=cleansed_listings_dec18.csv) utilizado en el práctico. \n",
        "  1. Seleccionar qué variables agregar y qué combinaciones aplicar a cada una. Por ejemplo, pueden utilizar solo la columna `price`, o aplicar múltiples transformaciones como la mediana o el mínimo.\n",
        "  1. Utilizar la variable zipcode para unir los conjuntos de datos. Sólo incluir los zipcodes que tengan una cantidad mínima de registros (a elección) como para que la información agregada sea relevante.\n",
        "  2. Investigar al menos otras 2 variables que puedan servir para combinar los datos, y justificar si serían adecuadas o no. Pueden asumir que cuentan con la ayuda de anotadores expertos para encontrar equivalencias entre barrios o direcciones, o que cuentan con algoritmos para encontrar las n ubicaciones más cercanas a una propiedad a partir de sus coordenadas geográficas. **NO** es necesario que realicen la implementación.\n",
        "\n",
        "Pueden leer otras columnas del conjunto de AirBnB además de las que están en `interesting_cols`, si les parecen relevantes."
      ]
    },
    {
      "cell_type": "markdown",
      "id": "c5303f27-3b15-441b-b291-8caf1c734139",
      "metadata": {
        "id": "c5303f27-3b15-441b-b291-8caf1c734139"
      },
      "source": [
        "## Ejercicio 3:\n",
        "\n",
        "Crear y guardar un nuevo conjunto de datos con todas las transformaciones realizadas anteriormente."
      ]
    },
    {
      "cell_type": "markdown",
      "id": "abfd3eeb-d466-424b-b58e-d1364ac39206",
      "metadata": {
        "id": "abfd3eeb-d466-424b-b58e-d1364ac39206"
      },
      "source": [
        "## Ejercicios opcionales:\n",
        "\n",
        "1. Armar un script en python (archivo .py) [ETL](https://towardsdatascience.com/what-to-log-from-python-etl-pipelines-9e0cfe29950e) que corra los pasos de extraccion, transformacion y carga, armando una funcion para cada etapa del proceso y luego un main que corra todos los pasos requeridos.\n",
        "\n",
        "2. Armar un DAG en Apache Airflow que corra el ETL. (https://airflow.apache.org/docs/apache-airflow/stable/tutorial.html)"
      ]
    },
    {
      "cell_type": "code",
      "execution_count": null,
      "id": "5d210b95-836f-45ac-a52d-1a4dafdb447a",
      "metadata": {
        "id": "5d210b95-836f-45ac-a52d-1a4dafdb447a"
      },
      "outputs": [],
      "source": [
        ""
      ]
    }
  ],
  "metadata": {
    "kernelspec": {
      "display_name": "Python 3",
      "language": "python",
      "name": "python3"
    },
    "language_info": {
      "codemirror_mode": {
        "name": "ipython",
        "version": 3
      },
      "file_extension": ".py",
      "mimetype": "text/x-python",
      "name": "python",
      "nbconvert_exporter": "python",
      "pygments_lexer": "ipython3",
      "version": "3.8.8"
    },
    "colab": {
      "name": "Garay_ayc_entregable_parte1_22.ipynb",
      "provenance": [],
      "include_colab_link": true
    }
  },
  "nbformat": 4,
  "nbformat_minor": 5
}