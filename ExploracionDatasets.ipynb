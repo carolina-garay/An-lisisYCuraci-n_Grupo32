{
  "nbformat": 4,
  "nbformat_minor": 0,
  "metadata": {
    "colab": {
      "name": "Untitled3.ipynb",
      "provenance": [],
      "authorship_tag": "ABX9TyM4ekr9s+cJS78YQErDdvG/",
      "include_colab_link": true
    },
    "kernelspec": {
      "name": "python3",
      "display_name": "Python 3"
    },
    "language_info": {
      "name": "python"
    }
  },
  "cells": [
    {
      "cell_type": "markdown",
      "metadata": {
        "id": "view-in-github",
        "colab_type": "text"
      },
      "source": [
        "<a href=\"https://colab.research.google.com/github/carolina-garay/AnalisisYCuracion_Grupo32/blob/Seba-Ormaechea/ExploracionDatasets.ipynb\" target=\"_parent\"><img src=\"https://colab.research.google.com/assets/colab-badge.svg\" alt=\"Open In Colab\"/></a>"
      ]
    },
    {
      "cell_type": "code",
      "source": [
        "import pandas as pd"
      ],
      "metadata": {
        "id": "nHZv_DjZDEpa"
      },
      "execution_count": 2,
      "outputs": []
    },
    {
      "cell_type": "code",
      "execution_count": 4,
      "metadata": {
        "colab": {
          "base_uri": "https://localhost:8080/"
        },
        "id": "vVXrcvJgDAdW",
        "outputId": "acd89185-3daa-4e0e-adf7-d088c2399e1b"
      },
      "outputs": [
        {
          "output_type": "stream",
          "name": "stderr",
          "text": [
            "/usr/local/lib/python3.7/dist-packages/IPython/core/interactiveshell.py:2882: DtypeWarning: Columns (35,77) have mixed types.Specify dtype option on import or set low_memory=False.\n",
            "  exec(code_obj, self.user_global_ns, self.user_ns)\n"
          ]
        }
      ],
      "source": [
        "AirBb = pd.read_csv('https://cs.famaf.unc.edu.ar/~mteruel/datasets/diplodatos/cleansed_listings_dec18.csv')"
      ]
    },
    {
      "cell_type": "code",
      "source": [
        "AirBb.columns"
      ],
      "metadata": {
        "colab": {
          "base_uri": "https://localhost:8080/"
        },
        "id": "WARvNBWODQqw",
        "outputId": "8e8f6924-eed0-48fe-b982-4107a52d5030"
      },
      "execution_count": 15,
      "outputs": [
        {
          "output_type": "execute_result",
          "data": {
            "text/plain": [
              "Index(['id', 'listing_url', 'scrape_id', 'last_scraped', 'name', 'summary',\n",
              "       'space', 'description', 'neighborhood_overview', 'notes', 'transit',\n",
              "       'access', 'interaction', 'house_rules', 'picture_url', 'host_id',\n",
              "       'host_url', 'host_name', 'host_since', 'host_location', 'host_about',\n",
              "       'host_response_time', 'host_response_rate', 'host_is_superhost',\n",
              "       'host_thumbnail_url', 'host_picture_url', 'host_neighborhood',\n",
              "       'host_verifications', 'host_has_profile_pic', 'host_identity_verified',\n",
              "       'street', 'neighborhood', 'city', 'suburb', 'state', 'zipcode',\n",
              "       'smart_location', 'country_code', 'country', 'latitude', 'longitude',\n",
              "       'is_location_exact', 'property_type', 'room_type', 'accommodates',\n",
              "       'bathrooms', 'bedrooms', 'beds', 'bed_type', 'amenities', 'price',\n",
              "       'weekly_price', 'monthly_price', 'security_deposit', 'cleaning_fee',\n",
              "       'guests_included', 'extra_people', 'minimum_nights', 'maximum_nights',\n",
              "       'calendar_updated', 'has_availability', 'availability_30',\n",
              "       'availability_60', 'availability_90', 'availability_365',\n",
              "       'calendar_last_scraped', 'number_of_reviews', 'first_review',\n",
              "       'last_review', 'review_scores_rating', 'review_scores_accuracy',\n",
              "       'review_scores_cleanliness', 'review_scores_checkin',\n",
              "       'review_scores_communication', 'review_scores_location',\n",
              "       'review_scores_value', 'requires_license', 'license',\n",
              "       'instant_bookable', 'cancellation_policy',\n",
              "       'require_guest_profile_picture', 'require_guest_phone_verification',\n",
              "       'calculated_host_listings_count', 'reviews_per_month'],\n",
              "      dtype='object')"
            ]
          },
          "metadata": {},
          "execution_count": 15
        }
      ]
    },
    {
      "cell_type": "code",
      "source": [
        "len(AirBb['suburb'].unique())\n"
      ],
      "metadata": {
        "colab": {
          "base_uri": "https://localhost:8080/"
        },
        "id": "MgtDwaz6DYgg",
        "outputId": "d003432d-8c0c-46eb-a4a2-2b22dbbef00d"
      },
      "execution_count": 11,
      "outputs": [
        {
          "output_type": "execute_result",
          "data": {
            "text/plain": [
              "543"
            ]
          },
          "metadata": {},
          "execution_count": 11
        }
      ]
    },
    {
      "cell_type": "code",
      "source": [
        "len(AirBb['neighborhood'].unique())"
      ],
      "metadata": {
        "colab": {
          "base_uri": "https://localhost:8080/"
        },
        "id": "ke80iHKCELPx",
        "outputId": "6569ccaf-27de-408f-8dc8-6ca5cb4dc7ac"
      },
      "execution_count": 12,
      "outputs": [
        {
          "output_type": "execute_result",
          "data": {
            "text/plain": [
              "60"
            ]
          },
          "metadata": {},
          "execution_count": 12
        }
      ]
    },
    {
      "cell_type": "code",
      "source": [
        "AirBb['city'].unique()"
      ],
      "metadata": {
        "colab": {
          "base_uri": "https://localhost:8080/"
        },
        "id": "8xnWXaBkDi_3",
        "outputId": "6287653e-50c7-4f0d-c712-1f4aaf516606"
      },
      "execution_count": 17,
      "outputs": [
        {
          "output_type": "execute_result",
          "data": {
            "text/plain": [
              "array(['Manningham', 'Moreland', 'Port Phillip', 'Darebin', 'Casey',\n",
              "       'Melbourne', 'Monash', 'Frankston', 'Yarra', 'Bayside',\n",
              "       'Boroondara', 'Kingston', 'Stonnington', 'Glen Eira', 'Maroondah',\n",
              "       'Maribyrnong', 'Yarra Ranges', 'Banyule', 'Whitehorse', 'Melton',\n",
              "       'Brimbank', 'Hobsons Bay', 'Wyndham', 'Moonee Valley',\n",
              "       'Whittlesea', 'Greater Dandenong', 'Nillumbik', 'Knox', 'Cardinia',\n",
              "       'Hume'], dtype=object)"
            ]
          },
          "metadata": {},
          "execution_count": 17
        }
      ]
    },
    {
      "cell_type": "code",
      "source": [
        "len(AirBb['city'].unique())"
      ],
      "metadata": {
        "colab": {
          "base_uri": "https://localhost:8080/"
        },
        "id": "vSnfaBydLi5t",
        "outputId": "5682482a-0c76-492b-ea54-5e8d6126e6ac"
      },
      "execution_count": 18,
      "outputs": [
        {
          "output_type": "execute_result",
          "data": {
            "text/plain": [
              "30"
            ]
          },
          "metadata": {},
          "execution_count": 18
        }
      ]
    },
    {
      "cell_type": "code",
      "source": [
        "AirBb.info()"
      ],
      "metadata": {
        "colab": {
          "base_uri": "https://localhost:8080/"
        },
        "id": "F2w_7mf_NnUD",
        "outputId": "bede0035-bd4a-4439-9e13-03725cdb79f6"
      },
      "execution_count": 25,
      "outputs": [
        {
          "output_type": "stream",
          "name": "stdout",
          "text": [
            "<class 'pandas.core.frame.DataFrame'>\n",
            "RangeIndex: 22895 entries, 0 to 22894\n",
            "Data columns (total 84 columns):\n",
            " #   Column                            Non-Null Count  Dtype  \n",
            "---  ------                            --------------  -----  \n",
            " 0   id                                22895 non-null  int64  \n",
            " 1   listing_url                       22895 non-null  object \n",
            " 2   scrape_id                         22895 non-null  float64\n",
            " 3   last_scraped                      22895 non-null  object \n",
            " 4   name                              22892 non-null  object \n",
            " 5   summary                           22199 non-null  object \n",
            " 6   space                             16844 non-null  object \n",
            " 7   description                       22563 non-null  object \n",
            " 8   neighborhood_overview             14424 non-null  object \n",
            " 9   notes                             11546 non-null  object \n",
            " 10  transit                           14943 non-null  object \n",
            " 11  access                            15168 non-null  object \n",
            " 12  interaction                       14537 non-null  object \n",
            " 13  house_rules                       15032 non-null  object \n",
            " 14  picture_url                       22895 non-null  object \n",
            " 15  host_id                           22895 non-null  int64  \n",
            " 16  host_url                          22895 non-null  object \n",
            " 17  host_name                         22892 non-null  object \n",
            " 18  host_since                        22892 non-null  object \n",
            " 19  host_location                     22869 non-null  object \n",
            " 20  host_about                        13730 non-null  object \n",
            " 21  host_response_time                15589 non-null  object \n",
            " 22  host_response_rate                15589 non-null  object \n",
            " 23  host_is_superhost                 22892 non-null  object \n",
            " 24  host_thumbnail_url                22892 non-null  object \n",
            " 25  host_picture_url                  22892 non-null  object \n",
            " 26  host_neighborhood                 14927 non-null  object \n",
            " 27  host_verifications                22895 non-null  object \n",
            " 28  host_has_profile_pic              22892 non-null  object \n",
            " 29  host_identity_verified            22892 non-null  object \n",
            " 30  street                            22895 non-null  object \n",
            " 31  neighborhood                      17082 non-null  object \n",
            " 32  city                              22895 non-null  object \n",
            " 33  suburb                            22872 non-null  object \n",
            " 34  state                             22834 non-null  object \n",
            " 35  zipcode                           22753 non-null  object \n",
            " 36  smart_location                    22895 non-null  object \n",
            " 37  country_code                      22895 non-null  object \n",
            " 38  country                           22895 non-null  object \n",
            " 39  latitude                          22895 non-null  float64\n",
            " 40  longitude                         22895 non-null  float64\n",
            " 41  is_location_exact                 22895 non-null  object \n",
            " 42  property_type                     22895 non-null  object \n",
            " 43  room_type                         22895 non-null  object \n",
            " 44  accommodates                      22895 non-null  int64  \n",
            " 45  bathrooms                         22878 non-null  float64\n",
            " 46  bedrooms                          22890 non-null  float64\n",
            " 47  beds                              22861 non-null  float64\n",
            " 48  bed_type                          22895 non-null  object \n",
            " 49  amenities                         22895 non-null  object \n",
            " 50  price                             22895 non-null  int64  \n",
            " 51  weekly_price                      2524 non-null   float64\n",
            " 52  monthly_price                     1891 non-null   float64\n",
            " 53  security_deposit                  15401 non-null  float64\n",
            " 54  cleaning_fee                      17249 non-null  float64\n",
            " 55  guests_included                   22895 non-null  int64  \n",
            " 56  extra_people                      22895 non-null  int64  \n",
            " 57  minimum_nights                    22895 non-null  int64  \n",
            " 58  maximum_nights                    22895 non-null  int64  \n",
            " 59  calendar_updated                  22895 non-null  object \n",
            " 60  has_availability                  22895 non-null  object \n",
            " 61  availability_30                   22895 non-null  int64  \n",
            " 62  availability_60                   22895 non-null  int64  \n",
            " 63  availability_90                   22895 non-null  int64  \n",
            " 64  availability_365                  22895 non-null  int64  \n",
            " 65  calendar_last_scraped             22895 non-null  object \n",
            " 66  number_of_reviews                 22895 non-null  int64  \n",
            " 67  first_review                      17653 non-null  object \n",
            " 68  last_review                       17653 non-null  object \n",
            " 69  review_scores_rating              17189 non-null  float64\n",
            " 70  review_scores_accuracy            17175 non-null  float64\n",
            " 71  review_scores_cleanliness         17182 non-null  float64\n",
            " 72  review_scores_checkin             17161 non-null  float64\n",
            " 73  review_scores_communication       17177 non-null  float64\n",
            " 74  review_scores_location            17162 non-null  float64\n",
            " 75  review_scores_value               17160 non-null  float64\n",
            " 76  requires_license                  22895 non-null  object \n",
            " 77  license                           21 non-null     object \n",
            " 78  instant_bookable                  22895 non-null  object \n",
            " 79  cancellation_policy               22895 non-null  object \n",
            " 80  require_guest_profile_picture     22895 non-null  object \n",
            " 81  require_guest_phone_verification  22895 non-null  object \n",
            " 82  calculated_host_listings_count    22895 non-null  int64  \n",
            " 83  reviews_per_month                 17653 non-null  float64\n",
            "dtypes: float64(18), int64(14), object(52)\n",
            "memory usage: 14.7+ MB\n"
          ]
        }
      ]
    },
    {
      "cell_type": "code",
      "source": [
        "kaggle_df = pd.read_csv(\n",
        "    'https://cs.famaf.unc.edu.ar/~mteruel/datasets/diplodatos/melb_data.csv')"
      ],
      "metadata": {
        "id": "bknB9EMYMjAw"
      },
      "execution_count": 19,
      "outputs": []
    },
    {
      "cell_type": "code",
      "source": [
        "kaggle_df.info()"
      ],
      "metadata": {
        "id": "a9OT740gMkQn"
      },
      "execution_count": null,
      "outputs": []
    },
    {
      "cell_type": "code",
      "source": [
        "len(kaggle_df['Suburb'].unique())"
      ],
      "metadata": {
        "colab": {
          "base_uri": "https://localhost:8080/"
        },
        "id": "JzP6o4u1Mkd7",
        "outputId": "e27d7e70-cf2c-4546-fd68-4ffcee7bec07"
      },
      "execution_count": 22,
      "outputs": [
        {
          "output_type": "execute_result",
          "data": {
            "text/plain": [
              "314"
            ]
          },
          "metadata": {},
          "execution_count": 22
        }
      ]
    },
    {
      "cell_type": "code",
      "source": [
        "kaggle_df['Propertycount'].unique()"
      ],
      "metadata": {
        "id": "QzQR0neVM1Rc"
      },
      "execution_count": null,
      "outputs": []
    },
    {
      "cell_type": "code",
      "source": [
        "kaggle_df.info()"
      ],
      "metadata": {
        "colab": {
          "base_uri": "https://localhost:8080/"
        },
        "id": "WSEz5A9fONFa",
        "outputId": "2e1e17c8-ef3f-43aa-a869-8468e00471f9"
      },
      "execution_count": 26,
      "outputs": [
        {
          "output_type": "stream",
          "name": "stdout",
          "text": [
            "<class 'pandas.core.frame.DataFrame'>\n",
            "RangeIndex: 13580 entries, 0 to 13579\n",
            "Data columns (total 21 columns):\n",
            " #   Column         Non-Null Count  Dtype  \n",
            "---  ------         --------------  -----  \n",
            " 0   Suburb         13580 non-null  object \n",
            " 1   Address        13580 non-null  object \n",
            " 2   Rooms          13580 non-null  int64  \n",
            " 3   Type           13580 non-null  object \n",
            " 4   Price          13580 non-null  float64\n",
            " 5   Method         13580 non-null  object \n",
            " 6   SellerG        13580 non-null  object \n",
            " 7   Date           13580 non-null  object \n",
            " 8   Distance       13580 non-null  float64\n",
            " 9   Postcode       13580 non-null  float64\n",
            " 10  Bedroom2       13580 non-null  float64\n",
            " 11  Bathroom       13580 non-null  float64\n",
            " 12  Car            13518 non-null  float64\n",
            " 13  Landsize       13580 non-null  float64\n",
            " 14  BuildingArea   7130 non-null   float64\n",
            " 15  YearBuilt      8205 non-null   float64\n",
            " 16  CouncilArea    12211 non-null  object \n",
            " 17  Lattitude      13580 non-null  float64\n",
            " 18  Longtitude     13580 non-null  float64\n",
            " 19  Regionname     13580 non-null  object \n",
            " 20  Propertycount  13580 non-null  float64\n",
            "dtypes: float64(12), int64(1), object(8)\n",
            "memory usage: 2.2+ MB\n"
          ]
        }
      ]
    }
  ]
}