{
  "cells": [
    {
      "cell_type": "markdown",
      "metadata": {
        "id": "view-in-github",
        "colab_type": "text"
      },
      "source": [
        "<a href=\"https://colab.research.google.com/github/carolina-garay/AnalisisYCuracion_Grupo32/blob/Seba-Ormaechea/Pr%C3%A1ctico2_AyC_Parte1_SGO_v4.ipynb\" target=\"_parent\"><img src=\"https://colab.research.google.com/assets/colab-badge.svg\" alt=\"Open In Colab\"/></a>"
      ]
    },
    {
      "cell_type": "markdown",
      "id": "e0ff301b-5595-4a0b-a2b8-3d5609a0485d",
      "metadata": {
        "id": "e0ff301b-5595-4a0b-a2b8-3d5609a0485d"
      },
      "source": [
        "**Diplomatura en Ciencia de Datos, Aprendizaje Automático y sus Aplicaciones**\n",
        "\n",
        "**Exploración y Curación de Datos**\n",
        "\n",
        "*Edición 2022*\n",
        "\n",
        "----\n",
        "\n",
        "# Trabajo práctico N°2. Análisis y Curación de datos. Entregable - parte 1\n",
        "\n",
        "El objetivo de este práctico es: Obtener una base de datos capaz de ser utilizada posteriormente para la construcción de un modelo que prediga el valor de venta de una propiedad en la ciudad de Melbourne, Australia. Para ello, se cargan dos conjuntos de datos. El [primero](https://www.kaggle.com/dansbecker/melbourne-housing-snapshot) es de la compentencia Kaggle sobre estimación de precios de ventas de propiedades en Melbourne, Australia. El [segundo](https://www.kaggle.com/datasets/tylerx/melbourne-airbnb-open-data) es un conjunto de datos  elaborado a partir de datos de la plataforma Airbnb, que se buscará unir al primer dataset con el objetivo de sumarle información."
      ]
    },
    {
      "cell_type": "code",
      "source": [
        "!pip install pandas_profiling==2.8.0\n",
        "!pip install pandas==1.2.0"
      ],
      "metadata": {
        "colab": {
          "base_uri": "https://localhost:8080/"
        },
        "id": "pUSE14qmTtay",
        "outputId": "f6a738a3-c868-4716-a874-f94e372b9a8d"
      },
      "id": "pUSE14qmTtay",
      "execution_count": 3,
      "outputs": [
        {
          "output_type": "stream",
          "name": "stdout",
          "text": [
            "Collecting pandas_profiling==2.8.0\n",
            "  Downloading pandas_profiling-2.8.0-py2.py3-none-any.whl (259 kB)\n",
            "\u001b[?25l\r\u001b[K     |█▎                              | 10 kB 24.1 MB/s eta 0:00:01\r\u001b[K     |██▌                             | 20 kB 29.4 MB/s eta 0:00:01\r\u001b[K     |███▉                            | 30 kB 34.9 MB/s eta 0:00:01\r\u001b[K     |█████                           | 40 kB 30.5 MB/s eta 0:00:01\r\u001b[K     |██████▎                         | 51 kB 19.7 MB/s eta 0:00:01\r\u001b[K     |███████▋                        | 61 kB 22.0 MB/s eta 0:00:01\r\u001b[K     |████████▉                       | 71 kB 23.9 MB/s eta 0:00:01\r\u001b[K     |██████████                      | 81 kB 25.5 MB/s eta 0:00:01\r\u001b[K     |███████████▍                    | 92 kB 27.8 MB/s eta 0:00:01\r\u001b[K     |████████████▋                   | 102 kB 28.1 MB/s eta 0:00:01\r\u001b[K     |█████████████▉                  | 112 kB 28.1 MB/s eta 0:00:01\r\u001b[K     |███████████████▏                | 122 kB 28.1 MB/s eta 0:00:01\r\u001b[K     |████████████████▍               | 133 kB 28.1 MB/s eta 0:00:01\r\u001b[K     |█████████████████▋              | 143 kB 28.1 MB/s eta 0:00:01\r\u001b[K     |███████████████████             | 153 kB 28.1 MB/s eta 0:00:01\r\u001b[K     |████████████████████▏           | 163 kB 28.1 MB/s eta 0:00:01\r\u001b[K     |█████████████████████▍          | 174 kB 28.1 MB/s eta 0:00:01\r\u001b[K     |██████████████████████▊         | 184 kB 28.1 MB/s eta 0:00:01\r\u001b[K     |████████████████████████        | 194 kB 28.1 MB/s eta 0:00:01\r\u001b[K     |█████████████████████████▏      | 204 kB 28.1 MB/s eta 0:00:01\r\u001b[K     |██████████████████████████▌     | 215 kB 28.1 MB/s eta 0:00:01\r\u001b[K     |███████████████████████████▊    | 225 kB 28.1 MB/s eta 0:00:01\r\u001b[K     |█████████████████████████████   | 235 kB 28.1 MB/s eta 0:00:01\r\u001b[K     |██████████████████████████████▎ | 245 kB 28.1 MB/s eta 0:00:01\r\u001b[K     |███████████████████████████████▌| 256 kB 28.1 MB/s eta 0:00:01\r\u001b[K     |████████████████████████████████| 259 kB 28.1 MB/s \n",
            "\u001b[?25hRequirement already satisfied: astropy>=4.0 in /usr/local/lib/python3.7/dist-packages (from pandas_profiling==2.8.0) (4.3.1)\n",
            "Requirement already satisfied: matplotlib>=3.2.0 in /usr/local/lib/python3.7/dist-packages (from pandas_profiling==2.8.0) (3.2.2)\n",
            "Collecting visions[type_image_path]==0.4.4\n",
            "  Downloading visions-0.4.4-py3-none-any.whl (59 kB)\n",
            "\u001b[K     |████████████████████████████████| 59 kB 7.1 MB/s \n",
            "\u001b[?25hRequirement already satisfied: missingno>=0.4.2 in /usr/local/lib/python3.7/dist-packages (from pandas_profiling==2.8.0) (0.5.1)\n",
            "Collecting tangled-up-in-unicode>=0.0.6\n",
            "  Downloading tangled_up_in_unicode-0.2.0-py3-none-any.whl (4.7 MB)\n",
            "\u001b[K     |████████████████████████████████| 4.7 MB 69.3 MB/s \n",
            "\u001b[?25hRequirement already satisfied: requests>=2.23.0 in /usr/local/lib/python3.7/dist-packages (from pandas_profiling==2.8.0) (2.23.0)\n",
            "Requirement already satisfied: numpy>=1.16.0 in /usr/local/lib/python3.7/dist-packages (from pandas_profiling==2.8.0) (1.21.6)\n",
            "Requirement already satisfied: scipy>=1.4.1 in /usr/local/lib/python3.7/dist-packages (from pandas_profiling==2.8.0) (1.4.1)\n",
            "Requirement already satisfied: joblib in /usr/local/lib/python3.7/dist-packages (from pandas_profiling==2.8.0) (1.1.0)\n",
            "Requirement already satisfied: tqdm>=4.43.0 in /usr/local/lib/python3.7/dist-packages (from pandas_profiling==2.8.0) (4.64.0)\n",
            "Collecting htmlmin>=0.1.12\n",
            "  Downloading htmlmin-0.1.12.tar.gz (19 kB)\n",
            "Collecting phik>=0.9.10\n",
            "  Downloading phik-0.12.2-cp37-cp37m-manylinux_2_17_x86_64.manylinux2014_x86_64.whl (690 kB)\n",
            "\u001b[K     |████████████████████████████████| 690 kB 58.8 MB/s \n",
            "\u001b[?25hCollecting confuse>=1.0.0\n",
            "  Downloading confuse-1.7.0-py2.py3-none-any.whl (25 kB)\n",
            "Requirement already satisfied: ipywidgets>=7.5.1 in /usr/local/lib/python3.7/dist-packages (from pandas_profiling==2.8.0) (7.7.0)\n",
            "Requirement already satisfied: pandas!=1.0.0,!=1.0.1,!=1.0.2,>=0.25.3 in /usr/local/lib/python3.7/dist-packages (from pandas_profiling==2.8.0) (1.3.5)\n",
            "Requirement already satisfied: jinja2>=2.11.1 in /usr/local/lib/python3.7/dist-packages (from pandas_profiling==2.8.0) (2.11.3)\n",
            "Requirement already satisfied: attrs>=19.3.0 in /usr/local/lib/python3.7/dist-packages (from visions[type_image_path]==0.4.4->pandas_profiling==2.8.0) (21.4.0)\n",
            "Requirement already satisfied: networkx>=2.4 in /usr/local/lib/python3.7/dist-packages (from visions[type_image_path]==0.4.4->pandas_profiling==2.8.0) (2.6.3)\n",
            "Requirement already satisfied: Pillow in /usr/local/lib/python3.7/dist-packages (from visions[type_image_path]==0.4.4->pandas_profiling==2.8.0) (7.1.2)\n",
            "Collecting imagehash\n",
            "  Downloading ImageHash-4.2.1.tar.gz (812 kB)\n",
            "\u001b[K     |████████████████████████████████| 812 kB 44.2 MB/s \n",
            "\u001b[?25hRequirement already satisfied: pyerfa>=1.7.3 in /usr/local/lib/python3.7/dist-packages (from astropy>=4.0->pandas_profiling==2.8.0) (2.0.0.1)\n",
            "Requirement already satisfied: importlib-metadata in /usr/local/lib/python3.7/dist-packages (from astropy>=4.0->pandas_profiling==2.8.0) (4.11.3)\n",
            "Requirement already satisfied: pyyaml in /usr/local/lib/python3.7/dist-packages (from confuse>=1.0.0->pandas_profiling==2.8.0) (3.13)\n",
            "Requirement already satisfied: ipython>=4.0.0 in /usr/local/lib/python3.7/dist-packages (from ipywidgets>=7.5.1->pandas_profiling==2.8.0) (5.5.0)\n",
            "Requirement already satisfied: nbformat>=4.2.0 in /usr/local/lib/python3.7/dist-packages (from ipywidgets>=7.5.1->pandas_profiling==2.8.0) (5.3.0)\n",
            "Requirement already satisfied: jupyterlab-widgets>=1.0.0 in /usr/local/lib/python3.7/dist-packages (from ipywidgets>=7.5.1->pandas_profiling==2.8.0) (1.1.0)\n",
            "Requirement already satisfied: ipython-genutils~=0.2.0 in /usr/local/lib/python3.7/dist-packages (from ipywidgets>=7.5.1->pandas_profiling==2.8.0) (0.2.0)\n",
            "Requirement already satisfied: ipykernel>=4.5.1 in /usr/local/lib/python3.7/dist-packages (from ipywidgets>=7.5.1->pandas_profiling==2.8.0) (4.10.1)\n",
            "Requirement already satisfied: traitlets>=4.3.1 in /usr/local/lib/python3.7/dist-packages (from ipywidgets>=7.5.1->pandas_profiling==2.8.0) (5.1.1)\n",
            "Requirement already satisfied: widgetsnbextension~=3.6.0 in /usr/local/lib/python3.7/dist-packages (from ipywidgets>=7.5.1->pandas_profiling==2.8.0) (3.6.0)\n",
            "Requirement already satisfied: jupyter-client in /usr/local/lib/python3.7/dist-packages (from ipykernel>=4.5.1->ipywidgets>=7.5.1->pandas_profiling==2.8.0) (5.3.5)\n",
            "Requirement already satisfied: tornado>=4.0 in /usr/local/lib/python3.7/dist-packages (from ipykernel>=4.5.1->ipywidgets>=7.5.1->pandas_profiling==2.8.0) (5.1.1)\n",
            "Requirement already satisfied: simplegeneric>0.8 in /usr/local/lib/python3.7/dist-packages (from ipython>=4.0.0->ipywidgets>=7.5.1->pandas_profiling==2.8.0) (0.8.1)\n",
            "Requirement already satisfied: setuptools>=18.5 in /usr/local/lib/python3.7/dist-packages (from ipython>=4.0.0->ipywidgets>=7.5.1->pandas_profiling==2.8.0) (57.4.0)\n",
            "Requirement already satisfied: prompt-toolkit<2.0.0,>=1.0.4 in /usr/local/lib/python3.7/dist-packages (from ipython>=4.0.0->ipywidgets>=7.5.1->pandas_profiling==2.8.0) (1.0.18)\n",
            "Requirement already satisfied: pexpect in /usr/local/lib/python3.7/dist-packages (from ipython>=4.0.0->ipywidgets>=7.5.1->pandas_profiling==2.8.0) (4.8.0)\n",
            "Requirement already satisfied: decorator in /usr/local/lib/python3.7/dist-packages (from ipython>=4.0.0->ipywidgets>=7.5.1->pandas_profiling==2.8.0) (4.4.2)\n",
            "Requirement already satisfied: pygments in /usr/local/lib/python3.7/dist-packages (from ipython>=4.0.0->ipywidgets>=7.5.1->pandas_profiling==2.8.0) (2.6.1)\n",
            "Requirement already satisfied: pickleshare in /usr/local/lib/python3.7/dist-packages (from ipython>=4.0.0->ipywidgets>=7.5.1->pandas_profiling==2.8.0) (0.7.5)\n",
            "Requirement already satisfied: MarkupSafe>=0.23 in /usr/local/lib/python3.7/dist-packages (from jinja2>=2.11.1->pandas_profiling==2.8.0) (2.0.1)\n",
            "Requirement already satisfied: cycler>=0.10 in /usr/local/lib/python3.7/dist-packages (from matplotlib>=3.2.0->pandas_profiling==2.8.0) (0.11.0)\n",
            "Requirement already satisfied: python-dateutil>=2.1 in /usr/local/lib/python3.7/dist-packages (from matplotlib>=3.2.0->pandas_profiling==2.8.0) (2.8.2)\n",
            "Requirement already satisfied: pyparsing!=2.0.4,!=2.1.2,!=2.1.6,>=2.0.1 in /usr/local/lib/python3.7/dist-packages (from matplotlib>=3.2.0->pandas_profiling==2.8.0) (3.0.8)\n",
            "Requirement already satisfied: kiwisolver>=1.0.1 in /usr/local/lib/python3.7/dist-packages (from matplotlib>=3.2.0->pandas_profiling==2.8.0) (1.4.2)\n",
            "Requirement already satisfied: typing-extensions in /usr/local/lib/python3.7/dist-packages (from kiwisolver>=1.0.1->matplotlib>=3.2.0->pandas_profiling==2.8.0) (4.2.0)\n",
            "Requirement already satisfied: seaborn in /usr/local/lib/python3.7/dist-packages (from missingno>=0.4.2->pandas_profiling==2.8.0) (0.11.2)\n",
            "Requirement already satisfied: jsonschema>=2.6 in /usr/local/lib/python3.7/dist-packages (from nbformat>=4.2.0->ipywidgets>=7.5.1->pandas_profiling==2.8.0) (4.3.3)\n",
            "Requirement already satisfied: jupyter-core in /usr/local/lib/python3.7/dist-packages (from nbformat>=4.2.0->ipywidgets>=7.5.1->pandas_profiling==2.8.0) (4.10.0)\n",
            "Requirement already satisfied: fastjsonschema in /usr/local/lib/python3.7/dist-packages (from nbformat>=4.2.0->ipywidgets>=7.5.1->pandas_profiling==2.8.0) (2.15.3)\n",
            "Requirement already satisfied: pyrsistent!=0.17.0,!=0.17.1,!=0.17.2,>=0.14.0 in /usr/local/lib/python3.7/dist-packages (from jsonschema>=2.6->nbformat>=4.2.0->ipywidgets>=7.5.1->pandas_profiling==2.8.0) (0.18.1)\n",
            "Requirement already satisfied: importlib-resources>=1.4.0 in /usr/local/lib/python3.7/dist-packages (from jsonschema>=2.6->nbformat>=4.2.0->ipywidgets>=7.5.1->pandas_profiling==2.8.0) (5.7.1)\n",
            "Requirement already satisfied: zipp>=3.1.0 in /usr/local/lib/python3.7/dist-packages (from importlib-resources>=1.4.0->jsonschema>=2.6->nbformat>=4.2.0->ipywidgets>=7.5.1->pandas_profiling==2.8.0) (3.8.0)\n",
            "Requirement already satisfied: pytz>=2017.3 in /usr/local/lib/python3.7/dist-packages (from pandas!=1.0.0,!=1.0.1,!=1.0.2,>=0.25.3->pandas_profiling==2.8.0) (2022.1)\n",
            "Collecting scipy>=1.4.1\n",
            "  Downloading scipy-1.7.3-cp37-cp37m-manylinux_2_12_x86_64.manylinux2010_x86_64.whl (38.1 MB)\n",
            "\u001b[K     |████████████████████████████████| 38.1 MB 333 kB/s \n",
            "\u001b[?25hRequirement already satisfied: wcwidth in /usr/local/lib/python3.7/dist-packages (from prompt-toolkit<2.0.0,>=1.0.4->ipython>=4.0.0->ipywidgets>=7.5.1->pandas_profiling==2.8.0) (0.2.5)\n",
            "Requirement already satisfied: six>=1.9.0 in /usr/local/lib/python3.7/dist-packages (from prompt-toolkit<2.0.0,>=1.0.4->ipython>=4.0.0->ipywidgets>=7.5.1->pandas_profiling==2.8.0) (1.15.0)\n",
            "Requirement already satisfied: chardet<4,>=3.0.2 in /usr/local/lib/python3.7/dist-packages (from requests>=2.23.0->pandas_profiling==2.8.0) (3.0.4)\n",
            "Requirement already satisfied: urllib3!=1.25.0,!=1.25.1,<1.26,>=1.21.1 in /usr/local/lib/python3.7/dist-packages (from requests>=2.23.0->pandas_profiling==2.8.0) (1.24.3)\n",
            "Requirement already satisfied: certifi>=2017.4.17 in /usr/local/lib/python3.7/dist-packages (from requests>=2.23.0->pandas_profiling==2.8.0) (2021.10.8)\n",
            "Requirement already satisfied: idna<3,>=2.5 in /usr/local/lib/python3.7/dist-packages (from requests>=2.23.0->pandas_profiling==2.8.0) (2.10)\n",
            "Requirement already satisfied: notebook>=4.4.1 in /usr/local/lib/python3.7/dist-packages (from widgetsnbextension~=3.6.0->ipywidgets>=7.5.1->pandas_profiling==2.8.0) (5.3.1)\n",
            "Requirement already satisfied: Send2Trash in /usr/local/lib/python3.7/dist-packages (from notebook>=4.4.1->widgetsnbextension~=3.6.0->ipywidgets>=7.5.1->pandas_profiling==2.8.0) (1.8.0)\n",
            "Requirement already satisfied: terminado>=0.8.1 in /usr/local/lib/python3.7/dist-packages (from notebook>=4.4.1->widgetsnbextension~=3.6.0->ipywidgets>=7.5.1->pandas_profiling==2.8.0) (0.13.3)\n",
            "Requirement already satisfied: nbconvert in /usr/local/lib/python3.7/dist-packages (from notebook>=4.4.1->widgetsnbextension~=3.6.0->ipywidgets>=7.5.1->pandas_profiling==2.8.0) (5.6.1)\n",
            "Requirement already satisfied: pyzmq>=13 in /usr/local/lib/python3.7/dist-packages (from jupyter-client->ipykernel>=4.5.1->ipywidgets>=7.5.1->pandas_profiling==2.8.0) (22.3.0)\n",
            "Requirement already satisfied: ptyprocess in /usr/local/lib/python3.7/dist-packages (from terminado>=0.8.1->notebook>=4.4.1->widgetsnbextension~=3.6.0->ipywidgets>=7.5.1->pandas_profiling==2.8.0) (0.7.0)\n",
            "Requirement already satisfied: PyWavelets in /usr/local/lib/python3.7/dist-packages (from imagehash->visions[type_image_path]==0.4.4->pandas_profiling==2.8.0) (1.3.0)\n",
            "Requirement already satisfied: entrypoints>=0.2.2 in /usr/local/lib/python3.7/dist-packages (from nbconvert->notebook>=4.4.1->widgetsnbextension~=3.6.0->ipywidgets>=7.5.1->pandas_profiling==2.8.0) (0.4)\n",
            "Requirement already satisfied: pandocfilters>=1.4.1 in /usr/local/lib/python3.7/dist-packages (from nbconvert->notebook>=4.4.1->widgetsnbextension~=3.6.0->ipywidgets>=7.5.1->pandas_profiling==2.8.0) (1.5.0)\n",
            "Requirement already satisfied: testpath in /usr/local/lib/python3.7/dist-packages (from nbconvert->notebook>=4.4.1->widgetsnbextension~=3.6.0->ipywidgets>=7.5.1->pandas_profiling==2.8.0) (0.6.0)\n",
            "Requirement already satisfied: bleach in /usr/local/lib/python3.7/dist-packages (from nbconvert->notebook>=4.4.1->widgetsnbextension~=3.6.0->ipywidgets>=7.5.1->pandas_profiling==2.8.0) (5.0.0)\n",
            "Requirement already satisfied: defusedxml in /usr/local/lib/python3.7/dist-packages (from nbconvert->notebook>=4.4.1->widgetsnbextension~=3.6.0->ipywidgets>=7.5.1->pandas_profiling==2.8.0) (0.7.1)\n",
            "Requirement already satisfied: mistune<2,>=0.8.1 in /usr/local/lib/python3.7/dist-packages (from nbconvert->notebook>=4.4.1->widgetsnbextension~=3.6.0->ipywidgets>=7.5.1->pandas_profiling==2.8.0) (0.8.4)\n",
            "Requirement already satisfied: webencodings in /usr/local/lib/python3.7/dist-packages (from bleach->nbconvert->notebook>=4.4.1->widgetsnbextension~=3.6.0->ipywidgets>=7.5.1->pandas_profiling==2.8.0) (0.5.1)\n",
            "Building wheels for collected packages: htmlmin, imagehash\n",
            "  Building wheel for htmlmin (setup.py) ... \u001b[?25l\u001b[?25hdone\n",
            "  Created wheel for htmlmin: filename=htmlmin-0.1.12-py3-none-any.whl size=27098 sha256=b4b243e0a0729937c7a9b3ef0db8ecb292ca6384a1efc8620af452a13e1f45b7\n",
            "  Stored in directory: /root/.cache/pip/wheels/70/e1/52/5b14d250ba868768823940c3229e9950d201a26d0bd3ee8655\n",
            "  Building wheel for imagehash (setup.py) ... \u001b[?25l\u001b[?25hdone\n",
            "  Created wheel for imagehash: filename=ImageHash-4.2.1-py2.py3-none-any.whl size=295206 sha256=4e7ce961d8178cf72d4c183149990bd1d95f6eeaea82736c7f1787459e45b55e\n",
            "  Stored in directory: /root/.cache/pip/wheels/4c/d5/59/5e3e297533ddb09407769762985d134135064c6831e29a914e\n",
            "Successfully built htmlmin imagehash\n",
            "Installing collected packages: tangled-up-in-unicode, scipy, visions, imagehash, phik, htmlmin, confuse, pandas-profiling\n",
            "  Attempting uninstall: scipy\n",
            "    Found existing installation: scipy 1.4.1\n",
            "    Uninstalling scipy-1.4.1:\n",
            "      Successfully uninstalled scipy-1.4.1\n",
            "  Attempting uninstall: pandas-profiling\n",
            "    Found existing installation: pandas-profiling 1.4.1\n",
            "    Uninstalling pandas-profiling-1.4.1:\n",
            "      Successfully uninstalled pandas-profiling-1.4.1\n",
            "\u001b[31mERROR: pip's dependency resolver does not currently take into account all the packages that are installed. This behaviour is the source of the following dependency conflicts.\n",
            "albumentations 0.1.12 requires imgaug<0.2.7,>=0.2.5, but you have imgaug 0.2.9 which is incompatible.\u001b[0m\n",
            "Successfully installed confuse-1.7.0 htmlmin-0.1.12 imagehash-4.2.1 pandas-profiling-2.8.0 phik-0.12.2 scipy-1.7.3 tangled-up-in-unicode-0.2.0 visions-0.4.4\n",
            "Collecting pandas==1.2.0\n",
            "  Downloading pandas-1.2.0-cp37-cp37m-manylinux1_x86_64.whl (9.9 MB)\n",
            "\u001b[K     |████████████████████████████████| 9.9 MB 15.7 MB/s \n",
            "\u001b[?25hRequirement already satisfied: python-dateutil>=2.7.3 in /usr/local/lib/python3.7/dist-packages (from pandas==1.2.0) (2.8.2)\n",
            "Requirement already satisfied: pytz>=2017.3 in /usr/local/lib/python3.7/dist-packages (from pandas==1.2.0) (2022.1)\n",
            "Requirement already satisfied: numpy>=1.16.5 in /usr/local/lib/python3.7/dist-packages (from pandas==1.2.0) (1.21.6)\n",
            "Requirement already satisfied: six>=1.5 in /usr/local/lib/python3.7/dist-packages (from python-dateutil>=2.7.3->pandas==1.2.0) (1.15.0)\n",
            "Installing collected packages: pandas\n",
            "  Attempting uninstall: pandas\n",
            "    Found existing installation: pandas 1.3.5\n",
            "    Uninstalling pandas-1.3.5:\n",
            "      Successfully uninstalled pandas-1.3.5\n",
            "Successfully installed pandas-1.2.0\n"
          ]
        }
      ]
    },
    {
      "cell_type": "code",
      "execution_count": 4,
      "id": "f5ac98f7-51f3-4f91-ac49-60ef5fe249be",
      "metadata": {
        "id": "f5ac98f7-51f3-4f91-ac49-60ef5fe249be",
        "colab": {
          "base_uri": "https://localhost:8080/",
          "height": 36
        },
        "outputId": "86381c84-5296-443f-b536-43fa23e349cb"
      },
      "outputs": [
        {
          "output_type": "execute_result",
          "data": {
            "text/plain": [
              "'5.5.0'"
            ],
            "application/vnd.google.colaboratory.intrinsic+json": {
              "type": "string"
            }
          },
          "metadata": {},
          "execution_count": 4
        }
      ],
      "source": [
        "import io\n",
        "import matplotlib.pyplot as plt\n",
        "import numpy as np\n",
        "import pandas as pd\n",
        "\n",
        "import seaborn as sns\n",
        "sns.set_context('talk')\n",
        "\n",
        "#from decouple import config\n",
        "from sqlalchemy import create_engine, text\n",
        "import plotly\n",
        "plotly.__version__"
      ]
    },
    {
      "cell_type": "markdown",
      "id": "6cffe5bf-2498-498c-aa06-3e61422d91e6",
      "metadata": {
        "id": "6cffe5bf-2498-498c-aa06-3e61422d91e6"
      },
      "source": [
        "## Ejercicio 1 SQL: \n",
        "\n",
        "1.1. Crear una base de datos en SQLite utilizando la libreria [SQLalchemy](https://stackoverflow.com/questions/2268050/execute-sql-from-file-in-sqlalchemy).\n",
        "https://docs.sqlalchemy.org/en/14/core/engines.html#sqlite\n",
        "\n"
      ]
    },
    {
      "cell_type": "code",
      "source": [
        "# Creamos la conexión a la base de datos\n",
        "engine = create_engine('sqlite:///sysarmy.sqlite3', echo=True)"
      ],
      "metadata": {
        "id": "aGN5H-kePDcr"
      },
      "id": "aGN5H-kePDcr",
      "execution_count": 5,
      "outputs": []
    },
    {
      "cell_type": "markdown",
      "source": [
        "1.2. Ingestamos los datos provistos en 'https://cs.famaf.unc.edu.ar/~mteruel/datasets/diplodatos/melb_data.csv' en una tabla y el dataset generado en clase con datos de airbnb y sus precios por codigo postal en otra."
      ],
      "metadata": {
        "id": "4wRlXGC-PBIh"
      },
      "id": "4wRlXGC-PBIh"
    },
    {
      "cell_type": "code",
      "source": [
        "# Ingesta primer conjunto de datos y creamos una base de datos nueva para ser usada con lenguaje SQL\n",
        "kaggle_df = pd.read_csv(\n",
        "    'https://cs.famaf.unc.edu.ar/~mteruel/datasets/diplodatos/melb_data.csv')\n",
        "kaggle_df.to_sql('kaggle_sql', con=engine, if_exists=\"replace\")"
      ],
      "metadata": {
        "colab": {
          "base_uri": "https://localhost:8080/"
        },
        "id": "ulzlpVDYQeq4",
        "outputId": "422a2187-fbb3-43e3-e3ec-2e6f3e4e05e7"
      },
      "id": "ulzlpVDYQeq4",
      "execution_count": 6,
      "outputs": [
        {
          "output_type": "stream",
          "name": "stdout",
          "text": [
            "2022-05-10 17:30:34,499 INFO sqlalchemy.engine.Engine PRAGMA main.table_info(\"kaggle_sql\")\n",
            "2022-05-10 17:30:34,501 INFO sqlalchemy.engine.Engine [raw sql] ()\n",
            "2022-05-10 17:30:34,505 INFO sqlalchemy.engine.Engine PRAGMA temp.table_info(\"kaggle_sql\")\n",
            "2022-05-10 17:30:34,508 INFO sqlalchemy.engine.Engine [raw sql] ()\n",
            "2022-05-10 17:30:34,515 INFO sqlalchemy.engine.Engine BEGIN (implicit)\n",
            "2022-05-10 17:30:34,518 INFO sqlalchemy.engine.Engine \n",
            "CREATE TABLE kaggle_sql (\n",
            "\t\"index\" BIGINT, \n",
            "\t\"Suburb\" TEXT, \n",
            "\t\"Address\" TEXT, \n",
            "\t\"Rooms\" BIGINT, \n",
            "\t\"Type\" TEXT, \n",
            "\t\"Price\" FLOAT, \n",
            "\t\"Method\" TEXT, \n",
            "\t\"SellerG\" TEXT, \n",
            "\t\"Date\" TEXT, \n",
            "\t\"Distance\" FLOAT, \n",
            "\t\"Postcode\" FLOAT, \n",
            "\t\"Bedroom2\" FLOAT, \n",
            "\t\"Bathroom\" FLOAT, \n",
            "\t\"Car\" FLOAT, \n",
            "\t\"Landsize\" FLOAT, \n",
            "\t\"BuildingArea\" FLOAT, \n",
            "\t\"YearBuilt\" FLOAT, \n",
            "\t\"CouncilArea\" TEXT, \n",
            "\t\"Lattitude\" FLOAT, \n",
            "\t\"Longtitude\" FLOAT, \n",
            "\t\"Regionname\" TEXT, \n",
            "\t\"Propertycount\" FLOAT\n",
            ")\n",
            "\n",
            "\n",
            "2022-05-10 17:30:34,521 INFO sqlalchemy.engine.Engine [no key 0.00340s] ()\n",
            "2022-05-10 17:30:34,623 INFO sqlalchemy.engine.Engine CREATE INDEX ix_kaggle_sql_index ON kaggle_sql (\"index\")\n",
            "2022-05-10 17:30:34,625 INFO sqlalchemy.engine.Engine [no key 0.00189s] ()\n",
            "2022-05-10 17:30:34,643 INFO sqlalchemy.engine.Engine COMMIT\n",
            "2022-05-10 17:30:34,667 INFO sqlalchemy.engine.Engine BEGIN (implicit)\n",
            "2022-05-10 17:30:35,156 INFO sqlalchemy.engine.Engine INSERT INTO kaggle_sql (\"index\", \"Suburb\", \"Address\", \"Rooms\", \"Type\", \"Price\", \"Method\", \"SellerG\", \"Date\", \"Distance\", \"Postcode\", \"Bedroom2\", \"Bathroom\", \"Car\", \"Landsize\", \"BuildingArea\", \"YearBuilt\", \"CouncilArea\", \"Lattitude\", \"Longtitude\", \"Regionname\", \"Propertycount\") VALUES (?, ?, ?, ?, ?, ?, ?, ?, ?, ?, ?, ?, ?, ?, ?, ?, ?, ?, ?, ?, ?, ?)\n",
            "2022-05-10 17:30:35,158 INFO sqlalchemy.engine.Engine [generated in 0.44244s] ((0, 'Abbotsford', '85 Turner St', 2, 'h', 1480000.0, 'S', 'Biggin', '3/12/2016', 2.5, 3067.0, 2.0, 1.0, 1.0, 202.0, None, None, 'Yarra', -37.7996, 144.9984, 'Northern Metropolitan', 4019.0), (1, 'Abbotsford', '25 Bloomburg St', 2, 'h', 1035000.0, 'S', 'Biggin', '4/02/2016', 2.5, 3067.0, 2.0, 1.0, 0.0, 156.0, 79.0, 1900.0, 'Yarra', -37.8079, 144.9934, 'Northern Metropolitan', 4019.0), (2, 'Abbotsford', '5 Charles St', 3, 'h', 1465000.0, 'SP', 'Biggin', '4/03/2017', 2.5, 3067.0, 3.0, 2.0, 0.0, 134.0, 150.0, 1900.0, 'Yarra', -37.8093, 144.9944, 'Northern Metropolitan', 4019.0), (3, 'Abbotsford', '40 Federation La', 3, 'h', 850000.0, 'PI', 'Biggin', '4/03/2017', 2.5, 3067.0, 3.0, 2.0, 1.0, 94.0, None, None, 'Yarra', -37.7969, 144.9969, 'Northern Metropolitan', 4019.0), (4, 'Abbotsford', '55a Park St', 4, 'h', 1600000.0, 'VB', 'Nelson', '4/06/2016', 2.5, 3067.0, 3.0, 1.0, 2.0, 120.0, 142.0, 2014.0, 'Yarra', -37.8072, 144.9941, 'Northern Metropolitan', 4019.0), (5, 'Abbotsford', '129 Charles St', 2, 'h', 941000.0, 'S', 'Jellis', '7/05/2016', 2.5, 3067.0, 2.0, 1.0, 0.0, 181.0, None, None, 'Yarra', -37.8041, 144.9953, 'Northern Metropolitan', 4019.0), (6, 'Abbotsford', '124 Yarra St', 3, 'h', 1876000.0, 'S', 'Nelson', '7/05/2016', 2.5, 3067.0, 4.0, 2.0, 0.0, 245.0, 210.0, 1910.0, 'Yarra', -37.8024, 144.9993, 'Northern Metropolitan', 4019.0), (7, 'Abbotsford', '98 Charles St', 2, 'h', 1636000.0, 'S', 'Nelson', '8/10/2016', 2.5, 3067.0, 2.0, 1.0, 2.0, 256.0, 107.0, 1890.0, 'Yarra', -37.806, 144.9954, 'Northern Metropolitan', 4019.0)  ... displaying 10 of 13580 total bound parameter sets ...  (13578, 'Williamstown', '96 Verdon St', 4, 'h', 2500000.0, 'PI', 'Sweeney', '26/08/2017', 6.8, 3016.0, 4.0, 1.0, 5.0, 866.0, 157.0, 1920.0, None, -37.85908, 144.89299, 'Western Metropolitan', 6380.0), (13579, 'Yarraville', '6 Agnes St', 4, 'h', 1285000.0, 'SP', 'Village', '26/08/2017', 6.3, 3013.0, 4.0, 1.0, 1.0, 362.0, 112.0, 1920.0, None, -37.81188, 144.88449, 'Western Metropolitan', 6543.0))\n",
            "2022-05-10 17:30:35,261 INFO sqlalchemy.engine.Engine COMMIT\n"
          ]
        }
      ]
    },
    {
      "cell_type": "code",
      "source": [
        "# Ingesta de datos de dataset generado en clase con datos de Airbnb\n",
        "from google.colab import files\n",
        "\n"
      ],
      "metadata": {
        "id": "iJcuL5jkYik0"
      },
      "id": "iJcuL5jkYik0",
      "execution_count": 7,
      "outputs": []
    },
    {
      "cell_type": "code",
      "source": [
        "import gdown\n",
        "!gdown https://drive.google.com/file/d/1sUR2Odse85vmQn62yYaEsaUCRJo28Nj2/view?usp=sharing --fuzzy\n",
        "airbnb_pru = pd.read_csv('/content/airbnb_price_by_zipcode.csv',index_col=0)"
      ],
      "metadata": {
        "colab": {
          "base_uri": "https://localhost:8080/"
        },
        "id": "Ynh4UhtGi5V3",
        "outputId": "133b2a00-3600-4d0f-eb70-22970bb07094"
      },
      "id": "Ynh4UhtGi5V3",
      "execution_count": 8,
      "outputs": [
        {
          "output_type": "stream",
          "name": "stdout",
          "text": [
            "Downloading...\n",
            "From: https://drive.google.com/uc?id=1sUR2Odse85vmQn62yYaEsaUCRJo28Nj2\n",
            "To: /content/airbnb_price_by_zipcode.csv\n",
            "\r  0% 0.00/10.1k [00:00<?, ?B/s]\r100% 10.1k/10.1k [00:00<00:00, 13.9MB/s]\n"
          ]
        }
      ]
    },
    {
      "cell_type": "code",
      "source": [
        "airbnb_pru.to_sql('airbnb_price_sql', con=engine, if_exists=\"replace\")"
      ],
      "metadata": {
        "colab": {
          "base_uri": "https://localhost:8080/"
        },
        "id": "HHOobc3UJB3X",
        "outputId": "43784ee1-a874-4a7a-922e-3d7385b9cfcf"
      },
      "id": "HHOobc3UJB3X",
      "execution_count": 9,
      "outputs": [
        {
          "output_type": "stream",
          "name": "stdout",
          "text": [
            "2022-05-10 17:30:36,704 INFO sqlalchemy.engine.Engine PRAGMA main.table_info(\"airbnb_price_sql\")\n",
            "2022-05-10 17:30:36,706 INFO sqlalchemy.engine.Engine [raw sql] ()\n",
            "2022-05-10 17:30:36,711 INFO sqlalchemy.engine.Engine PRAGMA temp.table_info(\"airbnb_price_sql\")\n",
            "2022-05-10 17:30:36,713 INFO sqlalchemy.engine.Engine [raw sql] ()\n",
            "2022-05-10 17:30:36,720 INFO sqlalchemy.engine.Engine BEGIN (implicit)\n",
            "2022-05-10 17:30:36,723 INFO sqlalchemy.engine.Engine \n",
            "CREATE TABLE airbnb_price_sql (\n",
            "\tzipcode FLOAT, \n",
            "\tairbnb_price_mean FLOAT, \n",
            "\tairbnb_record_count BIGINT, \n",
            "\tairbnb_weekly_price_mean FLOAT, \n",
            "\tairbnb_monthly_price_mean FLOAT\n",
            ")\n",
            "\n",
            "\n",
            "2022-05-10 17:30:36,725 INFO sqlalchemy.engine.Engine [no key 0.00218s] ()\n",
            "2022-05-10 17:30:36,739 INFO sqlalchemy.engine.Engine CREATE INDEX ix_airbnb_price_sql_zipcode ON airbnb_price_sql (zipcode)\n",
            "2022-05-10 17:30:36,741 INFO sqlalchemy.engine.Engine [no key 0.00171s] ()\n",
            "2022-05-10 17:30:36,753 INFO sqlalchemy.engine.Engine COMMIT\n",
            "2022-05-10 17:30:36,757 INFO sqlalchemy.engine.Engine BEGIN (implicit)\n",
            "2022-05-10 17:30:36,764 INFO sqlalchemy.engine.Engine INSERT INTO airbnb_price_sql (zipcode, airbnb_price_mean, airbnb_record_count, airbnb_weekly_price_mean, airbnb_monthly_price_mean) VALUES (?, ?, ?, ?, ?)\n",
            "2022-05-10 17:30:36,766 INFO sqlalchemy.engine.Engine [generated in 0.00346s] ((2010.0, 40.0, 1, None, None), (2134.0, 50.0, 1, None, None), (2582.0, 104.0, 1, None, None), (3000.0, 150.5043065043065, 3367, 918.7389558232932, 3407.204651162791), (3001.0, 132.5, 2, None, None), (3002.0, 200.9796954314721, 197, 956.3793103448276, 3712.714285714286), (3003.0, 130.20599250936328, 267, 760.2, 2629.5), (3004.0, 158.271978021978, 728, 1061.1714285714286, 3759.925925925926)  ... displaying 10 of 247 total bound parameter sets ...  (9540.0, 245.0, 1, None, None), (30122.0, 75.0, 1, 525.0, 2281.0))\n",
            "2022-05-10 17:30:36,770 INFO sqlalchemy.engine.Engine COMMIT\n"
          ]
        }
      ]
    },
    {
      "cell_type": "markdown",
      "source": [
        "1.3. Implementamos consultas en SQL que responden a la siguiente información:\n",
        "\n",
        "    - cantidad de registros totales por ciudad.\n",
        "    - cantidad de registros totales por barrio y ciudad."
      ],
      "metadata": {
        "id": "i9uuElUVYnAX"
      },
      "id": "i9uuElUVYnAX"
    },
    {
      "cell_type": "code",
      "source": [
        "# Cantidad de registros totales por ciudad en dataset Kaggle\n",
        "query1 = \"SELECT CouncilArea, COUNT(CouncilArea) FROM kaggle_sql GROUP BY CouncilArea\"\n",
        "          \n",
        "# Cantidad de registros totales por barrio y ciudad en Kaggle\n",
        "query2 = \"SELECT CouncilArea, Suburb, COUNT(Suburb) FROM kaggle_sql GROUP BY Suburb ORDER BY CouncilArea\"\n",
        "\n",
        "# Listamos los queries de consulta\n",
        "queries = [query1, query2]\n",
        "\n",
        "# Conectamos a la base de datos y sistematizamos las consultas con un bucle For\n",
        "with engine.connect() as con:\n",
        "    for query in queries:\n",
        "      rs = con.execute(query)\n",
        "      print(query)\n",
        "      for row in rs:\n",
        "          print(row)\n",
        "      print('\\n\\n')\n"
      ],
      "metadata": {
        "id": "yJi7UxRRYqTt",
        "colab": {
          "base_uri": "https://localhost:8080/"
        },
        "outputId": "f12e36a9-4c82-454e-b831-4472b7fe635b"
      },
      "id": "yJi7UxRRYqTt",
      "execution_count": 10,
      "outputs": [
        {
          "output_type": "stream",
          "name": "stdout",
          "text": [
            "2022-05-10 17:30:36,796 INFO sqlalchemy.engine.Engine SELECT CouncilArea, COUNT(CouncilArea) FROM kaggle_sql GROUP BY CouncilArea\n",
            "2022-05-10 17:30:36,798 INFO sqlalchemy.engine.Engine [raw sql] ()\n",
            "SELECT CouncilArea, COUNT(CouncilArea) FROM kaggle_sql GROUP BY CouncilArea\n",
            "(None, 0)\n",
            "('Banyule', 594)\n",
            "('Bayside', 489)\n",
            "('Boroondara', 1160)\n",
            "('Brimbank', 424)\n",
            "('Cardinia', 8)\n",
            "('Casey', 38)\n",
            "('Darebin', 934)\n",
            "('Frankston', 53)\n",
            "('Glen Eira', 848)\n",
            "('Greater Dandenong', 52)\n",
            "('Hobsons Bay', 434)\n",
            "('Hume', 164)\n",
            "('Kingston', 207)\n",
            "('Knox', 80)\n",
            "('Macedon Ranges', 7)\n",
            "('Manningham', 311)\n",
            "('Maribyrnong', 692)\n",
            "('Maroondah', 80)\n",
            "('Melbourne', 470)\n",
            "('Melton', 66)\n",
            "('Monash', 333)\n",
            "('Moonee Valley', 997)\n",
            "('Moorabool', 1)\n",
            "('Moreland', 1163)\n",
            "('Nillumbik', 36)\n",
            "('Port Phillip', 628)\n",
            "('Stonnington', 719)\n",
            "('Unavailable', 1)\n",
            "('Whitehorse', 304)\n",
            "('Whittlesea', 167)\n",
            "('Wyndham', 86)\n",
            "('Yarra', 647)\n",
            "('Yarra Ranges', 18)\n",
            "\n",
            "\n",
            "\n",
            "2022-05-10 17:30:36,835 INFO sqlalchemy.engine.Engine SELECT CouncilArea, Suburb, COUNT(Suburb) FROM kaggle_sql GROUP BY Suburb ORDER BY CouncilArea\n",
            "2022-05-10 17:30:36,836 INFO sqlalchemy.engine.Engine [raw sql] ()\n",
            "SELECT CouncilArea, Suburb, COUNT(Suburb) FROM kaggle_sql GROUP BY Suburb ORDER BY CouncilArea\n",
            "(None, 'Abbotsford', 56)\n",
            "(None, 'Aberfeldie', 44)\n",
            "(None, 'Airport West', 67)\n",
            "(None, 'Albanvale', 6)\n",
            "(None, 'Albert Park', 69)\n",
            "(None, 'Albion', 41)\n",
            "(None, 'Alphington', 34)\n",
            "(None, 'Altona', 74)\n",
            "(None, 'Altona Meadows', 6)\n",
            "(None, 'Altona North', 56)\n",
            "(None, 'Ardeer', 3)\n",
            "(None, 'Armadale', 95)\n",
            "(None, 'Ascot Vale', 130)\n",
            "(None, 'Ashburton', 60)\n",
            "(None, 'Ashwood', 46)\n",
            "(None, 'Aspendale', 7)\n",
            "(None, 'Aspendale Gardens', 4)\n",
            "(None, 'Attwood', 1)\n",
            "(None, 'Avondale Heights', 74)\n",
            "(None, 'Balaclava', 27)\n",
            "(None, 'Balwyn', 107)\n",
            "(None, 'Balwyn North', 171)\n",
            "(None, 'Bayswater', 14)\n",
            "(None, 'Bayswater North', 8)\n",
            "(None, 'Beaumaris', 18)\n",
            "(None, 'Bellfield', 16)\n",
            "(None, 'Bentleigh', 139)\n",
            "(None, 'Bentleigh East', 249)\n",
            "(None, 'Berwick', 13)\n",
            "(None, 'Black Rock', 12)\n",
            "(None, 'Blackburn', 21)\n",
            "(None, 'Blackburn North', 14)\n",
            "(None, 'Blackburn South', 12)\n",
            "(None, 'Bonbeach', 4)\n",
            "(None, 'Boronia', 14)\n",
            "(None, 'Box Hill', 59)\n",
            "(None, 'Braybrook', 46)\n",
            "(None, 'Briar Hill', 8)\n",
            "(None, 'Brighton', 186)\n",
            "(None, 'Brighton East', 138)\n",
            "(None, 'Broadmeadows', 23)\n",
            "(None, 'Brooklyn', 9)\n",
            "(None, 'Brunswick', 222)\n",
            "(None, 'Brunswick East', 88)\n",
            "(None, 'Brunswick West', 110)\n",
            "(None, 'Bulleen', 71)\n",
            "(None, 'Bundoora', 36)\n",
            "(None, 'Burnside', 2)\n",
            "(None, 'Burnside Heights', 3)\n",
            "(None, 'Burwood', 84)\n",
            "(None, 'Burwood East', 16)\n",
            "(None, 'Camberwell', 132)\n",
            "(None, 'Campbellfield', 4)\n",
            "(None, 'Canterbury', 54)\n",
            "(None, 'Carlton', 51)\n",
            "(None, 'Carlton North', 48)\n",
            "(None, 'Carnegie', 146)\n",
            "(None, 'Caroline Springs', 11)\n",
            "(None, 'Carrum Downs', 12)\n",
            "(None, 'Caulfield East', 9)\n",
            "(None, 'Caulfield South', 47)\n",
            "(None, 'Chadstone', 35)\n",
            "(None, 'Chelsea', 5)\n",
            "(None, 'Chelsea Heights', 4)\n",
            "(None, 'Cheltenham', 46)\n",
            "(None, 'Clarinda', 4)\n",
            "(None, 'Clayton', 13)\n",
            "(None, 'Clayton South', 11)\n",
            "(None, 'Clifton Hill', 57)\n",
            "(None, 'Coburg', 190)\n",
            "(None, 'Coburg North', 56)\n",
            "(None, 'Collingwood', 65)\n",
            "(None, 'Coolaroo', 4)\n",
            "(None, 'Craigieburn', 47)\n",
            "(None, 'Cranbourne', 3)\n",
            "(None, 'Cremorne', 25)\n",
            "(None, 'Croydon', 33)\n",
            "(None, 'Croydon Hills', 4)\n",
            "(None, 'Croydon North', 7)\n",
            "(None, 'Dallas', 6)\n",
            "(None, 'Dandenong', 13)\n",
            "(None, 'Dandenong North', 16)\n",
            "(None, 'Deer Park', 14)\n",
            "(None, 'Delahey', 6)\n",
            "(None, 'Derrimut', 5)\n",
            "(None, 'Diamond Creek', 6)\n",
            "(None, 'Dingley Village', 21)\n",
            "(None, 'Doncaster', 116)\n",
            "(None, 'Doncaster East', 41)\n",
            "(None, 'Donvale', 13)\n",
            "(None, 'Doreen', 6)\n",
            "(None, 'Doveton', 7)\n",
            "(None, 'Eaglemont', 23)\n",
            "(None, 'Edithvale', 9)\n",
            "(None, 'Elsternwick', 61)\n",
            "(None, 'Eltham', 25)\n",
            "(None, 'Eltham North', 13)\n",
            "(None, 'Elwood', 131)\n",
            "(None, 'Epping', 52)\n",
            "(None, 'Essendon', 220)\n",
            "(None, 'Essendon North', 22)\n",
            "(None, 'Fairfield', 43)\n",
            "(None, 'Fawkner', 102)\n",
            "(None, 'Ferntree Gully', 22)\n",
            "(None, 'Fitzroy', 59)\n",
            "(None, 'Fitzroy North', 93)\n",
            "(None, 'Flemington', 62)\n",
            "(None, 'Footscray', 132)\n",
            "(None, 'Forest Hill', 22)\n",
            "(None, 'Frankston', 24)\n",
            "(None, 'Frankston North', 4)\n",
            "(None, 'Frankston South', 16)\n",
            "(None, 'Gisborne', 8)\n",
            "(None, 'Gladstone Park', 20)\n",
            "(None, 'Glen Huntly', 17)\n",
            "(None, 'Glen Iris', 195)\n",
            "(None, 'Glen Waverley', 45)\n",
            "(None, 'Glenroy', 159)\n",
            "(None, 'Gowanbrae', 24)\n",
            "(None, 'Greensborough', 36)\n",
            "(None, 'Greenvale', 17)\n",
            "(None, 'Hadfield', 62)\n",
            "(None, 'Hallam', 5)\n",
            "(None, 'Hampton', 130)\n",
            "(None, 'Hampton East', 25)\n",
            "(None, 'Hampton Park', 4)\n",
            "(None, 'Hawthorn', 191)\n",
            "(None, 'Hawthorn East', 119)\n",
            "(None, 'Heathmont', 16)\n",
            "(None, 'Heidelberg', 51)\n",
            "(None, 'Heidelberg Heights', 78)\n",
            "(None, 'Heidelberg West', 76)\n",
            "(None, 'Highett', 27)\n",
            "(None, 'Hillside', 18)\n",
            "(None, 'Hoppers Crossing', 38)\n",
            "(None, 'Huntingdale', 7)\n",
            "(None, 'Hurstbridge', 2)\n",
            "(None, 'Ivanhoe', 98)\n",
            "(None, 'Ivanhoe East', 25)\n",
            "(None, 'Jacana', 25)\n",
            "(None, 'Kealba', 19)\n",
            "(None, 'Keilor', 9)\n",
            "(None, 'Keilor Downs', 15)\n",
            "(None, 'Keilor East', 121)\n",
            "(None, 'Keilor Lodge', 2)\n",
            "(None, 'Keilor Park', 22)\n",
            "(None, 'Kensington', 117)\n",
            "(None, 'Kew', 177)\n",
            "(None, 'Kew East', 49)\n",
            "(None, 'Keysborough', 11)\n",
            "(None, 'Kilsyth', 4)\n",
            "(None, 'Kings Park', 5)\n",
            "(None, 'Kingsville', 34)\n",
            "(None, 'Kooyong', 2)\n",
            "(None, 'Lalor', 42)\n",
            "(None, 'Langwarrin', 6)\n",
            "(None, 'Maidstone', 94)\n",
            "(None, 'Malvern', 67)\n",
            "(None, 'Malvern East', 117)\n",
            "(None, 'Maribyrnong', 96)\n",
            "(None, 'McKinnon', 8)\n",
            "(None, 'Meadow Heights', 17)\n",
            "(None, 'Melton', 12)\n",
            "(None, 'Melton South', 18)\n",
            "(None, 'Melton West', 8)\n",
            "(None, 'Mentone', 26)\n",
            "(None, 'Mernda', 9)\n",
            "(None, 'Middle Park', 34)\n",
            "(None, 'Mill Park', 43)\n",
            "(None, 'Mitcham', 30)\n",
            "(None, 'Monbulk', 1)\n",
            "(None, 'Mont Albert', 34)\n",
            "(None, 'Montmorency', 17)\n",
            "(None, 'Moonee Ponds', 149)\n",
            "(None, 'Moorabbin', 64)\n",
            "(None, 'Mooroolbark', 12)\n",
            "(None, 'Mordialloc', 18)\n",
            "(None, 'Mount Evelyn', 2)\n",
            "(None, 'Mount Waverley', 57)\n",
            "(None, 'Mulgrave', 29)\n",
            "(None, 'Murrumbeena', 82)\n",
            "(None, 'Narre Warren', 7)\n",
            "(None, 'New Gisborne', 1)\n",
            "(None, 'Newport', 137)\n",
            "(None, 'Niddrie', 82)\n",
            "(None, 'North Melbourne', 81)\n",
            "(None, 'North Warrandyte', 2)\n",
            "(None, 'Northcote', 188)\n",
            "(None, 'Notting Hill', 3)\n",
            "(None, 'Nunawading', 20)\n",
            "(None, 'Oak Park', 63)\n",
            "(None, 'Oakleigh', 47)\n",
            "(None, 'Oakleigh East', 11)\n",
            "(None, 'Oakleigh South', 58)\n",
            "(None, 'Ormond', 83)\n",
            "(None, 'Parkdale', 24)\n",
            "(None, 'Pascoe Vale', 171)\n",
            "(None, 'Plumpton', 1)\n",
            "(None, 'Point Cook', 13)\n",
            "(None, 'Port Melbourne', 153)\n",
            "(None, 'Prahran', 123)\n",
            "(None, 'Preston', 239)\n",
            "(None, 'Princes Hill', 5)\n",
            "(None, 'Reservoir', 359)\n",
            "(None, 'Richmond', 260)\n",
            "(None, 'Ringwood', 20)\n",
            "(None, 'Ringwood East', 12)\n",
            "(None, 'Ringwood North', 10)\n",
            "(None, 'Rosanna', 61)\n",
            "(None, 'Roxburgh Park', 15)\n",
            "(None, 'Sandringham', 25)\n",
            "(None, 'Scoresby', 8)\n",
            "(None, 'Seaford', 14)\n",
            "(None, 'Seddon', 62)\n",
            "(None, 'South Melbourne', 85)\n",
            "(None, 'South Morang', 21)\n",
            "(None, 'South Yarra', 202)\n",
            "(None, 'Spotswood', 29)\n",
            "(None, 'Springvale', 9)\n",
            "(None, 'Springvale South', 3)\n",
            "(None, 'St Albans', 25)\n",
            "(None, 'St Helena', 3)\n",
            "(None, 'St Kilda', 162)\n",
            "(None, 'Strathmore', 63)\n",
            "(None, 'Strathmore Heights', 6)\n",
            "(None, 'Sunbury', 38)\n",
            "(None, 'Sunshine', 111)\n",
            "(None, 'Sunshine North', 68)\n",
            "(None, 'Sunshine West', 86)\n",
            "(None, 'Surrey Hills', 125)\n",
            "(None, 'Tarneit', 10)\n",
            "(None, 'Taylors Lakes', 22)\n",
            "(None, 'Templestowe', 19)\n",
            "(None, 'Templestowe Lower', 92)\n",
            "(None, 'The Basin', 4)\n",
            "(None, 'Thomastown', 29)\n",
            "(None, 'Thornbury', 139)\n",
            "(None, 'Toorak', 100)\n",
            "(None, 'Truganina', 5)\n",
            "(None, 'Tullamarine', 13)\n",
            "(None, 'Vermont', 14)\n",
            "(None, 'Vermont South', 13)\n",
            "(None, 'Viewbank', 41)\n",
            "(None, 'Wallan', 1)\n",
            "(None, 'Wantirna', 12)\n",
            "(None, 'Wantirna South', 22)\n",
            "(None, 'Warrandyte', 5)\n",
            "(None, 'Waterways', 2)\n",
            "(None, 'Watsonia', 52)\n",
            "(None, 'Watsonia North', 10)\n",
            "(None, 'Werribee', 50)\n",
            "(None, 'West Footscray', 105)\n",
            "(None, 'West Melbourne', 31)\n",
            "(None, 'Westmeadows', 14)\n",
            "(None, 'Wheelers Hill', 26)\n",
            "(None, 'Williams Landing', 2)\n",
            "(None, 'Williamstown', 107)\n",
            "(None, 'Williamstown North', 19)\n",
            "(None, 'Windsor', 60)\n",
            "(None, 'Wollert', 9)\n",
            "(None, 'Wyndham Vale', 4)\n",
            "(None, 'Yallambie', 24)\n",
            "(None, 'Yarraville', 164)\n",
            "('Banyule', 'Lower Plenty', 5)\n",
            "('Boroondara', 'Deepdene', 2)\n",
            "('Brimbank', 'Cairnlea', 7)\n",
            "('Brimbank', 'Sydenham', 5)\n",
            "('Cardinia', 'Beaconsfield', 2)\n",
            "('Cardinia', 'Beaconsfield Upper', 1)\n",
            "('Cardinia', 'Emerald', 1)\n",
            "('Cardinia', 'Officer', 1)\n",
            "('Cardinia', 'Pakenham', 3)\n",
            "('Casey', 'Cranbourne North', 2)\n",
            "('Casey', 'Endeavour Hills', 5)\n",
            "('Darebin', 'Kingsbury', 13)\n",
            "('Frankston', 'Sandhurst', 1)\n",
            "('Frankston', 'Skye', 2)\n",
            "('Glen Eira', 'Caulfield', 12)\n",
            "('Glen Eira', 'Caulfield North', 35)\n",
            "('Glen Eira', 'Gardenvale', 6)\n",
            "('Greater Dandenong', 'Noble Park', 12)\n",
            "('Hobsons Bay', 'Seabrook', 3)\n",
            "('Hobsons Bay', 'Seaholme', 6)\n",
            "('Hobsons Bay', 'South Kingsville', 22)\n",
            "('Kingston', 'Carrum', 9)\n",
            "('Knox', 'Knoxfield', 4)\n",
            "('Knox', 'Rowville', 10)\n",
            "('Macedon Ranges', 'Bullengarook', 1)\n",
            "('Macedon Ranges', 'Riddells Creek', 1)\n",
            "('Manningham', 'Wonga Park', 1)\n",
            "('Maroondah', 'Croydon South', 1)\n",
            "('Melbourne', 'Docklands', 3)\n",
            "('Melbourne', 'East Melbourne', 22)\n",
            "('Melbourne', 'Melbourne', 46)\n",
            "('Melbourne', 'Parkville', 31)\n",
            "('Melbourne', 'Southbank', 41)\n",
            "('Melton', 'Brookfield', 1)\n",
            "('Melton', 'Diggers Rest', 2)\n",
            "('Melton', 'Kurunjang', 4)\n",
            "('Melton', 'Rockbank', 1)\n",
            "('Melton', 'Taylors Hill', 7)\n",
            "('Monash', 'Hughesdale', 35)\n",
            "('Moonee Valley', 'Essendon West', 26)\n",
            "('Moonee Valley', 'Travancore', 10)\n",
            "('Moorabool', 'Bacchus Marsh', 1)\n",
            "('Port Phillip', 'Ripponlea', 9)\n",
            "('Whittlesea', 'Whittlesea', 1)\n",
            "('Yarra', 'Burnley', 7)\n",
            "('Yarra Ranges', 'Chirnside Park', 2)\n",
            "('Yarra Ranges', 'Healesville', 1)\n",
            "('Yarra Ranges', 'Montrose', 1)\n",
            "('Yarra Ranges', 'Silvan', 2)\n",
            "('Yarra Ranges', 'Upwey', 1)\n",
            "('Yarra Ranges', 'Yarra Glen', 1)\n",
            "\n",
            "\n",
            "\n"
          ]
        }
      ]
    },
    {
      "cell_type": "markdown",
      "source": [
        "1.4. Combinar los datasets de ambas tablas ingestadas utilizando el comando JOIN de SQL  para obtener un resultado similar a lo realizado con Pandas en clase."
      ],
      "metadata": {
        "id": "MinOopZpYql4"
      },
      "id": "MinOopZpYql4"
    },
    {
      "cell_type": "code",
      "source": [
        "Both_Datasets= engine.connect().execute('SELECT * FROM kaggle_sql LEFT JOIN airbnb_price_sql ON kaggle_sql.Postcode = airbnb_price_sql.zipcode')"
      ],
      "metadata": {
        "colab": {
          "base_uri": "https://localhost:8080/"
        },
        "id": "kQEV7tj3OyWZ",
        "outputId": "6ddf7a8a-a241-4ce4-fa0f-3eadbd5570e1"
      },
      "id": "kQEV7tj3OyWZ",
      "execution_count": 11,
      "outputs": [
        {
          "output_type": "stream",
          "name": "stdout",
          "text": [
            "2022-05-10 17:30:36,946 INFO sqlalchemy.engine.Engine SELECT * FROM kaggle_sql LEFT JOIN airbnb_price_sql ON kaggle_sql.Postcode = airbnb_price_sql.zipcode\n",
            "2022-05-10 17:30:36,948 INFO sqlalchemy.engine.Engine [raw sql] ()\n"
          ]
        }
      ]
    },
    {
      "cell_type": "markdown",
      "id": "c5468c4f-5cdf-4df4-a317-60e1fb0c00db",
      "metadata": {
        "id": "c5468c4f-5cdf-4df4-a317-60e1fb0c00db"
      },
      "source": [
        "## Ejercicio 2: \n",
        "\n",
        "2.1. Seleccionar un subconjunto de columnas que les parezcan relevantes al problema de predicción del valor de la propiedad. Justificar las columnas seleccionadas y las que no lo fueron.\n",
        " - Eliminar los valores extremos que no sean relevantes para la predicción de valores de las propiedades."
      ]
    },
    {
      "cell_type": "markdown",
      "source": [
        "Aplicamos pandas profiling para la exploración de la base de datos\n"
      ],
      "metadata": {
        "id": "pz6B9p3XT2-Y"
      },
      "id": "pz6B9p3XT2-Y"
    },
    {
      "cell_type": "code",
      "source": [
        "from pandas_profiling import ProfileReport"
      ],
      "metadata": {
        "id": "dmuMoj7RUeEa"
      },
      "id": "dmuMoj7RUeEa",
      "execution_count": 12,
      "outputs": []
    },
    {
      "cell_type": "code",
      "source": [
        "\"\"\"ProfileKaggle = ProfileReport(kaggle_df)\n",
        "ProfileKaggle.to_file(\"KaggleReport.html\")\n",
        "files.download('KaggleReport.html')\"\"\""
      ],
      "metadata": {
        "colab": {
          "base_uri": "https://localhost:8080/",
          "height": 36
        },
        "id": "4kE4xST5UmPv",
        "outputId": "4e421810-26ab-418d-b8e7-c4987be24bab"
      },
      "id": "4kE4xST5UmPv",
      "execution_count": 13,
      "outputs": [
        {
          "output_type": "execute_result",
          "data": {
            "text/plain": [
              "'ProfileKaggle = ProfileReport(kaggle_df)\\nProfileKaggle.to_file(\"KaggleReport.html\")\\nfiles.download(\\'KaggleReport.html\\')'"
            ],
            "application/vnd.google.colaboratory.intrinsic+json": {
              "type": "string"
            }
          },
          "metadata": {},
          "execution_count": 13
        }
      ]
    },
    {
      "cell_type": "markdown",
      "source": [
        "Considerando la relevancia de cada variable y el análisis de correlaciones (Pearson) en el reporte de pandas profiling; determinamos que las variables YearBuilt, Car, Rooms, Bathroom y Bedroom2 son las más relevantes para considerar en un análisis predictivo del precio de las propiedades. Sin embargo, Rooms, Bathroom y Bedroom2 tienen alta correlación entre ellas, por lo que solo seleccionamos Rooms para el subconjunto final."
      ],
      "metadata": {
        "id": "vKwmY-SPZElF"
      },
      "id": "vKwmY-SPZElF"
    },
    {
      "cell_type": "code",
      "source": [
        "New_Kaggle = kaggle_df[['Price', 'Rooms', 'YearBuilt', 'Car', 'Postcode']]\n",
        "New_Kaggle.head()"
      ],
      "metadata": {
        "colab": {
          "base_uri": "https://localhost:8080/",
          "height": 206
        },
        "id": "cXEGTbZ8Z5T2",
        "outputId": "62108efe-f2cb-45e1-fac1-1e010c77b001"
      },
      "id": "cXEGTbZ8Z5T2",
      "execution_count": 14,
      "outputs": [
        {
          "output_type": "execute_result",
          "data": {
            "text/plain": [
              "       Price  Rooms  YearBuilt  Car  Postcode\n",
              "0  1480000.0      2        NaN  1.0    3067.0\n",
              "1  1035000.0      2     1900.0  0.0    3067.0\n",
              "2  1465000.0      3     1900.0  0.0    3067.0\n",
              "3   850000.0      3        NaN  1.0    3067.0\n",
              "4  1600000.0      4     2014.0  2.0    3067.0"
            ],
            "text/html": [
              "\n",
              "  <div id=\"df-3efb5691-a3e9-4966-987f-0aebd3016900\">\n",
              "    <div class=\"colab-df-container\">\n",
              "      <div>\n",
              "<style scoped>\n",
              "    .dataframe tbody tr th:only-of-type {\n",
              "        vertical-align: middle;\n",
              "    }\n",
              "\n",
              "    .dataframe tbody tr th {\n",
              "        vertical-align: top;\n",
              "    }\n",
              "\n",
              "    .dataframe thead th {\n",
              "        text-align: right;\n",
              "    }\n",
              "</style>\n",
              "<table border=\"1\" class=\"dataframe\">\n",
              "  <thead>\n",
              "    <tr style=\"text-align: right;\">\n",
              "      <th></th>\n",
              "      <th>Price</th>\n",
              "      <th>Rooms</th>\n",
              "      <th>YearBuilt</th>\n",
              "      <th>Car</th>\n",
              "      <th>Postcode</th>\n",
              "    </tr>\n",
              "  </thead>\n",
              "  <tbody>\n",
              "    <tr>\n",
              "      <th>0</th>\n",
              "      <td>1480000.0</td>\n",
              "      <td>2</td>\n",
              "      <td>NaN</td>\n",
              "      <td>1.0</td>\n",
              "      <td>3067.0</td>\n",
              "    </tr>\n",
              "    <tr>\n",
              "      <th>1</th>\n",
              "      <td>1035000.0</td>\n",
              "      <td>2</td>\n",
              "      <td>1900.0</td>\n",
              "      <td>0.0</td>\n",
              "      <td>3067.0</td>\n",
              "    </tr>\n",
              "    <tr>\n",
              "      <th>2</th>\n",
              "      <td>1465000.0</td>\n",
              "      <td>3</td>\n",
              "      <td>1900.0</td>\n",
              "      <td>0.0</td>\n",
              "      <td>3067.0</td>\n",
              "    </tr>\n",
              "    <tr>\n",
              "      <th>3</th>\n",
              "      <td>850000.0</td>\n",
              "      <td>3</td>\n",
              "      <td>NaN</td>\n",
              "      <td>1.0</td>\n",
              "      <td>3067.0</td>\n",
              "    </tr>\n",
              "    <tr>\n",
              "      <th>4</th>\n",
              "      <td>1600000.0</td>\n",
              "      <td>4</td>\n",
              "      <td>2014.0</td>\n",
              "      <td>2.0</td>\n",
              "      <td>3067.0</td>\n",
              "    </tr>\n",
              "  </tbody>\n",
              "</table>\n",
              "</div>\n",
              "      <button class=\"colab-df-convert\" onclick=\"convertToInteractive('df-3efb5691-a3e9-4966-987f-0aebd3016900')\"\n",
              "              title=\"Convert this dataframe to an interactive table.\"\n",
              "              style=\"display:none;\">\n",
              "        \n",
              "  <svg xmlns=\"http://www.w3.org/2000/svg\" height=\"24px\"viewBox=\"0 0 24 24\"\n",
              "       width=\"24px\">\n",
              "    <path d=\"M0 0h24v24H0V0z\" fill=\"none\"/>\n",
              "    <path d=\"M18.56 5.44l.94 2.06.94-2.06 2.06-.94-2.06-.94-.94-2.06-.94 2.06-2.06.94zm-11 1L8.5 8.5l.94-2.06 2.06-.94-2.06-.94L8.5 2.5l-.94 2.06-2.06.94zm10 10l.94 2.06.94-2.06 2.06-.94-2.06-.94-.94-2.06-.94 2.06-2.06.94z\"/><path d=\"M17.41 7.96l-1.37-1.37c-.4-.4-.92-.59-1.43-.59-.52 0-1.04.2-1.43.59L10.3 9.45l-7.72 7.72c-.78.78-.78 2.05 0 2.83L4 21.41c.39.39.9.59 1.41.59.51 0 1.02-.2 1.41-.59l7.78-7.78 2.81-2.81c.8-.78.8-2.07 0-2.86zM5.41 20L4 18.59l7.72-7.72 1.47 1.35L5.41 20z\"/>\n",
              "  </svg>\n",
              "      </button>\n",
              "      \n",
              "  <style>\n",
              "    .colab-df-container {\n",
              "      display:flex;\n",
              "      flex-wrap:wrap;\n",
              "      gap: 12px;\n",
              "    }\n",
              "\n",
              "    .colab-df-convert {\n",
              "      background-color: #E8F0FE;\n",
              "      border: none;\n",
              "      border-radius: 50%;\n",
              "      cursor: pointer;\n",
              "      display: none;\n",
              "      fill: #1967D2;\n",
              "      height: 32px;\n",
              "      padding: 0 0 0 0;\n",
              "      width: 32px;\n",
              "    }\n",
              "\n",
              "    .colab-df-convert:hover {\n",
              "      background-color: #E2EBFA;\n",
              "      box-shadow: 0px 1px 2px rgba(60, 64, 67, 0.3), 0px 1px 3px 1px rgba(60, 64, 67, 0.15);\n",
              "      fill: #174EA6;\n",
              "    }\n",
              "\n",
              "    [theme=dark] .colab-df-convert {\n",
              "      background-color: #3B4455;\n",
              "      fill: #D2E3FC;\n",
              "    }\n",
              "\n",
              "    [theme=dark] .colab-df-convert:hover {\n",
              "      background-color: #434B5C;\n",
              "      box-shadow: 0px 1px 3px 1px rgba(0, 0, 0, 0.15);\n",
              "      filter: drop-shadow(0px 1px 2px rgba(0, 0, 0, 0.3));\n",
              "      fill: #FFFFFF;\n",
              "    }\n",
              "  </style>\n",
              "\n",
              "      <script>\n",
              "        const buttonEl =\n",
              "          document.querySelector('#df-3efb5691-a3e9-4966-987f-0aebd3016900 button.colab-df-convert');\n",
              "        buttonEl.style.display =\n",
              "          google.colab.kernel.accessAllowed ? 'block' : 'none';\n",
              "\n",
              "        async function convertToInteractive(key) {\n",
              "          const element = document.querySelector('#df-3efb5691-a3e9-4966-987f-0aebd3016900');\n",
              "          const dataTable =\n",
              "            await google.colab.kernel.invokeFunction('convertToInteractive',\n",
              "                                                     [key], {});\n",
              "          if (!dataTable) return;\n",
              "\n",
              "          const docLinkHtml = 'Like what you see? Visit the ' +\n",
              "            '<a target=\"_blank\" href=https://colab.research.google.com/notebooks/data_table.ipynb>data table notebook</a>'\n",
              "            + ' to learn more about interactive tables.';\n",
              "          element.innerHTML = '';\n",
              "          dataTable['output_type'] = 'display_data';\n",
              "          await google.colab.output.renderOutput(dataTable, element);\n",
              "          const docLink = document.createElement('div');\n",
              "          docLink.innerHTML = docLinkHtml;\n",
              "          element.appendChild(docLink);\n",
              "        }\n",
              "      </script>\n",
              "    </div>\n",
              "  </div>\n",
              "  "
            ]
          },
          "metadata": {},
          "execution_count": 14
        }
      ]
    },
    {
      "cell_type": "markdown",
      "source": [
        "Pandas profiling también permitió analizar los valores extremos y detectar valores ilógicos o muy poco comunes: \n",
        "- Para Rooms solo se eliminó un caso extremo de 10 rooms. El resto de la base de datos solo llega a 8 rooms.\n",
        "- Para Car se tomaron valores de 0 a 6, descartando missing values y valores de 7 a 10, que en conjunto representan el 1,4% de los datos.\n",
        "- Para YearBuilt se descartaron valores por debajo del 5to percentile (Año 1900). Sin embargo, aún queda por evaluar qué hacer con la gran cantidad (39,6%) de missing values presentes en este feature.\n",
        "- Para Price fue necesario elaborar un histograma adicional, ya que lo aportado por pandas profiling no era suficiente información para determinar la eliminación de valores extremos."
      ],
      "metadata": {
        "id": "qvuz-Tiyolql"
      },
      "id": "qvuz-Tiyolql"
    },
    {
      "cell_type": "code",
      "source": [
        "plt.figure(figsize=(15,6))\n",
        "sns.histplot(New_Kaggle.Price.dropna(), bins=100, color ='red')\n",
        "plt.ticklabel_format(style='plain')\n",
        "sns.despine()"
      ],
      "metadata": {
        "colab": {
          "base_uri": "https://localhost:8080/",
          "height": 397
        },
        "id": "e8X9Vyy1dk3K",
        "outputId": "1900e194-34f5-4d12-e4b6-7bf0e0338f01"
      },
      "id": "e8X9Vyy1dk3K",
      "execution_count": 15,
      "outputs": [
        {
          "output_type": "display_data",
          "data": {
            "text/plain": [
              "<Figure size 1080x432 with 1 Axes>"
            ],
            "image/png": "[encoded data removed]"
          },
          "metadata": {}
        }
      ]
    },
    {
      "cell_type": "code",
      "source": [
        "#Filtrado de la base de datos por Precio\n",
        "New_KaggleP =  New_Kaggle[(New_Kaggle['Price'] > 200000) & (New_Kaggle['Price'] < 3000000)]\n",
        "plt.figure(figsize=(15,6))\n",
        "sns.histplot(New_KaggleP['Price'].dropna(), bins=150, color ='red')\n",
        "plt.ticklabel_format(style='plain')\n",
        "sns.despine()"
      ],
      "metadata": {
        "colab": {
          "base_uri": "https://localhost:8080/",
          "height": 397
        },
        "id": "nSVaQV2dtEuu",
        "outputId": "f100783c-3a89-4b2a-ec1b-9450f10e3ec0"
      },
      "id": "nSVaQV2dtEuu",
      "execution_count": 16,
      "outputs": [
        {
          "output_type": "display_data",
          "data": {
            "text/plain": [
              "<Figure size 1080x432 with 1 Axes>"
            ],
            "image/png": "[encoded data removed]"
          },
          "metadata": {}
        }
      ]
    },
    {
      "cell_type": "code",
      "source": [
        "#Filtrado de la base de datos por valores extremos Rooms: No es necesario porque el valor extremo quedó fuera en el filtro de precio\n",
        "\n",
        "#Filtrado de la base de datos por valores extremos Car\n",
        "New_KaggleC =  New_KaggleP[New_KaggleP['Car'] < 7]\n",
        "\n",
        "#Filtrado de la base de datos por valores extremos YearBuilt\n",
        "New_KaggleY =  New_KaggleC[New_KaggleC['YearBuilt'] > 1989]"
      ],
      "metadata": {
        "id": "kHybFCgcuJ0I"
      },
      "id": "kHybFCgcuJ0I",
      "execution_count": 17,
      "outputs": []
    },
    {
      "cell_type": "code",
      "source": [
        "print(len(kaggle_df))\n",
        "print(len(New_Kaggle))\n",
        "print(len(New_KaggleP))\n",
        "print(len(New_KaggleC))\n",
        "print(len(New_KaggleY))"
      ],
      "metadata": {
        "colab": {
          "base_uri": "https://localhost:8080/"
        },
        "id": "GEfiN49M1IOA",
        "outputId": "ccf3e224-b310-4760-c0ce-c5662f306954"
      },
      "id": "GEfiN49M1IOA",
      "execution_count": 18,
      "outputs": [
        {
          "output_type": "stream",
          "name": "stdout",
          "text": [
            "13580\n",
            "13580\n",
            "13336\n",
            "13256\n",
            "2564\n"
          ]
        }
      ]
    },
    {
      "cell_type": "markdown",
      "source": [
        "La salida anterior muestra la pérdida de datos por cada filtrado, destacando el caso de YearBuilt donde la base de datos se reduce drásticamente. Esto impide el uso de YearBuilt como variable predictora."
      ],
      "metadata": {
        "id": "nvZ-cq9k2Gjf"
      },
      "id": "nvZ-cq9k2Gjf"
    },
    {
      "cell_type": "markdown",
      "source": [
        "2.2. Agregar información adicional respectiva al entorno de una propiedad a partir del [conjunto de datos de AirBnB](https://www.kaggle.com/tylerx/melbourne-airbnb-open-data?select=cleansed_listings_dec18.csv) utilizado en el práctico. \n",
        "  2.2.1. Seleccionar qué variables agregar y qué combinaciones aplicar a cada una. Por ejemplo, pueden utilizar solo la columna `price`, o aplicar múltiples transformaciones como la mediana o el mínimo.\n",
        "  "
      ],
      "metadata": {
        "id": "HDMlDx6OTtki"
      },
      "id": "HDMlDx6OTtki"
    },
    {
      "cell_type": "code",
      "source": [
        "# Seleccionamos las variables a agregar\n",
        "interesting_features = ['zipcode','price', 'weekly_price', 'monthly_price']\n",
        "AirB = pd.read_csv('https://cs.famaf.unc.edu.ar/~mteruel/datasets/diplodatos/cleansed_listings_dec18.csv', usecols=interesting_features)"
      ],
      "metadata": {
        "colab": {
          "base_uri": "https://localhost:8080/"
        },
        "id": "_8WnnQ8HAX8v",
        "outputId": "01e42c5c-dcb3-4a4d-e2b9-90ae6d4f1b9b"
      },
      "id": "_8WnnQ8HAX8v",
      "execution_count": 19,
      "outputs": [
        {
          "output_type": "stream",
          "name": "stderr",
          "text": [
            "/usr/local/lib/python3.7/dist-packages/IPython/core/interactiveshell.py:2718: DtypeWarning: Columns (35) have mixed types.Specify dtype option on import or set low_memory=False.\n",
            "  interactivity=interactivity, compiler=compiler, result=result)\n"
          ]
        }
      ]
    },
    {
      "cell_type": "code",
      "source": [
        "# Filtramos las columnas correspondientes a las variables seleccionadas y luego realizamos la agregación agrupando por zipcode.\n",
        "# La operación conlleva pasar como argumento el nombre de la nueva columna y como valor una tupla donde el primer valor es el nombre de la columna\n",
        "# original y el segundo valor es la operación de agregación que nos interesa.\n",
        "AirB_agg = AirB[interesting_features].groupby('zipcode').agg(AirB_record_count=('price', 'count'),\n",
        "        AirB_daily_price_mean=('price', 'mean'),\n",
        "        AirB_weekly_price_mean=('weekly_price', 'mean'),\n",
        "        AirB_monthly_price_mean=('monthly_price', 'mean'))\\\n",
        "        .reset_index()"
      ],
      "metadata": {
        "id": "dUoP2QeCKReS"
      },
      "id": "dUoP2QeCKReS",
      "execution_count": 20,
      "outputs": []
    },
    {
      "cell_type": "code",
      "source": [
        "AirB_agg.head()"
      ],
      "metadata": {
        "colab": {
          "base_uri": "https://localhost:8080/",
          "height": 206
        },
        "id": "J5lpqq-npeQ_",
        "outputId": "60a8022b-6685-4696-a1ef-22d861515c39"
      },
      "id": "J5lpqq-npeQ_",
      "execution_count": 21,
      "outputs": [
        {
          "output_type": "execute_result",
          "data": {
            "text/plain": [
              "  zipcode  AirB_record_count  AirB_daily_price_mean  AirB_weekly_price_mean  \\\n",
              "0  2010.0                  1               40.00000                     NaN   \n",
              "1  2134.0                  1               50.00000                     NaN   \n",
              "2  2582.0                  1              104.00000                     NaN   \n",
              "3  3000.0               2491              149.23605                   804.0   \n",
              "4  3001.0                  1              120.00000                     NaN   \n",
              "\n",
              "   AirB_monthly_price_mean  \n",
              "0                      NaN  \n",
              "1                      NaN  \n",
              "2                      NaN  \n",
              "3                   3469.0  \n",
              "4                      NaN  "
            ],
            "text/html": [
              "\n",
              "  <div id=\"df-5a903d2e-6ec0-41e7-8dd3-5e9fd0b36455\">\n",
              "    <div class=\"colab-df-container\">\n",
              "      <div>\n",
              "<style scoped>\n",
              "    .dataframe tbody tr th:only-of-type {\n",
              "        vertical-align: middle;\n",
              "    }\n",
              "\n",
              "    .dataframe tbody tr th {\n",
              "        vertical-align: top;\n",
              "    }\n",
              "\n",
              "    .dataframe thead th {\n",
              "        text-align: right;\n",
              "    }\n",
              "</style>\n",
              "<table border=\"1\" class=\"dataframe\">\n",
              "  <thead>\n",
              "    <tr style=\"text-align: right;\">\n",
              "      <th></th>\n",
              "      <th>zipcode</th>\n",
              "      <th>AirB_record_count</th>\n",
              "      <th>AirB_daily_price_mean</th>\n",
              "      <th>AirB_weekly_price_mean</th>\n",
              "      <th>AirB_monthly_price_mean</th>\n",
              "    </tr>\n",
              "  </thead>\n",
              "  <tbody>\n",
              "    <tr>\n",
              "      <th>0</th>\n",
              "      <td>2010.0</td>\n",
              "      <td>1</td>\n",
              "      <td>40.00000</td>\n",
              "      <td>NaN</td>\n",
              "      <td>NaN</td>\n",
              "    </tr>\n",
              "    <tr>\n",
              "      <th>1</th>\n",
              "      <td>2134.0</td>\n",
              "      <td>1</td>\n",
              "      <td>50.00000</td>\n",
              "      <td>NaN</td>\n",
              "      <td>NaN</td>\n",
              "    </tr>\n",
              "    <tr>\n",
              "      <th>2</th>\n",
              "      <td>2582.0</td>\n",
              "      <td>1</td>\n",
              "      <td>104.00000</td>\n",
              "      <td>NaN</td>\n",
              "      <td>NaN</td>\n",
              "    </tr>\n",
              "    <tr>\n",
              "      <th>3</th>\n",
              "      <td>3000.0</td>\n",
              "      <td>2491</td>\n",
              "      <td>149.23605</td>\n",
              "      <td>804.0</td>\n",
              "      <td>3469.0</td>\n",
              "    </tr>\n",
              "    <tr>\n",
              "      <th>4</th>\n",
              "      <td>3001.0</td>\n",
              "      <td>1</td>\n",
              "      <td>120.00000</td>\n",
              "      <td>NaN</td>\n",
              "      <td>NaN</td>\n",
              "    </tr>\n",
              "  </tbody>\n",
              "</table>\n",
              "</div>\n",
              "      <button class=\"colab-df-convert\" onclick=\"convertToInteractive('df-5a903d2e-6ec0-41e7-8dd3-5e9fd0b36455')\"\n",
              "              title=\"Convert this dataframe to an interactive table.\"\n",
              "              style=\"display:none;\">\n",
              "        \n",
              "  <svg xmlns=\"http://www.w3.org/2000/svg\" height=\"24px\"viewBox=\"0 0 24 24\"\n",
              "       width=\"24px\">\n",
              "    <path d=\"M0 0h24v24H0V0z\" fill=\"none\"/>\n",
              "    <path d=\"M18.56 5.44l.94 2.06.94-2.06 2.06-.94-2.06-.94-.94-2.06-.94 2.06-2.06.94zm-11 1L8.5 8.5l.94-2.06 2.06-.94-2.06-.94L8.5 2.5l-.94 2.06-2.06.94zm10 10l.94 2.06.94-2.06 2.06-.94-2.06-.94-.94-2.06-.94 2.06-2.06.94z\"/><path d=\"M17.41 7.96l-1.37-1.37c-.4-.4-.92-.59-1.43-.59-.52 0-1.04.2-1.43.59L10.3 9.45l-7.72 7.72c-.78.78-.78 2.05 0 2.83L4 21.41c.39.39.9.59 1.41.59.51 0 1.02-.2 1.41-.59l7.78-7.78 2.81-2.81c.8-.78.8-2.07 0-2.86zM5.41 20L4 18.59l7.72-7.72 1.47 1.35L5.41 20z\"/>\n",
              "  </svg>\n",
              "      </button>\n",
              "      \n",
              "  <style>\n",
              "    .colab-df-container {\n",
              "      display:flex;\n",
              "      flex-wrap:wrap;\n",
              "      gap: 12px;\n",
              "    }\n",
              "\n",
              "    .colab-df-convert {\n",
              "      background-color: #E8F0FE;\n",
              "      border: none;\n",
              "      border-radius: 50%;\n",
              "      cursor: pointer;\n",
              "      display: none;\n",
              "      fill: #1967D2;\n",
              "      height: 32px;\n",
              "      padding: 0 0 0 0;\n",
              "      width: 32px;\n",
              "    }\n",
              "\n",
              "    .colab-df-convert:hover {\n",
              "      background-color: #E2EBFA;\n",
              "      box-shadow: 0px 1px 2px rgba(60, 64, 67, 0.3), 0px 1px 3px 1px rgba(60, 64, 67, 0.15);\n",
              "      fill: #174EA6;\n",
              "    }\n",
              "\n",
              "    [theme=dark] .colab-df-convert {\n",
              "      background-color: #3B4455;\n",
              "      fill: #D2E3FC;\n",
              "    }\n",
              "\n",
              "    [theme=dark] .colab-df-convert:hover {\n",
              "      background-color: #434B5C;\n",
              "      box-shadow: 0px 1px 3px 1px rgba(0, 0, 0, 0.15);\n",
              "      filter: drop-shadow(0px 1px 2px rgba(0, 0, 0, 0.3));\n",
              "      fill: #FFFFFF;\n",
              "    }\n",
              "  </style>\n",
              "\n",
              "      <script>\n",
              "        const buttonEl =\n",
              "          document.querySelector('#df-5a903d2e-6ec0-41e7-8dd3-5e9fd0b36455 button.colab-df-convert');\n",
              "        buttonEl.style.display =\n",
              "          google.colab.kernel.accessAllowed ? 'block' : 'none';\n",
              "\n",
              "        async function convertToInteractive(key) {\n",
              "          const element = document.querySelector('#df-5a903d2e-6ec0-41e7-8dd3-5e9fd0b36455');\n",
              "          const dataTable =\n",
              "            await google.colab.kernel.invokeFunction('convertToInteractive',\n",
              "                                                     [key], {});\n",
              "          if (!dataTable) return;\n",
              "\n",
              "          const docLinkHtml = 'Like what you see? Visit the ' +\n",
              "            '<a target=\"_blank\" href=https://colab.research.google.com/notebooks/data_table.ipynb>data table notebook</a>'\n",
              "            + ' to learn more about interactive tables.';\n",
              "          element.innerHTML = '';\n",
              "          dataTable['output_type'] = 'display_data';\n",
              "          await google.colab.output.renderOutput(dataTable, element);\n",
              "          const docLink = document.createElement('div');\n",
              "          docLink.innerHTML = docLinkHtml;\n",
              "          element.appendChild(docLink);\n",
              "        }\n",
              "      </script>\n",
              "    </div>\n",
              "  </div>\n",
              "  "
            ]
          },
          "metadata": {},
          "execution_count": 21
        }
      ]
    },
    {
      "cell_type": "markdown",
      "source": [
        "2.2.2. Utilizar la variable zipcode para unir los conjuntos de datos. Sólo incluir los zipcodes que tengan una cantidad mínima de registros (a elección) como para que la información agregada sea relevante.\n",
        " "
      ],
      "metadata": {
        "id": "ltUMKirKGScw"
      },
      "id": "ltUMKirKGScw"
    },
    {
      "cell_type": "code",
      "source": [
        "# Seleccionamos los zipcodes que tienen al menos 3 registros en un compromiso entre contar con suficientes datos sin perder demasiados zipcodes \n",
        "AirB_aggClean = AirB_agg[AirB_agg['AirB_record_count']>2]\n",
        "print(len(AirB_agg))\n",
        "print(len(AirB_aggClean))"
      ],
      "metadata": {
        "colab": {
          "base_uri": "https://localhost:8080/"
        },
        "id": "6Nxy_6jSHJcV",
        "outputId": "ccdb343b-bd10-480b-94d8-fc8b6e19c82b"
      },
      "id": "6Nxy_6jSHJcV",
      "execution_count": 22,
      "outputs": [
        {
          "output_type": "stream",
          "name": "stdout",
          "text": [
            "463\n",
            "396\n"
          ]
        }
      ]
    },
    {
      "cell_type": "code",
      "source": [
        "# Convertimos zipcode de object a float64 para que coincidan los dtypes al realizar el merge\n",
        "AirB_aggClean['zipcode'] = AirB_aggClean['zipcode'].astype(float, errors = 'raise')"
      ],
      "metadata": {
        "colab": {
          "base_uri": "https://localhost:8080/"
        },
        "id": "xpzQmuj37K-e",
        "outputId": "69fa6d91-4579-45e8-81f9-97d91bee79ee"
      },
      "id": "xpzQmuj37K-e",
      "execution_count": 23,
      "outputs": [
        {
          "output_type": "stream",
          "name": "stderr",
          "text": [
            "/usr/local/lib/python3.7/dist-packages/ipykernel_launcher.py:2: SettingWithCopyWarning: \n",
            "A value is trying to be set on a copy of a slice from a DataFrame.\n",
            "Try using .loc[row_indexer,col_indexer] = value instead\n",
            "\n",
            "See the caveats in the documentation: https://pandas.pydata.org/pandas-docs/stable/user_guide/indexing.html#returning-a-view-versus-a-copy\n",
            "  \n"
          ]
        }
      ]
    },
    {
      "cell_type": "code",
      "source": [
        "# Unimos los datasets\n",
        "Merge_df = New_KaggleC.merge(AirB_aggClean, how='left', left_on='Postcode', right_on='zipcode')\n",
        "Merge_df.sample(5)"
      ],
      "metadata": {
        "colab": {
          "base_uri": "https://localhost:8080/",
          "height": 250
        },
        "id": "ehRic1gA1SUV",
        "outputId": "a5cac49c-1788-40b1-a522-3366cf74e8ec"
      },
      "id": "ehRic1gA1SUV",
      "execution_count": 26,
      "outputs": [
        {
          "output_type": "execute_result",
          "data": {
            "text/plain": [
              "           Price  Rooms  YearBuilt  Car  Postcode  zipcode  AirB_record_count  \\\n",
              "1445   1281000.0      4     1940.0  5.0    3204.0   3204.0               57.0   \n",
              "9894    895500.0      4        NaN  4.0    3073.0   3073.0               22.0   \n",
              "6427    430000.0      2     1970.0  1.0    3079.0   3079.0               16.0   \n",
              "16528   687000.0      2     1970.0  1.0    3184.0   3184.0              181.0   \n",
              "15757   960000.0      3     1995.0  2.0    3204.0   3204.0               23.0   \n",
              "\n",
              "       AirB_daily_price_mean  AirB_weekly_price_mean  AirB_monthly_price_mean  \n",
              "1445              111.754386                     NaN                      NaN  \n",
              "9894              639.590909              399.888889              1459.625000  \n",
              "6427              175.875000                     NaN                      NaN  \n",
              "16528             156.563536             1112.226415              3628.139535  \n",
              "15757             121.695652              719.222222              2936.000000  "
            ],
            "text/html": [
              "\n",
              "  <div id=\"df-4c569f90-5502-4bcc-bdfa-14a3f6ea45f7\">\n",
              "    <div class=\"colab-df-container\">\n",
              "      <div>\n",
              "<style scoped>\n",
              "    .dataframe tbody tr th:only-of-type {\n",
              "        vertical-align: middle;\n",
              "    }\n",
              "\n",
              "    .dataframe tbody tr th {\n",
              "        vertical-align: top;\n",
              "    }\n",
              "\n",
              "    .dataframe thead th {\n",
              "        text-align: right;\n",
              "    }\n",
              "</style>\n",
              "<table border=\"1\" class=\"dataframe\">\n",
              "  <thead>\n",
              "    <tr style=\"text-align: right;\">\n",
              "      <th></th>\n",
              "      <th>Price</th>\n",
              "      <th>Rooms</th>\n",
              "      <th>YearBuilt</th>\n",
              "      <th>Car</th>\n",
              "      <th>Postcode</th>\n",
              "      <th>zipcode</th>\n",
              "      <th>AirB_record_count</th>\n",
              "      <th>AirB_daily_price_mean</th>\n",
              "      <th>AirB_weekly_price_mean</th>\n",
              "      <th>AirB_monthly_price_mean</th>\n",
              "    </tr>\n",
              "  </thead>\n",
              "  <tbody>\n",
              "    <tr>\n",
              "      <th>1445</th>\n",
              "      <td>1281000.0</td>\n",
              "      <td>4</td>\n",
              "      <td>1940.0</td>\n",
              "      <td>5.0</td>\n",
              "      <td>3204.0</td>\n",
              "      <td>3204.0</td>\n",
              "      <td>57.0</td>\n",
              "      <td>111.754386</td>\n",
              "      <td>NaN</td>\n",
              "      <td>NaN</td>\n",
              "    </tr>\n",
              "    <tr>\n",
              "      <th>9894</th>\n",
              "      <td>895500.0</td>\n",
              "      <td>4</td>\n",
              "      <td>NaN</td>\n",
              "      <td>4.0</td>\n",
              "      <td>3073.0</td>\n",
              "      <td>3073.0</td>\n",
              "      <td>22.0</td>\n",
              "      <td>639.590909</td>\n",
              "      <td>399.888889</td>\n",
              "      <td>1459.625000</td>\n",
              "    </tr>\n",
              "    <tr>\n",
              "      <th>6427</th>\n",
              "      <td>430000.0</td>\n",
              "      <td>2</td>\n",
              "      <td>1970.0</td>\n",
              "      <td>1.0</td>\n",
              "      <td>3079.0</td>\n",
              "      <td>3079.0</td>\n",
              "      <td>16.0</td>\n",
              "      <td>175.875000</td>\n",
              "      <td>NaN</td>\n",
              "      <td>NaN</td>\n",
              "    </tr>\n",
              "    <tr>\n",
              "      <th>16528</th>\n",
              "      <td>687000.0</td>\n",
              "      <td>2</td>\n",
              "      <td>1970.0</td>\n",
              "      <td>1.0</td>\n",
              "      <td>3184.0</td>\n",
              "      <td>3184.0</td>\n",
              "      <td>181.0</td>\n",
              "      <td>156.563536</td>\n",
              "      <td>1112.226415</td>\n",
              "      <td>3628.139535</td>\n",
              "    </tr>\n",
              "    <tr>\n",
              "      <th>15757</th>\n",
              "      <td>960000.0</td>\n",
              "      <td>3</td>\n",
              "      <td>1995.0</td>\n",
              "      <td>2.0</td>\n",
              "      <td>3204.0</td>\n",
              "      <td>3204.0</td>\n",
              "      <td>23.0</td>\n",
              "      <td>121.695652</td>\n",
              "      <td>719.222222</td>\n",
              "      <td>2936.000000</td>\n",
              "    </tr>\n",
              "  </tbody>\n",
              "</table>\n",
              "</div>\n",
              "      <button class=\"colab-df-convert\" onclick=\"convertToInteractive('df-4c569f90-5502-4bcc-bdfa-14a3f6ea45f7')\"\n",
              "              title=\"Convert this dataframe to an interactive table.\"\n",
              "              style=\"display:none;\">\n",
              "        \n",
              "  <svg xmlns=\"http://www.w3.org/2000/svg\" height=\"24px\"viewBox=\"0 0 24 24\"\n",
              "       width=\"24px\">\n",
              "    <path d=\"M0 0h24v24H0V0z\" fill=\"none\"/>\n",
              "    <path d=\"M18.56 5.44l.94 2.06.94-2.06 2.06-.94-2.06-.94-.94-2.06-.94 2.06-2.06.94zm-11 1L8.5 8.5l.94-2.06 2.06-.94-2.06-.94L8.5 2.5l-.94 2.06-2.06.94zm10 10l.94 2.06.94-2.06 2.06-.94-2.06-.94-.94-2.06-.94 2.06-2.06.94z\"/><path d=\"M17.41 7.96l-1.37-1.37c-.4-.4-.92-.59-1.43-.59-.52 0-1.04.2-1.43.59L10.3 9.45l-7.72 7.72c-.78.78-.78 2.05 0 2.83L4 21.41c.39.39.9.59 1.41.59.51 0 1.02-.2 1.41-.59l7.78-7.78 2.81-2.81c.8-.78.8-2.07 0-2.86zM5.41 20L4 18.59l7.72-7.72 1.47 1.35L5.41 20z\"/>\n",
              "  </svg>\n",
              "      </button>\n",
              "      \n",
              "  <style>\n",
              "    .colab-df-container {\n",
              "      display:flex;\n",
              "      flex-wrap:wrap;\n",
              "      gap: 12px;\n",
              "    }\n",
              "\n",
              "    .colab-df-convert {\n",
              "      background-color: #E8F0FE;\n",
              "      border: none;\n",
              "      border-radius: 50%;\n",
              "      cursor: pointer;\n",
              "      display: none;\n",
              "      fill: #1967D2;\n",
              "      height: 32px;\n",
              "      padding: 0 0 0 0;\n",
              "      width: 32px;\n",
              "    }\n",
              "\n",
              "    .colab-df-convert:hover {\n",
              "      background-color: #E2EBFA;\n",
              "      box-shadow: 0px 1px 2px rgba(60, 64, 67, 0.3), 0px 1px 3px 1px rgba(60, 64, 67, 0.15);\n",
              "      fill: #174EA6;\n",
              "    }\n",
              "\n",
              "    [theme=dark] .colab-df-convert {\n",
              "      background-color: #3B4455;\n",
              "      fill: #D2E3FC;\n",
              "    }\n",
              "\n",
              "    [theme=dark] .colab-df-convert:hover {\n",
              "      background-color: #434B5C;\n",
              "      box-shadow: 0px 1px 3px 1px rgba(0, 0, 0, 0.15);\n",
              "      filter: drop-shadow(0px 1px 2px rgba(0, 0, 0, 0.3));\n",
              "      fill: #FFFFFF;\n",
              "    }\n",
              "  </style>\n",
              "\n",
              "      <script>\n",
              "        const buttonEl =\n",
              "          document.querySelector('#df-4c569f90-5502-4bcc-bdfa-14a3f6ea45f7 button.colab-df-convert');\n",
              "        buttonEl.style.display =\n",
              "          google.colab.kernel.accessAllowed ? 'block' : 'none';\n",
              "\n",
              "        async function convertToInteractive(key) {\n",
              "          const element = document.querySelector('#df-4c569f90-5502-4bcc-bdfa-14a3f6ea45f7');\n",
              "          const dataTable =\n",
              "            await google.colab.kernel.invokeFunction('convertToInteractive',\n",
              "                                                     [key], {});\n",
              "          if (!dataTable) return;\n",
              "\n",
              "          const docLinkHtml = 'Like what you see? Visit the ' +\n",
              "            '<a target=\"_blank\" href=https://colab.research.google.com/notebooks/data_table.ipynb>data table notebook</a>'\n",
              "            + ' to learn more about interactive tables.';\n",
              "          element.innerHTML = '';\n",
              "          dataTable['output_type'] = 'display_data';\n",
              "          await google.colab.output.renderOutput(dataTable, element);\n",
              "          const docLink = document.createElement('div');\n",
              "          docLink.innerHTML = docLinkHtml;\n",
              "          element.appendChild(docLink);\n",
              "        }\n",
              "      </script>\n",
              "    </div>\n",
              "  </div>\n",
              "  "
            ]
          },
          "metadata": {},
          "execution_count": 26
        }
      ]
    },
    {
      "cell_type": "markdown",
      "source": [
        " 2.2.3. Investigar al menos otras 2 variables que puedan servir para combinar los datos, y justificar si serían adecuadas o no. Pueden asumir que cuentan con la ayuda de anotadores expertos para encontrar equivalencias entre barrios o direcciones, o que cuentan con algoritmos para encontrar las n ubicaciones más cercanas a una propiedad a partir de sus coordenadas geográficas. **NO** es necesario que realicen la implementación."
      ],
      "metadata": {
        "id": "h51qYh-OGi09"
      },
      "id": "h51qYh-OGi09"
    },
    {
      "cell_type": "markdown",
      "source": [
        "Ambas bases de datos cuentan con columnas que contienen los suburbios y las ciudades (Council Area) comprendidas dentro del área metropolitana de Melbourne. Cabe destacar, que en Australia, un suburbio es una localidad delimitada dentro de una ciudad, por lo que sería algo equivalente a un barrio en Argentina. Los suburbios suelen tener su propio código postal y en ocasiones 2 suburbios comparten código postal. La primera base de datos cuenta con las columnas \"Suburb\" (314 unique values) y \"Council Area\" (34 unique values). La segunda base de datos cuenta con las columnas \"suburb\" (543 unique values) y \"city\" (30 unique values). En las 4 features practicamente no hay missing values. \n",
        "Dadas estas características, ambas variables podrían ser consideradas en reemplazo del zipcode para la combinación de datasets. Los suburbios permitirían obtener un mayor grado de detalle en la caracterización comparado con zipcode y ciudad. Mientras que el uso de ciudad permitiría una mejor estimación de las métricas por contar con una mayor cantidad de valores para su cálculo."
      ],
      "metadata": {
        "id": "3IoRzG6PAJXe"
      },
      "id": "3IoRzG6PAJXe"
    },
    {
      "cell_type": "markdown",
      "id": "c5303f27-3b15-441b-b291-8caf1c734139",
      "metadata": {
        "id": "c5303f27-3b15-441b-b291-8caf1c734139"
      },
      "source": [
        "## Ejercicio 3:\n",
        "\n",
        "3.1.Crear y guardar un nuevo conjunto de datos con todas las transformaciones realizadas anteriormente."
      ]
    },
    {
      "cell_type": "markdown",
      "id": "abfd3eeb-d466-424b-b58e-d1364ac39206",
      "metadata": {
        "id": "abfd3eeb-d466-424b-b58e-d1364ac39206"
      },
      "source": [
        "## Ejercicios opcionales:\n",
        "\n",
        "1. Armar un script en python (archivo .py) [ETL](https://towardsdatascience.com/what-to-log-from-python-etl-pipelines-9e0cfe29950e) que corra los pasos de extraccion, transformacion y carga, armando una funcion para cada etapa del proceso y luego un main que corra todos los pasos requeridos.\n",
        "\n",
        "2. Armar un DAG en Apache Airflow que corra el ETL. (https://airflow.apache.org/docs/apache-airflow/stable/tutorial.html)"
      ]
    }
  ],
  "metadata": {
    "kernelspec": {
      "display_name": "Python 3",
      "language": "python",
      "name": "python3"
    },
    "language_info": {
      "codemirror_mode": {
        "name": "ipython",
        "version": 3
      },
      "file_extension": ".py",
      "mimetype": "text/x-python",
      "name": "python",
      "nbconvert_exporter": "python",
      "pygments_lexer": "ipython3",
      "version": "3.8.8"
    },
    "colab": {
      "name": "Práctico2_AyC_Parte1_SGO_v4.ipynb",
      "provenance": [],
      "collapsed_sections": [],
      "include_colab_link": true
    }
  },
  "nbformat": 4,
  "nbformat_minor": 5
}